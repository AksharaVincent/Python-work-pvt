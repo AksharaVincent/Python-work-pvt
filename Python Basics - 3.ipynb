{
 "cells": [
  {
   "cell_type": "markdown",
   "id": "b7ddce64",
   "metadata": {},
   "source": [
    "String"
   ]
  },
  {
   "cell_type": "code",
   "execution_count": 2,
   "id": "68776782",
   "metadata": {},
   "outputs": [
    {
     "data": {
      "text/plain": [
       "'EzyMentor'"
      ]
     },
     "execution_count": 2,
     "metadata": {},
     "output_type": "execute_result"
    }
   ],
   "source": [
    "#String in python are used to represent unicode character values. a single character is also considered as a string.\n",
    "#We denote or declare the string values inside single quotes or double quotes.\n",
    "#To access the values in a string, we use the indexes and square brackets.\n",
    "String ='EzyMentor'\n",
    "String\n"
   ]
  },
  {
   "cell_type": "code",
   "execution_count": 3,
   "id": "8b151db3",
   "metadata": {},
   "outputs": [
    {
     "data": {
      "text/plain": [
       "'e'"
      ]
     },
     "execution_count": 3,
     "metadata": {},
     "output_type": "execute_result"
    }
   ],
   "source": [
    "#to input for strings\n",
    "String[4]"
   ]
  },
  {
   "cell_type": "code",
   "execution_count": 4,
   "id": "e43f93ee",
   "metadata": {},
   "outputs": [
    {
     "data": {
      "text/plain": [
       "'E'"
      ]
     },
     "execution_count": 4,
     "metadata": {},
     "output_type": "execute_result"
    }
   ],
   "source": [
    "String[0]"
   ]
  },
  {
   "cell_type": "code",
   "execution_count": 5,
   "id": "cfff7189",
   "metadata": {},
   "outputs": [
    {
     "data": {
      "text/plain": [
       "'r'"
      ]
     },
     "execution_count": 5,
     "metadata": {},
     "output_type": "execute_result"
    }
   ],
   "source": [
    "String[8]"
   ]
  },
  {
   "cell_type": "code",
   "execution_count": 6,
   "id": "4244b283",
   "metadata": {},
   "outputs": [
    {
     "data": {
      "text/plain": [
       "'M'"
      ]
     },
     "execution_count": 6,
     "metadata": {},
     "output_type": "execute_result"
    }
   ],
   "source": [
    "String[3]"
   ]
  },
  {
   "cell_type": "code",
   "execution_count": 7,
   "id": "ba356c44",
   "metadata": {},
   "outputs": [
    {
     "name": "stdout",
     "output_type": "stream",
     "text": [
      "EzyMentor is eazy\n"
     ]
    }
   ],
   "source": [
    "#to input for Strings\n",
    "x=input()"
   ]
  },
  {
   "cell_type": "code",
   "execution_count": 9,
   "id": "bd29d986",
   "metadata": {},
   "outputs": [
    {
     "name": "stdout",
     "output_type": "stream",
     "text": [
      "Hi All my Viewers\n"
     ]
    }
   ],
   "source": [
    "z=input() "
   ]
  },
  {
   "cell_type": "markdown",
   "id": "98afdb95",
   "metadata": {},
   "source": [
    "Basic Operations Using String"
   ]
  },
  {
   "cell_type": "code",
   "execution_count": 12,
   "id": "35010b72",
   "metadata": {},
   "outputs": [
    {
     "data": {
      "text/plain": [
       "'HAI FROM EZYMENTOR'"
      ]
     },
     "execution_count": 12,
     "metadata": {},
     "output_type": "execute_result"
    }
   ],
   "source": [
    "String = 'Hai From EzyMentor'\n",
    "#will make the letters to uppercase\n",
    "String.upper()"
   ]
  },
  {
   "cell_type": "code",
   "execution_count": 13,
   "id": "bc2b061e",
   "metadata": {},
   "outputs": [
    {
     "data": {
      "text/plain": [
       "'hai from ezymentor'"
      ]
     },
     "execution_count": 13,
     "metadata": {},
     "output_type": "execute_result"
    }
   ],
   "source": [
    "#will make the letters to lowercase\n",
    "String.lower()"
   ]
  },
  {
   "cell_type": "code",
   "execution_count": 14,
   "id": "e541da9f",
   "metadata": {},
   "outputs": [
    {
     "data": {
      "text/plain": [
       "'i From EzyMent'"
      ]
     },
     "execution_count": 14,
     "metadata": {},
     "output_type": "execute_result"
    }
   ],
   "source": [
    "#will return the strings starting at index 2 untill the index 16.\n",
    "String[2:16]"
   ]
  },
  {
   "cell_type": "code",
   "execution_count": 15,
   "id": "4e8d2e61",
   "metadata": {},
   "outputs": [
    {
     "data": {
      "text/plain": [
       "'From EzyMentor'"
      ]
     },
     "execution_count": 15,
     "metadata": {},
     "output_type": "execute_result"
    }
   ],
   "source": [
    "String[4:18]"
   ]
  }
 ],
 "metadata": {
  "kernelspec": {
   "display_name": "Python 3 (ipykernel)",
   "language": "python",
   "name": "python3"
  },
  "language_info": {
   "codemirror_mode": {
    "name": "ipython",
    "version": 3
   },
   "file_extension": ".py",
   "mimetype": "text/x-python",
   "name": "python",
   "nbconvert_exporter": "python",
   "pygments_lexer": "ipython3",
   "version": "3.10.9"
  }
 },
 "nbformat": 4,
 "nbformat_minor": 5
}
