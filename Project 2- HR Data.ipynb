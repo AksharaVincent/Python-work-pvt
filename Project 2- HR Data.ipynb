{
 "cells": [
  {
   "cell_type": "code",
   "execution_count": 45,
   "id": "57f9e878",
   "metadata": {},
   "outputs": [
    {
     "data": {
      "text/html": [
       "<div>\n",
       "<style scoped>\n",
       "    .dataframe tbody tr th:only-of-type {\n",
       "        vertical-align: middle;\n",
       "    }\n",
       "\n",
       "    .dataframe tbody tr th {\n",
       "        vertical-align: top;\n",
       "    }\n",
       "\n",
       "    .dataframe thead th {\n",
       "        text-align: right;\n",
       "    }\n",
       "</style>\n",
       "<table border=\"1\" class=\"dataframe\">\n",
       "  <thead>\n",
       "    <tr style=\"text-align: right;\">\n",
       "      <th></th>\n",
       "      <th>Employee Name</th>\n",
       "      <th>Department</th>\n",
       "      <th>Salary</th>\n",
       "      <th>Age</th>\n",
       "      <th>Gender</th>\n",
       "      <th>Date of Join</th>\n",
       "    </tr>\n",
       "  </thead>\n",
       "  <tbody>\n",
       "    <tr>\n",
       "      <th>0</th>\n",
       "      <td>Wilson  K Adinolfi</td>\n",
       "      <td>Production</td>\n",
       "      <td>62506</td>\n",
       "      <td>49</td>\n",
       "      <td>Male</td>\n",
       "      <td>07-05-2011</td>\n",
       "    </tr>\n",
       "    <tr>\n",
       "      <th>1</th>\n",
       "      <td>Karthikeyan Ait Sidi</td>\n",
       "      <td>IT/IS</td>\n",
       "      <td>104437</td>\n",
       "      <td>55</td>\n",
       "      <td>Male</td>\n",
       "      <td>30-03-2015</td>\n",
       "    </tr>\n",
       "    <tr>\n",
       "      <th>2</th>\n",
       "      <td>Sarah Akinkuolie</td>\n",
       "      <td>Production</td>\n",
       "      <td>64955</td>\n",
       "      <td>49</td>\n",
       "      <td>Female</td>\n",
       "      <td>07-05-2011</td>\n",
       "    </tr>\n",
       "    <tr>\n",
       "      <th>3</th>\n",
       "      <td>Trina Alagbe</td>\n",
       "      <td>Production</td>\n",
       "      <td>64991</td>\n",
       "      <td>49</td>\n",
       "      <td>Female</td>\n",
       "      <td>01-07-2008</td>\n",
       "    </tr>\n",
       "    <tr>\n",
       "      <th>4</th>\n",
       "      <td>Carol Anderson</td>\n",
       "      <td>Production</td>\n",
       "      <td>50825</td>\n",
       "      <td>31</td>\n",
       "      <td>Female</td>\n",
       "      <td>07-11-2011</td>\n",
       "    </tr>\n",
       "    <tr>\n",
       "      <th>...</th>\n",
       "      <td>...</td>\n",
       "      <td>...</td>\n",
       "      <td>...</td>\n",
       "      <td>...</td>\n",
       "      <td>...</td>\n",
       "      <td>...</td>\n",
       "    </tr>\n",
       "    <tr>\n",
       "      <th>306</th>\n",
       "      <td>Jason Woodson</td>\n",
       "      <td>Production</td>\n",
       "      <td>65893</td>\n",
       "      <td>39</td>\n",
       "      <td>Male</td>\n",
       "      <td>07-07-2014</td>\n",
       "    </tr>\n",
       "    <tr>\n",
       "      <th>307</th>\n",
       "      <td>Catherine Ybarra</td>\n",
       "      <td>Production</td>\n",
       "      <td>48513</td>\n",
       "      <td>35</td>\n",
       "      <td>Female</td>\n",
       "      <td>09-02-2008</td>\n",
       "    </tr>\n",
       "    <tr>\n",
       "      <th>308</th>\n",
       "      <td>Jennifer Zamora</td>\n",
       "      <td>IT/IS</td>\n",
       "      <td>220450</td>\n",
       "      <td>42</td>\n",
       "      <td>Female</td>\n",
       "      <td>04-10-2010</td>\n",
       "    </tr>\n",
       "    <tr>\n",
       "      <th>309</th>\n",
       "      <td>Julia Zhou</td>\n",
       "      <td>IT/IS</td>\n",
       "      <td>89292</td>\n",
       "      <td>42</td>\n",
       "      <td>Female</td>\n",
       "      <td>30-03-2015</td>\n",
       "    </tr>\n",
       "    <tr>\n",
       "      <th>310</th>\n",
       "      <td>Colleen Zima</td>\n",
       "      <td>Production</td>\n",
       "      <td>45046</td>\n",
       "      <td>58</td>\n",
       "      <td>Female</td>\n",
       "      <td>29-09-2014</td>\n",
       "    </tr>\n",
       "  </tbody>\n",
       "</table>\n",
       "<p>311 rows × 6 columns</p>\n",
       "</div>"
      ],
      "text/plain": [
       "            Employee Name         Department  Salary  Age  Gender Date of Join\n",
       "0      Wilson  K Adinolfi  Production          62506   49   Male    07-05-2011\n",
       "1    Karthikeyan Ait Sidi              IT/IS  104437   55   Male    30-03-2015\n",
       "2        Sarah Akinkuolie  Production          64955   49  Female   07-05-2011\n",
       "3            Trina Alagbe  Production          64991   49  Female   01-07-2008\n",
       "4          Carol Anderson  Production          50825   31  Female   07-11-2011\n",
       "..                    ...                ...     ...  ...     ...          ...\n",
       "306         Jason Woodson  Production          65893   39   Male    07-07-2014\n",
       "307      Catherine Ybarra  Production          48513   35  Female   09-02-2008\n",
       "308       Jennifer Zamora              IT/IS  220450   42  Female   04-10-2010\n",
       "309            Julia Zhou              IT/IS   89292   42  Female   30-03-2015\n",
       "310          Colleen Zima  Production          45046   58  Female   29-09-2014\n",
       "\n",
       "[311 rows x 6 columns]"
      ]
     },
     "execution_count": 45,
     "metadata": {},
     "output_type": "execute_result"
    }
   ],
   "source": [
    "import pandas as pd\n",
    "sales = pd.read_excel('Human resource.xlsx')\n",
    "sales"
   ]
  },
  {
   "cell_type": "markdown",
   "id": "0aa58215",
   "metadata": {},
   "source": [
    "### Find the Total Salary"
   ]
  },
  {
   "cell_type": "code",
   "execution_count": 46,
   "id": "0bc1e52a",
   "metadata": {},
   "outputs": [
    {
     "data": {
      "text/plain": [
       "21465433"
      ]
     },
     "execution_count": 46,
     "metadata": {},
     "output_type": "execute_result"
    }
   ],
   "source": [
    "b=sales['Salary'].sum()\n",
    "b"
   ]
  },
  {
   "cell_type": "markdown",
   "id": "dcd2897d",
   "metadata": {},
   "source": [
    "### Find the average salary given in the company"
   ]
  },
  {
   "cell_type": "code",
   "execution_count": 47,
   "id": "c752b140",
   "metadata": {},
   "outputs": [
    {
     "data": {
      "text/plain": [
       "69020.6848874598"
      ]
     },
     "execution_count": 47,
     "metadata": {},
     "output_type": "execute_result"
    }
   ],
   "source": [
    "b=sales['Salary'].mean()\n",
    "b"
   ]
  },
  {
   "cell_type": "markdown",
   "id": "133d3296",
   "metadata": {},
   "source": [
    "### Find the Maximum salary"
   ]
  },
  {
   "cell_type": "code",
   "execution_count": 48,
   "id": "4c0fd011",
   "metadata": {},
   "outputs": [
    {
     "data": {
      "text/plain": [
       "250000"
      ]
     },
     "execution_count": 48,
     "metadata": {},
     "output_type": "execute_result"
    }
   ],
   "source": [
    "b=sales['Salary'].max()\n",
    "b"
   ]
  },
  {
   "cell_type": "markdown",
   "id": "5978bd72",
   "metadata": {},
   "source": [
    "### Find the minimum Salary"
   ]
  },
  {
   "cell_type": "code",
   "execution_count": 49,
   "id": "ec4a8480",
   "metadata": {},
   "outputs": [
    {
     "data": {
      "text/plain": [
       "45046"
      ]
     },
     "execution_count": 49,
     "metadata": {},
     "output_type": "execute_result"
    }
   ],
   "source": [
    "b=sales['Salary'].min()\n",
    "b"
   ]
  },
  {
   "cell_type": "markdown",
   "id": "3ef58d6f",
   "metadata": {},
   "source": [
    "###  Find the range of salary"
   ]
  },
  {
   "cell_type": "code",
   "execution_count": 50,
   "id": "53283030",
   "metadata": {},
   "outputs": [
    {
     "data": {
      "text/plain": [
       "204954"
      ]
     },
     "execution_count": 50,
     "metadata": {},
     "output_type": "execute_result"
    }
   ],
   "source": [
    "b=250000-45046\n",
    "b"
   ]
  },
  {
   "cell_type": "markdown",
   "id": "9e364e50",
   "metadata": {},
   "source": [
    "### Find the descriptive Statistics for the variable Salary and identify the Varience"
   ]
  },
  {
   "cell_type": "markdown",
   "id": "57fb4ab5",
   "metadata": {},
   "source": [
    "### Find the average age of employees"
   ]
  },
  {
   "cell_type": "code",
   "execution_count": 51,
   "id": "52c1c508",
   "metadata": {},
   "outputs": [
    {
     "data": {
      "text/plain": [
       "42.02893890675241"
      ]
     },
     "execution_count": 51,
     "metadata": {},
     "output_type": "execute_result"
    }
   ],
   "source": [
    "b=sales['Age'].mean()\n",
    "b"
   ]
  },
  {
   "cell_type": "markdown",
   "id": "bda4a83a",
   "metadata": {},
   "source": [
    "### Find the minimum age of employees 9. Find the maximum age of employees"
   ]
  },
  {
   "cell_type": "code",
   "execution_count": 52,
   "id": "ef7e1b90",
   "metadata": {},
   "outputs": [
    {
     "data": {
      "text/plain": [
       "24"
      ]
     },
     "execution_count": 52,
     "metadata": {},
     "output_type": "execute_result"
    }
   ],
   "source": [
    "b=sales['Age'].min()\n",
    "b"
   ]
  },
  {
   "cell_type": "markdown",
   "id": "495c3c36",
   "metadata": {},
   "source": [
    "### Find the descriptive Statistics for the variable Age and identify the Quartiles "
   ]
  },
  {
   "cell_type": "markdown",
   "id": "265faaec",
   "metadata": {},
   "source": [
    "### Find the count of Gender"
   ]
  },
  {
   "cell_type": "code",
   "execution_count": 53,
   "id": "a34f3fd8",
   "metadata": {},
   "outputs": [
    {
     "data": {
      "text/plain": [
       "311"
      ]
     },
     "execution_count": 53,
     "metadata": {},
     "output_type": "execute_result"
    }
   ],
   "source": [
    "b=sales['Gender'].count()\n",
    "b"
   ]
  },
  {
   "cell_type": "markdown",
   "id": "978c0d70",
   "metadata": {},
   "source": [
    "### Find the Frequency of gender in a Bar Chart. modify the chart"
   ]
  },
  {
   "cell_type": "code",
   "execution_count": 54,
   "id": "99061f2b",
   "metadata": {},
   "outputs": [
    {
     "ename": "SyntaxError",
     "evalue": "invalid syntax (1637846339.py, line 1)",
     "output_type": "error",
     "traceback": [
      "\u001b[1;36m  Cell \u001b[1;32mIn[54], line 1\u001b[1;36m\u001b[0m\n\u001b[1;33m    b=sales.['Gender'].plot(kind='bar')\u001b[0m\n\u001b[1;37m            ^\u001b[0m\n\u001b[1;31mSyntaxError\u001b[0m\u001b[1;31m:\u001b[0m invalid syntax\n"
     ]
    }
   ],
   "source": [
    "b=sales.['Gender'].plot(kind='bar')"
   ]
  },
  {
   "cell_type": "markdown",
   "id": "028c04e3",
   "metadata": {},
   "source": [
    "### obtain the percentage value of number of male and female employees "
   ]
  },
  {
   "cell_type": "markdown",
   "id": "8a1b6437",
   "metadata": {},
   "source": [
    "### obtain the percentage value of number of male and female employees in a pie chart. modify the chart"
   ]
  },
  {
   "cell_type": "code",
   "execution_count": null,
   "id": "970d7c1b",
   "metadata": {},
   "outputs": [],
   "source": []
  }
 ],
 "metadata": {
  "kernelspec": {
   "display_name": "Python 3 (ipykernel)",
   "language": "python",
   "name": "python3"
  },
  "language_info": {
   "codemirror_mode": {
    "name": "ipython",
    "version": 3
   },
   "file_extension": ".py",
   "mimetype": "text/x-python",
   "name": "python",
   "nbconvert_exporter": "python",
   "pygments_lexer": "ipython3",
   "version": "3.10.9"
  }
 },
 "nbformat": 4,
 "nbformat_minor": 5
}
