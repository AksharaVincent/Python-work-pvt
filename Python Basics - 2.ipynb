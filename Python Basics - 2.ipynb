{
 "cells": [
  {
   "cell_type": "markdown",
   "id": "fccc72f5",
   "metadata": {},
   "source": [
    "# 1st Python Program"
   ]
  },
  {
   "cell_type": "code",
   "execution_count": 63,
   "id": "ca92ae3e",
   "metadata": {},
   "outputs": [
    {
     "name": "stdout",
     "output_type": "stream",
     "text": [
      "Hello my Viewers\n"
     ]
    }
   ],
   "source": [
    "print('Hello my Viewers')"
   ]
  },
  {
   "cell_type": "markdown",
   "id": "fb48bbe5",
   "metadata": {},
   "source": [
    "# Python Variables"
   ]
  },
  {
   "cell_type": "markdown",
   "id": "ce14e71b",
   "metadata": {},
   "source": [
    "Variable declaration"
   ]
  },
  {
   "cell_type": "code",
   "execution_count": 64,
   "id": "eabcfc34",
   "metadata": {},
   "outputs": [
    {
     "data": {
      "text/plain": [
       "5"
      ]
     },
     "execution_count": 64,
     "metadata": {},
     "output_type": "execute_result"
    }
   ],
   "source": [
    "#variable is declared as the value 5 is assigned to it.\n",
    "x = 5\n",
    "x "
   ]
  },
  {
   "cell_type": "code",
   "execution_count": 65,
   "id": "77fbaa5c",
   "metadata": {},
   "outputs": [
    {
     "data": {
      "text/plain": [
       "100"
      ]
     },
     "execution_count": 65,
     "metadata": {},
     "output_type": "execute_result"
    }
   ],
   "source": [
    "XyZ = 100\n",
    "XyZ"
   ]
  },
  {
   "cell_type": "markdown",
   "id": "53df4b44",
   "metadata": {},
   "source": [
    "# Data Types in Python"
   ]
  },
  {
   "cell_type": "markdown",
   "id": "4f1523c4",
   "metadata": {},
   "source": [
    "Numerical data types\n"
   ]
  },
  {
   "cell_type": "markdown",
   "id": "c913ce0e",
   "metadata": {},
   "source": [
    "1. Integers\n",
    "\n",
    "2. Float\n",
    "\n",
    "3. Complex Numbers\n",
    "\n",
    "4. Boolean\n"
   ]
  },
  {
   "cell_type": "code",
   "execution_count": 66,
   "id": "6f16299a",
   "metadata": {},
   "outputs": [
    {
     "data": {
      "text/plain": [
       "int"
      ]
     },
     "execution_count": 66,
     "metadata": {},
     "output_type": "execute_result"
    }
   ],
   "source": [
    "# 1. Integers = are used to represent whole number values.\n",
    "x = 1000\n",
    "b = 10000\n",
    "\n",
    "type(x)\n",
    "type(b)\n"
   ]
  },
  {
   "cell_type": "code",
   "execution_count": 67,
   "id": "d2abeace",
   "metadata": {},
   "outputs": [
    {
     "data": {
      "text/plain": [
       "float"
      ]
     },
     "execution_count": 67,
     "metadata": {},
     "output_type": "execute_result"
    }
   ],
   "source": [
    "# 2. Float = data type is used to represent decimal point values.\n",
    "\n",
    "x = 100.10\n",
    "y = 13.13\n",
    "type(x)\n",
    "type(y)"
   ]
  },
  {
   "cell_type": "code",
   "execution_count": 68,
   "id": "01c12744",
   "metadata": {},
   "outputs": [
    {
     "data": {
      "text/plain": [
       "complex"
      ]
     },
     "execution_count": 68,
     "metadata": {},
     "output_type": "execute_result"
    }
   ],
   "source": [
    "# 3. Complex = numbers are used to represent imaginary values.\n",
    "\n",
    "z = 12+4j\n",
    "type(z)"
   ]
  },
  {
   "cell_type": "code",
   "execution_count": 69,
   "id": "e264c1ea",
   "metadata": {},
   "outputs": [],
   "source": [
    " # 4. Boolean = is used for categorial output, since the output of boolean is either true or false."
   ]
  },
  {
   "cell_type": "code",
   "execution_count": 70,
   "id": "a8e0d485",
   "metadata": {},
   "outputs": [],
   "source": [
    "   Boo= 9>7\n",
    "    \n",
    "    #Boo is the boolean variable"
   ]
  },
  {
   "cell_type": "code",
   "execution_count": 71,
   "id": "120598bd",
   "metadata": {},
   "outputs": [
    {
     "data": {
      "text/plain": [
       "bool"
      ]
     },
     "execution_count": 71,
     "metadata": {},
     "output_type": "execute_result"
    }
   ],
   "source": [
    " type(Boo)\n",
    "    #the output will be bool"
   ]
  },
  {
   "cell_type": "code",
   "execution_count": 72,
   "id": "a97a61d4",
   "metadata": {},
   "outputs": [
    {
     "name": "stdout",
     "output_type": "stream",
     "text": [
      "True\n"
     ]
    }
   ],
   "source": [
    " print(Boo)\n",
    "    #this will print true."
   ]
  },
  {
   "cell_type": "code",
   "execution_count": 73,
   "id": "13b2a2b6",
   "metadata": {},
   "outputs": [
    {
     "data": {
      "text/plain": [
       "False"
      ]
     },
     "execution_count": 73,
     "metadata": {},
     "output_type": "execute_result"
    }
   ],
   "source": [
    "1==20<10"
   ]
  },
  {
   "cell_type": "code",
   "execution_count": 74,
   "id": "9ffd44f7",
   "metadata": {},
   "outputs": [
    {
     "name": "stdout",
     "output_type": "stream",
     "text": [
      "1\n"
     ]
    }
   ],
   "source": [
    "1==20<10\n",
    "print(1)"
   ]
  }
 ],
 "metadata": {
  "kernelspec": {
   "display_name": "Python 3 (ipykernel)",
   "language": "python",
   "name": "python3"
  },
  "language_info": {
   "codemirror_mode": {
    "name": "ipython",
    "version": 3
   },
   "file_extension": ".py",
   "mimetype": "text/x-python",
   "name": "python",
   "nbconvert_exporter": "python",
   "pygments_lexer": "ipython3",
   "version": "3.10.9"
  }
 },
 "nbformat": 4,
 "nbformat_minor": 5
}
