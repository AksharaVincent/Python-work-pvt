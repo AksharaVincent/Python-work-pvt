{
 "cells": [
  {
   "cell_type": "markdown",
   "id": "1a6563a5",
   "metadata": {},
   "source": [
    "## To Add 2 numbers"
   ]
  },
  {
   "cell_type": "markdown",
   "id": "19972a5c",
   "metadata": {},
   "source": [
    "1st assign data into string\n",
    "input a number"
   ]
  },
  {
   "cell_type": "code",
   "execution_count": 1,
   "id": "42a9a099",
   "metadata": {},
   "outputs": [
    {
     "data": {
      "text/plain": [
       "12"
      ]
     },
     "execution_count": 1,
     "metadata": {},
     "output_type": "execute_result"
    }
   ],
   "source": [
    "a = 2\n",
    "b = 10\n",
    "c = a + b\n",
    "c"
   ]
  },
  {
   "cell_type": "markdown",
   "id": "d83e7692",
   "metadata": {},
   "source": [
    "## Or"
   ]
  },
  {
   "cell_type": "code",
   "execution_count": 2,
   "id": "dc938f36",
   "metadata": {},
   "outputs": [
    {
     "name": "stdout",
     "output_type": "stream",
     "text": [
      "first number:2\n"
     ]
    }
   ],
   "source": [
    "num1=input('first number:')"
   ]
  },
  {
   "cell_type": "code",
   "execution_count": 3,
   "id": "deccf295",
   "metadata": {},
   "outputs": [
    {
     "name": "stdout",
     "output_type": "stream",
     "text": [
      "\n",
      "Second number:10\n"
     ]
    }
   ],
   "source": [
    "num2=input('\\nSecond number:')"
   ]
  },
  {
   "cell_type": "code",
   "execution_count": 4,
   "id": "8c559232",
   "metadata": {},
   "outputs": [
    {
     "data": {
      "text/plain": [
       "12.0"
      ]
     },
     "execution_count": 4,
     "metadata": {},
     "output_type": "execute_result"
    }
   ],
   "source": [
    "sum=float(num1)+float(num2)\n",
    "sum"
   ]
  },
  {
   "cell_type": "code",
   "execution_count": 5,
   "id": "62412a91",
   "metadata": {},
   "outputs": [
    {
     "name": "stdout",
     "output_type": "stream",
     "text": [
      "the Sum of 2 and 10 is 12.0\n"
     ]
    }
   ],
   "source": [
    "print('the Sum of {0} and {1} is {2}' .format(num1,num2,sum))\n",
    "     "
   ]
  },
  {
   "cell_type": "markdown",
   "id": "53c3f70f",
   "metadata": {},
   "source": [
    "# To Subtract 2 numbers"
   ]
  },
  {
   "cell_type": "markdown",
   "id": "8d340900",
   "metadata": {},
   "source": [
    "1st assign data into string\n",
    "input a number\n",
    "\n"
   ]
  },
  {
   "cell_type": "code",
   "execution_count": 6,
   "id": "9a680474",
   "metadata": {},
   "outputs": [
    {
     "data": {
      "text/plain": [
       "8"
      ]
     },
     "execution_count": 6,
     "metadata": {},
     "output_type": "execute_result"
    }
   ],
   "source": [
    "a = 2\n",
    "b = 10\n",
    "c = b-a\n",
    "c"
   ]
  },
  {
   "cell_type": "markdown",
   "id": "75cfcb41",
   "metadata": {},
   "source": [
    "# Or"
   ]
  },
  {
   "cell_type": "code",
   "execution_count": 8,
   "id": "37b1bb71",
   "metadata": {},
   "outputs": [
    {
     "name": "stdout",
     "output_type": "stream",
     "text": [
      "frist number:10\n"
     ]
    }
   ],
   "source": [
    "num1 = input('frist number:')"
   ]
  },
  {
   "cell_type": "code",
   "execution_count": 10,
   "id": "7d743dbd",
   "metadata": {},
   "outputs": [
    {
     "name": "stdout",
     "output_type": "stream",
     "text": [
      "Second number:2\n"
     ]
    }
   ],
   "source": [
    "num2 = input('Second number:')"
   ]
  },
  {
   "cell_type": "code",
   "execution_count": 11,
   "id": "09644de6",
   "metadata": {},
   "outputs": [
    {
     "data": {
      "text/plain": [
       "8.0"
      ]
     },
     "execution_count": 11,
     "metadata": {},
     "output_type": "execute_result"
    }
   ],
   "source": [
    "sub = float(num1)-float(num2)\n",
    "sub"
   ]
  },
  {
   "cell_type": "code",
   "execution_count": 12,
   "id": "52883e0d",
   "metadata": {},
   "outputs": [
    {
     "name": "stdout",
     "output_type": "stream",
     "text": [
      "The subracted value of 10 and 2 is 8.0\n"
     ]
    }
   ],
   "source": [
    "print('The subracted value of {0} and {1} is {2}' .format(num1,num2,sub))"
   ]
  }
 ],
 "metadata": {
  "kernelspec": {
   "display_name": "Python 3 (ipykernel)",
   "language": "python",
   "name": "python3"
  },
  "language_info": {
   "codemirror_mode": {
    "name": "ipython",
    "version": 3
   },
   "file_extension": ".py",
   "mimetype": "text/x-python",
   "name": "python",
   "nbconvert_exporter": "python",
   "pygments_lexer": "ipython3",
   "version": "3.10.9"
  }
 },
 "nbformat": 4,
 "nbformat_minor": 5
}
