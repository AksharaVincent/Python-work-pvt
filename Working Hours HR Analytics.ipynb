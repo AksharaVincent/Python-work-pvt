{
 "cells": [
  {
   "cell_type": "code",
   "execution_count": 57,
   "id": "25d8aee1",
   "metadata": {},
   "outputs": [],
   "source": [
    "import pandas as pd, numpy as np, matplotlib.pyplot as plt, seaborn as sns\n",
    "%matplotlib inline"
   ]
  },
  {
   "cell_type": "code",
   "execution_count": 58,
   "id": "1ce88bf0",
   "metadata": {},
   "outputs": [
    {
     "data": {
      "text/html": [
       "<div>\n",
       "<style scoped>\n",
       "    .dataframe tbody tr th:only-of-type {\n",
       "        vertical-align: middle;\n",
       "    }\n",
       "\n",
       "    .dataframe tbody tr th {\n",
       "        vertical-align: top;\n",
       "    }\n",
       "\n",
       "    .dataframe thead th {\n",
       "        text-align: right;\n",
       "    }\n",
       "</style>\n",
       "<table border=\"1\" class=\"dataframe\">\n",
       "  <thead>\n",
       "    <tr style=\"text-align: right;\">\n",
       "      <th></th>\n",
       "      <th>Date</th>\n",
       "      <th>Time</th>\n",
       "      <th>Jikky</th>\n",
       "      <th>Kayis</th>\n",
       "      <th>Sinny</th>\n",
       "      <th>Criji</th>\n",
       "      <th>Johnan</th>\n",
       "      <th>Mode of class</th>\n",
       "    </tr>\n",
       "  </thead>\n",
       "  <tbody>\n",
       "    <tr>\n",
       "      <th>0</th>\n",
       "      <td>2022-04-11</td>\n",
       "      <td>9:30 am- 10:30 am</td>\n",
       "      <td>1.0</td>\n",
       "      <td>1.0</td>\n",
       "      <td>NaN</td>\n",
       "      <td>NaN</td>\n",
       "      <td>NaN</td>\n",
       "      <td>Online</td>\n",
       "    </tr>\n",
       "    <tr>\n",
       "      <th>1</th>\n",
       "      <td>2022-04-11</td>\n",
       "      <td>10:30 am- 11:30 am</td>\n",
       "      <td>1.0</td>\n",
       "      <td>1.0</td>\n",
       "      <td>NaN</td>\n",
       "      <td>NaN</td>\n",
       "      <td>NaN</td>\n",
       "      <td>Online</td>\n",
       "    </tr>\n",
       "    <tr>\n",
       "      <th>2</th>\n",
       "      <td>2022-04-12</td>\n",
       "      <td>9:30 am- 10:30 am</td>\n",
       "      <td>1.0</td>\n",
       "      <td>1.0</td>\n",
       "      <td>NaN</td>\n",
       "      <td>NaN</td>\n",
       "      <td>NaN</td>\n",
       "      <td>Online</td>\n",
       "    </tr>\n",
       "    <tr>\n",
       "      <th>3</th>\n",
       "      <td>2022-04-12</td>\n",
       "      <td>11:30 am - 12:30 pm</td>\n",
       "      <td>1.0</td>\n",
       "      <td>1.0</td>\n",
       "      <td>NaN</td>\n",
       "      <td>NaN</td>\n",
       "      <td>NaN</td>\n",
       "      <td>Online</td>\n",
       "    </tr>\n",
       "    <tr>\n",
       "      <th>4</th>\n",
       "      <td>2022-04-13</td>\n",
       "      <td>9:30 am- 10:30 am</td>\n",
       "      <td>NaN</td>\n",
       "      <td>1.0</td>\n",
       "      <td>NaN</td>\n",
       "      <td>NaN</td>\n",
       "      <td>NaN</td>\n",
       "      <td>Online</td>\n",
       "    </tr>\n",
       "  </tbody>\n",
       "</table>\n",
       "</div>"
      ],
      "text/plain": [
       "        Date                 Time  Jikky  Kayis  Sinny  Criji  Johnan  \\\n",
       "0 2022-04-11    9:30 am- 10:30 am    1.0    1.0    NaN    NaN     NaN   \n",
       "1 2022-04-11   10:30 am- 11:30 am    1.0    1.0    NaN    NaN     NaN   \n",
       "2 2022-04-12    9:30 am- 10:30 am    1.0    1.0    NaN    NaN     NaN   \n",
       "3 2022-04-12  11:30 am - 12:30 pm    1.0    1.0    NaN    NaN     NaN   \n",
       "4 2022-04-13    9:30 am- 10:30 am    NaN    1.0    NaN    NaN     NaN   \n",
       "\n",
       "  Mode of class  \n",
       "0        Online  \n",
       "1        Online  \n",
       "2        Online  \n",
       "3        Online  \n",
       "4        Online  "
      ]
     },
     "execution_count": 58,
     "metadata": {},
     "output_type": "execute_result"
    }
   ],
   "source": [
    "SD=pd.read_excel('Working Hours.xlsx')\n",
    "SD.head(5)"
   ]
  },
  {
   "cell_type": "code",
   "execution_count": 59,
   "id": "48bb07f5",
   "metadata": {},
   "outputs": [
    {
     "data": {
      "text/plain": [
       "Date              0\n",
       "Time              0\n",
       "Jikky            51\n",
       "Kayis            72\n",
       "Sinny            68\n",
       "Criji            74\n",
       "Johnan           82\n",
       "Mode of class     0\n",
       "dtype: int64"
      ]
     },
     "execution_count": 59,
     "metadata": {},
     "output_type": "execute_result"
    }
   ],
   "source": [
    "SD.isna().sum()"
   ]
  },
  {
   "cell_type": "markdown",
   "id": "2ce7d3b8",
   "metadata": {},
   "source": [
    "### Data Cleaning"
   ]
  },
  {
   "cell_type": "markdown",
   "id": "34827530",
   "metadata": {},
   "source": [
    "Nan values are replaced by zeros"
   ]
  },
  {
   "cell_type": "code",
   "execution_count": 60,
   "id": "15d848d8",
   "metadata": {},
   "outputs": [
    {
     "data": {
      "text/html": [
       "<div>\n",
       "<style scoped>\n",
       "    .dataframe tbody tr th:only-of-type {\n",
       "        vertical-align: middle;\n",
       "    }\n",
       "\n",
       "    .dataframe tbody tr th {\n",
       "        vertical-align: top;\n",
       "    }\n",
       "\n",
       "    .dataframe thead th {\n",
       "        text-align: right;\n",
       "    }\n",
       "</style>\n",
       "<table border=\"1\" class=\"dataframe\">\n",
       "  <thead>\n",
       "    <tr style=\"text-align: right;\">\n",
       "      <th></th>\n",
       "      <th>Date</th>\n",
       "      <th>Time</th>\n",
       "      <th>Jikky</th>\n",
       "      <th>Kayis</th>\n",
       "      <th>Sinny</th>\n",
       "      <th>Criji</th>\n",
       "      <th>Johnan</th>\n",
       "      <th>Mode of class</th>\n",
       "    </tr>\n",
       "  </thead>\n",
       "  <tbody>\n",
       "    <tr>\n",
       "      <th>0</th>\n",
       "      <td>2022-04-11</td>\n",
       "      <td>9:30 am- 10:30 am</td>\n",
       "      <td>1.0</td>\n",
       "      <td>1.0</td>\n",
       "      <td>0.0</td>\n",
       "      <td>0.0</td>\n",
       "      <td>0.0</td>\n",
       "      <td>Online</td>\n",
       "    </tr>\n",
       "    <tr>\n",
       "      <th>1</th>\n",
       "      <td>2022-04-11</td>\n",
       "      <td>10:30 am- 11:30 am</td>\n",
       "      <td>1.0</td>\n",
       "      <td>1.0</td>\n",
       "      <td>0.0</td>\n",
       "      <td>0.0</td>\n",
       "      <td>0.0</td>\n",
       "      <td>Online</td>\n",
       "    </tr>\n",
       "  </tbody>\n",
       "</table>\n",
       "</div>"
      ],
      "text/plain": [
       "        Date                Time  Jikky  Kayis  Sinny  Criji  Johnan  \\\n",
       "0 2022-04-11   9:30 am- 10:30 am    1.0    1.0    0.0    0.0     0.0   \n",
       "1 2022-04-11  10:30 am- 11:30 am    1.0    1.0    0.0    0.0     0.0   \n",
       "\n",
       "  Mode of class  \n",
       "0        Online  \n",
       "1        Online  "
      ]
     },
     "execution_count": 60,
     "metadata": {},
     "output_type": "execute_result"
    }
   ],
   "source": [
    "SD=SD.fillna(0)\n",
    "SD.head(2)"
   ]
  },
  {
   "cell_type": "code",
   "execution_count": 61,
   "id": "63d540f4",
   "metadata": {},
   "outputs": [
    {
     "data": {
      "text/plain": [
       "(91, 8)"
      ]
     },
     "execution_count": 61,
     "metadata": {},
     "output_type": "execute_result"
    }
   ],
   "source": [
    "SD.shape"
   ]
  },
  {
   "cell_type": "code",
   "execution_count": 62,
   "id": "89c11adc",
   "metadata": {},
   "outputs": [
    {
     "data": {
      "text/plain": [
       "Index(['Date', 'Time', 'Jikky', 'Kayis', 'Sinny', 'Criji', 'Johnan',\n",
       "       'Mode of class'],\n",
       "      dtype='object')"
      ]
     },
     "execution_count": 62,
     "metadata": {},
     "output_type": "execute_result"
    }
   ],
   "source": [
    "SD.columns"
   ]
  },
  {
   "cell_type": "code",
   "execution_count": 63,
   "id": "2c2a0795",
   "metadata": {},
   "outputs": [
    {
     "name": "stdout",
     "output_type": "stream",
     "text": [
      "<class 'pandas.core.frame.DataFrame'>\n",
      "RangeIndex: 91 entries, 0 to 90\n",
      "Data columns (total 8 columns):\n",
      " #   Column         Non-Null Count  Dtype         \n",
      "---  ------         --------------  -----         \n",
      " 0   Date           91 non-null     datetime64[ns]\n",
      " 1   Time           91 non-null     object        \n",
      " 2   Jikky          91 non-null     float64       \n",
      " 3   Kayis          91 non-null     float64       \n",
      " 4   Sinny          91 non-null     float64       \n",
      " 5   Criji          91 non-null     float64       \n",
      " 6   Johnan         91 non-null     float64       \n",
      " 7   Mode of class  91 non-null     object        \n",
      "dtypes: datetime64[ns](1), float64(5), object(2)\n",
      "memory usage: 5.8+ KB\n"
     ]
    }
   ],
   "source": [
    "SD.info()"
   ]
  },
  {
   "cell_type": "markdown",
   "id": "e59547f3",
   "metadata": {},
   "source": [
    "### Splitting date"
   ]
  },
  {
   "cell_type": "markdown",
   "id": "3e01555f",
   "metadata": {},
   "source": [
    "date variable is needed to be splitted for further analysis\n",
    "\n",
    "here date is splitted into, month, year and day\n",
    "\n"
   ]
  },
  {
   "cell_type": "code",
   "execution_count": 64,
   "id": "bfc80ff6",
   "metadata": {},
   "outputs": [
    {
     "data": {
      "text/html": [
       "<div>\n",
       "<style scoped>\n",
       "    .dataframe tbody tr th:only-of-type {\n",
       "        vertical-align: middle;\n",
       "    }\n",
       "\n",
       "    .dataframe tbody tr th {\n",
       "        vertical-align: top;\n",
       "    }\n",
       "\n",
       "    .dataframe thead th {\n",
       "        text-align: right;\n",
       "    }\n",
       "</style>\n",
       "<table border=\"1\" class=\"dataframe\">\n",
       "  <thead>\n",
       "    <tr style=\"text-align: right;\">\n",
       "      <th></th>\n",
       "      <th>Date</th>\n",
       "      <th>Time</th>\n",
       "      <th>Jikky</th>\n",
       "      <th>Kayis</th>\n",
       "      <th>Sinny</th>\n",
       "      <th>Criji</th>\n",
       "      <th>Johnan</th>\n",
       "      <th>Mode of class</th>\n",
       "      <th>Month</th>\n",
       "      <th>year</th>\n",
       "      <th>Day</th>\n",
       "    </tr>\n",
       "  </thead>\n",
       "  <tbody>\n",
       "    <tr>\n",
       "      <th>0</th>\n",
       "      <td>2022-04-11</td>\n",
       "      <td>9:30 am- 10:30 am</td>\n",
       "      <td>1.0</td>\n",
       "      <td>1.0</td>\n",
       "      <td>0.0</td>\n",
       "      <td>0.0</td>\n",
       "      <td>0.0</td>\n",
       "      <td>Online</td>\n",
       "      <td>4</td>\n",
       "      <td>2022</td>\n",
       "      <td>11</td>\n",
       "    </tr>\n",
       "    <tr>\n",
       "      <th>1</th>\n",
       "      <td>2022-04-11</td>\n",
       "      <td>10:30 am- 11:30 am</td>\n",
       "      <td>1.0</td>\n",
       "      <td>1.0</td>\n",
       "      <td>0.0</td>\n",
       "      <td>0.0</td>\n",
       "      <td>0.0</td>\n",
       "      <td>Online</td>\n",
       "      <td>4</td>\n",
       "      <td>2022</td>\n",
       "      <td>11</td>\n",
       "    </tr>\n",
       "    <tr>\n",
       "      <th>2</th>\n",
       "      <td>2022-04-12</td>\n",
       "      <td>9:30 am- 10:30 am</td>\n",
       "      <td>1.0</td>\n",
       "      <td>1.0</td>\n",
       "      <td>0.0</td>\n",
       "      <td>0.0</td>\n",
       "      <td>0.0</td>\n",
       "      <td>Online</td>\n",
       "      <td>4</td>\n",
       "      <td>2022</td>\n",
       "      <td>12</td>\n",
       "    </tr>\n",
       "    <tr>\n",
       "      <th>3</th>\n",
       "      <td>2022-04-12</td>\n",
       "      <td>11:30 am - 12:30 pm</td>\n",
       "      <td>1.0</td>\n",
       "      <td>1.0</td>\n",
       "      <td>0.0</td>\n",
       "      <td>0.0</td>\n",
       "      <td>0.0</td>\n",
       "      <td>Online</td>\n",
       "      <td>4</td>\n",
       "      <td>2022</td>\n",
       "      <td>12</td>\n",
       "    </tr>\n",
       "    <tr>\n",
       "      <th>4</th>\n",
       "      <td>2022-04-13</td>\n",
       "      <td>9:30 am- 10:30 am</td>\n",
       "      <td>0.0</td>\n",
       "      <td>1.0</td>\n",
       "      <td>0.0</td>\n",
       "      <td>0.0</td>\n",
       "      <td>0.0</td>\n",
       "      <td>Online</td>\n",
       "      <td>4</td>\n",
       "      <td>2022</td>\n",
       "      <td>13</td>\n",
       "    </tr>\n",
       "  </tbody>\n",
       "</table>\n",
       "</div>"
      ],
      "text/plain": [
       "        Date                 Time  Jikky  Kayis  Sinny  Criji  Johnan  \\\n",
       "0 2022-04-11    9:30 am- 10:30 am    1.0    1.0    0.0    0.0     0.0   \n",
       "1 2022-04-11   10:30 am- 11:30 am    1.0    1.0    0.0    0.0     0.0   \n",
       "2 2022-04-12    9:30 am- 10:30 am    1.0    1.0    0.0    0.0     0.0   \n",
       "3 2022-04-12  11:30 am - 12:30 pm    1.0    1.0    0.0    0.0     0.0   \n",
       "4 2022-04-13    9:30 am- 10:30 am    0.0    1.0    0.0    0.0     0.0   \n",
       "\n",
       "  Mode of class  Month  year  Day  \n",
       "0        Online      4  2022   11  \n",
       "1        Online      4  2022   11  \n",
       "2        Online      4  2022   12  \n",
       "3        Online      4  2022   12  \n",
       "4        Online      4  2022   13  "
      ]
     },
     "execution_count": 64,
     "metadata": {},
     "output_type": "execute_result"
    }
   ],
   "source": [
    "SD['Month']=pd.to_datetime(SD['Date']).dt.month\n",
    "SD['year']=pd.to_datetime(SD['Date']).dt.year\n",
    "SD['Day']=pd.to_datetime(SD['Date']).dt.day\n",
    "SD.head(5)"
   ]
  },
  {
   "cell_type": "markdown",
   "id": "b3441b8e",
   "metadata": {},
   "source": [
    "## Data Analysis"
   ]
  },
  {
   "cell_type": "markdown",
   "id": "44b8d60f",
   "metadata": {},
   "source": [
    "Data is analysed with these requirements\n",
    "\n",
    "find who had taken more class.\n",
    "\n",
    "Find by which mode, most of the time class has taken in month June\n",
    "\n",
    "Find the sum of Hours of each mentors\n",
    "\n",
    "find by which time hour most the class has taken\n",
    "\n",
    "find how many physical classes has taken by each mentors through out each month\n",
    "\n",
    "if the the payment is 100 for one hour , then how much salary\n",
    "\n",
    "if the the payment for one hour is 150 means how much salary did they got in each month\n",
    "\n",
    "create a dataframe using the data you got with salary of each month of each mentors\n",
    "\n",
    "who earned more salary if the payment for one hour is 100.\n",
    "\n",
    "who earned more salary if the payment for one hour is 150, in the month of june.\n",
    "\n",
    "who is working more time\n",
    "\n",
    "who had worked more hours in the month of May?\n",
    "\n",
    "In which month more physical classes had taken place?\n"
   ]
  },
  {
   "cell_type": "markdown",
   "id": "4b395587",
   "metadata": {},
   "source": [
    "#### Find who had taken more class"
   ]
  },
  {
   "cell_type": "code",
   "execution_count": 65,
   "id": "83ce06d2",
   "metadata": {},
   "outputs": [
    {
     "data": {
      "text/plain": [
       "Jikky     71.2\n",
       "Kayis     29.6\n",
       "Sinny     54.5\n",
       "Criji     43.0\n",
       "Johnan    23.0\n",
       "dtype: float64"
      ]
     },
     "execution_count": 65,
     "metadata": {},
     "output_type": "execute_result"
    }
   ],
   "source": [
    " SD[['Jikky', 'Kayis', 'Sinny', 'Criji', 'Johnan']].sum()"
   ]
  },
  {
   "cell_type": "markdown",
   "id": "4be56172",
   "metadata": {},
   "source": [
    "Jikky had taken more class"
   ]
  },
  {
   "cell_type": "markdown",
   "id": "a1a056ac",
   "metadata": {},
   "source": [
    "#### Find the sum of Hours of each mentors"
   ]
  },
  {
   "cell_type": "code",
   "execution_count": 66,
   "id": "737d24f3",
   "metadata": {},
   "outputs": [
    {
     "name": "stderr",
     "output_type": "stream",
     "text": [
      "C:\\Users\\vantl\\AppData\\Local\\Temp\\ipykernel_20780\\3844654168.py:1: FutureWarning: The default value of numeric_only in DataFrameGroupBy.sum is deprecated. In a future version, numeric_only will default to False. Either specify numeric_only or select only columns which should be valid for the function.\n",
      "  SD.groupby('Mode of class').sum()\n"
     ]
    },
    {
     "data": {
      "text/html": [
       "<div>\n",
       "<style scoped>\n",
       "    .dataframe tbody tr th:only-of-type {\n",
       "        vertical-align: middle;\n",
       "    }\n",
       "\n",
       "    .dataframe tbody tr th {\n",
       "        vertical-align: top;\n",
       "    }\n",
       "\n",
       "    .dataframe thead th {\n",
       "        text-align: right;\n",
       "    }\n",
       "</style>\n",
       "<table border=\"1\" class=\"dataframe\">\n",
       "  <thead>\n",
       "    <tr style=\"text-align: right;\">\n",
       "      <th></th>\n",
       "      <th>Jikky</th>\n",
       "      <th>Kayis</th>\n",
       "      <th>Sinny</th>\n",
       "      <th>Criji</th>\n",
       "      <th>Johnan</th>\n",
       "      <th>Month</th>\n",
       "      <th>year</th>\n",
       "      <th>Day</th>\n",
       "    </tr>\n",
       "    <tr>\n",
       "      <th>Mode of class</th>\n",
       "      <th></th>\n",
       "      <th></th>\n",
       "      <th></th>\n",
       "      <th></th>\n",
       "      <th></th>\n",
       "      <th></th>\n",
       "      <th></th>\n",
       "      <th></th>\n",
       "    </tr>\n",
       "  </thead>\n",
       "  <tbody>\n",
       "    <tr>\n",
       "      <th>Online</th>\n",
       "      <td>57.2</td>\n",
       "      <td>22.6</td>\n",
       "      <td>30.5</td>\n",
       "      <td>23.0</td>\n",
       "      <td>13.5</td>\n",
       "      <td>406</td>\n",
       "      <td>161760</td>\n",
       "      <td>1440</td>\n",
       "    </tr>\n",
       "    <tr>\n",
       "      <th>Physical</th>\n",
       "      <td>14.0</td>\n",
       "      <td>7.0</td>\n",
       "      <td>24.0</td>\n",
       "      <td>20.0</td>\n",
       "      <td>9.5</td>\n",
       "      <td>61</td>\n",
       "      <td>22242</td>\n",
       "      <td>195</td>\n",
       "    </tr>\n",
       "  </tbody>\n",
       "</table>\n",
       "</div>"
      ],
      "text/plain": [
       "               Jikky  Kayis  Sinny  Criji  Johnan  Month    year   Day\n",
       "Mode of class                                                         \n",
       "Online          57.2   22.6   30.5   23.0    13.5    406  161760  1440\n",
       "Physical        14.0    7.0   24.0   20.0     9.5     61   22242   195"
      ]
     },
     "execution_count": 66,
     "metadata": {},
     "output_type": "execute_result"
    }
   ],
   "source": [
    "SD.groupby('Mode of class').sum()"
   ]
  },
  {
   "cell_type": "code",
   "execution_count": 67,
   "id": "9cafa115",
   "metadata": {},
   "outputs": [
    {
     "data": {
      "text/plain": [
       "Online      80\n",
       "Physical    11\n",
       "Name: Mode of class, dtype: int64"
      ]
     },
     "execution_count": 67,
     "metadata": {},
     "output_type": "execute_result"
    }
   ],
   "source": [
    "mod=SD['Mode of class'].value_counts()\n",
    "mod\n"
   ]
  },
  {
   "cell_type": "markdown",
   "id": "2f65c90e",
   "metadata": {},
   "source": [
    "The mentors have taken onilne class than physical classes."
   ]
  },
  {
   "cell_type": "markdown",
   "id": "21d72c98",
   "metadata": {},
   "source": [
    "#### Find how many physical classes had taken by each mentors through out each month"
   ]
  },
  {
   "cell_type": "code",
   "execution_count": 68,
   "id": "1b24c321",
   "metadata": {},
   "outputs": [
    {
     "data": {
      "text/html": [
       "<div>\n",
       "<style scoped>\n",
       "    .dataframe tbody tr th:only-of-type {\n",
       "        vertical-align: middle;\n",
       "    }\n",
       "\n",
       "    .dataframe tbody tr th {\n",
       "        vertical-align: top;\n",
       "    }\n",
       "\n",
       "    .dataframe thead th {\n",
       "        text-align: right;\n",
       "    }\n",
       "</style>\n",
       "<table border=\"1\" class=\"dataframe\">\n",
       "  <thead>\n",
       "    <tr style=\"text-align: right;\">\n",
       "      <th></th>\n",
       "      <th>Jikky</th>\n",
       "      <th>Kayis</th>\n",
       "      <th>Sinny</th>\n",
       "      <th>Criji</th>\n",
       "      <th>Johnan</th>\n",
       "    </tr>\n",
       "    <tr>\n",
       "      <th>Mode of class</th>\n",
       "      <th></th>\n",
       "      <th></th>\n",
       "      <th></th>\n",
       "      <th></th>\n",
       "      <th></th>\n",
       "    </tr>\n",
       "  </thead>\n",
       "  <tbody>\n",
       "    <tr>\n",
       "      <th>Online</th>\n",
       "      <td>57.2</td>\n",
       "      <td>22.6</td>\n",
       "      <td>30.5</td>\n",
       "      <td>23.0</td>\n",
       "      <td>13.5</td>\n",
       "    </tr>\n",
       "    <tr>\n",
       "      <th>Physical</th>\n",
       "      <td>14.0</td>\n",
       "      <td>7.0</td>\n",
       "      <td>24.0</td>\n",
       "      <td>20.0</td>\n",
       "      <td>9.5</td>\n",
       "    </tr>\n",
       "  </tbody>\n",
       "</table>\n",
       "</div>"
      ],
      "text/plain": [
       "               Jikky  Kayis  Sinny  Criji  Johnan\n",
       "Mode of class                                    \n",
       "Online          57.2   22.6   30.5   23.0    13.5\n",
       "Physical        14.0    7.0   24.0   20.0     9.5"
      ]
     },
     "execution_count": 68,
     "metadata": {},
     "output_type": "execute_result"
    }
   ],
   "source": [
    "SD.groupby('Mode of class')[['Jikky', 'Kayis', 'Sinny', 'Criji', 'Johnan']].sum()"
   ]
  },
  {
   "cell_type": "markdown",
   "id": "8290b4b6",
   "metadata": {},
   "source": [
    "In these past 3 months most of the online classes had taken by Jikky and Sinny mostly took the physical classes"
   ]
  },
  {
   "cell_type": "code",
   "execution_count": 69,
   "id": "b99a215d",
   "metadata": {},
   "outputs": [
    {
     "data": {
      "text/html": [
       "<div>\n",
       "<style scoped>\n",
       "    .dataframe tbody tr th:only-of-type {\n",
       "        vertical-align: middle;\n",
       "    }\n",
       "\n",
       "    .dataframe tbody tr th {\n",
       "        vertical-align: top;\n",
       "    }\n",
       "\n",
       "    .dataframe thead th {\n",
       "        text-align: right;\n",
       "    }\n",
       "</style>\n",
       "<table border=\"1\" class=\"dataframe\">\n",
       "  <thead>\n",
       "    <tr style=\"text-align: right;\">\n",
       "      <th></th>\n",
       "      <th>Jikky</th>\n",
       "      <th>Kayis</th>\n",
       "      <th>Sinny</th>\n",
       "      <th>Criji</th>\n",
       "      <th>Johnan</th>\n",
       "    </tr>\n",
       "    <tr>\n",
       "      <th>Month</th>\n",
       "      <th></th>\n",
       "      <th></th>\n",
       "      <th></th>\n",
       "      <th></th>\n",
       "      <th></th>\n",
       "    </tr>\n",
       "  </thead>\n",
       "  <tbody>\n",
       "    <tr>\n",
       "      <th>4</th>\n",
       "      <td>11.5</td>\n",
       "      <td>14.5</td>\n",
       "      <td>9.5</td>\n",
       "      <td>1.0</td>\n",
       "      <td>0.0</td>\n",
       "    </tr>\n",
       "    <tr>\n",
       "      <th>5</th>\n",
       "      <td>22.7</td>\n",
       "      <td>15.1</td>\n",
       "      <td>22.0</td>\n",
       "      <td>21.0</td>\n",
       "      <td>23.0</td>\n",
       "    </tr>\n",
       "    <tr>\n",
       "      <th>6</th>\n",
       "      <td>37.0</td>\n",
       "      <td>0.0</td>\n",
       "      <td>23.0</td>\n",
       "      <td>21.0</td>\n",
       "      <td>0.0</td>\n",
       "    </tr>\n",
       "  </tbody>\n",
       "</table>\n",
       "</div>"
      ],
      "text/plain": [
       "       Jikky  Kayis  Sinny  Criji  Johnan\n",
       "Month                                    \n",
       "4       11.5   14.5    9.5    1.0     0.0\n",
       "5       22.7   15.1   22.0   21.0    23.0\n",
       "6       37.0    0.0   23.0   21.0     0.0"
      ]
     },
     "execution_count": 69,
     "metadata": {},
     "output_type": "execute_result"
    }
   ],
   "source": [
    "SD.groupby('Month')[['Jikky', 'Kayis', 'Sinny', 'Criji', 'Johnan']].sum()"
   ]
  },
  {
   "cell_type": "markdown",
   "id": "3d3d0e6e",
   "metadata": {},
   "source": [
    "Kayis had taken more class hours in April\n",
    "\n",
    "Johnan had taken more class hours in May\n",
    "\n",
    "Jikky had taken more class hours in June"
   ]
  },
  {
   "cell_type": "code",
   "execution_count": 70,
   "id": "ce1b4725",
   "metadata": {},
   "outputs": [
    {
     "data": {
      "text/plain": [
       "Mode of class\n",
       "Online      80\n",
       "Physical    11\n",
       "dtype: int64"
      ]
     },
     "execution_count": 70,
     "metadata": {},
     "output_type": "execute_result"
    }
   ],
   "source": [
    "ab=pd.crosstab(SD['Johnan'],SD['Mode of class']).sum()\n",
    "ab"
   ]
  },
  {
   "cell_type": "code",
   "execution_count": 71,
   "id": "5f9176eb",
   "metadata": {},
   "outputs": [
    {
     "data": {
      "text/plain": [
       "Mode of class\n",
       "Online      80\n",
       "Physical    11\n",
       "dtype: int64"
      ]
     },
     "execution_count": 71,
     "metadata": {},
     "output_type": "execute_result"
    }
   ],
   "source": [
    "fg=pd.crosstab(SD['Kayis'],SD['Mode of class']).sum()\n",
    "fg"
   ]
  },
  {
   "cell_type": "code",
   "execution_count": 72,
   "id": "5b606825",
   "metadata": {},
   "outputs": [
    {
     "data": {
      "text/plain": [
       "Mode of class\n",
       "Online      80\n",
       "Physical    11\n",
       "dtype: int64"
      ]
     },
     "execution_count": 72,
     "metadata": {},
     "output_type": "execute_result"
    }
   ],
   "source": [
    "ag=pd.crosstab(SD['Sinny'],SD['Mode of class']).sum()\n",
    "ag"
   ]
  },
  {
   "cell_type": "code",
   "execution_count": 73,
   "id": "a0402a3e",
   "metadata": {},
   "outputs": [
    {
     "data": {
      "text/plain": [
       "Month  Mode of class\n",
       "4      Online           25\n",
       "5      Online           24\n",
       "       Physical          5\n",
       "6      Online           31\n",
       "       Physical          6\n",
       "Name: Mode of class, dtype: int64"
      ]
     },
     "execution_count": 73,
     "metadata": {},
     "output_type": "execute_result"
    }
   ],
   "source": [
    "SD.groupby('Month')['Mode of class'].value_counts()"
   ]
  },
  {
   "cell_type": "markdown",
   "id": "77d4f430",
   "metadata": {},
   "source": [
    "The most of Online class is taken in June\n",
    "\n",
    "The most of Physical classes is taken in June"
   ]
  },
  {
   "cell_type": "code",
   "execution_count": 74,
   "id": "b4264806",
   "metadata": {},
   "outputs": [
    {
     "data": {
      "text/html": [
       "<div>\n",
       "<style scoped>\n",
       "    .dataframe tbody tr th:only-of-type {\n",
       "        vertical-align: middle;\n",
       "    }\n",
       "\n",
       "    .dataframe tbody tr th {\n",
       "        vertical-align: top;\n",
       "    }\n",
       "\n",
       "    .dataframe thead th {\n",
       "        text-align: right;\n",
       "    }\n",
       "</style>\n",
       "<table border=\"1\" class=\"dataframe\">\n",
       "  <thead>\n",
       "    <tr style=\"text-align: right;\">\n",
       "      <th></th>\n",
       "      <th>Mode of class</th>\n",
       "    </tr>\n",
       "    <tr>\n",
       "      <th>Month</th>\n",
       "      <th></th>\n",
       "    </tr>\n",
       "  </thead>\n",
       "  <tbody>\n",
       "    <tr>\n",
       "      <th>4</th>\n",
       "      <td>25</td>\n",
       "    </tr>\n",
       "    <tr>\n",
       "      <th>5</th>\n",
       "      <td>29</td>\n",
       "    </tr>\n",
       "    <tr>\n",
       "      <th>6</th>\n",
       "      <td>37</td>\n",
       "    </tr>\n",
       "  </tbody>\n",
       "</table>\n",
       "</div>"
      ],
      "text/plain": [
       "       Mode of class\n",
       "Month               \n",
       "4                 25\n",
       "5                 29\n",
       "6                 37"
      ]
     },
     "execution_count": 74,
     "metadata": {},
     "output_type": "execute_result"
    }
   ],
   "source": [
    "SD.groupby('Month')[['Mode of class']].count()"
   ]
  },
  {
   "cell_type": "markdown",
   "id": "83d96315",
   "metadata": {},
   "source": [
    "#### Find by which time hour, most of the class had taken in month June"
   ]
  },
  {
   "cell_type": "code",
   "execution_count": 75,
   "id": "e7d63e4f",
   "metadata": {},
   "outputs": [
    {
     "data": {
      "text/plain": [
       "0    9:30 am - 11:30 am\n",
       "Name: Time, dtype: object"
      ]
     },
     "execution_count": 75,
     "metadata": {},
     "output_type": "execute_result"
    }
   ],
   "source": [
    "SD['Time'].mode()"
   ]
  },
  {
   "cell_type": "markdown",
   "id": "75a6eb96",
   "metadata": {},
   "source": [
    "most of the classes had taken in these time hour - 9.30am to 11.30am."
   ]
  },
  {
   "cell_type": "code",
   "execution_count": 76,
   "id": "8db7fb0a",
   "metadata": {},
   "outputs": [
    {
     "data": {
      "text/plain": [
       "Month  Time               \n",
       "4      9:30 am- 10:30 am      12\n",
       "       11:30 am - 12:30 pm     8\n",
       "       9:30 am - 11:30 am      3\n",
       "       10:30 am- 11:30 am      1\n",
       "       11:30 am -  1:00 pm     1\n",
       "5      9:30 am - 11:30 am     17\n",
       "       1:30 pm- 3:30 pm        3\n",
       "       9:30am-12:00am          2\n",
       "       9:30am:4:30pm           2\n",
       "       2: 30PM - 3:50 PM       1\n",
       "       3: 00PM - 3:30 PM       1\n",
       "       9:30 am - 11:40 am      1\n",
       "       9:30am-1 PM             1\n",
       "       9:30am-3:30pm           1\n",
       "6      2:30 Pm-4:30pm         14\n",
       "       11:30 am- 1:30 Pm       9\n",
       "       9:30 am - 11:30 am      9\n",
       "       10:00 Am-3:30 Pm        1\n",
       "       10:00 am - 11:30 am     1\n",
       "       12:15 pm -12:45 pm      1\n",
       "       2:30 pm -4:00 pm        1\n",
       "       9:30am-3:30pm           1\n",
       "Name: Time, dtype: int64"
      ]
     },
     "execution_count": 76,
     "metadata": {},
     "output_type": "execute_result"
    }
   ],
   "source": [
    "SD.groupby('Month')['Time'].value_counts()"
   ]
  },
  {
   "cell_type": "markdown",
   "id": "95dbe8f2",
   "metadata": {},
   "source": [
    "The mentors mostly took the class from 9.30am to 10.30am in April\n",
    "\n",
    "The mentors mostly took the class from 9.30am to 11.30am in May\n",
    "\n",
    "The mentors mostly took the class from 2.30pm to 4.30pm in June"
   ]
  },
  {
   "cell_type": "code",
   "execution_count": 77,
   "id": "3ff6289b",
   "metadata": {},
   "outputs": [
    {
     "data": {
      "text/html": [
       "<div>\n",
       "<style scoped>\n",
       "    .dataframe tbody tr th:only-of-type {\n",
       "        vertical-align: middle;\n",
       "    }\n",
       "\n",
       "    .dataframe tbody tr th {\n",
       "        vertical-align: top;\n",
       "    }\n",
       "\n",
       "    .dataframe thead th {\n",
       "        text-align: right;\n",
       "    }\n",
       "</style>\n",
       "<table border=\"1\" class=\"dataframe\">\n",
       "  <thead>\n",
       "    <tr style=\"text-align: right;\">\n",
       "      <th></th>\n",
       "      <th>Time</th>\n",
       "    </tr>\n",
       "    <tr>\n",
       "      <th>Month</th>\n",
       "      <th></th>\n",
       "    </tr>\n",
       "  </thead>\n",
       "  <tbody>\n",
       "    <tr>\n",
       "      <th>4</th>\n",
       "      <td>25</td>\n",
       "    </tr>\n",
       "    <tr>\n",
       "      <th>5</th>\n",
       "      <td>29</td>\n",
       "    </tr>\n",
       "    <tr>\n",
       "      <th>6</th>\n",
       "      <td>37</td>\n",
       "    </tr>\n",
       "  </tbody>\n",
       "</table>\n",
       "</div>"
      ],
      "text/plain": [
       "       Time\n",
       "Month      \n",
       "4        25\n",
       "5        29\n",
       "6        37"
      ]
     },
     "execution_count": 77,
     "metadata": {},
     "output_type": "execute_result"
    }
   ],
   "source": [
    "SD.groupby('Month')[['Time']].count()"
   ]
  },
  {
   "cell_type": "code",
   "execution_count": 78,
   "id": "fad1b255",
   "metadata": {},
   "outputs": [
    {
     "data": {
      "text/html": [
       "<div>\n",
       "<style scoped>\n",
       "    .dataframe tbody tr th:only-of-type {\n",
       "        vertical-align: middle;\n",
       "    }\n",
       "\n",
       "    .dataframe tbody tr th {\n",
       "        vertical-align: top;\n",
       "    }\n",
       "\n",
       "    .dataframe thead th {\n",
       "        text-align: right;\n",
       "    }\n",
       "</style>\n",
       "<table border=\"1\" class=\"dataframe\">\n",
       "  <thead>\n",
       "    <tr style=\"text-align: right;\">\n",
       "      <th></th>\n",
       "      <th>Jikky</th>\n",
       "      <th>Kayis</th>\n",
       "      <th>Sinny</th>\n",
       "      <th>Criji</th>\n",
       "      <th>Johnan</th>\n",
       "      <th>Month</th>\n",
       "      <th>year</th>\n",
       "      <th>Day</th>\n",
       "    </tr>\n",
       "  </thead>\n",
       "  <tbody>\n",
       "    <tr>\n",
       "      <th>count</th>\n",
       "      <td>91.000000</td>\n",
       "      <td>91.000000</td>\n",
       "      <td>91.000000</td>\n",
       "      <td>91.000000</td>\n",
       "      <td>91.000000</td>\n",
       "      <td>91.000000</td>\n",
       "      <td>91.0</td>\n",
       "      <td>91.000000</td>\n",
       "    </tr>\n",
       "    <tr>\n",
       "      <th>mean</th>\n",
       "      <td>0.782418</td>\n",
       "      <td>0.325275</td>\n",
       "      <td>0.598901</td>\n",
       "      <td>0.472527</td>\n",
       "      <td>0.252747</td>\n",
       "      <td>5.131868</td>\n",
       "      <td>2022.0</td>\n",
       "      <td>17.967033</td>\n",
       "    </tr>\n",
       "    <tr>\n",
       "      <th>std</th>\n",
       "      <td>1.116701</td>\n",
       "      <td>0.888393</td>\n",
       "      <td>1.236527</td>\n",
       "      <td>1.184067</td>\n",
       "      <td>0.940962</td>\n",
       "      <td>0.819333</td>\n",
       "      <td>0.0</td>\n",
       "      <td>8.430699</td>\n",
       "    </tr>\n",
       "    <tr>\n",
       "      <th>min</th>\n",
       "      <td>0.000000</td>\n",
       "      <td>0.000000</td>\n",
       "      <td>0.000000</td>\n",
       "      <td>0.000000</td>\n",
       "      <td>0.000000</td>\n",
       "      <td>4.000000</td>\n",
       "      <td>2022.0</td>\n",
       "      <td>1.000000</td>\n",
       "    </tr>\n",
       "    <tr>\n",
       "      <th>25%</th>\n",
       "      <td>0.000000</td>\n",
       "      <td>0.000000</td>\n",
       "      <td>0.000000</td>\n",
       "      <td>0.000000</td>\n",
       "      <td>0.000000</td>\n",
       "      <td>4.000000</td>\n",
       "      <td>2022.0</td>\n",
       "      <td>11.500000</td>\n",
       "    </tr>\n",
       "    <tr>\n",
       "      <th>50%</th>\n",
       "      <td>0.000000</td>\n",
       "      <td>0.000000</td>\n",
       "      <td>0.000000</td>\n",
       "      <td>0.000000</td>\n",
       "      <td>0.000000</td>\n",
       "      <td>5.000000</td>\n",
       "      <td>2022.0</td>\n",
       "      <td>20.000000</td>\n",
       "    </tr>\n",
       "    <tr>\n",
       "      <th>75%</th>\n",
       "      <td>2.000000</td>\n",
       "      <td>0.000000</td>\n",
       "      <td>0.500000</td>\n",
       "      <td>0.000000</td>\n",
       "      <td>0.000000</td>\n",
       "      <td>6.000000</td>\n",
       "      <td>2022.0</td>\n",
       "      <td>24.500000</td>\n",
       "    </tr>\n",
       "    <tr>\n",
       "      <th>max</th>\n",
       "      <td>7.000000</td>\n",
       "      <td>7.000000</td>\n",
       "      <td>7.000000</td>\n",
       "      <td>7.000000</td>\n",
       "      <td>7.000000</td>\n",
       "      <td>6.000000</td>\n",
       "      <td>2022.0</td>\n",
       "      <td>31.000000</td>\n",
       "    </tr>\n",
       "  </tbody>\n",
       "</table>\n",
       "</div>"
      ],
      "text/plain": [
       "           Jikky      Kayis      Sinny      Criji     Johnan      Month  \\\n",
       "count  91.000000  91.000000  91.000000  91.000000  91.000000  91.000000   \n",
       "mean    0.782418   0.325275   0.598901   0.472527   0.252747   5.131868   \n",
       "std     1.116701   0.888393   1.236527   1.184067   0.940962   0.819333   \n",
       "min     0.000000   0.000000   0.000000   0.000000   0.000000   4.000000   \n",
       "25%     0.000000   0.000000   0.000000   0.000000   0.000000   4.000000   \n",
       "50%     0.000000   0.000000   0.000000   0.000000   0.000000   5.000000   \n",
       "75%     2.000000   0.000000   0.500000   0.000000   0.000000   6.000000   \n",
       "max     7.000000   7.000000   7.000000   7.000000   7.000000   6.000000   \n",
       "\n",
       "         year        Day  \n",
       "count    91.0  91.000000  \n",
       "mean   2022.0  17.967033  \n",
       "std       0.0   8.430699  \n",
       "min    2022.0   1.000000  \n",
       "25%    2022.0  11.500000  \n",
       "50%    2022.0  20.000000  \n",
       "75%    2022.0  24.500000  \n",
       "max    2022.0  31.000000  "
      ]
     },
     "execution_count": 78,
     "metadata": {},
     "output_type": "execute_result"
    }
   ],
   "source": [
    "SD.describe()"
   ]
  },
  {
   "cell_type": "markdown",
   "id": "85111764",
   "metadata": {},
   "source": [
    "#### If the the payment is 100 for one hour , then how much salary"
   ]
  },
  {
   "cell_type": "code",
   "execution_count": 79,
   "id": "63bc0b12",
   "metadata": {},
   "outputs": [
    {
     "data": {
      "text/html": [
       "<div>\n",
       "<style scoped>\n",
       "    .dataframe tbody tr th:only-of-type {\n",
       "        vertical-align: middle;\n",
       "    }\n",
       "\n",
       "    .dataframe tbody tr th {\n",
       "        vertical-align: top;\n",
       "    }\n",
       "\n",
       "    .dataframe thead th {\n",
       "        text-align: right;\n",
       "    }\n",
       "</style>\n",
       "<table border=\"1\" class=\"dataframe\">\n",
       "  <thead>\n",
       "    <tr style=\"text-align: right;\">\n",
       "      <th></th>\n",
       "      <th>Date</th>\n",
       "      <th>Time</th>\n",
       "      <th>Jikky</th>\n",
       "      <th>Kayis</th>\n",
       "      <th>Sinny</th>\n",
       "      <th>Criji</th>\n",
       "      <th>Johnan</th>\n",
       "      <th>Mode of class</th>\n",
       "      <th>Month</th>\n",
       "      <th>year</th>\n",
       "      <th>Day</th>\n",
       "      <th>Salary_1_jikky</th>\n",
       "    </tr>\n",
       "  </thead>\n",
       "  <tbody>\n",
       "    <tr>\n",
       "      <th>0</th>\n",
       "      <td>2022-04-11</td>\n",
       "      <td>9:30 am- 10:30 am</td>\n",
       "      <td>1.0</td>\n",
       "      <td>1.0</td>\n",
       "      <td>0.0</td>\n",
       "      <td>0.0</td>\n",
       "      <td>0.0</td>\n",
       "      <td>Online</td>\n",
       "      <td>4</td>\n",
       "      <td>2022</td>\n",
       "      <td>11</td>\n",
       "      <td>100.0</td>\n",
       "    </tr>\n",
       "    <tr>\n",
       "      <th>1</th>\n",
       "      <td>2022-04-11</td>\n",
       "      <td>10:30 am- 11:30 am</td>\n",
       "      <td>1.0</td>\n",
       "      <td>1.0</td>\n",
       "      <td>0.0</td>\n",
       "      <td>0.0</td>\n",
       "      <td>0.0</td>\n",
       "      <td>Online</td>\n",
       "      <td>4</td>\n",
       "      <td>2022</td>\n",
       "      <td>11</td>\n",
       "      <td>100.0</td>\n",
       "    </tr>\n",
       "  </tbody>\n",
       "</table>\n",
       "</div>"
      ],
      "text/plain": [
       "        Date                Time  Jikky  Kayis  Sinny  Criji  Johnan  \\\n",
       "0 2022-04-11   9:30 am- 10:30 am    1.0    1.0    0.0    0.0     0.0   \n",
       "1 2022-04-11  10:30 am- 11:30 am    1.0    1.0    0.0    0.0     0.0   \n",
       "\n",
       "  Mode of class  Month  year  Day  Salary_1_jikky  \n",
       "0        Online      4  2022   11           100.0  \n",
       "1        Online      4  2022   11           100.0  "
      ]
     },
     "execution_count": 79,
     "metadata": {},
     "output_type": "execute_result"
    }
   ],
   "source": [
    "SD['Salary_1_jikky']=(SD['Jikky']*100)\n",
    "SD.head(2)"
   ]
  },
  {
   "cell_type": "code",
   "execution_count": 80,
   "id": "b8042ad5",
   "metadata": {},
   "outputs": [
    {
     "data": {
      "text/html": [
       "<div>\n",
       "<style scoped>\n",
       "    .dataframe tbody tr th:only-of-type {\n",
       "        vertical-align: middle;\n",
       "    }\n",
       "\n",
       "    .dataframe tbody tr th {\n",
       "        vertical-align: top;\n",
       "    }\n",
       "\n",
       "    .dataframe thead th {\n",
       "        text-align: right;\n",
       "    }\n",
       "</style>\n",
       "<table border=\"1\" class=\"dataframe\">\n",
       "  <thead>\n",
       "    <tr style=\"text-align: right;\">\n",
       "      <th></th>\n",
       "      <th>Date</th>\n",
       "      <th>Time</th>\n",
       "      <th>Jikky</th>\n",
       "      <th>Kayis</th>\n",
       "      <th>Sinny</th>\n",
       "      <th>Criji</th>\n",
       "      <th>Johnan</th>\n",
       "      <th>Mode of class</th>\n",
       "      <th>Month</th>\n",
       "      <th>year</th>\n",
       "      <th>Day</th>\n",
       "      <th>Salary_1_jikky</th>\n",
       "      <th>Salary_1_Kayis</th>\n",
       "    </tr>\n",
       "  </thead>\n",
       "  <tbody>\n",
       "    <tr>\n",
       "      <th>0</th>\n",
       "      <td>2022-04-11</td>\n",
       "      <td>9:30 am- 10:30 am</td>\n",
       "      <td>1.0</td>\n",
       "      <td>1.0</td>\n",
       "      <td>0.0</td>\n",
       "      <td>0.0</td>\n",
       "      <td>0.0</td>\n",
       "      <td>Online</td>\n",
       "      <td>4</td>\n",
       "      <td>2022</td>\n",
       "      <td>11</td>\n",
       "      <td>100.0</td>\n",
       "      <td>100.0</td>\n",
       "    </tr>\n",
       "    <tr>\n",
       "      <th>1</th>\n",
       "      <td>2022-04-11</td>\n",
       "      <td>10:30 am- 11:30 am</td>\n",
       "      <td>1.0</td>\n",
       "      <td>1.0</td>\n",
       "      <td>0.0</td>\n",
       "      <td>0.0</td>\n",
       "      <td>0.0</td>\n",
       "      <td>Online</td>\n",
       "      <td>4</td>\n",
       "      <td>2022</td>\n",
       "      <td>11</td>\n",
       "      <td>100.0</td>\n",
       "      <td>100.0</td>\n",
       "    </tr>\n",
       "  </tbody>\n",
       "</table>\n",
       "</div>"
      ],
      "text/plain": [
       "        Date                Time  Jikky  Kayis  Sinny  Criji  Johnan  \\\n",
       "0 2022-04-11   9:30 am- 10:30 am    1.0    1.0    0.0    0.0     0.0   \n",
       "1 2022-04-11  10:30 am- 11:30 am    1.0    1.0    0.0    0.0     0.0   \n",
       "\n",
       "  Mode of class  Month  year  Day  Salary_1_jikky  Salary_1_Kayis  \n",
       "0        Online      4  2022   11           100.0           100.0  \n",
       "1        Online      4  2022   11           100.0           100.0  "
      ]
     },
     "execution_count": 80,
     "metadata": {},
     "output_type": "execute_result"
    }
   ],
   "source": [
    "SD['Salary_1_Kayis']=(SD['Kayis']*100)\n",
    "SD.head(2)"
   ]
  },
  {
   "cell_type": "code",
   "execution_count": 81,
   "id": "466b706a",
   "metadata": {},
   "outputs": [
    {
     "data": {
      "text/html": [
       "<div>\n",
       "<style scoped>\n",
       "    .dataframe tbody tr th:only-of-type {\n",
       "        vertical-align: middle;\n",
       "    }\n",
       "\n",
       "    .dataframe tbody tr th {\n",
       "        vertical-align: top;\n",
       "    }\n",
       "\n",
       "    .dataframe thead th {\n",
       "        text-align: right;\n",
       "    }\n",
       "</style>\n",
       "<table border=\"1\" class=\"dataframe\">\n",
       "  <thead>\n",
       "    <tr style=\"text-align: right;\">\n",
       "      <th></th>\n",
       "      <th>Date</th>\n",
       "      <th>Time</th>\n",
       "      <th>Jikky</th>\n",
       "      <th>Kayis</th>\n",
       "      <th>Sinny</th>\n",
       "      <th>Criji</th>\n",
       "      <th>Johnan</th>\n",
       "      <th>Mode of class</th>\n",
       "      <th>Month</th>\n",
       "      <th>year</th>\n",
       "      <th>Day</th>\n",
       "      <th>Salary_1_jikky</th>\n",
       "      <th>Salary_1_Kayis</th>\n",
       "      <th>Salary_1_Sinny</th>\n",
       "    </tr>\n",
       "  </thead>\n",
       "  <tbody>\n",
       "    <tr>\n",
       "      <th>0</th>\n",
       "      <td>2022-04-11</td>\n",
       "      <td>9:30 am- 10:30 am</td>\n",
       "      <td>1.0</td>\n",
       "      <td>1.0</td>\n",
       "      <td>0.0</td>\n",
       "      <td>0.0</td>\n",
       "      <td>0.0</td>\n",
       "      <td>Online</td>\n",
       "      <td>4</td>\n",
       "      <td>2022</td>\n",
       "      <td>11</td>\n",
       "      <td>100.0</td>\n",
       "      <td>100.0</td>\n",
       "      <td>0.0</td>\n",
       "    </tr>\n",
       "    <tr>\n",
       "      <th>1</th>\n",
       "      <td>2022-04-11</td>\n",
       "      <td>10:30 am- 11:30 am</td>\n",
       "      <td>1.0</td>\n",
       "      <td>1.0</td>\n",
       "      <td>0.0</td>\n",
       "      <td>0.0</td>\n",
       "      <td>0.0</td>\n",
       "      <td>Online</td>\n",
       "      <td>4</td>\n",
       "      <td>2022</td>\n",
       "      <td>11</td>\n",
       "      <td>100.0</td>\n",
       "      <td>100.0</td>\n",
       "      <td>0.0</td>\n",
       "    </tr>\n",
       "  </tbody>\n",
       "</table>\n",
       "</div>"
      ],
      "text/plain": [
       "        Date                Time  Jikky  Kayis  Sinny  Criji  Johnan  \\\n",
       "0 2022-04-11   9:30 am- 10:30 am    1.0    1.0    0.0    0.0     0.0   \n",
       "1 2022-04-11  10:30 am- 11:30 am    1.0    1.0    0.0    0.0     0.0   \n",
       "\n",
       "  Mode of class  Month  year  Day  Salary_1_jikky  Salary_1_Kayis  \\\n",
       "0        Online      4  2022   11           100.0           100.0   \n",
       "1        Online      4  2022   11           100.0           100.0   \n",
       "\n",
       "   Salary_1_Sinny  \n",
       "0             0.0  \n",
       "1             0.0  "
      ]
     },
     "execution_count": 81,
     "metadata": {},
     "output_type": "execute_result"
    }
   ],
   "source": [
    "SD['Salary_1_Sinny']=(SD['Sinny']*100)\n",
    "SD.head(2)"
   ]
  },
  {
   "cell_type": "code",
   "execution_count": 82,
   "id": "ce4dd819",
   "metadata": {},
   "outputs": [
    {
     "data": {
      "text/html": [
       "<div>\n",
       "<style scoped>\n",
       "    .dataframe tbody tr th:only-of-type {\n",
       "        vertical-align: middle;\n",
       "    }\n",
       "\n",
       "    .dataframe tbody tr th {\n",
       "        vertical-align: top;\n",
       "    }\n",
       "\n",
       "    .dataframe thead th {\n",
       "        text-align: right;\n",
       "    }\n",
       "</style>\n",
       "<table border=\"1\" class=\"dataframe\">\n",
       "  <thead>\n",
       "    <tr style=\"text-align: right;\">\n",
       "      <th></th>\n",
       "      <th>Date</th>\n",
       "      <th>Time</th>\n",
       "      <th>Jikky</th>\n",
       "      <th>Kayis</th>\n",
       "      <th>Sinny</th>\n",
       "      <th>Criji</th>\n",
       "      <th>Johnan</th>\n",
       "      <th>Mode of class</th>\n",
       "      <th>Month</th>\n",
       "      <th>year</th>\n",
       "      <th>Day</th>\n",
       "      <th>Salary_1_jikky</th>\n",
       "      <th>Salary_1_Kayis</th>\n",
       "      <th>Salary_1_Sinny</th>\n",
       "      <th>Salary__Criji</th>\n",
       "    </tr>\n",
       "  </thead>\n",
       "  <tbody>\n",
       "    <tr>\n",
       "      <th>0</th>\n",
       "      <td>2022-04-11</td>\n",
       "      <td>9:30 am- 10:30 am</td>\n",
       "      <td>1.0</td>\n",
       "      <td>1.0</td>\n",
       "      <td>0.0</td>\n",
       "      <td>0.0</td>\n",
       "      <td>0.0</td>\n",
       "      <td>Online</td>\n",
       "      <td>4</td>\n",
       "      <td>2022</td>\n",
       "      <td>11</td>\n",
       "      <td>100.0</td>\n",
       "      <td>100.0</td>\n",
       "      <td>0.0</td>\n",
       "      <td>0.0</td>\n",
       "    </tr>\n",
       "    <tr>\n",
       "      <th>1</th>\n",
       "      <td>2022-04-11</td>\n",
       "      <td>10:30 am- 11:30 am</td>\n",
       "      <td>1.0</td>\n",
       "      <td>1.0</td>\n",
       "      <td>0.0</td>\n",
       "      <td>0.0</td>\n",
       "      <td>0.0</td>\n",
       "      <td>Online</td>\n",
       "      <td>4</td>\n",
       "      <td>2022</td>\n",
       "      <td>11</td>\n",
       "      <td>100.0</td>\n",
       "      <td>100.0</td>\n",
       "      <td>0.0</td>\n",
       "      <td>0.0</td>\n",
       "    </tr>\n",
       "  </tbody>\n",
       "</table>\n",
       "</div>"
      ],
      "text/plain": [
       "        Date                Time  Jikky  Kayis  Sinny  Criji  Johnan  \\\n",
       "0 2022-04-11   9:30 am- 10:30 am    1.0    1.0    0.0    0.0     0.0   \n",
       "1 2022-04-11  10:30 am- 11:30 am    1.0    1.0    0.0    0.0     0.0   \n",
       "\n",
       "  Mode of class  Month  year  Day  Salary_1_jikky  Salary_1_Kayis  \\\n",
       "0        Online      4  2022   11           100.0           100.0   \n",
       "1        Online      4  2022   11           100.0           100.0   \n",
       "\n",
       "   Salary_1_Sinny  Salary__Criji  \n",
       "0             0.0            0.0  \n",
       "1             0.0            0.0  "
      ]
     },
     "execution_count": 82,
     "metadata": {},
     "output_type": "execute_result"
    }
   ],
   "source": [
    "SD['Salary__Criji']=(SD['Criji']*100)\n",
    "SD.head(2)"
   ]
  },
  {
   "cell_type": "code",
   "execution_count": 83,
   "id": "4521c1d6",
   "metadata": {},
   "outputs": [
    {
     "data": {
      "text/html": [
       "<div>\n",
       "<style scoped>\n",
       "    .dataframe tbody tr th:only-of-type {\n",
       "        vertical-align: middle;\n",
       "    }\n",
       "\n",
       "    .dataframe tbody tr th {\n",
       "        vertical-align: top;\n",
       "    }\n",
       "\n",
       "    .dataframe thead th {\n",
       "        text-align: right;\n",
       "    }\n",
       "</style>\n",
       "<table border=\"1\" class=\"dataframe\">\n",
       "  <thead>\n",
       "    <tr style=\"text-align: right;\">\n",
       "      <th></th>\n",
       "      <th>Date</th>\n",
       "      <th>Time</th>\n",
       "      <th>Jikky</th>\n",
       "      <th>Kayis</th>\n",
       "      <th>Sinny</th>\n",
       "      <th>Criji</th>\n",
       "      <th>Johnan</th>\n",
       "      <th>Mode of class</th>\n",
       "      <th>Month</th>\n",
       "      <th>year</th>\n",
       "      <th>Day</th>\n",
       "      <th>Salary_1_jikky</th>\n",
       "      <th>Salary_1_Kayis</th>\n",
       "      <th>Salary_1_Sinny</th>\n",
       "      <th>Salary__Criji</th>\n",
       "      <th>Salary_1_Johnan</th>\n",
       "    </tr>\n",
       "  </thead>\n",
       "  <tbody>\n",
       "    <tr>\n",
       "      <th>0</th>\n",
       "      <td>2022-04-11</td>\n",
       "      <td>9:30 am- 10:30 am</td>\n",
       "      <td>1.0</td>\n",
       "      <td>1.0</td>\n",
       "      <td>0.0</td>\n",
       "      <td>0.0</td>\n",
       "      <td>0.0</td>\n",
       "      <td>Online</td>\n",
       "      <td>4</td>\n",
       "      <td>2022</td>\n",
       "      <td>11</td>\n",
       "      <td>100.0</td>\n",
       "      <td>100.0</td>\n",
       "      <td>0.0</td>\n",
       "      <td>0.0</td>\n",
       "      <td>0.0</td>\n",
       "    </tr>\n",
       "    <tr>\n",
       "      <th>1</th>\n",
       "      <td>2022-04-11</td>\n",
       "      <td>10:30 am- 11:30 am</td>\n",
       "      <td>1.0</td>\n",
       "      <td>1.0</td>\n",
       "      <td>0.0</td>\n",
       "      <td>0.0</td>\n",
       "      <td>0.0</td>\n",
       "      <td>Online</td>\n",
       "      <td>4</td>\n",
       "      <td>2022</td>\n",
       "      <td>11</td>\n",
       "      <td>100.0</td>\n",
       "      <td>100.0</td>\n",
       "      <td>0.0</td>\n",
       "      <td>0.0</td>\n",
       "      <td>0.0</td>\n",
       "    </tr>\n",
       "  </tbody>\n",
       "</table>\n",
       "</div>"
      ],
      "text/plain": [
       "        Date                Time  Jikky  Kayis  Sinny  Criji  Johnan  \\\n",
       "0 2022-04-11   9:30 am- 10:30 am    1.0    1.0    0.0    0.0     0.0   \n",
       "1 2022-04-11  10:30 am- 11:30 am    1.0    1.0    0.0    0.0     0.0   \n",
       "\n",
       "  Mode of class  Month  year  Day  Salary_1_jikky  Salary_1_Kayis  \\\n",
       "0        Online      4  2022   11           100.0           100.0   \n",
       "1        Online      4  2022   11           100.0           100.0   \n",
       "\n",
       "   Salary_1_Sinny  Salary__Criji  Salary_1_Johnan  \n",
       "0             0.0            0.0              0.0  \n",
       "1             0.0            0.0              0.0  "
      ]
     },
     "execution_count": 83,
     "metadata": {},
     "output_type": "execute_result"
    }
   ],
   "source": [
    "SD['Salary_1_Johnan']=(SD['Johnan']*100)\n",
    "SD.head(2)"
   ]
  },
  {
   "cell_type": "markdown",
   "id": "eb780915",
   "metadata": {},
   "source": [
    "#### If the the payment for one hour is 150 means how much salary did they got in each month"
   ]
  },
  {
   "cell_type": "code",
   "execution_count": 84,
   "id": "22a73bfe",
   "metadata": {},
   "outputs": [
    {
     "data": {
      "text/html": [
       "<div>\n",
       "<style scoped>\n",
       "    .dataframe tbody tr th:only-of-type {\n",
       "        vertical-align: middle;\n",
       "    }\n",
       "\n",
       "    .dataframe tbody tr th {\n",
       "        vertical-align: top;\n",
       "    }\n",
       "\n",
       "    .dataframe thead th {\n",
       "        text-align: right;\n",
       "    }\n",
       "</style>\n",
       "<table border=\"1\" class=\"dataframe\">\n",
       "  <thead>\n",
       "    <tr style=\"text-align: right;\">\n",
       "      <th></th>\n",
       "      <th>Date</th>\n",
       "      <th>Time</th>\n",
       "      <th>Jikky</th>\n",
       "      <th>Kayis</th>\n",
       "      <th>Sinny</th>\n",
       "      <th>Criji</th>\n",
       "      <th>Johnan</th>\n",
       "      <th>Mode of class</th>\n",
       "      <th>Month</th>\n",
       "      <th>year</th>\n",
       "      <th>Day</th>\n",
       "      <th>Salary_1_jikky</th>\n",
       "      <th>Salary_1_Kayis</th>\n",
       "      <th>Salary_1_Sinny</th>\n",
       "      <th>Salary__Criji</th>\n",
       "      <th>Salary_1_Johnan</th>\n",
       "      <th>Salary_2_jikky</th>\n",
       "    </tr>\n",
       "  </thead>\n",
       "  <tbody>\n",
       "    <tr>\n",
       "      <th>0</th>\n",
       "      <td>2022-04-11</td>\n",
       "      <td>9:30 am- 10:30 am</td>\n",
       "      <td>1.0</td>\n",
       "      <td>1.0</td>\n",
       "      <td>0.0</td>\n",
       "      <td>0.0</td>\n",
       "      <td>0.0</td>\n",
       "      <td>Online</td>\n",
       "      <td>4</td>\n",
       "      <td>2022</td>\n",
       "      <td>11</td>\n",
       "      <td>100.0</td>\n",
       "      <td>100.0</td>\n",
       "      <td>0.0</td>\n",
       "      <td>0.0</td>\n",
       "      <td>0.0</td>\n",
       "      <td>150.0</td>\n",
       "    </tr>\n",
       "    <tr>\n",
       "      <th>1</th>\n",
       "      <td>2022-04-11</td>\n",
       "      <td>10:30 am- 11:30 am</td>\n",
       "      <td>1.0</td>\n",
       "      <td>1.0</td>\n",
       "      <td>0.0</td>\n",
       "      <td>0.0</td>\n",
       "      <td>0.0</td>\n",
       "      <td>Online</td>\n",
       "      <td>4</td>\n",
       "      <td>2022</td>\n",
       "      <td>11</td>\n",
       "      <td>100.0</td>\n",
       "      <td>100.0</td>\n",
       "      <td>0.0</td>\n",
       "      <td>0.0</td>\n",
       "      <td>0.0</td>\n",
       "      <td>150.0</td>\n",
       "    </tr>\n",
       "  </tbody>\n",
       "</table>\n",
       "</div>"
      ],
      "text/plain": [
       "        Date                Time  Jikky  Kayis  Sinny  Criji  Johnan  \\\n",
       "0 2022-04-11   9:30 am- 10:30 am    1.0    1.0    0.0    0.0     0.0   \n",
       "1 2022-04-11  10:30 am- 11:30 am    1.0    1.0    0.0    0.0     0.0   \n",
       "\n",
       "  Mode of class  Month  year  Day  Salary_1_jikky  Salary_1_Kayis  \\\n",
       "0        Online      4  2022   11           100.0           100.0   \n",
       "1        Online      4  2022   11           100.0           100.0   \n",
       "\n",
       "   Salary_1_Sinny  Salary__Criji  Salary_1_Johnan  Salary_2_jikky  \n",
       "0             0.0            0.0              0.0           150.0  \n",
       "1             0.0            0.0              0.0           150.0  "
      ]
     },
     "execution_count": 84,
     "metadata": {},
     "output_type": "execute_result"
    }
   ],
   "source": [
    "SD['Salary_2_jikky']=(SD['Jikky']*150)\n",
    "SD.head(2)"
   ]
  },
  {
   "cell_type": "code",
   "execution_count": 85,
   "id": "271a7cd9",
   "metadata": {},
   "outputs": [
    {
     "data": {
      "text/html": [
       "<div>\n",
       "<style scoped>\n",
       "    .dataframe tbody tr th:only-of-type {\n",
       "        vertical-align: middle;\n",
       "    }\n",
       "\n",
       "    .dataframe tbody tr th {\n",
       "        vertical-align: top;\n",
       "    }\n",
       "\n",
       "    .dataframe thead th {\n",
       "        text-align: right;\n",
       "    }\n",
       "</style>\n",
       "<table border=\"1\" class=\"dataframe\">\n",
       "  <thead>\n",
       "    <tr style=\"text-align: right;\">\n",
       "      <th></th>\n",
       "      <th>Date</th>\n",
       "      <th>Time</th>\n",
       "      <th>Jikky</th>\n",
       "      <th>Kayis</th>\n",
       "      <th>Sinny</th>\n",
       "      <th>Criji</th>\n",
       "      <th>Johnan</th>\n",
       "      <th>Mode of class</th>\n",
       "      <th>Month</th>\n",
       "      <th>year</th>\n",
       "      <th>Day</th>\n",
       "      <th>Salary_1_jikky</th>\n",
       "      <th>Salary_1_Kayis</th>\n",
       "      <th>Salary_1_Sinny</th>\n",
       "      <th>Salary__Criji</th>\n",
       "      <th>Salary_1_Johnan</th>\n",
       "      <th>Salary_2_jikky</th>\n",
       "      <th>Salary_2_Kayis</th>\n",
       "    </tr>\n",
       "  </thead>\n",
       "  <tbody>\n",
       "    <tr>\n",
       "      <th>0</th>\n",
       "      <td>2022-04-11</td>\n",
       "      <td>9:30 am- 10:30 am</td>\n",
       "      <td>1.0</td>\n",
       "      <td>1.0</td>\n",
       "      <td>0.0</td>\n",
       "      <td>0.0</td>\n",
       "      <td>0.0</td>\n",
       "      <td>Online</td>\n",
       "      <td>4</td>\n",
       "      <td>2022</td>\n",
       "      <td>11</td>\n",
       "      <td>100.0</td>\n",
       "      <td>100.0</td>\n",
       "      <td>0.0</td>\n",
       "      <td>0.0</td>\n",
       "      <td>0.0</td>\n",
       "      <td>150.0</td>\n",
       "      <td>100.0</td>\n",
       "    </tr>\n",
       "    <tr>\n",
       "      <th>1</th>\n",
       "      <td>2022-04-11</td>\n",
       "      <td>10:30 am- 11:30 am</td>\n",
       "      <td>1.0</td>\n",
       "      <td>1.0</td>\n",
       "      <td>0.0</td>\n",
       "      <td>0.0</td>\n",
       "      <td>0.0</td>\n",
       "      <td>Online</td>\n",
       "      <td>4</td>\n",
       "      <td>2022</td>\n",
       "      <td>11</td>\n",
       "      <td>100.0</td>\n",
       "      <td>100.0</td>\n",
       "      <td>0.0</td>\n",
       "      <td>0.0</td>\n",
       "      <td>0.0</td>\n",
       "      <td>150.0</td>\n",
       "      <td>100.0</td>\n",
       "    </tr>\n",
       "  </tbody>\n",
       "</table>\n",
       "</div>"
      ],
      "text/plain": [
       "        Date                Time  Jikky  Kayis  Sinny  Criji  Johnan  \\\n",
       "0 2022-04-11   9:30 am- 10:30 am    1.0    1.0    0.0    0.0     0.0   \n",
       "1 2022-04-11  10:30 am- 11:30 am    1.0    1.0    0.0    0.0     0.0   \n",
       "\n",
       "  Mode of class  Month  year  Day  Salary_1_jikky  Salary_1_Kayis  \\\n",
       "0        Online      4  2022   11           100.0           100.0   \n",
       "1        Online      4  2022   11           100.0           100.0   \n",
       "\n",
       "   Salary_1_Sinny  Salary__Criji  Salary_1_Johnan  Salary_2_jikky  \\\n",
       "0             0.0            0.0              0.0           150.0   \n",
       "1             0.0            0.0              0.0           150.0   \n",
       "\n",
       "   Salary_2_Kayis  \n",
       "0           100.0  \n",
       "1           100.0  "
      ]
     },
     "execution_count": 85,
     "metadata": {},
     "output_type": "execute_result"
    }
   ],
   "source": [
    "SD['Salary_2_Kayis']=(SD['Kayis']*100)\n",
    "SD.head(2)"
   ]
  },
  {
   "cell_type": "code",
   "execution_count": 89,
   "id": "349e6290",
   "metadata": {},
   "outputs": [
    {
     "data": {
      "text/html": [
       "<div>\n",
       "<style scoped>\n",
       "    .dataframe tbody tr th:only-of-type {\n",
       "        vertical-align: middle;\n",
       "    }\n",
       "\n",
       "    .dataframe tbody tr th {\n",
       "        vertical-align: top;\n",
       "    }\n",
       "\n",
       "    .dataframe thead th {\n",
       "        text-align: right;\n",
       "    }\n",
       "</style>\n",
       "<table border=\"1\" class=\"dataframe\">\n",
       "  <thead>\n",
       "    <tr style=\"text-align: right;\">\n",
       "      <th></th>\n",
       "      <th>Date</th>\n",
       "      <th>Time</th>\n",
       "      <th>Jikky</th>\n",
       "      <th>Kayis</th>\n",
       "      <th>Sinny</th>\n",
       "      <th>Criji</th>\n",
       "      <th>Johnan</th>\n",
       "      <th>Mode of class</th>\n",
       "      <th>Month</th>\n",
       "      <th>year</th>\n",
       "      <th>Day</th>\n",
       "      <th>Salary_1_jikky</th>\n",
       "      <th>Salary_1_Kayis</th>\n",
       "      <th>Salary_1_Sinny</th>\n",
       "      <th>Salary__Criji</th>\n",
       "      <th>Salary_1_Johnan</th>\n",
       "      <th>Salary_2_jikky</th>\n",
       "      <th>Salary_2_Kayis</th>\n",
       "      <th>Salary_2_Sinny</th>\n",
       "    </tr>\n",
       "  </thead>\n",
       "  <tbody>\n",
       "    <tr>\n",
       "      <th>0</th>\n",
       "      <td>2022-04-11</td>\n",
       "      <td>9:30 am- 10:30 am</td>\n",
       "      <td>1.0</td>\n",
       "      <td>1.0</td>\n",
       "      <td>0.0</td>\n",
       "      <td>0.0</td>\n",
       "      <td>0.0</td>\n",
       "      <td>Online</td>\n",
       "      <td>4</td>\n",
       "      <td>2022</td>\n",
       "      <td>11</td>\n",
       "      <td>100.0</td>\n",
       "      <td>100.0</td>\n",
       "      <td>0.0</td>\n",
       "      <td>0.0</td>\n",
       "      <td>0.0</td>\n",
       "      <td>150.0</td>\n",
       "      <td>100.0</td>\n",
       "      <td>0.0</td>\n",
       "    </tr>\n",
       "    <tr>\n",
       "      <th>1</th>\n",
       "      <td>2022-04-11</td>\n",
       "      <td>10:30 am- 11:30 am</td>\n",
       "      <td>1.0</td>\n",
       "      <td>1.0</td>\n",
       "      <td>0.0</td>\n",
       "      <td>0.0</td>\n",
       "      <td>0.0</td>\n",
       "      <td>Online</td>\n",
       "      <td>4</td>\n",
       "      <td>2022</td>\n",
       "      <td>11</td>\n",
       "      <td>100.0</td>\n",
       "      <td>100.0</td>\n",
       "      <td>0.0</td>\n",
       "      <td>0.0</td>\n",
       "      <td>0.0</td>\n",
       "      <td>150.0</td>\n",
       "      <td>100.0</td>\n",
       "      <td>0.0</td>\n",
       "    </tr>\n",
       "  </tbody>\n",
       "</table>\n",
       "</div>"
      ],
      "text/plain": [
       "        Date                Time  Jikky  Kayis  Sinny  Criji  Johnan  \\\n",
       "0 2022-04-11   9:30 am- 10:30 am    1.0    1.0    0.0    0.0     0.0   \n",
       "1 2022-04-11  10:30 am- 11:30 am    1.0    1.0    0.0    0.0     0.0   \n",
       "\n",
       "  Mode of class  Month  year  Day  Salary_1_jikky  Salary_1_Kayis  \\\n",
       "0        Online      4  2022   11           100.0           100.0   \n",
       "1        Online      4  2022   11           100.0           100.0   \n",
       "\n",
       "   Salary_1_Sinny  Salary__Criji  Salary_1_Johnan  Salary_2_jikky  \\\n",
       "0             0.0            0.0              0.0           150.0   \n",
       "1             0.0            0.0              0.0           150.0   \n",
       "\n",
       "   Salary_2_Kayis  Salary_2_Sinny  \n",
       "0           100.0             0.0  \n",
       "1           100.0             0.0  "
      ]
     },
     "execution_count": 89,
     "metadata": {},
     "output_type": "execute_result"
    }
   ],
   "source": [
    "SD['Salary_2_Sinny']=(SD['Sinny']*100)\n",
    "SD.head(2)"
   ]
  },
  {
   "cell_type": "code",
   "execution_count": 90,
   "id": "60467d2e",
   "metadata": {},
   "outputs": [
    {
     "data": {
      "text/html": [
       "<div>\n",
       "<style scoped>\n",
       "    .dataframe tbody tr th:only-of-type {\n",
       "        vertical-align: middle;\n",
       "    }\n",
       "\n",
       "    .dataframe tbody tr th {\n",
       "        vertical-align: top;\n",
       "    }\n",
       "\n",
       "    .dataframe thead th {\n",
       "        text-align: right;\n",
       "    }\n",
       "</style>\n",
       "<table border=\"1\" class=\"dataframe\">\n",
       "  <thead>\n",
       "    <tr style=\"text-align: right;\">\n",
       "      <th></th>\n",
       "      <th>Date</th>\n",
       "      <th>Time</th>\n",
       "      <th>Jikky</th>\n",
       "      <th>Kayis</th>\n",
       "      <th>Sinny</th>\n",
       "      <th>Criji</th>\n",
       "      <th>Johnan</th>\n",
       "      <th>Mode of class</th>\n",
       "      <th>Month</th>\n",
       "      <th>year</th>\n",
       "      <th>Day</th>\n",
       "      <th>Salary_1_jikky</th>\n",
       "      <th>Salary_1_Kayis</th>\n",
       "      <th>Salary_1_Sinny</th>\n",
       "      <th>Salary__Criji</th>\n",
       "      <th>Salary_1_Johnan</th>\n",
       "      <th>Salary_2_jikky</th>\n",
       "      <th>Salary_2_Kayis</th>\n",
       "      <th>Salary_2_Sinny</th>\n",
       "      <th>Salary_2_Criji</th>\n",
       "    </tr>\n",
       "  </thead>\n",
       "  <tbody>\n",
       "    <tr>\n",
       "      <th>0</th>\n",
       "      <td>2022-04-11</td>\n",
       "      <td>9:30 am- 10:30 am</td>\n",
       "      <td>1.0</td>\n",
       "      <td>1.0</td>\n",
       "      <td>0.0</td>\n",
       "      <td>0.0</td>\n",
       "      <td>0.0</td>\n",
       "      <td>Online</td>\n",
       "      <td>4</td>\n",
       "      <td>2022</td>\n",
       "      <td>11</td>\n",
       "      <td>100.0</td>\n",
       "      <td>100.0</td>\n",
       "      <td>0.0</td>\n",
       "      <td>0.0</td>\n",
       "      <td>0.0</td>\n",
       "      <td>150.0</td>\n",
       "      <td>100.0</td>\n",
       "      <td>0.0</td>\n",
       "      <td>0.0</td>\n",
       "    </tr>\n",
       "    <tr>\n",
       "      <th>1</th>\n",
       "      <td>2022-04-11</td>\n",
       "      <td>10:30 am- 11:30 am</td>\n",
       "      <td>1.0</td>\n",
       "      <td>1.0</td>\n",
       "      <td>0.0</td>\n",
       "      <td>0.0</td>\n",
       "      <td>0.0</td>\n",
       "      <td>Online</td>\n",
       "      <td>4</td>\n",
       "      <td>2022</td>\n",
       "      <td>11</td>\n",
       "      <td>100.0</td>\n",
       "      <td>100.0</td>\n",
       "      <td>0.0</td>\n",
       "      <td>0.0</td>\n",
       "      <td>0.0</td>\n",
       "      <td>150.0</td>\n",
       "      <td>100.0</td>\n",
       "      <td>0.0</td>\n",
       "      <td>0.0</td>\n",
       "    </tr>\n",
       "  </tbody>\n",
       "</table>\n",
       "</div>"
      ],
      "text/plain": [
       "        Date                Time  Jikky  Kayis  Sinny  Criji  Johnan  \\\n",
       "0 2022-04-11   9:30 am- 10:30 am    1.0    1.0    0.0    0.0     0.0   \n",
       "1 2022-04-11  10:30 am- 11:30 am    1.0    1.0    0.0    0.0     0.0   \n",
       "\n",
       "  Mode of class  Month  year  Day  Salary_1_jikky  Salary_1_Kayis  \\\n",
       "0        Online      4  2022   11           100.0           100.0   \n",
       "1        Online      4  2022   11           100.0           100.0   \n",
       "\n",
       "   Salary_1_Sinny  Salary__Criji  Salary_1_Johnan  Salary_2_jikky  \\\n",
       "0             0.0            0.0              0.0           150.0   \n",
       "1             0.0            0.0              0.0           150.0   \n",
       "\n",
       "   Salary_2_Kayis  Salary_2_Sinny  Salary_2_Criji  \n",
       "0           100.0             0.0             0.0  \n",
       "1           100.0             0.0             0.0  "
      ]
     },
     "execution_count": 90,
     "metadata": {},
     "output_type": "execute_result"
    }
   ],
   "source": [
    "SD['Salary_2_Criji']=(SD['Criji']*150)\n",
    "SD.head(2)"
   ]
  },
  {
   "cell_type": "code",
   "execution_count": 91,
   "id": "547e63b7",
   "metadata": {},
   "outputs": [
    {
     "data": {
      "text/html": [
       "<div>\n",
       "<style scoped>\n",
       "    .dataframe tbody tr th:only-of-type {\n",
       "        vertical-align: middle;\n",
       "    }\n",
       "\n",
       "    .dataframe tbody tr th {\n",
       "        vertical-align: top;\n",
       "    }\n",
       "\n",
       "    .dataframe thead th {\n",
       "        text-align: right;\n",
       "    }\n",
       "</style>\n",
       "<table border=\"1\" class=\"dataframe\">\n",
       "  <thead>\n",
       "    <tr style=\"text-align: right;\">\n",
       "      <th></th>\n",
       "      <th>Date</th>\n",
       "      <th>Time</th>\n",
       "      <th>Jikky</th>\n",
       "      <th>Kayis</th>\n",
       "      <th>Sinny</th>\n",
       "      <th>Criji</th>\n",
       "      <th>Johnan</th>\n",
       "      <th>Mode of class</th>\n",
       "      <th>Month</th>\n",
       "      <th>year</th>\n",
       "      <th>...</th>\n",
       "      <th>Salary_1_jikky</th>\n",
       "      <th>Salary_1_Kayis</th>\n",
       "      <th>Salary_1_Sinny</th>\n",
       "      <th>Salary__Criji</th>\n",
       "      <th>Salary_1_Johnan</th>\n",
       "      <th>Salary_2_jikky</th>\n",
       "      <th>Salary_2_Kayis</th>\n",
       "      <th>Salary_2_Sinny</th>\n",
       "      <th>Salary_2_Criji</th>\n",
       "      <th>Salary_2_Johnan</th>\n",
       "    </tr>\n",
       "  </thead>\n",
       "  <tbody>\n",
       "    <tr>\n",
       "      <th>0</th>\n",
       "      <td>2022-04-11</td>\n",
       "      <td>9:30 am- 10:30 am</td>\n",
       "      <td>1.0</td>\n",
       "      <td>1.0</td>\n",
       "      <td>0.0</td>\n",
       "      <td>0.0</td>\n",
       "      <td>0.0</td>\n",
       "      <td>Online</td>\n",
       "      <td>4</td>\n",
       "      <td>2022</td>\n",
       "      <td>...</td>\n",
       "      <td>100.0</td>\n",
       "      <td>100.0</td>\n",
       "      <td>0.0</td>\n",
       "      <td>0.0</td>\n",
       "      <td>0.0</td>\n",
       "      <td>150.0</td>\n",
       "      <td>100.0</td>\n",
       "      <td>0.0</td>\n",
       "      <td>0.0</td>\n",
       "      <td>0.0</td>\n",
       "    </tr>\n",
       "    <tr>\n",
       "      <th>1</th>\n",
       "      <td>2022-04-11</td>\n",
       "      <td>10:30 am- 11:30 am</td>\n",
       "      <td>1.0</td>\n",
       "      <td>1.0</td>\n",
       "      <td>0.0</td>\n",
       "      <td>0.0</td>\n",
       "      <td>0.0</td>\n",
       "      <td>Online</td>\n",
       "      <td>4</td>\n",
       "      <td>2022</td>\n",
       "      <td>...</td>\n",
       "      <td>100.0</td>\n",
       "      <td>100.0</td>\n",
       "      <td>0.0</td>\n",
       "      <td>0.0</td>\n",
       "      <td>0.0</td>\n",
       "      <td>150.0</td>\n",
       "      <td>100.0</td>\n",
       "      <td>0.0</td>\n",
       "      <td>0.0</td>\n",
       "      <td>0.0</td>\n",
       "    </tr>\n",
       "  </tbody>\n",
       "</table>\n",
       "<p>2 rows × 21 columns</p>\n",
       "</div>"
      ],
      "text/plain": [
       "        Date                Time  Jikky  Kayis  Sinny  Criji  Johnan  \\\n",
       "0 2022-04-11   9:30 am- 10:30 am    1.0    1.0    0.0    0.0     0.0   \n",
       "1 2022-04-11  10:30 am- 11:30 am    1.0    1.0    0.0    0.0     0.0   \n",
       "\n",
       "  Mode of class  Month  year  ...  Salary_1_jikky  Salary_1_Kayis  \\\n",
       "0        Online      4  2022  ...           100.0           100.0   \n",
       "1        Online      4  2022  ...           100.0           100.0   \n",
       "\n",
       "   Salary_1_Sinny  Salary__Criji  Salary_1_Johnan  Salary_2_jikky  \\\n",
       "0             0.0            0.0              0.0           150.0   \n",
       "1             0.0            0.0              0.0           150.0   \n",
       "\n",
       "   Salary_2_Kayis  Salary_2_Sinny  Salary_2_Criji  Salary_2_Johnan  \n",
       "0           100.0             0.0             0.0              0.0  \n",
       "1           100.0             0.0             0.0              0.0  \n",
       "\n",
       "[2 rows x 21 columns]"
      ]
     },
     "execution_count": 91,
     "metadata": {},
     "output_type": "execute_result"
    }
   ],
   "source": [
    "SD['Salary_2_Johnan']=(SD['Johnan']*150)\n",
    "SD.head(2)"
   ]
  },
  {
   "cell_type": "markdown",
   "id": "4e5b41e9",
   "metadata": {},
   "source": [
    "#### Find by which mode of class, most of the time class has taken in month June"
   ]
  },
  {
   "cell_type": "code",
   "execution_count": 92,
   "id": "70a0abeb",
   "metadata": {},
   "outputs": [
    {
     "data": {
      "text/html": [
       "<div>\n",
       "<style scoped>\n",
       "    .dataframe tbody tr th:only-of-type {\n",
       "        vertical-align: middle;\n",
       "    }\n",
       "\n",
       "    .dataframe tbody tr th {\n",
       "        vertical-align: top;\n",
       "    }\n",
       "\n",
       "    .dataframe thead th {\n",
       "        text-align: right;\n",
       "    }\n",
       "</style>\n",
       "<table border=\"1\" class=\"dataframe\">\n",
       "  <thead>\n",
       "    <tr style=\"text-align: right;\">\n",
       "      <th>Mode of class</th>\n",
       "      <th>Online</th>\n",
       "      <th>Physical</th>\n",
       "    </tr>\n",
       "    <tr>\n",
       "      <th>Month</th>\n",
       "      <th></th>\n",
       "      <th></th>\n",
       "    </tr>\n",
       "  </thead>\n",
       "  <tbody>\n",
       "    <tr>\n",
       "      <th>4</th>\n",
       "      <td>25</td>\n",
       "      <td>0</td>\n",
       "    </tr>\n",
       "    <tr>\n",
       "      <th>5</th>\n",
       "      <td>24</td>\n",
       "      <td>5</td>\n",
       "    </tr>\n",
       "    <tr>\n",
       "      <th>6</th>\n",
       "      <td>31</td>\n",
       "      <td>6</td>\n",
       "    </tr>\n",
       "  </tbody>\n",
       "</table>\n",
       "</div>"
      ],
      "text/plain": [
       "Mode of class  Online  Physical\n",
       "Month                          \n",
       "4                  25         0\n",
       "5                  24         5\n",
       "6                  31         6"
      ]
     },
     "execution_count": 92,
     "metadata": {},
     "output_type": "execute_result"
    }
   ],
   "source": [
    "gf=pd.crosstab(SD['Month'],SD['Mode of class'])\n",
    "gf"
   ]
  },
  {
   "cell_type": "markdown",
   "id": "1bec3dd9",
   "metadata": {},
   "source": [
    "online class is mostly taken in the month June"
   ]
  },
  {
   "cell_type": "code",
   "execution_count": 94,
   "id": "2d2a92c9",
   "metadata": {},
   "outputs": [
    {
     "data": {
      "text/html": [
       "<div>\n",
       "<style scoped>\n",
       "    .dataframe tbody tr th:only-of-type {\n",
       "        vertical-align: middle;\n",
       "    }\n",
       "\n",
       "    .dataframe tbody tr th {\n",
       "        vertical-align: top;\n",
       "    }\n",
       "\n",
       "    .dataframe thead th {\n",
       "        text-align: right;\n",
       "    }\n",
       "</style>\n",
       "<table border=\"1\" class=\"dataframe\">\n",
       "  <thead>\n",
       "    <tr style=\"text-align: right;\">\n",
       "      <th>Mode of class</th>\n",
       "      <th>Online</th>\n",
       "      <th>Physical</th>\n",
       "    </tr>\n",
       "  </thead>\n",
       "  <tbody>\n",
       "    <tr>\n",
       "      <th>0</th>\n",
       "      <td>24</td>\n",
       "      <td>0</td>\n",
       "    </tr>\n",
       "    <tr>\n",
       "      <th>1</th>\n",
       "      <td>25</td>\n",
       "      <td>5</td>\n",
       "    </tr>\n",
       "    <tr>\n",
       "      <th>2</th>\n",
       "      <td>31</td>\n",
       "      <td>6</td>\n",
       "    </tr>\n",
       "  </tbody>\n",
       "</table>\n",
       "</div>"
      ],
      "text/plain": [
       "Mode of class  Online  Physical\n",
       "0                  24         0\n",
       "1                  25         5\n",
       "2                  31         6"
      ]
     },
     "execution_count": 94,
     "metadata": {},
     "output_type": "execute_result"
    }
   ],
   "source": [
    "gf.mode()"
   ]
  },
  {
   "cell_type": "code",
   "execution_count": 95,
   "id": "aa733c90",
   "metadata": {},
   "outputs": [
    {
     "data": {
      "text/plain": [
       "Index(['Date', 'Time', 'Jikky', 'Kayis', 'Sinny', 'Criji', 'Johnan',\n",
       "       'Mode of class', 'Month', 'year', 'Day', 'Salary_1_jikky',\n",
       "       'Salary_1_Kayis', 'Salary_1_Sinny', 'Salary__Criji', 'Salary_1_Johnan',\n",
       "       'Salary_2_jikky', 'Salary_2_Kayis', 'Salary_2_Sinny', 'Salary_2_Criji',\n",
       "       'Salary_2_Johnan'],\n",
       "      dtype='object')"
      ]
     },
     "execution_count": 95,
     "metadata": {},
     "output_type": "execute_result"
    }
   ],
   "source": [
    "SD.columns"
   ]
  },
  {
   "cell_type": "markdown",
   "id": "e5a55b3f",
   "metadata": {},
   "source": [
    "#### Create a dataframe using the data you got with salary of each month of each mentors"
   ]
  },
  {
   "cell_type": "code",
   "execution_count": 97,
   "id": "00c600fe",
   "metadata": {},
   "outputs": [
    {
     "data": {
      "text/plain": [
       "Salary_1_jikky     7120.0\n",
       "Salary_1_Kayis     2960.0\n",
       "Salary_1_Sinny     5450.0\n",
       "Salary__Criji      4300.0\n",
       "Salary_1_Johnan    2300.0\n",
       "dtype: float64"
      ]
     },
     "execution_count": 97,
     "metadata": {},
     "output_type": "execute_result"
    }
   ],
   "source": [
    "SD[['Salary_1_jikky', 'Salary_1_Kayis', 'Salary_1_Sinny', 'Salary__Criji', 'Salary_1_Johnan']].sum()"
   ]
  },
  {
   "cell_type": "markdown",
   "id": "08d32202",
   "metadata": {},
   "source": [
    "Jikky earned the highest salary in all months"
   ]
  },
  {
   "cell_type": "code",
   "execution_count": 98,
   "id": "a25d64b9",
   "metadata": {},
   "outputs": [
    {
     "data": {
      "text/html": [
       "<div>\n",
       "<style scoped>\n",
       "    .dataframe tbody tr th:only-of-type {\n",
       "        vertical-align: middle;\n",
       "    }\n",
       "\n",
       "    .dataframe tbody tr th {\n",
       "        vertical-align: top;\n",
       "    }\n",
       "\n",
       "    .dataframe thead th {\n",
       "        text-align: right;\n",
       "    }\n",
       "</style>\n",
       "<table border=\"1\" class=\"dataframe\">\n",
       "  <thead>\n",
       "    <tr style=\"text-align: right;\">\n",
       "      <th></th>\n",
       "      <th>Salary_1_jikky</th>\n",
       "      <th>Salary_1_Kayis</th>\n",
       "      <th>Salary_1_Sinny</th>\n",
       "      <th>Salary__Criji</th>\n",
       "      <th>Salary_1_Johnan</th>\n",
       "    </tr>\n",
       "    <tr>\n",
       "      <th>Month</th>\n",
       "      <th></th>\n",
       "      <th></th>\n",
       "      <th></th>\n",
       "      <th></th>\n",
       "      <th></th>\n",
       "    </tr>\n",
       "  </thead>\n",
       "  <tbody>\n",
       "    <tr>\n",
       "      <th>4</th>\n",
       "      <td>1150.0</td>\n",
       "      <td>1450.0</td>\n",
       "      <td>950.0</td>\n",
       "      <td>100.0</td>\n",
       "      <td>0.0</td>\n",
       "    </tr>\n",
       "    <tr>\n",
       "      <th>5</th>\n",
       "      <td>2270.0</td>\n",
       "      <td>1510.0</td>\n",
       "      <td>2200.0</td>\n",
       "      <td>2100.0</td>\n",
       "      <td>2300.0</td>\n",
       "    </tr>\n",
       "    <tr>\n",
       "      <th>6</th>\n",
       "      <td>3700.0</td>\n",
       "      <td>0.0</td>\n",
       "      <td>2300.0</td>\n",
       "      <td>2100.0</td>\n",
       "      <td>0.0</td>\n",
       "    </tr>\n",
       "  </tbody>\n",
       "</table>\n",
       "</div>"
      ],
      "text/plain": [
       "       Salary_1_jikky  Salary_1_Kayis  Salary_1_Sinny  Salary__Criji  \\\n",
       "Month                                                                  \n",
       "4              1150.0          1450.0           950.0          100.0   \n",
       "5              2270.0          1510.0          2200.0         2100.0   \n",
       "6              3700.0             0.0          2300.0         2100.0   \n",
       "\n",
       "       Salary_1_Johnan  \n",
       "Month                   \n",
       "4                  0.0  \n",
       "5               2300.0  \n",
       "6                  0.0  "
      ]
     },
     "execution_count": 98,
     "metadata": {},
     "output_type": "execute_result"
    }
   ],
   "source": [
    "Salary1=SD.groupby('Month')[['Salary_1_jikky', 'Salary_1_Kayis', 'Salary_1_Sinny', 'Salary__Criji', 'Salary_1_Johnan']].sum()\n",
    "Salary1"
   ]
  },
  {
   "cell_type": "markdown",
   "id": "bf271f36",
   "metadata": {},
   "source": [
    "if per hour they get 100 means;\n",
    "\n",
    "Kayis earned the most salary in April\n",
    "\n",
    "Johnan earned a higher salary in May\n",
    "\n",
    "Jikky earned the most salary in June"
   ]
  },
  {
   "cell_type": "code",
   "execution_count": 99,
   "id": "80645b48",
   "metadata": {},
   "outputs": [
    {
     "data": {
      "text/plain": [
       "Salary_2_jikky     10680.0\n",
       "Salary_2_Kayis      2960.0\n",
       "Salary_2_Sinny      5450.0\n",
       "Salary_2_Criji      6450.0\n",
       "Salary_2_Johnan     3450.0\n",
       "dtype: float64"
      ]
     },
     "execution_count": 99,
     "metadata": {},
     "output_type": "execute_result"
    }
   ],
   "source": [
    "#if they get 150 rs in per hour\n",
    "\n",
    "SD[['Salary_2_jikky', 'Salary_2_Kayis', 'Salary_2_Sinny', 'Salary_2_Criji', 'Salary_2_Johnan']].sum()"
   ]
  },
  {
   "cell_type": "code",
   "execution_count": 101,
   "id": "5c7152ef",
   "metadata": {},
   "outputs": [
    {
     "data": {
      "text/html": [
       "<div>\n",
       "<style scoped>\n",
       "    .dataframe tbody tr th:only-of-type {\n",
       "        vertical-align: middle;\n",
       "    }\n",
       "\n",
       "    .dataframe tbody tr th {\n",
       "        vertical-align: top;\n",
       "    }\n",
       "\n",
       "    .dataframe thead th {\n",
       "        text-align: right;\n",
       "    }\n",
       "</style>\n",
       "<table border=\"1\" class=\"dataframe\">\n",
       "  <thead>\n",
       "    <tr style=\"text-align: right;\">\n",
       "      <th></th>\n",
       "      <th>Salary_2_jikky</th>\n",
       "      <th>Salary_2_Kayis</th>\n",
       "      <th>Salary_2_Sinny</th>\n",
       "      <th>Salary_2_Criji</th>\n",
       "      <th>Salary_2_Johnan</th>\n",
       "    </tr>\n",
       "    <tr>\n",
       "      <th>Month</th>\n",
       "      <th></th>\n",
       "      <th></th>\n",
       "      <th></th>\n",
       "      <th></th>\n",
       "      <th></th>\n",
       "    </tr>\n",
       "  </thead>\n",
       "  <tbody>\n",
       "    <tr>\n",
       "      <th>4</th>\n",
       "      <td>1725.0</td>\n",
       "      <td>1450.0</td>\n",
       "      <td>950.0</td>\n",
       "      <td>150.0</td>\n",
       "      <td>0.0</td>\n",
       "    </tr>\n",
       "    <tr>\n",
       "      <th>5</th>\n",
       "      <td>3405.0</td>\n",
       "      <td>1510.0</td>\n",
       "      <td>2200.0</td>\n",
       "      <td>3150.0</td>\n",
       "      <td>3450.0</td>\n",
       "    </tr>\n",
       "    <tr>\n",
       "      <th>6</th>\n",
       "      <td>5550.0</td>\n",
       "      <td>0.0</td>\n",
       "      <td>2300.0</td>\n",
       "      <td>3150.0</td>\n",
       "      <td>0.0</td>\n",
       "    </tr>\n",
       "  </tbody>\n",
       "</table>\n",
       "</div>"
      ],
      "text/plain": [
       "       Salary_2_jikky  Salary_2_Kayis  Salary_2_Sinny  Salary_2_Criji  \\\n",
       "Month                                                                   \n",
       "4              1725.0          1450.0           950.0           150.0   \n",
       "5              3405.0          1510.0          2200.0          3150.0   \n",
       "6              5550.0             0.0          2300.0          3150.0   \n",
       "\n",
       "       Salary_2_Johnan  \n",
       "Month                   \n",
       "4                  0.0  \n",
       "5               3450.0  \n",
       "6                  0.0  "
      ]
     },
     "execution_count": 101,
     "metadata": {},
     "output_type": "execute_result"
    }
   ],
   "source": [
    "Salary2 = SD.groupby('Month')[['Salary_2_jikky','Salary_2_Kayis', 'Salary_2_Sinny','Salary_2_Criji', 'Salary_2_Johnan']].sum()\n",
    "Salary2"
   ]
  },
  {
   "cell_type": "markdown",
   "id": "65949d1b",
   "metadata": {},
   "source": [
    "if they earn 150 in per hour means;\n",
    "\n",
    "Kayis earned the most salary in April\n",
    "\n",
    "Johnan earned a higher salary in May\n",
    "\n",
    "Jikky earned the most salary in June"
   ]
  },
  {
   "cell_type": "markdown",
   "id": "4f2ae889",
   "metadata": {},
   "source": [
    "## Conclusion"
   ]
  },
  {
   "cell_type": "markdown",
   "id": "6b370a4f",
   "metadata": {},
   "source": [
    "91 rows and 8 columns contained in this table.\n",
    "\n",
    "Fill null is cleaned that it replaced 0 from nan\n",
    "\n",
    "The date split into month, day and year as they added in each column.\n",
    "\n",
    "Jikky took more class at the total of 71.2\n",
    "\n",
    "The mentors have taken online class than physical.\n",
    "\n",
    "Jikky mostly took the online class\n",
    "\n",
    "Sinny mostly took the physical class\n",
    "\n",
    "Kayis has took more hours of working in April, Kayis earned the most salary in April\n",
    "\n",
    "Johnan has took more hours of working in May, Johnan earned a higher salary in May\n",
    "\n",
    "Jikky has mostly took more hours of working in June, Jikky earned the most salary in June\n",
    "\n",
    "Jikky is working more time.\n",
    "\n",
    "More physical classes had taken in June.\n",
    "\n",
    "The mentors mostly took the class from 9.30am to 10.30am in April\n",
    "\n",
    "The mentors mostly took the class from 9.30am to 11.30am in May.\n",
    "\n",
    "The mentors mostly took the class from 2.30pm to 4.30pm in June"
   ]
  },
  {
   "cell_type": "code",
   "execution_count": null,
   "id": "3c5ef640",
   "metadata": {},
   "outputs": [],
   "source": []
  }
 ],
 "metadata": {
  "kernelspec": {
   "display_name": "Python 3 (ipykernel)",
   "language": "python",
   "name": "python3"
  },
  "language_info": {
   "codemirror_mode": {
    "name": "ipython",
    "version": 3
   },
   "file_extension": ".py",
   "mimetype": "text/x-python",
   "name": "python",
   "nbconvert_exporter": "python",
   "pygments_lexer": "ipython3",
   "version": "3.10.9"
  }
 },
 "nbformat": 4,
 "nbformat_minor": 5
}
