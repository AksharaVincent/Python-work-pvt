{
 "cells": [
  {
   "cell_type": "markdown",
   "id": "020c523a",
   "metadata": {},
   "source": [
    "# Python Keywords"
   ]
  },
  {
   "cell_type": "markdown",
   "id": "81f26fcf",
   "metadata": {},
   "source": [
    "Python Keywords"
   ]
  },
  {
   "cell_type": "code",
   "execution_count": 1,
   "id": "36e4dbc6",
   "metadata": {},
   "outputs": [
    {
     "data": {
      "text/plain": [
       "['False',\n",
       " 'None',\n",
       " 'True',\n",
       " 'and',\n",
       " 'as',\n",
       " 'assert',\n",
       " 'async',\n",
       " 'await',\n",
       " 'break',\n",
       " 'class',\n",
       " 'continue',\n",
       " 'def',\n",
       " 'del',\n",
       " 'elif',\n",
       " 'else',\n",
       " 'except',\n",
       " 'finally',\n",
       " 'for',\n",
       " 'from',\n",
       " 'global',\n",
       " 'if',\n",
       " 'import',\n",
       " 'in',\n",
       " 'is',\n",
       " 'lambda',\n",
       " 'nonlocal',\n",
       " 'not',\n",
       " 'or',\n",
       " 'pass',\n",
       " 'raise',\n",
       " 'return',\n",
       " 'try',\n",
       " 'while',\n",
       " 'with',\n",
       " 'yield']"
      ]
     },
     "execution_count": 1,
     "metadata": {},
     "output_type": "execute_result"
    }
   ],
   "source": [
    "#this will get you list of all keywords in python.\n",
    "import keyword\n",
    "keyword.kwlist"
   ]
  },
  {
   "cell_type": "code",
   "execution_count": 3,
   "id": "5a87f79c",
   "metadata": {},
   "outputs": [
    {
     "data": {
      "text/plain": [
       "True"
      ]
     },
     "execution_count": 3,
     "metadata": {},
     "output_type": "execute_result"
    }
   ],
   "source": [
    "#this will return true, if the mentioned name is a keyword.\n",
    "keyword.iskeyword('try')\n"
   ]
  },
  {
   "cell_type": "code",
   "execution_count": 4,
   "id": "b1485b48",
   "metadata": {},
   "outputs": [
    {
     "data": {
      "text/plain": [
       "False"
      ]
     },
     "execution_count": 4,
     "metadata": {},
     "output_type": "execute_result"
    }
   ],
   "source": [
    "keyword.iskeyword('loop')"
   ]
  },
  {
   "cell_type": "markdown",
   "id": "06fee3fb",
   "metadata": {},
   "source": [
    "# Popular Python Libraries"
   ]
  },
  {
   "cell_type": "markdown",
   "id": "5de501c6",
   "metadata": {},
   "source": [
    "Numpy:for high level mathematical functions\n",
    "\n",
    "Pandas:used for Data Analysis & Manipulation\n",
    "\n",
    "Matplotlib: plotting in python\n"
   ]
  },
  {
   "cell_type": "markdown",
   "id": "8f6d8771",
   "metadata": {},
   "source": [
    "# Python Comments"
   ]
  },
  {
   "cell_type": "code",
   "execution_count": null,
   "id": "7e1fd736",
   "metadata": {},
   "outputs": [],
   "source": [
    "#a single line comment\n",
    "#a multi line comment\n",
    "\"\"\"Haii all it's me Chiisty Johns from EzyMentor\"\"\""
   ]
  },
  {
   "cell_type": "code",
   "execution_count": 5,
   "id": "0b24138f",
   "metadata": {},
   "outputs": [
    {
     "data": {
      "text/plain": [
       "\"Yes I'm fine...\""
      ]
     },
     "execution_count": 5,
     "metadata": {},
     "output_type": "execute_result"
    }
   ],
   "source": [
    "#How are you?\n",
    "#\n",
    "\"Yes I'm fine...\""
   ]
  }
 ],
 "metadata": {
  "kernelspec": {
   "display_name": "Python 3 (ipykernel)",
   "language": "python",
   "name": "python3"
  },
  "language_info": {
   "codemirror_mode": {
    "name": "ipython",
    "version": 3
   },
   "file_extension": ".py",
   "mimetype": "text/x-python",
   "name": "python",
   "nbconvert_exporter": "python",
   "pygments_lexer": "ipython3",
   "version": "3.10.9"
  }
 },
 "nbformat": 4,
 "nbformat_minor": 5
}
