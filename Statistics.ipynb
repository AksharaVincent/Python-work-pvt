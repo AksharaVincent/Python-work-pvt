{
 "cells": [
  {
   "cell_type": "markdown",
   "id": "326e9c2c",
   "metadata": {},
   "source": [
    "# Statistics"
   ]
  },
  {
   "cell_type": "markdown",
   "id": "17c15b69",
   "metadata": {},
   "source": [
    "2 types,descriptive and inferential statistics"
   ]
  },
  {
   "cell_type": "code",
   "execution_count": 1,
   "id": "80df4622",
   "metadata": {},
   "outputs": [],
   "source": [
    "# Descriptive Statistics\n",
    "#In measure of central tendency\n",
    "#mean, #median, #mode"
   ]
  },
  {
   "cell_type": "markdown",
   "id": "c259587f",
   "metadata": {},
   "source": [
    "# Measure of central tendency"
   ]
  },
  {
   "cell_type": "code",
   "execution_count": 2,
   "id": "f5e05368",
   "metadata": {},
   "outputs": [
    {
     "data": {
      "text/plain": [
       "4.2"
      ]
     },
     "execution_count": 2,
     "metadata": {},
     "output_type": "execute_result"
    }
   ],
   "source": [
    "#mean\n",
    "\n",
    "import numpy as np\n",
    "X=[1,2,3,1,2,3,4,5,2,6,7,5,4,8,10]\n",
    "\n",
    "#using numpy\n",
    "np.mean(X)"
   ]
  },
  {
   "cell_type": "code",
   "execution_count": 3,
   "id": "3f20a743",
   "metadata": {},
   "outputs": [
    {
     "name": "stdout",
     "output_type": "stream",
     "text": [
      "mean: 4.2\n"
     ]
    }
   ],
   "source": [
    "print(\"mean:\",np.mean(X))"
   ]
  },
  {
   "cell_type": "code",
   "execution_count": 4,
   "id": "041af0c0",
   "metadata": {},
   "outputs": [
    {
     "data": {
      "text/html": [
       "<div>\n",
       "<style scoped>\n",
       "    .dataframe tbody tr th:only-of-type {\n",
       "        vertical-align: middle;\n",
       "    }\n",
       "\n",
       "    .dataframe tbody tr th {\n",
       "        vertical-align: top;\n",
       "    }\n",
       "\n",
       "    .dataframe thead th {\n",
       "        text-align: right;\n",
       "    }\n",
       "</style>\n",
       "<table border=\"1\" class=\"dataframe\">\n",
       "  <thead>\n",
       "    <tr style=\"text-align: right;\">\n",
       "      <th></th>\n",
       "      <th>value</th>\n",
       "    </tr>\n",
       "  </thead>\n",
       "  <tbody>\n",
       "    <tr>\n",
       "      <th>0</th>\n",
       "      <td>1</td>\n",
       "    </tr>\n",
       "    <tr>\n",
       "      <th>1</th>\n",
       "      <td>2</td>\n",
       "    </tr>\n",
       "    <tr>\n",
       "      <th>2</th>\n",
       "      <td>3</td>\n",
       "    </tr>\n",
       "    <tr>\n",
       "      <th>3</th>\n",
       "      <td>1</td>\n",
       "    </tr>\n",
       "    <tr>\n",
       "      <th>4</th>\n",
       "      <td>2</td>\n",
       "    </tr>\n",
       "    <tr>\n",
       "      <th>5</th>\n",
       "      <td>3</td>\n",
       "    </tr>\n",
       "    <tr>\n",
       "      <th>6</th>\n",
       "      <td>4</td>\n",
       "    </tr>\n",
       "    <tr>\n",
       "      <th>7</th>\n",
       "      <td>5</td>\n",
       "    </tr>\n",
       "    <tr>\n",
       "      <th>8</th>\n",
       "      <td>2</td>\n",
       "    </tr>\n",
       "    <tr>\n",
       "      <th>9</th>\n",
       "      <td>6</td>\n",
       "    </tr>\n",
       "    <tr>\n",
       "      <th>10</th>\n",
       "      <td>7</td>\n",
       "    </tr>\n",
       "    <tr>\n",
       "      <th>11</th>\n",
       "      <td>5</td>\n",
       "    </tr>\n",
       "    <tr>\n",
       "      <th>12</th>\n",
       "      <td>4</td>\n",
       "    </tr>\n",
       "    <tr>\n",
       "      <th>13</th>\n",
       "      <td>8</td>\n",
       "    </tr>\n",
       "    <tr>\n",
       "      <th>14</th>\n",
       "      <td>10</td>\n",
       "    </tr>\n",
       "  </tbody>\n",
       "</table>\n",
       "</div>"
      ],
      "text/plain": [
       "    value\n",
       "0       1\n",
       "1       2\n",
       "2       3\n",
       "3       1\n",
       "4       2\n",
       "5       3\n",
       "6       4\n",
       "7       5\n",
       "8       2\n",
       "9       6\n",
       "10      7\n",
       "11      5\n",
       "12      4\n",
       "13      8\n",
       "14     10"
      ]
     },
     "execution_count": 4,
     "metadata": {},
     "output_type": "execute_result"
    }
   ],
   "source": [
    "#created the list into a table format\n",
    "import pandas as pd\n",
    "z=pd.DataFrame(data={'value':[1,2,3,1,2,3,4,5,2,6,7,5,4,8,10]})\n",
    "z"
   ]
  },
  {
   "cell_type": "code",
   "execution_count": 5,
   "id": "4cc79e8a",
   "metadata": {},
   "outputs": [
    {
     "data": {
      "text/plain": [
       "value    4.2\n",
       "dtype: float64"
      ]
     },
     "execution_count": 5,
     "metadata": {},
     "output_type": "execute_result"
    }
   ],
   "source": [
    "#mean using pandas\n",
    "z.mean()"
   ]
  },
  {
   "cell_type": "code",
   "execution_count": 6,
   "id": "09d572c9",
   "metadata": {},
   "outputs": [
    {
     "data": {
      "text/html": [
       "<div>\n",
       "<style scoped>\n",
       "    .dataframe tbody tr th:only-of-type {\n",
       "        vertical-align: middle;\n",
       "    }\n",
       "\n",
       "    .dataframe tbody tr th {\n",
       "        vertical-align: top;\n",
       "    }\n",
       "\n",
       "    .dataframe thead th {\n",
       "        text-align: right;\n",
       "    }\n",
       "</style>\n",
       "<table border=\"1\" class=\"dataframe\">\n",
       "  <thead>\n",
       "    <tr style=\"text-align: right;\">\n",
       "      <th></th>\n",
       "      <th>value</th>\n",
       "    </tr>\n",
       "  </thead>\n",
       "  <tbody>\n",
       "    <tr>\n",
       "      <th>count</th>\n",
       "      <td>15.000000</td>\n",
       "    </tr>\n",
       "    <tr>\n",
       "      <th>mean</th>\n",
       "      <td>4.200000</td>\n",
       "    </tr>\n",
       "    <tr>\n",
       "      <th>std</th>\n",
       "      <td>2.651145</td>\n",
       "    </tr>\n",
       "    <tr>\n",
       "      <th>min</th>\n",
       "      <td>1.000000</td>\n",
       "    </tr>\n",
       "    <tr>\n",
       "      <th>25%</th>\n",
       "      <td>2.000000</td>\n",
       "    </tr>\n",
       "    <tr>\n",
       "      <th>50%</th>\n",
       "      <td>4.000000</td>\n",
       "    </tr>\n",
       "    <tr>\n",
       "      <th>75%</th>\n",
       "      <td>5.500000</td>\n",
       "    </tr>\n",
       "    <tr>\n",
       "      <th>max</th>\n",
       "      <td>10.000000</td>\n",
       "    </tr>\n",
       "  </tbody>\n",
       "</table>\n",
       "</div>"
      ],
      "text/plain": [
       "           value\n",
       "count  15.000000\n",
       "mean    4.200000\n",
       "std     2.651145\n",
       "min     1.000000\n",
       "25%     2.000000\n",
       "50%     4.000000\n",
       "75%     5.500000\n",
       "max    10.000000"
      ]
     },
     "execution_count": 6,
     "metadata": {},
     "output_type": "execute_result"
    }
   ],
   "source": [
    "z.describe()"
   ]
  },
  {
   "cell_type": "code",
   "execution_count": 7,
   "id": "909a9d63",
   "metadata": {},
   "outputs": [
    {
     "data": {
      "text/plain": [
       "4.0"
      ]
     },
     "execution_count": 7,
     "metadata": {},
     "output_type": "execute_result"
    }
   ],
   "source": [
    "#median\n",
    "X=[1,2,3,1,2,3,4,5,2,6,7,5,4,8,10]\n",
    "\n",
    "#using numpy\n",
    "np.median(X)"
   ]
  },
  {
   "cell_type": "code",
   "execution_count": 8,
   "id": "28df94db",
   "metadata": {},
   "outputs": [
    {
     "name": "stdout",
     "output_type": "stream",
     "text": [
      "median: 4.0\n"
     ]
    }
   ],
   "source": [
    "print(\"median:\",np.median(X))"
   ]
  },
  {
   "cell_type": "code",
   "execution_count": 9,
   "id": "3a0a78fe",
   "metadata": {},
   "outputs": [
    {
     "data": {
      "text/plain": [
       "value    4.0\n",
       "dtype: float64"
      ]
     },
     "execution_count": 9,
     "metadata": {},
     "output_type": "execute_result"
    }
   ],
   "source": [
    "#using pandas\n",
    "z.median()"
   ]
  },
  {
   "cell_type": "code",
   "execution_count": 10,
   "id": "5b13c108",
   "metadata": {},
   "outputs": [
    {
     "data": {
      "text/html": [
       "<div>\n",
       "<style scoped>\n",
       "    .dataframe tbody tr th:only-of-type {\n",
       "        vertical-align: middle;\n",
       "    }\n",
       "\n",
       "    .dataframe tbody tr th {\n",
       "        vertical-align: top;\n",
       "    }\n",
       "\n",
       "    .dataframe thead th {\n",
       "        text-align: right;\n",
       "    }\n",
       "</style>\n",
       "<table border=\"1\" class=\"dataframe\">\n",
       "  <thead>\n",
       "    <tr style=\"text-align: right;\">\n",
       "      <th></th>\n",
       "      <th>value</th>\n",
       "    </tr>\n",
       "  </thead>\n",
       "  <tbody>\n",
       "    <tr>\n",
       "      <th>count</th>\n",
       "      <td>15.000000</td>\n",
       "    </tr>\n",
       "    <tr>\n",
       "      <th>mean</th>\n",
       "      <td>4.200000</td>\n",
       "    </tr>\n",
       "    <tr>\n",
       "      <th>std</th>\n",
       "      <td>2.651145</td>\n",
       "    </tr>\n",
       "    <tr>\n",
       "      <th>min</th>\n",
       "      <td>1.000000</td>\n",
       "    </tr>\n",
       "    <tr>\n",
       "      <th>25%</th>\n",
       "      <td>2.000000</td>\n",
       "    </tr>\n",
       "    <tr>\n",
       "      <th>50%</th>\n",
       "      <td>4.000000</td>\n",
       "    </tr>\n",
       "    <tr>\n",
       "      <th>75%</th>\n",
       "      <td>5.500000</td>\n",
       "    </tr>\n",
       "    <tr>\n",
       "      <th>max</th>\n",
       "      <td>10.000000</td>\n",
       "    </tr>\n",
       "  </tbody>\n",
       "</table>\n",
       "</div>"
      ],
      "text/plain": [
       "           value\n",
       "count  15.000000\n",
       "mean    4.200000\n",
       "std     2.651145\n",
       "min     1.000000\n",
       "25%     2.000000\n",
       "50%     4.000000\n",
       "75%     5.500000\n",
       "max    10.000000"
      ]
     },
     "execution_count": 10,
     "metadata": {},
     "output_type": "execute_result"
    }
   ],
   "source": [
    "z.describe()"
   ]
  },
  {
   "cell_type": "code",
   "execution_count": null,
   "id": "cd0d9998",
   "metadata": {},
   "outputs": [],
   "source": [
    "#mode\n",
    "#numpy does not has an attribute mode"
   ]
  },
  {
   "cell_type": "code",
   "execution_count": 11,
   "id": "8c19b361",
   "metadata": {},
   "outputs": [
    {
     "data": {
      "text/html": [
       "<div>\n",
       "<style scoped>\n",
       "    .dataframe tbody tr th:only-of-type {\n",
       "        vertical-align: middle;\n",
       "    }\n",
       "\n",
       "    .dataframe tbody tr th {\n",
       "        vertical-align: top;\n",
       "    }\n",
       "\n",
       "    .dataframe thead th {\n",
       "        text-align: right;\n",
       "    }\n",
       "</style>\n",
       "<table border=\"1\" class=\"dataframe\">\n",
       "  <thead>\n",
       "    <tr style=\"text-align: right;\">\n",
       "      <th></th>\n",
       "      <th>value</th>\n",
       "    </tr>\n",
       "  </thead>\n",
       "  <tbody>\n",
       "    <tr>\n",
       "      <th>0</th>\n",
       "      <td>2</td>\n",
       "    </tr>\n",
       "  </tbody>\n",
       "</table>\n",
       "</div>"
      ],
      "text/plain": [
       "   value\n",
       "0      2"
      ]
     },
     "execution_count": 11,
     "metadata": {},
     "output_type": "execute_result"
    }
   ],
   "source": [
    "#using pandas\n",
    "z.mode()"
   ]
  },
  {
   "cell_type": "code",
   "execution_count": null,
   "id": "613a673d",
   "metadata": {},
   "outputs": [],
   "source": [
    "#descriptive statistics\n",
    "#measure of dispersion\n",
    "#variance and std deviation"
   ]
  },
  {
   "cell_type": "markdown",
   "id": "261b8a31",
   "metadata": {},
   "source": [
    "# Measure of Dispersion"
   ]
  },
  {
   "cell_type": "code",
   "execution_count": 12,
   "id": "93d8b71c",
   "metadata": {},
   "outputs": [
    {
     "data": {
      "text/plain": [
       "6.5600000000000005"
      ]
     },
     "execution_count": 12,
     "metadata": {},
     "output_type": "execute_result"
    }
   ],
   "source": [
    "#variance\n",
    "X=[1,2,3,1,2,3,4,5,2,6,7,5,4,8,10]\n",
    "\n",
    "#using numpy\n",
    "np.var(X)"
   ]
  },
  {
   "cell_type": "code",
   "execution_count": 13,
   "id": "129b516f",
   "metadata": {},
   "outputs": [
    {
     "name": "stdout",
     "output_type": "stream",
     "text": [
      "Variance: 6.5600000000000005\n"
     ]
    }
   ],
   "source": [
    "print(\"Variance:\",np.var(X))"
   ]
  },
  {
   "cell_type": "code",
   "execution_count": 14,
   "id": "f0b47a15",
   "metadata": {},
   "outputs": [
    {
     "data": {
      "text/plain": [
       "value    7.028571\n",
       "dtype: float64"
      ]
     },
     "execution_count": 14,
     "metadata": {},
     "output_type": "execute_result"
    }
   ],
   "source": [
    "#using pandas\n",
    "z.var()"
   ]
  },
  {
   "cell_type": "code",
   "execution_count": 16,
   "id": "dfe36668",
   "metadata": {},
   "outputs": [
    {
     "data": {
      "text/plain": [
       "2.5612496949731396"
      ]
     },
     "execution_count": 16,
     "metadata": {},
     "output_type": "execute_result"
    }
   ],
   "source": [
    "#standard deviation\n",
    "X=[1,2,3,1,2,3,4,5,2,6,7,5,4,8,10]\n",
    "\n",
    "#using numpy\n",
    "np.std(X)"
   ]
  },
  {
   "cell_type": "code",
   "execution_count": 17,
   "id": "d6bd8657",
   "metadata": {},
   "outputs": [
    {
     "name": "stdout",
     "output_type": "stream",
     "text": [
      "Variance: 2.5612496949731396\n"
     ]
    }
   ],
   "source": [
    "print(\"Variance:\",np.std(X))"
   ]
  },
  {
   "cell_type": "code",
   "execution_count": 18,
   "id": "67687fd6",
   "metadata": {},
   "outputs": [
    {
     "data": {
      "text/plain": [
       "value    2.651145\n",
       "dtype: float64"
      ]
     },
     "execution_count": 18,
     "metadata": {},
     "output_type": "execute_result"
    }
   ],
   "source": [
    "#using pandas\n",
    "z.std()"
   ]
  },
  {
   "cell_type": "markdown",
   "id": "fcfc1c85",
   "metadata": {},
   "source": [
    "# 5 Number Summary"
   ]
  },
  {
   "cell_type": "markdown",
   "id": "5223cae3",
   "metadata": {},
   "source": [
    "1. Minimum\n",
    "2. 1st quartile - Q1\n",
    "3. 2nd quartile - Q2 (Median)\n",
    "4. 3rd quartilr - Q3\n",
    "5. Maximum"
   ]
  },
  {
   "cell_type": "code",
   "execution_count": 19,
   "id": "33e13fb1",
   "metadata": {},
   "outputs": [
    {
     "data": {
      "text/plain": [
       "1"
      ]
     },
     "execution_count": 19,
     "metadata": {},
     "output_type": "execute_result"
    }
   ],
   "source": [
    "#Minimum\n",
    "X=[1,2,3,1,2,3,4,5,2,6,7,5,4,8,10]\n",
    "\n",
    "#using numpy\n",
    "np.min(X)"
   ]
  },
  {
   "cell_type": "code",
   "execution_count": 21,
   "id": "6f3debfd",
   "metadata": {},
   "outputs": [
    {
     "name": "stdout",
     "output_type": "stream",
     "text": [
      "Minimum: 1\n"
     ]
    }
   ],
   "source": [
    "print(\"Minimum:\",np.min(X))"
   ]
  },
  {
   "cell_type": "code",
   "execution_count": 22,
   "id": "b5822528",
   "metadata": {},
   "outputs": [
    {
     "data": {
      "text/plain": [
       "value    1\n",
       "dtype: int64"
      ]
     },
     "execution_count": 22,
     "metadata": {},
     "output_type": "execute_result"
    }
   ],
   "source": [
    "#using pandas\n",
    "z.min()"
   ]
  },
  {
   "cell_type": "code",
   "execution_count": 24,
   "id": "51b1c9ea",
   "metadata": {},
   "outputs": [
    {
     "data": {
      "text/plain": [
       "array([2. , 4. , 5.5])"
      ]
     },
     "execution_count": 24,
     "metadata": {},
     "output_type": "execute_result"
    }
   ],
   "source": [
    "#quantiles\n",
    "X=[1,2,3,1,2,3,4,5,2,6,7,5,4,8,10]\n",
    "\n",
    "#using numpy\n",
    "np.quantile(X,[0.25,0.50,0.75])"
   ]
  },
  {
   "cell_type": "code",
   "execution_count": 27,
   "id": "db498f2e",
   "metadata": {},
   "outputs": [
    {
     "name": "stdout",
     "output_type": "stream",
     "text": [
      "Q1 : 2.0 Q2:  4.0 Q3:  5.5\n"
     ]
    }
   ],
   "source": [
    "print(\"Q1 :\",np.quantile(X,0.25),\n",
    "      \"Q2: \",np.quantile(X,0.50),\n",
    "      \"Q3: \",np.quantile(X,0.75))"
   ]
  },
  {
   "cell_type": "code",
   "execution_count": 28,
   "id": "a8221601",
   "metadata": {},
   "outputs": [
    {
     "data": {
      "text/html": [
       "<div>\n",
       "<style scoped>\n",
       "    .dataframe tbody tr th:only-of-type {\n",
       "        vertical-align: middle;\n",
       "    }\n",
       "\n",
       "    .dataframe tbody tr th {\n",
       "        vertical-align: top;\n",
       "    }\n",
       "\n",
       "    .dataframe thead th {\n",
       "        text-align: right;\n",
       "    }\n",
       "</style>\n",
       "<table border=\"1\" class=\"dataframe\">\n",
       "  <thead>\n",
       "    <tr style=\"text-align: right;\">\n",
       "      <th></th>\n",
       "      <th>value</th>\n",
       "    </tr>\n",
       "  </thead>\n",
       "  <tbody>\n",
       "    <tr>\n",
       "      <th>0.25</th>\n",
       "      <td>2.0</td>\n",
       "    </tr>\n",
       "    <tr>\n",
       "      <th>0.50</th>\n",
       "      <td>4.0</td>\n",
       "    </tr>\n",
       "    <tr>\n",
       "      <th>0.75</th>\n",
       "      <td>5.5</td>\n",
       "    </tr>\n",
       "  </tbody>\n",
       "</table>\n",
       "</div>"
      ],
      "text/plain": [
       "      value\n",
       "0.25    2.0\n",
       "0.50    4.0\n",
       "0.75    5.5"
      ]
     },
     "execution_count": 28,
     "metadata": {},
     "output_type": "execute_result"
    }
   ],
   "source": [
    "#using pandas\n",
    "z.quantile([0.25,0.50,0.75]) "
   ]
  },
  {
   "cell_type": "code",
   "execution_count": 29,
   "id": "4bc40554",
   "metadata": {},
   "outputs": [
    {
     "data": {
      "text/html": [
       "<div>\n",
       "<style scoped>\n",
       "    .dataframe tbody tr th:only-of-type {\n",
       "        vertical-align: middle;\n",
       "    }\n",
       "\n",
       "    .dataframe tbody tr th {\n",
       "        vertical-align: top;\n",
       "    }\n",
       "\n",
       "    .dataframe thead th {\n",
       "        text-align: right;\n",
       "    }\n",
       "</style>\n",
       "<table border=\"1\" class=\"dataframe\">\n",
       "  <thead>\n",
       "    <tr style=\"text-align: right;\">\n",
       "      <th></th>\n",
       "      <th>value</th>\n",
       "    </tr>\n",
       "  </thead>\n",
       "  <tbody>\n",
       "    <tr>\n",
       "      <th>count</th>\n",
       "      <td>15.000000</td>\n",
       "    </tr>\n",
       "    <tr>\n",
       "      <th>mean</th>\n",
       "      <td>4.200000</td>\n",
       "    </tr>\n",
       "    <tr>\n",
       "      <th>std</th>\n",
       "      <td>2.651145</td>\n",
       "    </tr>\n",
       "    <tr>\n",
       "      <th>min</th>\n",
       "      <td>1.000000</td>\n",
       "    </tr>\n",
       "    <tr>\n",
       "      <th>25%</th>\n",
       "      <td>2.000000</td>\n",
       "    </tr>\n",
       "    <tr>\n",
       "      <th>50%</th>\n",
       "      <td>4.000000</td>\n",
       "    </tr>\n",
       "    <tr>\n",
       "      <th>75%</th>\n",
       "      <td>5.500000</td>\n",
       "    </tr>\n",
       "    <tr>\n",
       "      <th>max</th>\n",
       "      <td>10.000000</td>\n",
       "    </tr>\n",
       "  </tbody>\n",
       "</table>\n",
       "</div>"
      ],
      "text/plain": [
       "           value\n",
       "count  15.000000\n",
       "mean    4.200000\n",
       "std     2.651145\n",
       "min     1.000000\n",
       "25%     2.000000\n",
       "50%     4.000000\n",
       "75%     5.500000\n",
       "max    10.000000"
      ]
     },
     "execution_count": 29,
     "metadata": {},
     "output_type": "execute_result"
    }
   ],
   "source": [
    "z.describe()\n",
    "     "
   ]
  },
  {
   "cell_type": "code",
   "execution_count": 30,
   "id": "5df1244e",
   "metadata": {},
   "outputs": [
    {
     "data": {
      "text/plain": [
       "10"
      ]
     },
     "execution_count": 30,
     "metadata": {},
     "output_type": "execute_result"
    }
   ],
   "source": [
    "#Maximum\n",
    "X=[1,2,3,1,2,3,4,5,2,6,7,5,4,8,10]\n",
    "\n",
    "#using numpy\n",
    "np.max(X)"
   ]
  },
  {
   "cell_type": "code",
   "execution_count": 31,
   "id": "86d2c5e3",
   "metadata": {},
   "outputs": [
    {
     "name": "stdout",
     "output_type": "stream",
     "text": [
      "Maximum :  10\n"
     ]
    }
   ],
   "source": [
    "print(\"Maximum : \", np.max(X))"
   ]
  },
  {
   "cell_type": "code",
   "execution_count": 32,
   "id": "6bf53fd5",
   "metadata": {},
   "outputs": [
    {
     "data": {
      "text/plain": [
       "value    10\n",
       "dtype: int64"
      ]
     },
     "execution_count": 32,
     "metadata": {},
     "output_type": "execute_result"
    }
   ],
   "source": [
    "#using pandas\n",
    "z.max()   "
   ]
  },
  {
   "cell_type": "markdown",
   "id": "8dad0130",
   "metadata": {},
   "source": [
    "# Range"
   ]
  },
  {
   "cell_type": "code",
   "execution_count": 33,
   "id": "24fc9562",
   "metadata": {},
   "outputs": [
    {
     "data": {
      "text/plain": [
       "9"
      ]
     },
     "execution_count": 33,
     "metadata": {},
     "output_type": "execute_result"
    }
   ],
   "source": [
    "#Range\n",
    "#using numpy\n",
    "\n",
    "Ran=np.max(X) - np.min(X)\n",
    "Ran"
   ]
  },
  {
   "cell_type": "code",
   "execution_count": 34,
   "id": "f9aff02b",
   "metadata": {},
   "outputs": [
    {
     "data": {
      "text/plain": [
       "value    9\n",
       "dtype: int64"
      ]
     },
     "execution_count": 34,
     "metadata": {},
     "output_type": "execute_result"
    }
   ],
   "source": [
    "#using pandas\n",
    "Range = z.max()-z.min()\n",
    "Range"
   ]
  },
  {
   "cell_type": "markdown",
   "id": "e69f0cea",
   "metadata": {},
   "source": [
    "# IQR"
   ]
  },
  {
   "cell_type": "code",
   "execution_count": 35,
   "id": "3cd551c5",
   "metadata": {},
   "outputs": [
    {
     "data": {
      "text/plain": [
       "3.5"
      ]
     },
     "execution_count": 35,
     "metadata": {},
     "output_type": "execute_result"
    }
   ],
   "source": [
    "#IQR\n",
    "#using numpy\n",
    "IQR = np.quantile(X,0.75)-np.quantile(X,0.25)\n",
    "IQR"
   ]
  },
  {
   "cell_type": "code",
   "execution_count": 36,
   "id": "f074b554",
   "metadata": {},
   "outputs": [
    {
     "data": {
      "text/plain": [
       "value    3.5\n",
       "dtype: float64"
      ]
     },
     "execution_count": 36,
     "metadata": {},
     "output_type": "execute_result"
    }
   ],
   "source": [
    "#using pandas\n",
    "iqr=z.quantile(0.75)-z.quantile(0.25)\n",
    "iqr"
   ]
  },
  {
   "cell_type": "markdown",
   "id": "12bfc2a9",
   "metadata": {},
   "source": [
    "# QD"
   ]
  },
  {
   "cell_type": "code",
   "execution_count": 37,
   "id": "b7bb8747",
   "metadata": {},
   "outputs": [
    {
     "data": {
      "text/plain": [
       "1.75"
      ]
     },
     "execution_count": 37,
     "metadata": {},
     "output_type": "execute_result"
    }
   ],
   "source": [
    "#QD\n",
    "#using numpy\n",
    "QD = IQR/2\n",
    "QD\n"
   ]
  },
  {
   "cell_type": "code",
   "execution_count": 38,
   "id": "ff4518af",
   "metadata": {},
   "outputs": [
    {
     "data": {
      "text/plain": [
       "value    1.75\n",
       "dtype: float64"
      ]
     },
     "execution_count": 38,
     "metadata": {},
     "output_type": "execute_result"
    }
   ],
   "source": [
    "#QD\n",
    "#using pandas\n",
    "qd =iqr/2\n",
    "qd"
   ]
  }
 ],
 "metadata": {
  "kernelspec": {
   "display_name": "Python 3 (ipykernel)",
   "language": "python",
   "name": "python3"
  },
  "language_info": {
   "codemirror_mode": {
    "name": "ipython",
    "version": 3
   },
   "file_extension": ".py",
   "mimetype": "text/x-python",
   "name": "python",
   "nbconvert_exporter": "python",
   "pygments_lexer": "ipython3",
   "version": "3.10.9"
  }
 },
 "nbformat": 4,
 "nbformat_minor": 5
}
