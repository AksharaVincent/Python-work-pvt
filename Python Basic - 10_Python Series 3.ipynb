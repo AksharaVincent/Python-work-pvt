{
 "cells": [
  {
   "cell_type": "markdown",
   "id": "fa6a237b",
   "metadata": {},
   "source": [
    "## To Multiply 2 numbers"
   ]
  },
  {
   "cell_type": "markdown",
   "id": "66d9ecdf",
   "metadata": {},
   "source": [
    "1st assign data into string\n",
    "input a number"
   ]
  },
  {
   "cell_type": "code",
   "execution_count": 13,
   "id": "368a40e7",
   "metadata": {},
   "outputs": [
    {
     "data": {
      "text/plain": [
       "20"
      ]
     },
     "execution_count": 13,
     "metadata": {},
     "output_type": "execute_result"
    }
   ],
   "source": [
    "a=2\n",
    "b=10\n",
    "c=a*b\n",
    "c"
   ]
  },
  {
   "cell_type": "markdown",
   "id": "d2fc09c6",
   "metadata": {},
   "source": [
    "## Or"
   ]
  },
  {
   "cell_type": "code",
   "execution_count": 14,
   "id": "7074a953",
   "metadata": {},
   "outputs": [
    {
     "name": "stdout",
     "output_type": "stream",
     "text": [
      "first number:2\n"
     ]
    }
   ],
   "source": [
    "num1=input('first number:')\n"
   ]
  },
  {
   "cell_type": "code",
   "execution_count": 15,
   "id": "062ba4ec",
   "metadata": {},
   "outputs": [
    {
     "name": "stdout",
     "output_type": "stream",
     "text": [
      "Second number:10\n"
     ]
    }
   ],
   "source": [
    "num2=input('Second number:')\n"
   ]
  },
  {
   "cell_type": "code",
   "execution_count": 16,
   "id": "26919acd",
   "metadata": {},
   "outputs": [
    {
     "data": {
      "text/plain": [
       "20.0"
      ]
     },
     "execution_count": 16,
     "metadata": {},
     "output_type": "execute_result"
    }
   ],
   "source": [
    "Mul=float(num1)*float(num2)\n",
    "Mul"
   ]
  },
  {
   "cell_type": "code",
   "execution_count": 18,
   "id": "337d2002",
   "metadata": {},
   "outputs": [
    {
     "name": "stdout",
     "output_type": "stream",
     "text": [
      "the Multiplied value of 2 and 10 is 20.0\n"
     ]
    }
   ],
   "source": [
    "print('the Multiplied value of {0} and {1} is {2}' .format(num1,num2,Mul))"
   ]
  },
  {
   "cell_type": "code",
   "execution_count": null,
   "id": "940466a1",
   "metadata": {},
   "outputs": [],
   "source": []
  }
 ],
 "metadata": {
  "kernelspec": {
   "display_name": "Python 3 (ipykernel)",
   "language": "python",
   "name": "python3"
  },
  "language_info": {
   "codemirror_mode": {
    "name": "ipython",
    "version": 3
   },
   "file_extension": ".py",
   "mimetype": "text/x-python",
   "name": "python",
   "nbconvert_exporter": "python",
   "pygments_lexer": "ipython3",
   "version": "3.10.9"
  }
 },
 "nbformat": 4,
 "nbformat_minor": 5
}
