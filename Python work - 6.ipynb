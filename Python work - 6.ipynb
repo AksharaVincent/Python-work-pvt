{
 "cells": [
  {
   "cell_type": "markdown",
   "id": "481ffd1a",
   "metadata": {},
   "source": [
    "## Sets"
   ]
  },
  {
   "cell_type": "markdown",
   "id": "072c530d",
   "metadata": {},
   "source": [
    "A set is a collection which is unordered\n",
    "\n",
    "To declare a set in python we use the curly brackets."
   ]
  },
  {
   "cell_type": "code",
   "execution_count": 17,
   "id": "141de373",
   "metadata": {},
   "outputs": [
    {
     "name": "stdout",
     "output_type": "stream",
     "text": [
      "50\n",
      "20\n",
      "40\n",
      "10\n",
      "30\n"
     ]
    }
   ],
   "source": [
    "set={10,20,10,30,20,40,30,50,30}\n",
    "#will get all the values.\n",
    "for x in set:\n",
    " print(x)"
   ]
  },
  {
   "cell_type": "code",
   "execution_count": 18,
   "id": "2200d12b",
   "metadata": {},
   "outputs": [
    {
     "name": "stdout",
     "output_type": "stream",
     "text": [
      "50\n",
      "20\n",
      "40\n",
      "10\n",
      "30\n"
     ]
    }
   ],
   "source": [
    "for x in set:\n",
    "    print(x)"
   ]
  },
  {
   "cell_type": "code",
   "execution_count": 19,
   "id": "e7613caf",
   "metadata": {},
   "outputs": [
    {
     "data": {
      "text/plain": [
       "True"
      ]
     },
     "execution_count": 19,
     "metadata": {},
     "output_type": "execute_result"
    }
   ],
   "source": [
    "20 in set\n",
    "#Will return true if the value is in the set."
   ]
  },
  {
   "cell_type": "code",
   "execution_count": 20,
   "id": "24dd5c13",
   "metadata": {},
   "outputs": [
    {
     "data": {
      "text/plain": [
       "False"
      ]
     },
     "execution_count": 20,
     "metadata": {},
     "output_type": "execute_result"
    }
   ],
   "source": [
    "100 in set"
   ]
  },
  {
   "cell_type": "code",
   "execution_count": 21,
   "id": "7beb6650",
   "metadata": {},
   "outputs": [
    {
     "data": {
      "text/plain": [
       "{10, 20, 30, 40, 50, 'pekky'}"
      ]
     },
     "execution_count": 21,
     "metadata": {},
     "output_type": "execute_result"
    }
   ],
   "source": [
    "#add a value in a set\n",
    "set.add('pekky')\n",
    "set"
   ]
  },
  {
   "cell_type": "code",
   "execution_count": 22,
   "id": "ea1b4ab9",
   "metadata": {},
   "outputs": [
    {
     "data": {
      "text/plain": [
       "{10, 100, 20, 30, 40, 50, 'pekky'}"
      ]
     },
     "execution_count": 22,
     "metadata": {},
     "output_type": "execute_result"
    }
   ],
   "source": [
    "set.add(100)\n",
    "set"
   ]
  },
  {
   "cell_type": "code",
   "execution_count": 23,
   "id": "9a32fa9e",
   "metadata": {},
   "outputs": [
    {
     "data": {
      "text/plain": [
       "True"
      ]
     },
     "execution_count": 23,
     "metadata": {},
     "output_type": "execute_result"
    }
   ],
   "source": [
    "100 in set"
   ]
  },
  {
   "cell_type": "code",
   "execution_count": 24,
   "id": "508be549",
   "metadata": {},
   "outputs": [
    {
     "data": {
      "text/plain": [
       "{10, 20, 30, 40, 50, 100}"
      ]
     },
     "execution_count": 24,
     "metadata": {},
     "output_type": "execute_result"
    }
   ],
   "source": [
    "#to remove an item from a set\n",
    "set.remove('pekky')\n",
    "set"
   ]
  },
  {
   "cell_type": "code",
   "execution_count": 25,
   "id": "ed5f87d3",
   "metadata": {},
   "outputs": [
    {
     "data": {
      "text/plain": [
       "{10, 20, 30, 40, 50}"
      ]
     },
     "execution_count": 25,
     "metadata": {},
     "output_type": "execute_result"
    }
   ],
   "source": [
    "set.remove(100)\n",
    "set"
   ]
  },
  {
   "cell_type": "code",
   "execution_count": 26,
   "id": "8eea3932",
   "metadata": {},
   "outputs": [
    {
     "data": {
      "text/plain": [
       "False"
      ]
     },
     "execution_count": 26,
     "metadata": {},
     "output_type": "execute_result"
    }
   ],
   "source": [
    "set1={5,10,20}\n",
    "set2={10,20,30}\n",
    "set1.issubset(set2)\n",
    "#to check subset or not"
   ]
  },
  {
   "cell_type": "code",
   "execution_count": 27,
   "id": "7ce74eeb",
   "metadata": {},
   "outputs": [
    {
     "data": {
      "text/plain": [
       "True"
      ]
     },
     "execution_count": 27,
     "metadata": {},
     "output_type": "execute_result"
    }
   ],
   "source": [
    "set1={10,20}\n",
    "set2={10,20,30}\n",
    "set1.issubset(set2)"
   ]
  },
  {
   "cell_type": "code",
   "execution_count": 28,
   "id": "820915ad",
   "metadata": {},
   "outputs": [
    {
     "data": {
      "text/plain": [
       "{10, 20, 30, 40, 50}"
      ]
     },
     "execution_count": 28,
     "metadata": {},
     "output_type": "execute_result"
    }
   ],
   "source": [
    "#this will return a set with the union of the two sets.\n",
    "set.union(set2)"
   ]
  },
  {
   "cell_type": "code",
   "execution_count": 29,
   "id": "7ce66632",
   "metadata": {},
   "outputs": [
    {
     "data": {
      "text/plain": [
       "{1, 2, 3, 4}"
      ]
     },
     "execution_count": 29,
     "metadata": {},
     "output_type": "execute_result"
    }
   ],
   "source": [
    "st1={4,2,3}\n",
    "st2={4,3,1}\n",
    "\n",
    "st1.union(st2)"
   ]
  },
  {
   "cell_type": "code",
   "execution_count": null,
   "id": "588d9384",
   "metadata": {},
   "outputs": [],
   "source": []
  }
 ],
 "metadata": {
  "kernelspec": {
   "display_name": "Python 3 (ipykernel)",
   "language": "python",
   "name": "python3"
  },
  "language_info": {
   "codemirror_mode": {
    "name": "ipython",
    "version": 3
   },
   "file_extension": ".py",
   "mimetype": "text/x-python",
   "name": "python",
   "nbconvert_exporter": "python",
   "pygments_lexer": "ipython3",
   "version": "3.10.9"
  }
 },
 "nbformat": 4,
 "nbformat_minor": 5
}
