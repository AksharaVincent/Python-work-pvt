{
 "cells": [
  {
   "cell_type": "markdown",
   "id": "91e01718",
   "metadata": {},
   "source": [
    "# Statistcs"
   ]
  },
  {
   "cell_type": "markdown",
   "id": "49a2bfcf",
   "metadata": {},
   "source": [
    "2 Types, descriptive and inferential statistics"
   ]
  },
  {
   "cell_type": "code",
   "execution_count": 10,
   "id": "48fa57d0",
   "metadata": {},
   "outputs": [],
   "source": [
    "#Descriptive Statistics \n",
    "#In measure of central tendency\n",
    "#mean, median, mode"
   ]
  },
  {
   "cell_type": "markdown",
   "id": "fad9068c",
   "metadata": {},
   "source": [
    "# Measure of central tendency"
   ]
  },
  {
   "cell_type": "markdown",
   "id": "b7445362",
   "metadata": {},
   "source": [
    "1. Mean\n",
    "2. Median \n",
    "3. Mode"
   ]
  },
  {
   "cell_type": "markdown",
   "id": "7659b197",
   "metadata": {},
   "source": [
    "Example 1,\n",
    "Example 2,\n",
    "Example 3,\n",
    "Example 4,\n",
    "Example 5,\n",
    "Example 6,\n",
    "Example 7,\n",
    "Example 8"
   ]
  },
  {
   "cell_type": "markdown",
   "id": "8e924da2",
   "metadata": {},
   "source": [
    "# Example 1"
   ]
  },
  {
   "cell_type": "code",
   "execution_count": 11,
   "id": "49b07d87",
   "metadata": {},
   "outputs": [
    {
     "data": {
      "text/plain": [
       "3.2"
      ]
     },
     "execution_count": 11,
     "metadata": {},
     "output_type": "execute_result"
    }
   ],
   "source": [
    "#Example 1\n",
    "#mean \n",
    "\n",
    "import numpy as np\n",
    "X=[1,1,2,2,3,3,4,5,5,6]\n",
    "\n",
    "#using numpy\n",
    "np.mean(X)"
   ]
  },
  {
   "cell_type": "code",
   "execution_count": 12,
   "id": "437eb84e",
   "metadata": {},
   "outputs": [
    {
     "name": "stdout",
     "output_type": "stream",
     "text": [
      "mean: 3.2\n"
     ]
    }
   ],
   "source": [
    "print(\"mean:\",np.mean(X))"
   ]
  },
  {
   "cell_type": "code",
   "execution_count": 13,
   "id": "b68a772c",
   "metadata": {},
   "outputs": [
    {
     "data": {
      "text/html": [
       "<div>\n",
       "<style scoped>\n",
       "    .dataframe tbody tr th:only-of-type {\n",
       "        vertical-align: middle;\n",
       "    }\n",
       "\n",
       "    .dataframe tbody tr th {\n",
       "        vertical-align: top;\n",
       "    }\n",
       "\n",
       "    .dataframe thead th {\n",
       "        text-align: right;\n",
       "    }\n",
       "</style>\n",
       "<table border=\"1\" class=\"dataframe\">\n",
       "  <thead>\n",
       "    <tr style=\"text-align: right;\">\n",
       "      <th></th>\n",
       "      <th>value</th>\n",
       "    </tr>\n",
       "  </thead>\n",
       "  <tbody>\n",
       "    <tr>\n",
       "      <th>0</th>\n",
       "      <td>1</td>\n",
       "    </tr>\n",
       "    <tr>\n",
       "      <th>1</th>\n",
       "      <td>1</td>\n",
       "    </tr>\n",
       "    <tr>\n",
       "      <th>2</th>\n",
       "      <td>2</td>\n",
       "    </tr>\n",
       "    <tr>\n",
       "      <th>3</th>\n",
       "      <td>2</td>\n",
       "    </tr>\n",
       "    <tr>\n",
       "      <th>4</th>\n",
       "      <td>3</td>\n",
       "    </tr>\n",
       "    <tr>\n",
       "      <th>5</th>\n",
       "      <td>3</td>\n",
       "    </tr>\n",
       "    <tr>\n",
       "      <th>6</th>\n",
       "      <td>4</td>\n",
       "    </tr>\n",
       "    <tr>\n",
       "      <th>7</th>\n",
       "      <td>5</td>\n",
       "    </tr>\n",
       "    <tr>\n",
       "      <th>8</th>\n",
       "      <td>5</td>\n",
       "    </tr>\n",
       "    <tr>\n",
       "      <th>9</th>\n",
       "      <td>6</td>\n",
       "    </tr>\n",
       "  </tbody>\n",
       "</table>\n",
       "</div>"
      ],
      "text/plain": [
       "   value\n",
       "0      1\n",
       "1      1\n",
       "2      2\n",
       "3      2\n",
       "4      3\n",
       "5      3\n",
       "6      4\n",
       "7      5\n",
       "8      5\n",
       "9      6"
      ]
     },
     "execution_count": 13,
     "metadata": {},
     "output_type": "execute_result"
    }
   ],
   "source": [
    "#created the list into a table format\n",
    "import pandas as pd\n",
    "y=pd.DataFrame(data={'value':[1,1,2,2,3,3,4,5,5,6]})\n",
    "y"
   ]
  },
  {
   "cell_type": "code",
   "execution_count": 14,
   "id": "d9db0016",
   "metadata": {},
   "outputs": [
    {
     "data": {
      "text/plain": [
       "value    3.2\n",
       "dtype: float64"
      ]
     },
     "execution_count": 14,
     "metadata": {},
     "output_type": "execute_result"
    }
   ],
   "source": [
    "#mean using pandas\n",
    "y.mean()\n"
   ]
  },
  {
   "cell_type": "code",
   "execution_count": 15,
   "id": "03f6528d",
   "metadata": {},
   "outputs": [
    {
     "data": {
      "text/html": [
       "<div>\n",
       "<style scoped>\n",
       "    .dataframe tbody tr th:only-of-type {\n",
       "        vertical-align: middle;\n",
       "    }\n",
       "\n",
       "    .dataframe tbody tr th {\n",
       "        vertical-align: top;\n",
       "    }\n",
       "\n",
       "    .dataframe thead th {\n",
       "        text-align: right;\n",
       "    }\n",
       "</style>\n",
       "<table border=\"1\" class=\"dataframe\">\n",
       "  <thead>\n",
       "    <tr style=\"text-align: right;\">\n",
       "      <th></th>\n",
       "      <th>value</th>\n",
       "    </tr>\n",
       "  </thead>\n",
       "  <tbody>\n",
       "    <tr>\n",
       "      <th>count</th>\n",
       "      <td>10.00000</td>\n",
       "    </tr>\n",
       "    <tr>\n",
       "      <th>mean</th>\n",
       "      <td>3.20000</td>\n",
       "    </tr>\n",
       "    <tr>\n",
       "      <th>std</th>\n",
       "      <td>1.75119</td>\n",
       "    </tr>\n",
       "    <tr>\n",
       "      <th>min</th>\n",
       "      <td>1.00000</td>\n",
       "    </tr>\n",
       "    <tr>\n",
       "      <th>25%</th>\n",
       "      <td>2.00000</td>\n",
       "    </tr>\n",
       "    <tr>\n",
       "      <th>50%</th>\n",
       "      <td>3.00000</td>\n",
       "    </tr>\n",
       "    <tr>\n",
       "      <th>75%</th>\n",
       "      <td>4.75000</td>\n",
       "    </tr>\n",
       "    <tr>\n",
       "      <th>max</th>\n",
       "      <td>6.00000</td>\n",
       "    </tr>\n",
       "  </tbody>\n",
       "</table>\n",
       "</div>"
      ],
      "text/plain": [
       "          value\n",
       "count  10.00000\n",
       "mean    3.20000\n",
       "std     1.75119\n",
       "min     1.00000\n",
       "25%     2.00000\n",
       "50%     3.00000\n",
       "75%     4.75000\n",
       "max     6.00000"
      ]
     },
     "execution_count": 15,
     "metadata": {},
     "output_type": "execute_result"
    }
   ],
   "source": [
    "y.describe()"
   ]
  },
  {
   "cell_type": "code",
   "execution_count": 17,
   "id": "e40f15b8",
   "metadata": {},
   "outputs": [
    {
     "data": {
      "text/plain": [
       "3.0"
      ]
     },
     "execution_count": 17,
     "metadata": {},
     "output_type": "execute_result"
    }
   ],
   "source": [
    "#median\n",
    "X=[1,1,2,2,3,3,4,5,5,6]\n",
    "\n",
    "#using numpy\n",
    "np.median(X)"
   ]
  },
  {
   "cell_type": "code",
   "execution_count": 18,
   "id": "7320b9e3",
   "metadata": {},
   "outputs": [
    {
     "name": "stdout",
     "output_type": "stream",
     "text": [
      "median: 3.0\n"
     ]
    }
   ],
   "source": [
    "print(\"median:\",np.median(X))"
   ]
  },
  {
   "cell_type": "code",
   "execution_count": 19,
   "id": "b9a5c7a9",
   "metadata": {},
   "outputs": [
    {
     "data": {
      "text/plain": [
       "value    3.0\n",
       "dtype: float64"
      ]
     },
     "execution_count": 19,
     "metadata": {},
     "output_type": "execute_result"
    }
   ],
   "source": [
    "#using pandas\n",
    "y.median()"
   ]
  },
  {
   "cell_type": "code",
   "execution_count": 20,
   "id": "99938f33",
   "metadata": {},
   "outputs": [
    {
     "data": {
      "text/html": [
       "<div>\n",
       "<style scoped>\n",
       "    .dataframe tbody tr th:only-of-type {\n",
       "        vertical-align: middle;\n",
       "    }\n",
       "\n",
       "    .dataframe tbody tr th {\n",
       "        vertical-align: top;\n",
       "    }\n",
       "\n",
       "    .dataframe thead th {\n",
       "        text-align: right;\n",
       "    }\n",
       "</style>\n",
       "<table border=\"1\" class=\"dataframe\">\n",
       "  <thead>\n",
       "    <tr style=\"text-align: right;\">\n",
       "      <th></th>\n",
       "      <th>value</th>\n",
       "    </tr>\n",
       "  </thead>\n",
       "  <tbody>\n",
       "    <tr>\n",
       "      <th>count</th>\n",
       "      <td>10.00000</td>\n",
       "    </tr>\n",
       "    <tr>\n",
       "      <th>mean</th>\n",
       "      <td>3.20000</td>\n",
       "    </tr>\n",
       "    <tr>\n",
       "      <th>std</th>\n",
       "      <td>1.75119</td>\n",
       "    </tr>\n",
       "    <tr>\n",
       "      <th>min</th>\n",
       "      <td>1.00000</td>\n",
       "    </tr>\n",
       "    <tr>\n",
       "      <th>25%</th>\n",
       "      <td>2.00000</td>\n",
       "    </tr>\n",
       "    <tr>\n",
       "      <th>50%</th>\n",
       "      <td>3.00000</td>\n",
       "    </tr>\n",
       "    <tr>\n",
       "      <th>75%</th>\n",
       "      <td>4.75000</td>\n",
       "    </tr>\n",
       "    <tr>\n",
       "      <th>max</th>\n",
       "      <td>6.00000</td>\n",
       "    </tr>\n",
       "  </tbody>\n",
       "</table>\n",
       "</div>"
      ],
      "text/plain": [
       "          value\n",
       "count  10.00000\n",
       "mean    3.20000\n",
       "std     1.75119\n",
       "min     1.00000\n",
       "25%     2.00000\n",
       "50%     3.00000\n",
       "75%     4.75000\n",
       "max     6.00000"
      ]
     },
     "execution_count": 20,
     "metadata": {},
     "output_type": "execute_result"
    }
   ],
   "source": [
    "y.describe()"
   ]
  },
  {
   "cell_type": "code",
   "execution_count": null,
   "id": "c0bc6322",
   "metadata": {},
   "outputs": [],
   "source": [
    "#mode\n",
    "#numpy does not has an attribute mode"
   ]
  },
  {
   "cell_type": "code",
   "execution_count": 21,
   "id": "1c94c6cd",
   "metadata": {},
   "outputs": [
    {
     "data": {
      "text/html": [
       "<div>\n",
       "<style scoped>\n",
       "    .dataframe tbody tr th:only-of-type {\n",
       "        vertical-align: middle;\n",
       "    }\n",
       "\n",
       "    .dataframe tbody tr th {\n",
       "        vertical-align: top;\n",
       "    }\n",
       "\n",
       "    .dataframe thead th {\n",
       "        text-align: right;\n",
       "    }\n",
       "</style>\n",
       "<table border=\"1\" class=\"dataframe\">\n",
       "  <thead>\n",
       "    <tr style=\"text-align: right;\">\n",
       "      <th></th>\n",
       "      <th>value</th>\n",
       "    </tr>\n",
       "  </thead>\n",
       "  <tbody>\n",
       "    <tr>\n",
       "      <th>0</th>\n",
       "      <td>1</td>\n",
       "    </tr>\n",
       "    <tr>\n",
       "      <th>1</th>\n",
       "      <td>2</td>\n",
       "    </tr>\n",
       "    <tr>\n",
       "      <th>2</th>\n",
       "      <td>3</td>\n",
       "    </tr>\n",
       "    <tr>\n",
       "      <th>3</th>\n",
       "      <td>5</td>\n",
       "    </tr>\n",
       "  </tbody>\n",
       "</table>\n",
       "</div>"
      ],
      "text/plain": [
       "   value\n",
       "0      1\n",
       "1      2\n",
       "2      3\n",
       "3      5"
      ]
     },
     "execution_count": 21,
     "metadata": {},
     "output_type": "execute_result"
    }
   ],
   "source": [
    "#using pandas\n",
    "y.mode()"
   ]
  },
  {
   "cell_type": "code",
   "execution_count": null,
   "id": "bb591048",
   "metadata": {},
   "outputs": [],
   "source": [
    "#descriptive statistics\n",
    "#measure of dispersion\n",
    "#variance and std deviation"
   ]
  },
  {
   "cell_type": "markdown",
   "id": "36f8101c",
   "metadata": {},
   "source": [
    "# Measure of Dispersion"
   ]
  },
  {
   "cell_type": "code",
   "execution_count": 23,
   "id": "56a32ffc",
   "metadata": {},
   "outputs": [
    {
     "data": {
      "text/plain": [
       "2.7600000000000002"
      ]
     },
     "execution_count": 23,
     "metadata": {},
     "output_type": "execute_result"
    }
   ],
   "source": [
    "#variance\n",
    "X=[1,1,2,2,3,3,4,5,5,6]\n",
    "\n",
    "#using numpy\n",
    "np.var(X)"
   ]
  },
  {
   "cell_type": "code",
   "execution_count": 24,
   "id": "a8024677",
   "metadata": {},
   "outputs": [
    {
     "name": "stdout",
     "output_type": "stream",
     "text": [
      "Variance :  2.7600000000000002\n"
     ]
    }
   ],
   "source": [
    "print(\"Variance : \", np.var(X))"
   ]
  },
  {
   "cell_type": "code",
   "execution_count": 25,
   "id": "086516c9",
   "metadata": {},
   "outputs": [
    {
     "data": {
      "text/plain": [
       "value    3.066667\n",
       "dtype: float64"
      ]
     },
     "execution_count": 25,
     "metadata": {},
     "output_type": "execute_result"
    }
   ],
   "source": [
    "#using pandas\n",
    "y.var()    "
   ]
  },
  {
   "cell_type": "code",
   "execution_count": 26,
   "id": "16bf334e",
   "metadata": {},
   "outputs": [
    {
     "data": {
      "text/plain": [
       "1.661324772583615"
      ]
     },
     "execution_count": 26,
     "metadata": {},
     "output_type": "execute_result"
    }
   ],
   "source": [
    "#standard deviation\n",
    "X=[1,1,2,2,3,3,4,5,5,6]\n",
    "\n",
    "#using numpy\n",
    "np.std(X)"
   ]
  },
  {
   "cell_type": "code",
   "execution_count": 27,
   "id": "78617454",
   "metadata": {},
   "outputs": [
    {
     "name": "stdout",
     "output_type": "stream",
     "text": [
      "Variance :  1.661324772583615\n"
     ]
    }
   ],
   "source": [
    "print(\"Variance : \", np.std(X))"
   ]
  },
  {
   "cell_type": "code",
   "execution_count": 28,
   "id": "a8885cab",
   "metadata": {},
   "outputs": [
    {
     "data": {
      "text/plain": [
       "value    1.75119\n",
       "dtype: float64"
      ]
     },
     "execution_count": 28,
     "metadata": {},
     "output_type": "execute_result"
    }
   ],
   "source": [
    "#using pandas\n",
    "y.std() "
   ]
  },
  {
   "cell_type": "markdown",
   "id": "78338616",
   "metadata": {},
   "source": [
    "# 5 Number Summary"
   ]
  },
  {
   "cell_type": "markdown",
   "id": "ca9b8fe2",
   "metadata": {},
   "source": [
    "Minimum,\n",
    "1st quartile -Q1,\n",
    "2nd quartile -Q2(Median),\n",
    "3rd quartile -Q3,\n",
    "Maximum"
   ]
  },
  {
   "cell_type": "code",
   "execution_count": 29,
   "id": "b7e0868f",
   "metadata": {},
   "outputs": [
    {
     "data": {
      "text/plain": [
       "1"
      ]
     },
     "execution_count": 29,
     "metadata": {},
     "output_type": "execute_result"
    }
   ],
   "source": [
    "#Minimum\n",
    "X=[1,1,2,2,3,3,4,5,5,6]\n",
    "\n",
    "#using numpy\n",
    "np.min(X)"
   ]
  },
  {
   "cell_type": "code",
   "execution_count": 30,
   "id": "5aa521ce",
   "metadata": {},
   "outputs": [
    {
     "name": "stdout",
     "output_type": "stream",
     "text": [
      "Minimum :  1\n"
     ]
    }
   ],
   "source": [
    "print(\"Minimum : \", np.min(X))"
   ]
  },
  {
   "cell_type": "code",
   "execution_count": 31,
   "id": "0647da97",
   "metadata": {},
   "outputs": [
    {
     "data": {
      "text/plain": [
       "value    1\n",
       "dtype: int64"
      ]
     },
     "execution_count": 31,
     "metadata": {},
     "output_type": "execute_result"
    }
   ],
   "source": [
    "#using pandas\n",
    "y.min()"
   ]
  },
  {
   "cell_type": "code",
   "execution_count": 32,
   "id": "85c122cd",
   "metadata": {},
   "outputs": [
    {
     "data": {
      "text/plain": [
       "array([2.  , 3.  , 4.75])"
      ]
     },
     "execution_count": 32,
     "metadata": {},
     "output_type": "execute_result"
    }
   ],
   "source": [
    "#quartiles\n",
    "X=[1,1,2,2,3,3,4,5,5,6]\n",
    "\n",
    "#using numpy\n",
    "np.quantile(X,[0.25,0.50,0.75])"
   ]
  },
  {
   "cell_type": "code",
   "execution_count": 33,
   "id": "339459f1",
   "metadata": {},
   "outputs": [
    {
     "name": "stdout",
     "output_type": "stream",
     "text": [
      "Q1 :  2.0 Q2 :  3.0 Q3 :  4.75\n"
     ]
    }
   ],
   "source": [
    "print(\"Q1 : \", np.quantile(X,0.25),\n",
    "      \"Q2 : \", np.quantile(X,0.50),\n",
    "      \"Q3 : \", np.quantile(X,0.75))"
   ]
  },
  {
   "cell_type": "code",
   "execution_count": 34,
   "id": "c0006c24",
   "metadata": {},
   "outputs": [
    {
     "data": {
      "text/html": [
       "<div>\n",
       "<style scoped>\n",
       "    .dataframe tbody tr th:only-of-type {\n",
       "        vertical-align: middle;\n",
       "    }\n",
       "\n",
       "    .dataframe tbody tr th {\n",
       "        vertical-align: top;\n",
       "    }\n",
       "\n",
       "    .dataframe thead th {\n",
       "        text-align: right;\n",
       "    }\n",
       "</style>\n",
       "<table border=\"1\" class=\"dataframe\">\n",
       "  <thead>\n",
       "    <tr style=\"text-align: right;\">\n",
       "      <th></th>\n",
       "      <th>value</th>\n",
       "    </tr>\n",
       "  </thead>\n",
       "  <tbody>\n",
       "    <tr>\n",
       "      <th>0.25</th>\n",
       "      <td>2.00</td>\n",
       "    </tr>\n",
       "    <tr>\n",
       "      <th>0.50</th>\n",
       "      <td>3.00</td>\n",
       "    </tr>\n",
       "    <tr>\n",
       "      <th>0.75</th>\n",
       "      <td>4.75</td>\n",
       "    </tr>\n",
       "  </tbody>\n",
       "</table>\n",
       "</div>"
      ],
      "text/plain": [
       "      value\n",
       "0.25   2.00\n",
       "0.50   3.00\n",
       "0.75   4.75"
      ]
     },
     "execution_count": 34,
     "metadata": {},
     "output_type": "execute_result"
    }
   ],
   "source": [
    "#using pandas\n",
    "y.quantile([0.25,0.50,0.75]) "
   ]
  },
  {
   "cell_type": "code",
   "execution_count": 35,
   "id": "9a977920",
   "metadata": {},
   "outputs": [
    {
     "data": {
      "text/html": [
       "<div>\n",
       "<style scoped>\n",
       "    .dataframe tbody tr th:only-of-type {\n",
       "        vertical-align: middle;\n",
       "    }\n",
       "\n",
       "    .dataframe tbody tr th {\n",
       "        vertical-align: top;\n",
       "    }\n",
       "\n",
       "    .dataframe thead th {\n",
       "        text-align: right;\n",
       "    }\n",
       "</style>\n",
       "<table border=\"1\" class=\"dataframe\">\n",
       "  <thead>\n",
       "    <tr style=\"text-align: right;\">\n",
       "      <th></th>\n",
       "      <th>value</th>\n",
       "    </tr>\n",
       "  </thead>\n",
       "  <tbody>\n",
       "    <tr>\n",
       "      <th>count</th>\n",
       "      <td>10.00000</td>\n",
       "    </tr>\n",
       "    <tr>\n",
       "      <th>mean</th>\n",
       "      <td>3.20000</td>\n",
       "    </tr>\n",
       "    <tr>\n",
       "      <th>std</th>\n",
       "      <td>1.75119</td>\n",
       "    </tr>\n",
       "    <tr>\n",
       "      <th>min</th>\n",
       "      <td>1.00000</td>\n",
       "    </tr>\n",
       "    <tr>\n",
       "      <th>25%</th>\n",
       "      <td>2.00000</td>\n",
       "    </tr>\n",
       "    <tr>\n",
       "      <th>50%</th>\n",
       "      <td>3.00000</td>\n",
       "    </tr>\n",
       "    <tr>\n",
       "      <th>75%</th>\n",
       "      <td>4.75000</td>\n",
       "    </tr>\n",
       "    <tr>\n",
       "      <th>max</th>\n",
       "      <td>6.00000</td>\n",
       "    </tr>\n",
       "  </tbody>\n",
       "</table>\n",
       "</div>"
      ],
      "text/plain": [
       "          value\n",
       "count  10.00000\n",
       "mean    3.20000\n",
       "std     1.75119\n",
       "min     1.00000\n",
       "25%     2.00000\n",
       "50%     3.00000\n",
       "75%     4.75000\n",
       "max     6.00000"
      ]
     },
     "execution_count": 35,
     "metadata": {},
     "output_type": "execute_result"
    }
   ],
   "source": [
    "y.describe()"
   ]
  },
  {
   "cell_type": "code",
   "execution_count": 36,
   "id": "a4255970",
   "metadata": {},
   "outputs": [
    {
     "data": {
      "text/plain": [
       "6"
      ]
     },
     "execution_count": 36,
     "metadata": {},
     "output_type": "execute_result"
    }
   ],
   "source": [
    "#Maximum\n",
    "X=[1,1,2,2,3,3,4,5,5,6]\n",
    "\n",
    "#using numpy\n",
    "np.max(X)"
   ]
  },
  {
   "cell_type": "code",
   "execution_count": 37,
   "id": "acfdf0ef",
   "metadata": {},
   "outputs": [
    {
     "name": "stdout",
     "output_type": "stream",
     "text": [
      "Maximum :  6\n"
     ]
    }
   ],
   "source": [
    "print(\"Maximum : \", np.max(X))"
   ]
  },
  {
   "cell_type": "code",
   "execution_count": 38,
   "id": "595814c5",
   "metadata": {},
   "outputs": [
    {
     "data": {
      "text/plain": [
       "value    6\n",
       "dtype: int64"
      ]
     },
     "execution_count": 38,
     "metadata": {},
     "output_type": "execute_result"
    }
   ],
   "source": [
    "#using pandas\n",
    "y.max() "
   ]
  },
  {
   "cell_type": "markdown",
   "id": "d3bd0441",
   "metadata": {},
   "source": [
    "# Range"
   ]
  },
  {
   "cell_type": "code",
   "execution_count": 39,
   "id": "7a602c14",
   "metadata": {},
   "outputs": [
    {
     "data": {
      "text/plain": [
       "5"
      ]
     },
     "execution_count": 39,
     "metadata": {},
     "output_type": "execute_result"
    }
   ],
   "source": [
    "#Range\n",
    "#using numpy\n",
    "\n",
    "Ran=np.max(X) - np.min(X)\n",
    "Ran"
   ]
  },
  {
   "cell_type": "code",
   "execution_count": 41,
   "id": "1f71cbeb",
   "metadata": {},
   "outputs": [
    {
     "data": {
      "text/plain": [
       "value    5\n",
       "dtype: int64"
      ]
     },
     "execution_count": 41,
     "metadata": {},
     "output_type": "execute_result"
    }
   ],
   "source": [
    "#using pandas\n",
    "Range = y.max()-y.min()\n",
    "Range"
   ]
  },
  {
   "cell_type": "markdown",
   "id": "f2779baa",
   "metadata": {},
   "source": [
    "# IQR"
   ]
  },
  {
   "cell_type": "code",
   "execution_count": 44,
   "id": "3a71f1ed",
   "metadata": {},
   "outputs": [
    {
     "data": {
      "text/plain": [
       "2.75"
      ]
     },
     "execution_count": 44,
     "metadata": {},
     "output_type": "execute_result"
    }
   ],
   "source": [
    "#IQR\n",
    "#using numpy\n",
    "IQR = np.quantile(X,0.75)-np.quantile(X,0.25)\n",
    "IQR"
   ]
  },
  {
   "cell_type": "code",
   "execution_count": 45,
   "id": "5271e8e8",
   "metadata": {},
   "outputs": [
    {
     "data": {
      "text/plain": [
       "value    2.75\n",
       "dtype: float64"
      ]
     },
     "execution_count": 45,
     "metadata": {},
     "output_type": "execute_result"
    }
   ],
   "source": [
    "#using pandas\n",
    "iqr=y.quantile(0.75)-y.quantile(0.25)\n",
    "iqr\n",
    "     "
   ]
  },
  {
   "cell_type": "markdown",
   "id": "cc344078",
   "metadata": {},
   "source": [
    "# QD"
   ]
  },
  {
   "cell_type": "code",
   "execution_count": 46,
   "id": "1f90d087",
   "metadata": {},
   "outputs": [
    {
     "data": {
      "text/plain": [
       "1.375"
      ]
     },
     "execution_count": 46,
     "metadata": {},
     "output_type": "execute_result"
    }
   ],
   "source": [
    "#QD\n",
    "#using numpy\n",
    "QD = IQR/2\n",
    "QD"
   ]
  },
  {
   "cell_type": "code",
   "execution_count": 47,
   "id": "374ae4b3",
   "metadata": {},
   "outputs": [
    {
     "data": {
      "text/plain": [
       "value    1.375\n",
       "dtype: float64"
      ]
     },
     "execution_count": 47,
     "metadata": {},
     "output_type": "execute_result"
    }
   ],
   "source": [
    "#QD\n",
    "#using pandas\n",
    "qd =iqr/2\n",
    "qd\n",
    "     "
   ]
  },
  {
   "cell_type": "markdown",
   "id": "b3883335",
   "metadata": {},
   "source": [
    "# Example 2"
   ]
  },
  {
   "cell_type": "code",
   "execution_count": 48,
   "id": "4dfb9b9c",
   "metadata": {},
   "outputs": [
    {
     "data": {
      "text/plain": [
       "20.333333333333332"
      ]
     },
     "execution_count": 48,
     "metadata": {},
     "output_type": "execute_result"
    }
   ],
   "source": [
    "#Example 2\n",
    "#mean\n",
    "\n",
    "import numpy as pd\n",
    "X=[1,1,2,2,3,3,4,5,5,6,100,112]\n",
    "\n",
    "#using numpy\n",
    "np.mean(X)"
   ]
  },
  {
   "cell_type": "code",
   "execution_count": 49,
   "id": "671fb62f",
   "metadata": {},
   "outputs": [
    {
     "name": "stdout",
     "output_type": "stream",
     "text": [
      "mean :  20.333333333333332\n"
     ]
    }
   ],
   "source": [
    "print(\"mean : \", np.mean(X))"
   ]
  },
  {
   "cell_type": "code",
   "execution_count": 50,
   "id": "2d6519d9",
   "metadata": {},
   "outputs": [
    {
     "data": {
      "text/html": [
       "<div>\n",
       "<style scoped>\n",
       "    .dataframe tbody tr th:only-of-type {\n",
       "        vertical-align: middle;\n",
       "    }\n",
       "\n",
       "    .dataframe tbody tr th {\n",
       "        vertical-align: top;\n",
       "    }\n",
       "\n",
       "    .dataframe thead th {\n",
       "        text-align: right;\n",
       "    }\n",
       "</style>\n",
       "<table border=\"1\" class=\"dataframe\">\n",
       "  <thead>\n",
       "    <tr style=\"text-align: right;\">\n",
       "      <th></th>\n",
       "      <th>values</th>\n",
       "    </tr>\n",
       "  </thead>\n",
       "  <tbody>\n",
       "    <tr>\n",
       "      <th>0</th>\n",
       "      <td>1</td>\n",
       "    </tr>\n",
       "    <tr>\n",
       "      <th>1</th>\n",
       "      <td>1</td>\n",
       "    </tr>\n",
       "    <tr>\n",
       "      <th>2</th>\n",
       "      <td>2</td>\n",
       "    </tr>\n",
       "    <tr>\n",
       "      <th>3</th>\n",
       "      <td>2</td>\n",
       "    </tr>\n",
       "    <tr>\n",
       "      <th>4</th>\n",
       "      <td>3</td>\n",
       "    </tr>\n",
       "    <tr>\n",
       "      <th>5</th>\n",
       "      <td>3</td>\n",
       "    </tr>\n",
       "    <tr>\n",
       "      <th>6</th>\n",
       "      <td>4</td>\n",
       "    </tr>\n",
       "    <tr>\n",
       "      <th>7</th>\n",
       "      <td>5</td>\n",
       "    </tr>\n",
       "    <tr>\n",
       "      <th>8</th>\n",
       "      <td>5</td>\n",
       "    </tr>\n",
       "    <tr>\n",
       "      <th>9</th>\n",
       "      <td>6</td>\n",
       "    </tr>\n",
       "    <tr>\n",
       "      <th>10</th>\n",
       "      <td>100</td>\n",
       "    </tr>\n",
       "    <tr>\n",
       "      <th>11</th>\n",
       "      <td>112</td>\n",
       "    </tr>\n",
       "  </tbody>\n",
       "</table>\n",
       "</div>"
      ],
      "text/plain": [
       "    values\n",
       "0        1\n",
       "1        1\n",
       "2        2\n",
       "3        2\n",
       "4        3\n",
       "5        3\n",
       "6        4\n",
       "7        5\n",
       "8        5\n",
       "9        6\n",
       "10     100\n",
       "11     112"
      ]
     },
     "execution_count": 50,
     "metadata": {},
     "output_type": "execute_result"
    }
   ],
   "source": [
    "#created the list into a table format\n",
    "import pandas as pd\n",
    "j=pd.DataFrame(data={'values': [1,1,2,2,3,3,4,5,5,6,100,112]})\n",
    "j"
   ]
  },
  {
   "cell_type": "code",
   "execution_count": 51,
   "id": "9f90536f",
   "metadata": {},
   "outputs": [
    {
     "data": {
      "text/plain": [
       "values    20.333333\n",
       "dtype: float64"
      ]
     },
     "execution_count": 51,
     "metadata": {},
     "output_type": "execute_result"
    }
   ],
   "source": [
    "#mean using pandas\n",
    "j.mean()"
   ]
  },
  {
   "cell_type": "code",
   "execution_count": 52,
   "id": "5a71face",
   "metadata": {},
   "outputs": [
    {
     "data": {
      "text/html": [
       "<div>\n",
       "<style scoped>\n",
       "    .dataframe tbody tr th:only-of-type {\n",
       "        vertical-align: middle;\n",
       "    }\n",
       "\n",
       "    .dataframe tbody tr th {\n",
       "        vertical-align: top;\n",
       "    }\n",
       "\n",
       "    .dataframe thead th {\n",
       "        text-align: right;\n",
       "    }\n",
       "</style>\n",
       "<table border=\"1\" class=\"dataframe\">\n",
       "  <thead>\n",
       "    <tr style=\"text-align: right;\">\n",
       "      <th></th>\n",
       "      <th>value</th>\n",
       "    </tr>\n",
       "  </thead>\n",
       "  <tbody>\n",
       "    <tr>\n",
       "      <th>count</th>\n",
       "      <td>10.00000</td>\n",
       "    </tr>\n",
       "    <tr>\n",
       "      <th>mean</th>\n",
       "      <td>3.20000</td>\n",
       "    </tr>\n",
       "    <tr>\n",
       "      <th>std</th>\n",
       "      <td>1.75119</td>\n",
       "    </tr>\n",
       "    <tr>\n",
       "      <th>min</th>\n",
       "      <td>1.00000</td>\n",
       "    </tr>\n",
       "    <tr>\n",
       "      <th>25%</th>\n",
       "      <td>2.00000</td>\n",
       "    </tr>\n",
       "    <tr>\n",
       "      <th>50%</th>\n",
       "      <td>3.00000</td>\n",
       "    </tr>\n",
       "    <tr>\n",
       "      <th>75%</th>\n",
       "      <td>4.75000</td>\n",
       "    </tr>\n",
       "    <tr>\n",
       "      <th>max</th>\n",
       "      <td>6.00000</td>\n",
       "    </tr>\n",
       "  </tbody>\n",
       "</table>\n",
       "</div>"
      ],
      "text/plain": [
       "          value\n",
       "count  10.00000\n",
       "mean    3.20000\n",
       "std     1.75119\n",
       "min     1.00000\n",
       "25%     2.00000\n",
       "50%     3.00000\n",
       "75%     4.75000\n",
       "max     6.00000"
      ]
     },
     "execution_count": 52,
     "metadata": {},
     "output_type": "execute_result"
    }
   ],
   "source": [
    "y.describe()"
   ]
  },
  {
   "cell_type": "code",
   "execution_count": 53,
   "id": "34410638",
   "metadata": {},
   "outputs": [
    {
     "data": {
      "text/plain": [
       "3.5"
      ]
     },
     "execution_count": 53,
     "metadata": {},
     "output_type": "execute_result"
    }
   ],
   "source": [
    "#median\n",
    "X=[1,1,2,2,3,3,4,5,5,6,100,112]\n",
    "\n",
    "#using numpy\n",
    "np.median(X)"
   ]
  },
  {
   "cell_type": "code",
   "execution_count": 54,
   "id": "48c582db",
   "metadata": {},
   "outputs": [
    {
     "name": "stdout",
     "output_type": "stream",
     "text": [
      "median :  3.5\n"
     ]
    }
   ],
   "source": [
    "print(\"median : \", np.median(X))"
   ]
  },
  {
   "cell_type": "code",
   "execution_count": 55,
   "id": "04acd56d",
   "metadata": {},
   "outputs": [
    {
     "data": {
      "text/html": [
       "<div>\n",
       "<style scoped>\n",
       "    .dataframe tbody tr th:only-of-type {\n",
       "        vertical-align: middle;\n",
       "    }\n",
       "\n",
       "    .dataframe tbody tr th {\n",
       "        vertical-align: top;\n",
       "    }\n",
       "\n",
       "    .dataframe thead th {\n",
       "        text-align: right;\n",
       "    }\n",
       "</style>\n",
       "<table border=\"1\" class=\"dataframe\">\n",
       "  <thead>\n",
       "    <tr style=\"text-align: right;\">\n",
       "      <th></th>\n",
       "      <th>values</th>\n",
       "    </tr>\n",
       "  </thead>\n",
       "  <tbody>\n",
       "    <tr>\n",
       "      <th>count</th>\n",
       "      <td>12.000000</td>\n",
       "    </tr>\n",
       "    <tr>\n",
       "      <th>mean</th>\n",
       "      <td>20.333333</td>\n",
       "    </tr>\n",
       "    <tr>\n",
       "      <th>std</th>\n",
       "      <td>40.127826</td>\n",
       "    </tr>\n",
       "    <tr>\n",
       "      <th>min</th>\n",
       "      <td>1.000000</td>\n",
       "    </tr>\n",
       "    <tr>\n",
       "      <th>25%</th>\n",
       "      <td>2.000000</td>\n",
       "    </tr>\n",
       "    <tr>\n",
       "      <th>50%</th>\n",
       "      <td>3.500000</td>\n",
       "    </tr>\n",
       "    <tr>\n",
       "      <th>75%</th>\n",
       "      <td>5.250000</td>\n",
       "    </tr>\n",
       "    <tr>\n",
       "      <th>max</th>\n",
       "      <td>112.000000</td>\n",
       "    </tr>\n",
       "  </tbody>\n",
       "</table>\n",
       "</div>"
      ],
      "text/plain": [
       "           values\n",
       "count   12.000000\n",
       "mean    20.333333\n",
       "std     40.127826\n",
       "min      1.000000\n",
       "25%      2.000000\n",
       "50%      3.500000\n",
       "75%      5.250000\n",
       "max    112.000000"
      ]
     },
     "execution_count": 55,
     "metadata": {},
     "output_type": "execute_result"
    }
   ],
   "source": [
    "j.describe()"
   ]
  },
  {
   "cell_type": "code",
   "execution_count": null,
   "id": "653440cb",
   "metadata": {},
   "outputs": [],
   "source": [
    "#mode\n",
    "#numpy does not has an attribute mode"
   ]
  },
  {
   "cell_type": "code",
   "execution_count": 56,
   "id": "7c95c789",
   "metadata": {},
   "outputs": [
    {
     "data": {
      "text/html": [
       "<div>\n",
       "<style scoped>\n",
       "    .dataframe tbody tr th:only-of-type {\n",
       "        vertical-align: middle;\n",
       "    }\n",
       "\n",
       "    .dataframe tbody tr th {\n",
       "        vertical-align: top;\n",
       "    }\n",
       "\n",
       "    .dataframe thead th {\n",
       "        text-align: right;\n",
       "    }\n",
       "</style>\n",
       "<table border=\"1\" class=\"dataframe\">\n",
       "  <thead>\n",
       "    <tr style=\"text-align: right;\">\n",
       "      <th></th>\n",
       "      <th>values</th>\n",
       "    </tr>\n",
       "  </thead>\n",
       "  <tbody>\n",
       "    <tr>\n",
       "      <th>0</th>\n",
       "      <td>1</td>\n",
       "    </tr>\n",
       "    <tr>\n",
       "      <th>1</th>\n",
       "      <td>2</td>\n",
       "    </tr>\n",
       "    <tr>\n",
       "      <th>2</th>\n",
       "      <td>3</td>\n",
       "    </tr>\n",
       "    <tr>\n",
       "      <th>3</th>\n",
       "      <td>5</td>\n",
       "    </tr>\n",
       "  </tbody>\n",
       "</table>\n",
       "</div>"
      ],
      "text/plain": [
       "   values\n",
       "0       1\n",
       "1       2\n",
       "2       3\n",
       "3       5"
      ]
     },
     "execution_count": 56,
     "metadata": {},
     "output_type": "execute_result"
    }
   ],
   "source": [
    "#using pandas\n",
    "j.mode() "
   ]
  },
  {
   "cell_type": "markdown",
   "id": "60620a25",
   "metadata": {},
   "source": [
    "# Measure of Dispersion"
   ]
  },
  {
   "cell_type": "code",
   "execution_count": 57,
   "id": "5ae42a61",
   "metadata": {},
   "outputs": [
    {
     "data": {
      "text/plain": [
       "1476.0555555555557"
      ]
     },
     "execution_count": 57,
     "metadata": {},
     "output_type": "execute_result"
    }
   ],
   "source": [
    "#variance\n",
    "X=[1,1,2,2,3,3,4,5,5,6,100,112]\n",
    "\n",
    "#using numpy\n",
    "np.var(X)"
   ]
  },
  {
   "cell_type": "code",
   "execution_count": 58,
   "id": "b820e592",
   "metadata": {},
   "outputs": [
    {
     "name": "stdout",
     "output_type": "stream",
     "text": [
      "Variance :  1476.0555555555557\n"
     ]
    }
   ],
   "source": [
    "\n",
    "print(\"Variance : \", np.var(X))"
   ]
  },
  {
   "cell_type": "code",
   "execution_count": 59,
   "id": "c7d9b9ea",
   "metadata": {},
   "outputs": [
    {
     "data": {
      "text/plain": [
       "values    1610.242424\n",
       "dtype: float64"
      ]
     },
     "execution_count": 59,
     "metadata": {},
     "output_type": "execute_result"
    }
   ],
   "source": [
    "#using pandas\n",
    "j.var() "
   ]
  },
  {
   "cell_type": "code",
   "execution_count": 61,
   "id": "b2a7f24d",
   "metadata": {},
   "outputs": [
    {
     "data": {
      "text/plain": [
       "38.41946844446908"
      ]
     },
     "execution_count": 61,
     "metadata": {},
     "output_type": "execute_result"
    }
   ],
   "source": [
    "#standard deviation\n",
    "X=[1,1,2,2,3,3,4,5,5,6,100,112]\n",
    "\n",
    "#using numpy\n",
    "np.std(X)"
   ]
  },
  {
   "cell_type": "code",
   "execution_count": 62,
   "id": "a481d0a1",
   "metadata": {},
   "outputs": [
    {
     "name": "stdout",
     "output_type": "stream",
     "text": [
      "Variance :  38.41946844446908\n"
     ]
    }
   ],
   "source": [
    "print(\"Variance : \", np.std(X))\n"
   ]
  },
  {
   "cell_type": "code",
   "execution_count": 63,
   "id": "438a3e75",
   "metadata": {},
   "outputs": [
    {
     "data": {
      "text/plain": [
       "values    40.127826\n",
       "dtype: float64"
      ]
     },
     "execution_count": 63,
     "metadata": {},
     "output_type": "execute_result"
    }
   ],
   "source": [
    "#using pandas\n",
    "j.std() "
   ]
  },
  {
   "cell_type": "markdown",
   "id": "92802778",
   "metadata": {},
   "source": [
    "# 5 Number Summary"
   ]
  },
  {
   "cell_type": "markdown",
   "id": "ad2c0e7c",
   "metadata": {},
   "source": [
    "Minimum,\n",
    "1st quartile -Q1,\n",
    "2nd quartile -Q2(Median),\n",
    "3rd quartile -Q3,\n",
    "Maximum"
   ]
  },
  {
   "cell_type": "code",
   "execution_count": 65,
   "id": "b8175547",
   "metadata": {},
   "outputs": [
    {
     "data": {
      "text/plain": [
       "1"
      ]
     },
     "execution_count": 65,
     "metadata": {},
     "output_type": "execute_result"
    }
   ],
   "source": [
    "#Minimum\n",
    "X=[1,1,2,2,3,3,4,5,5,6,100,112]\n",
    "\n",
    "#using numpy\n",
    "np.min(X)\n",
    "     "
   ]
  },
  {
   "cell_type": "code",
   "execution_count": 66,
   "id": "58a82455",
   "metadata": {},
   "outputs": [
    {
     "name": "stdout",
     "output_type": "stream",
     "text": [
      "Minimum :  1\n"
     ]
    }
   ],
   "source": [
    "print(\"Minimum : \", np.min(X))"
   ]
  },
  {
   "cell_type": "code",
   "execution_count": 67,
   "id": "679a1257",
   "metadata": {},
   "outputs": [
    {
     "data": {
      "text/plain": [
       "value    1\n",
       "dtype: int64"
      ]
     },
     "execution_count": 67,
     "metadata": {},
     "output_type": "execute_result"
    }
   ],
   "source": [
    "#using pandas\n",
    "y.min() "
   ]
  },
  {
   "cell_type": "code",
   "execution_count": 68,
   "id": "1189377b",
   "metadata": {},
   "outputs": [
    {
     "data": {
      "text/plain": [
       "array([2.  , 3.5 , 5.25])"
      ]
     },
     "execution_count": 68,
     "metadata": {},
     "output_type": "execute_result"
    }
   ],
   "source": [
    "#quartiles\n",
    "X=[1,1,2,2,3,3,4,5,5,6,100,112]\n",
    "\n",
    "#using numpy\n",
    "np.quantile(X,[0.25,0.50,0.75])"
   ]
  },
  {
   "cell_type": "code",
   "execution_count": 69,
   "id": "ac91bc71",
   "metadata": {},
   "outputs": [
    {
     "name": "stdout",
     "output_type": "stream",
     "text": [
      "Q1 :  2.0 Q2 :  3.5 Q3 :  5.25\n"
     ]
    }
   ],
   "source": [
    "print(\"Q1 : \", np.quantile(X,0.25),\n",
    "      \"Q2 : \", np.quantile(X,0.50),\n",
    "      \"Q3 : \", np.quantile(X,0.75))"
   ]
  },
  {
   "cell_type": "code",
   "execution_count": 71,
   "id": "075f5c8c",
   "metadata": {},
   "outputs": [
    {
     "data": {
      "text/html": [
       "<div>\n",
       "<style scoped>\n",
       "    .dataframe tbody tr th:only-of-type {\n",
       "        vertical-align: middle;\n",
       "    }\n",
       "\n",
       "    .dataframe tbody tr th {\n",
       "        vertical-align: top;\n",
       "    }\n",
       "\n",
       "    .dataframe thead th {\n",
       "        text-align: right;\n",
       "    }\n",
       "</style>\n",
       "<table border=\"1\" class=\"dataframe\">\n",
       "  <thead>\n",
       "    <tr style=\"text-align: right;\">\n",
       "      <th></th>\n",
       "      <th>values</th>\n",
       "    </tr>\n",
       "  </thead>\n",
       "  <tbody>\n",
       "    <tr>\n",
       "      <th>0.25</th>\n",
       "      <td>2.00</td>\n",
       "    </tr>\n",
       "    <tr>\n",
       "      <th>0.50</th>\n",
       "      <td>3.50</td>\n",
       "    </tr>\n",
       "    <tr>\n",
       "      <th>0.75</th>\n",
       "      <td>5.25</td>\n",
       "    </tr>\n",
       "  </tbody>\n",
       "</table>\n",
       "</div>"
      ],
      "text/plain": [
       "      values\n",
       "0.25    2.00\n",
       "0.50    3.50\n",
       "0.75    5.25"
      ]
     },
     "execution_count": 71,
     "metadata": {},
     "output_type": "execute_result"
    }
   ],
   "source": [
    "#using pandas\n",
    "j.quantile([0.25,0.50,0.75])  "
   ]
  },
  {
   "cell_type": "code",
   "execution_count": 72,
   "id": "78ddd9bb",
   "metadata": {},
   "outputs": [
    {
     "data": {
      "text/html": [
       "<div>\n",
       "<style scoped>\n",
       "    .dataframe tbody tr th:only-of-type {\n",
       "        vertical-align: middle;\n",
       "    }\n",
       "\n",
       "    .dataframe tbody tr th {\n",
       "        vertical-align: top;\n",
       "    }\n",
       "\n",
       "    .dataframe thead th {\n",
       "        text-align: right;\n",
       "    }\n",
       "</style>\n",
       "<table border=\"1\" class=\"dataframe\">\n",
       "  <thead>\n",
       "    <tr style=\"text-align: right;\">\n",
       "      <th></th>\n",
       "      <th>values</th>\n",
       "    </tr>\n",
       "  </thead>\n",
       "  <tbody>\n",
       "    <tr>\n",
       "      <th>0.25</th>\n",
       "      <td>2.00</td>\n",
       "    </tr>\n",
       "    <tr>\n",
       "      <th>0.50</th>\n",
       "      <td>3.50</td>\n",
       "    </tr>\n",
       "    <tr>\n",
       "      <th>0.75</th>\n",
       "      <td>5.25</td>\n",
       "    </tr>\n",
       "  </tbody>\n",
       "</table>\n",
       "</div>"
      ],
      "text/plain": [
       "      values\n",
       "0.25    2.00\n",
       "0.50    3.50\n",
       "0.75    5.25"
      ]
     },
     "execution_count": 72,
     "metadata": {},
     "output_type": "execute_result"
    }
   ],
   "source": [
    "#using pandas\n",
    "j.quantile([0.25,0.50,0.75])  "
   ]
  },
  {
   "cell_type": "code",
   "execution_count": 73,
   "id": "f658829f",
   "metadata": {},
   "outputs": [
    {
     "data": {
      "text/plain": [
       "112"
      ]
     },
     "execution_count": 73,
     "metadata": {},
     "output_type": "execute_result"
    }
   ],
   "source": [
    "#Maximum\n",
    "X=[1,1,2,2,3,3,4,5,5,6,100,112]\n",
    "\n",
    "#using numpy\n",
    "np.max(X)"
   ]
  },
  {
   "cell_type": "code",
   "execution_count": 74,
   "id": "b674947e",
   "metadata": {},
   "outputs": [
    {
     "name": "stdout",
     "output_type": "stream",
     "text": [
      "Maximum :  112\n"
     ]
    }
   ],
   "source": [
    "print(\"Maximum : \", np.max(X))"
   ]
  },
  {
   "cell_type": "code",
   "execution_count": 75,
   "id": "61e4fc7a",
   "metadata": {},
   "outputs": [
    {
     "data": {
      "text/plain": [
       "values    112\n",
       "dtype: int64"
      ]
     },
     "execution_count": 75,
     "metadata": {},
     "output_type": "execute_result"
    }
   ],
   "source": [
    "#using pandas\n",
    "j.max()          "
   ]
  },
  {
   "cell_type": "markdown",
   "id": "efac7f3a",
   "metadata": {},
   "source": [
    "# Range"
   ]
  },
  {
   "cell_type": "code",
   "execution_count": 76,
   "id": "0abc8267",
   "metadata": {},
   "outputs": [
    {
     "data": {
      "text/plain": [
       "111"
      ]
     },
     "execution_count": 76,
     "metadata": {},
     "output_type": "execute_result"
    }
   ],
   "source": [
    "#Range\n",
    "#using numpy\n",
    "\n",
    "Ran=np.max(X) - np.min(X)\n",
    "Ran\n",
    "     "
   ]
  },
  {
   "cell_type": "code",
   "execution_count": 77,
   "id": "a42b3e5c",
   "metadata": {},
   "outputs": [
    {
     "data": {
      "text/plain": [
       "values    111\n",
       "dtype: int64"
      ]
     },
     "execution_count": 77,
     "metadata": {},
     "output_type": "execute_result"
    }
   ],
   "source": [
    "#using pandas\n",
    "Range = j.max()-j.min()\n",
    "Range"
   ]
  },
  {
   "cell_type": "markdown",
   "id": "b59e4ecf",
   "metadata": {},
   "source": [
    "# IQR"
   ]
  },
  {
   "cell_type": "code",
   "execution_count": 78,
   "id": "42967522",
   "metadata": {},
   "outputs": [
    {
     "data": {
      "text/plain": [
       "3.25"
      ]
     },
     "execution_count": 78,
     "metadata": {},
     "output_type": "execute_result"
    }
   ],
   "source": [
    "#IQR\n",
    "#using numpy\n",
    "IQR = np.quantile(X,0.75)-np.quantile(X,0.25)\n",
    "IQR"
   ]
  },
  {
   "cell_type": "code",
   "execution_count": 79,
   "id": "5b11fb44",
   "metadata": {},
   "outputs": [
    {
     "data": {
      "text/plain": [
       "values    3.25\n",
       "dtype: float64"
      ]
     },
     "execution_count": 79,
     "metadata": {},
     "output_type": "execute_result"
    }
   ],
   "source": [
    "#using pandas\n",
    "iqr=j.quantile(0.75)-j.quantile(0.25)\n",
    "iqr\n",
    "     "
   ]
  },
  {
   "cell_type": "markdown",
   "id": "57df3edf",
   "metadata": {},
   "source": [
    "# QD"
   ]
  },
  {
   "cell_type": "code",
   "execution_count": 80,
   "id": "e927bd52",
   "metadata": {},
   "outputs": [
    {
     "data": {
      "text/plain": [
       "1.625"
      ]
     },
     "execution_count": 80,
     "metadata": {},
     "output_type": "execute_result"
    }
   ],
   "source": [
    "#QD\n",
    "#using numpy\n",
    "QD = IQR/2\n",
    "QD"
   ]
  },
  {
   "cell_type": "code",
   "execution_count": 81,
   "id": "8631b0a1",
   "metadata": {},
   "outputs": [
    {
     "data": {
      "text/plain": [
       "values    1.625\n",
       "dtype: float64"
      ]
     },
     "execution_count": 81,
     "metadata": {},
     "output_type": "execute_result"
    }
   ],
   "source": [
    "#QD\n",
    "#using pandas\n",
    "qd =iqr/2\n",
    "qd"
   ]
  },
  {
   "cell_type": "markdown",
   "id": "68382aeb",
   "metadata": {},
   "source": [
    "# Example 3"
   ]
  },
  {
   "cell_type": "code",
   "execution_count": 82,
   "id": "d0f45458",
   "metadata": {},
   "outputs": [
    {
     "data": {
      "text/plain": [
       "26.923076923076923"
      ]
     },
     "execution_count": 82,
     "metadata": {},
     "output_type": "execute_result"
    }
   ],
   "source": [
    "#Example 3\n",
    "#mean \n",
    "\n",
    "import numpy as np\n",
    "X=[1,2,2,3,4,5,6,6,6,7,8,100,200]\n",
    "\n",
    "#using numpy\n",
    "np.mean(X)"
   ]
  },
  {
   "cell_type": "code",
   "execution_count": 83,
   "id": "47f7c3b7",
   "metadata": {},
   "outputs": [
    {
     "name": "stdout",
     "output_type": "stream",
     "text": [
      "mean :  26.923076923076923\n"
     ]
    }
   ],
   "source": [
    "print(\"mean : \", np.mean(X))"
   ]
  },
  {
   "cell_type": "code",
   "execution_count": 84,
   "id": "09fa2d79",
   "metadata": {},
   "outputs": [
    {
     "data": {
      "text/html": [
       "<div>\n",
       "<style scoped>\n",
       "    .dataframe tbody tr th:only-of-type {\n",
       "        vertical-align: middle;\n",
       "    }\n",
       "\n",
       "    .dataframe tbody tr th {\n",
       "        vertical-align: top;\n",
       "    }\n",
       "\n",
       "    .dataframe thead th {\n",
       "        text-align: right;\n",
       "    }\n",
       "</style>\n",
       "<table border=\"1\" class=\"dataframe\">\n",
       "  <thead>\n",
       "    <tr style=\"text-align: right;\">\n",
       "      <th></th>\n",
       "      <th>values</th>\n",
       "    </tr>\n",
       "  </thead>\n",
       "  <tbody>\n",
       "    <tr>\n",
       "      <th>0</th>\n",
       "      <td>1</td>\n",
       "    </tr>\n",
       "    <tr>\n",
       "      <th>1</th>\n",
       "      <td>2</td>\n",
       "    </tr>\n",
       "    <tr>\n",
       "      <th>2</th>\n",
       "      <td>2</td>\n",
       "    </tr>\n",
       "    <tr>\n",
       "      <th>3</th>\n",
       "      <td>3</td>\n",
       "    </tr>\n",
       "    <tr>\n",
       "      <th>4</th>\n",
       "      <td>4</td>\n",
       "    </tr>\n",
       "    <tr>\n",
       "      <th>5</th>\n",
       "      <td>5</td>\n",
       "    </tr>\n",
       "    <tr>\n",
       "      <th>6</th>\n",
       "      <td>6</td>\n",
       "    </tr>\n",
       "    <tr>\n",
       "      <th>7</th>\n",
       "      <td>6</td>\n",
       "    </tr>\n",
       "    <tr>\n",
       "      <th>8</th>\n",
       "      <td>6</td>\n",
       "    </tr>\n",
       "    <tr>\n",
       "      <th>9</th>\n",
       "      <td>7</td>\n",
       "    </tr>\n",
       "    <tr>\n",
       "      <th>10</th>\n",
       "      <td>8</td>\n",
       "    </tr>\n",
       "    <tr>\n",
       "      <th>11</th>\n",
       "      <td>100</td>\n",
       "    </tr>\n",
       "    <tr>\n",
       "      <th>12</th>\n",
       "      <td>200</td>\n",
       "    </tr>\n",
       "  </tbody>\n",
       "</table>\n",
       "</div>"
      ],
      "text/plain": [
       "    values\n",
       "0        1\n",
       "1        2\n",
       "2        2\n",
       "3        3\n",
       "4        4\n",
       "5        5\n",
       "6        6\n",
       "7        6\n",
       "8        6\n",
       "9        7\n",
       "10       8\n",
       "11     100\n",
       "12     200"
      ]
     },
     "execution_count": 84,
     "metadata": {},
     "output_type": "execute_result"
    }
   ],
   "source": [
    "#created the list into a table format\n",
    "import pandas as pd\n",
    "k=pd.DataFrame(data={'values': [1,2,2,3,4,5,6,6,6,7,8,100,200]})\n",
    "k"
   ]
  },
  {
   "cell_type": "code",
   "execution_count": 85,
   "id": "2439f6f5",
   "metadata": {},
   "outputs": [
    {
     "data": {
      "text/plain": [
       "values    26.923077\n",
       "dtype: float64"
      ]
     },
     "execution_count": 85,
     "metadata": {},
     "output_type": "execute_result"
    }
   ],
   "source": [
    "#mean using pandas\n",
    "k.mean()"
   ]
  },
  {
   "cell_type": "code",
   "execution_count": 86,
   "id": "f32f0912",
   "metadata": {},
   "outputs": [
    {
     "data": {
      "text/html": [
       "<div>\n",
       "<style scoped>\n",
       "    .dataframe tbody tr th:only-of-type {\n",
       "        vertical-align: middle;\n",
       "    }\n",
       "\n",
       "    .dataframe tbody tr th {\n",
       "        vertical-align: top;\n",
       "    }\n",
       "\n",
       "    .dataframe thead th {\n",
       "        text-align: right;\n",
       "    }\n",
       "</style>\n",
       "<table border=\"1\" class=\"dataframe\">\n",
       "  <thead>\n",
       "    <tr style=\"text-align: right;\">\n",
       "      <th></th>\n",
       "      <th>values</th>\n",
       "    </tr>\n",
       "  </thead>\n",
       "  <tbody>\n",
       "    <tr>\n",
       "      <th>count</th>\n",
       "      <td>13.000000</td>\n",
       "    </tr>\n",
       "    <tr>\n",
       "      <th>mean</th>\n",
       "      <td>26.923077</td>\n",
       "    </tr>\n",
       "    <tr>\n",
       "      <th>std</th>\n",
       "      <td>58.350181</td>\n",
       "    </tr>\n",
       "    <tr>\n",
       "      <th>min</th>\n",
       "      <td>1.000000</td>\n",
       "    </tr>\n",
       "    <tr>\n",
       "      <th>25%</th>\n",
       "      <td>3.000000</td>\n",
       "    </tr>\n",
       "    <tr>\n",
       "      <th>50%</th>\n",
       "      <td>6.000000</td>\n",
       "    </tr>\n",
       "    <tr>\n",
       "      <th>75%</th>\n",
       "      <td>7.000000</td>\n",
       "    </tr>\n",
       "    <tr>\n",
       "      <th>max</th>\n",
       "      <td>200.000000</td>\n",
       "    </tr>\n",
       "  </tbody>\n",
       "</table>\n",
       "</div>"
      ],
      "text/plain": [
       "           values\n",
       "count   13.000000\n",
       "mean    26.923077\n",
       "std     58.350181\n",
       "min      1.000000\n",
       "25%      3.000000\n",
       "50%      6.000000\n",
       "75%      7.000000\n",
       "max    200.000000"
      ]
     },
     "execution_count": 86,
     "metadata": {},
     "output_type": "execute_result"
    }
   ],
   "source": [
    "k.describe()"
   ]
  },
  {
   "cell_type": "code",
   "execution_count": 87,
   "id": "e6a6889a",
   "metadata": {},
   "outputs": [
    {
     "data": {
      "text/plain": [
       "6.0"
      ]
     },
     "execution_count": 87,
     "metadata": {},
     "output_type": "execute_result"
    }
   ],
   "source": [
    "#median\n",
    "X=[1,2,2,3,4,5,6,6,6,7,8,100,200]\n",
    "\n",
    "#using numpy\n",
    "np.median(X)"
   ]
  },
  {
   "cell_type": "code",
   "execution_count": 88,
   "id": "e7ed5be2",
   "metadata": {},
   "outputs": [
    {
     "name": "stdout",
     "output_type": "stream",
     "text": [
      "median :  6.0\n"
     ]
    }
   ],
   "source": [
    "print(\"median : \", np.median(X))"
   ]
  },
  {
   "cell_type": "code",
   "execution_count": 89,
   "id": "c9493292",
   "metadata": {},
   "outputs": [
    {
     "data": {
      "text/plain": [
       "values    6.0\n",
       "dtype: float64"
      ]
     },
     "execution_count": 89,
     "metadata": {},
     "output_type": "execute_result"
    }
   ],
   "source": [
    "#using pandas\n",
    "k.median()"
   ]
  },
  {
   "cell_type": "code",
   "execution_count": 90,
   "id": "393b5b96",
   "metadata": {},
   "outputs": [
    {
     "data": {
      "text/html": [
       "<div>\n",
       "<style scoped>\n",
       "    .dataframe tbody tr th:only-of-type {\n",
       "        vertical-align: middle;\n",
       "    }\n",
       "\n",
       "    .dataframe tbody tr th {\n",
       "        vertical-align: top;\n",
       "    }\n",
       "\n",
       "    .dataframe thead th {\n",
       "        text-align: right;\n",
       "    }\n",
       "</style>\n",
       "<table border=\"1\" class=\"dataframe\">\n",
       "  <thead>\n",
       "    <tr style=\"text-align: right;\">\n",
       "      <th></th>\n",
       "      <th>values</th>\n",
       "    </tr>\n",
       "  </thead>\n",
       "  <tbody>\n",
       "    <tr>\n",
       "      <th>count</th>\n",
       "      <td>13.000000</td>\n",
       "    </tr>\n",
       "    <tr>\n",
       "      <th>mean</th>\n",
       "      <td>26.923077</td>\n",
       "    </tr>\n",
       "    <tr>\n",
       "      <th>std</th>\n",
       "      <td>58.350181</td>\n",
       "    </tr>\n",
       "    <tr>\n",
       "      <th>min</th>\n",
       "      <td>1.000000</td>\n",
       "    </tr>\n",
       "    <tr>\n",
       "      <th>25%</th>\n",
       "      <td>3.000000</td>\n",
       "    </tr>\n",
       "    <tr>\n",
       "      <th>50%</th>\n",
       "      <td>6.000000</td>\n",
       "    </tr>\n",
       "    <tr>\n",
       "      <th>75%</th>\n",
       "      <td>7.000000</td>\n",
       "    </tr>\n",
       "    <tr>\n",
       "      <th>max</th>\n",
       "      <td>200.000000</td>\n",
       "    </tr>\n",
       "  </tbody>\n",
       "</table>\n",
       "</div>"
      ],
      "text/plain": [
       "           values\n",
       "count   13.000000\n",
       "mean    26.923077\n",
       "std     58.350181\n",
       "min      1.000000\n",
       "25%      3.000000\n",
       "50%      6.000000\n",
       "75%      7.000000\n",
       "max    200.000000"
      ]
     },
     "execution_count": 90,
     "metadata": {},
     "output_type": "execute_result"
    }
   ],
   "source": [
    "\n",
    "k.describe()"
   ]
  },
  {
   "cell_type": "code",
   "execution_count": null,
   "id": "50148c01",
   "metadata": {},
   "outputs": [],
   "source": [
    "#mode\n",
    "#numpy does not has an attribute mode"
   ]
  },
  {
   "cell_type": "code",
   "execution_count": 91,
   "id": "b30f4ac9",
   "metadata": {},
   "outputs": [
    {
     "data": {
      "text/html": [
       "<div>\n",
       "<style scoped>\n",
       "    .dataframe tbody tr th:only-of-type {\n",
       "        vertical-align: middle;\n",
       "    }\n",
       "\n",
       "    .dataframe tbody tr th {\n",
       "        vertical-align: top;\n",
       "    }\n",
       "\n",
       "    .dataframe thead th {\n",
       "        text-align: right;\n",
       "    }\n",
       "</style>\n",
       "<table border=\"1\" class=\"dataframe\">\n",
       "  <thead>\n",
       "    <tr style=\"text-align: right;\">\n",
       "      <th></th>\n",
       "      <th>values</th>\n",
       "    </tr>\n",
       "  </thead>\n",
       "  <tbody>\n",
       "    <tr>\n",
       "      <th>0</th>\n",
       "      <td>6</td>\n",
       "    </tr>\n",
       "  </tbody>\n",
       "</table>\n",
       "</div>"
      ],
      "text/plain": [
       "   values\n",
       "0       6"
      ]
     },
     "execution_count": 91,
     "metadata": {},
     "output_type": "execute_result"
    }
   ],
   "source": [
    "#using pandas\n",
    "k.mode()    \n",
    "     "
   ]
  },
  {
   "cell_type": "markdown",
   "id": "ed05023d",
   "metadata": {},
   "source": [
    "# Measure of Dispersion"
   ]
  },
  {
   "cell_type": "code",
   "execution_count": 92,
   "id": "b6cc6edd",
   "metadata": {},
   "outputs": [
    {
     "data": {
      "text/plain": [
       "3142.84023668639"
      ]
     },
     "execution_count": 92,
     "metadata": {},
     "output_type": "execute_result"
    }
   ],
   "source": [
    "#variance\n",
    "X=[1,2,2,3,4,5,6,6,6,7,8,100,200]\n",
    "\n",
    "#using numpy\n",
    "np.var(X)"
   ]
  },
  {
   "cell_type": "code",
   "execution_count": 93,
   "id": "50160637",
   "metadata": {},
   "outputs": [
    {
     "name": "stdout",
     "output_type": "stream",
     "text": [
      "Variance :  3142.84023668639\n"
     ]
    }
   ],
   "source": [
    "print(\"Variance : \", np.var(X))"
   ]
  },
  {
   "cell_type": "code",
   "execution_count": 94,
   "id": "d368d7c8",
   "metadata": {},
   "outputs": [
    {
     "data": {
      "text/plain": [
       "values    3404.74359\n",
       "dtype: float64"
      ]
     },
     "execution_count": 94,
     "metadata": {},
     "output_type": "execute_result"
    }
   ],
   "source": [
    "#using pandas\n",
    "k.var() "
   ]
  },
  {
   "cell_type": "code",
   "execution_count": 96,
   "id": "3df2aebc",
   "metadata": {},
   "outputs": [
    {
     "data": {
      "text/plain": [
       "56.0610402747433"
      ]
     },
     "execution_count": 96,
     "metadata": {},
     "output_type": "execute_result"
    }
   ],
   "source": [
    "#standard deviation\n",
    "X=[1,2,2,3,4,5,6,6,6,7,8,100,200]\n",
    "\n",
    "#using numpy\n",
    "np.std(X)"
   ]
  },
  {
   "cell_type": "code",
   "execution_count": 97,
   "id": "ba4d9772",
   "metadata": {},
   "outputs": [
    {
     "name": "stdout",
     "output_type": "stream",
     "text": [
      "Variance :  56.0610402747433\n"
     ]
    }
   ],
   "source": [
    "\n",
    "print(\"Variance : \", np.std(X))"
   ]
  },
  {
   "cell_type": "code",
   "execution_count": 98,
   "id": "3a2b00d9",
   "metadata": {},
   "outputs": [
    {
     "data": {
      "text/plain": [
       "values    58.350181\n",
       "dtype: float64"
      ]
     },
     "execution_count": 98,
     "metadata": {},
     "output_type": "execute_result"
    }
   ],
   "source": [
    "#using pandas\n",
    "k.std()"
   ]
  },
  {
   "cell_type": "markdown",
   "id": "e2c792d5",
   "metadata": {},
   "source": [
    "# 5 Number Summary"
   ]
  },
  {
   "cell_type": "markdown",
   "id": "d91b86ba",
   "metadata": {},
   "source": [
    "1.Minimum\n",
    "2.1st quartile -Q1\n",
    "3.2nd quartile -Q2(Median)\n",
    "4.3rd quartile -Q3\n",
    "5.Maximum"
   ]
  },
  {
   "cell_type": "code",
   "execution_count": 100,
   "id": "a65c4544",
   "metadata": {},
   "outputs": [
    {
     "data": {
      "text/plain": [
       "1"
      ]
     },
     "execution_count": 100,
     "metadata": {},
     "output_type": "execute_result"
    }
   ],
   "source": [
    "#Minimum\n",
    "X=[1,2,2,3,4,5,6,6,6,7,8,100,200]\n",
    "\n",
    "#using numpy\n",
    "np.min(X)"
   ]
  },
  {
   "cell_type": "code",
   "execution_count": 101,
   "id": "291cec0b",
   "metadata": {},
   "outputs": [
    {
     "name": "stdout",
     "output_type": "stream",
     "text": [
      "Minimum :  1\n"
     ]
    }
   ],
   "source": [
    "print(\"Minimum : \", np.min(X))"
   ]
  },
  {
   "cell_type": "code",
   "execution_count": 102,
   "id": "5782ac5c",
   "metadata": {},
   "outputs": [
    {
     "data": {
      "text/plain": [
       "values    1\n",
       "dtype: int64"
      ]
     },
     "execution_count": 102,
     "metadata": {},
     "output_type": "execute_result"
    }
   ],
   "source": [
    "#using pandas\n",
    "k.min() "
   ]
  },
  {
   "cell_type": "code",
   "execution_count": 103,
   "id": "97af1bc3",
   "metadata": {},
   "outputs": [
    {
     "data": {
      "text/plain": [
       "array([3., 6., 7.])"
      ]
     },
     "execution_count": 103,
     "metadata": {},
     "output_type": "execute_result"
    }
   ],
   "source": [
    "#quartiles\n",
    "X=[1,2,2,3,4,5,6,6,6,7,8,100,200]\n",
    "\n",
    "#using numpy\n",
    "np.quantile(X,[0.25,0.50,0.75])\n",
    "     "
   ]
  },
  {
   "cell_type": "code",
   "execution_count": 104,
   "id": "bab2e953",
   "metadata": {},
   "outputs": [
    {
     "name": "stdout",
     "output_type": "stream",
     "text": [
      "Q1 :  3.0 Q2 :  6.0 Q3 :  7.0\n"
     ]
    }
   ],
   "source": [
    "print(\"Q1 : \", np.quantile(X,0.25),\n",
    "      \"Q2 : \", np.quantile(X,0.50),\n",
    "      \"Q3 : \", np.quantile(X,0.75))\n",
    "     "
   ]
  },
  {
   "cell_type": "code",
   "execution_count": 105,
   "id": "2d1aca04",
   "metadata": {},
   "outputs": [
    {
     "data": {
      "text/html": [
       "<div>\n",
       "<style scoped>\n",
       "    .dataframe tbody tr th:only-of-type {\n",
       "        vertical-align: middle;\n",
       "    }\n",
       "\n",
       "    .dataframe tbody tr th {\n",
       "        vertical-align: top;\n",
       "    }\n",
       "\n",
       "    .dataframe thead th {\n",
       "        text-align: right;\n",
       "    }\n",
       "</style>\n",
       "<table border=\"1\" class=\"dataframe\">\n",
       "  <thead>\n",
       "    <tr style=\"text-align: right;\">\n",
       "      <th></th>\n",
       "      <th>values</th>\n",
       "    </tr>\n",
       "  </thead>\n",
       "  <tbody>\n",
       "    <tr>\n",
       "      <th>0.25</th>\n",
       "      <td>3.0</td>\n",
       "    </tr>\n",
       "    <tr>\n",
       "      <th>0.50</th>\n",
       "      <td>6.0</td>\n",
       "    </tr>\n",
       "    <tr>\n",
       "      <th>0.75</th>\n",
       "      <td>7.0</td>\n",
       "    </tr>\n",
       "  </tbody>\n",
       "</table>\n",
       "</div>"
      ],
      "text/plain": [
       "      values\n",
       "0.25     3.0\n",
       "0.50     6.0\n",
       "0.75     7.0"
      ]
     },
     "execution_count": 105,
     "metadata": {},
     "output_type": "execute_result"
    }
   ],
   "source": [
    "#using pandas\n",
    "k.quantile([0.25,0.50,0.75])"
   ]
  },
  {
   "cell_type": "code",
   "execution_count": 106,
   "id": "1b4aed7d",
   "metadata": {},
   "outputs": [
    {
     "data": {
      "text/html": [
       "<div>\n",
       "<style scoped>\n",
       "    .dataframe tbody tr th:only-of-type {\n",
       "        vertical-align: middle;\n",
       "    }\n",
       "\n",
       "    .dataframe tbody tr th {\n",
       "        vertical-align: top;\n",
       "    }\n",
       "\n",
       "    .dataframe thead th {\n",
       "        text-align: right;\n",
       "    }\n",
       "</style>\n",
       "<table border=\"1\" class=\"dataframe\">\n",
       "  <thead>\n",
       "    <tr style=\"text-align: right;\">\n",
       "      <th></th>\n",
       "      <th>values</th>\n",
       "    </tr>\n",
       "  </thead>\n",
       "  <tbody>\n",
       "    <tr>\n",
       "      <th>count</th>\n",
       "      <td>13.000000</td>\n",
       "    </tr>\n",
       "    <tr>\n",
       "      <th>mean</th>\n",
       "      <td>26.923077</td>\n",
       "    </tr>\n",
       "    <tr>\n",
       "      <th>std</th>\n",
       "      <td>58.350181</td>\n",
       "    </tr>\n",
       "    <tr>\n",
       "      <th>min</th>\n",
       "      <td>1.000000</td>\n",
       "    </tr>\n",
       "    <tr>\n",
       "      <th>25%</th>\n",
       "      <td>3.000000</td>\n",
       "    </tr>\n",
       "    <tr>\n",
       "      <th>50%</th>\n",
       "      <td>6.000000</td>\n",
       "    </tr>\n",
       "    <tr>\n",
       "      <th>75%</th>\n",
       "      <td>7.000000</td>\n",
       "    </tr>\n",
       "    <tr>\n",
       "      <th>max</th>\n",
       "      <td>200.000000</td>\n",
       "    </tr>\n",
       "  </tbody>\n",
       "</table>\n",
       "</div>"
      ],
      "text/plain": [
       "           values\n",
       "count   13.000000\n",
       "mean    26.923077\n",
       "std     58.350181\n",
       "min      1.000000\n",
       "25%      3.000000\n",
       "50%      6.000000\n",
       "75%      7.000000\n",
       "max    200.000000"
      ]
     },
     "execution_count": 106,
     "metadata": {},
     "output_type": "execute_result"
    }
   ],
   "source": [
    "\n",
    "k.describe()"
   ]
  },
  {
   "cell_type": "code",
   "execution_count": 107,
   "id": "e8e400a3",
   "metadata": {},
   "outputs": [
    {
     "data": {
      "text/plain": [
       "200"
      ]
     },
     "execution_count": 107,
     "metadata": {},
     "output_type": "execute_result"
    }
   ],
   "source": [
    "#Maximum\n",
    "X=[1,2,2,3,4,5,6,6,6,7,8,100,200]\n",
    "\n",
    "#using numpy\n",
    "np.max(X)\n",
    "     "
   ]
  },
  {
   "cell_type": "code",
   "execution_count": 108,
   "id": "8c482249",
   "metadata": {},
   "outputs": [
    {
     "name": "stdout",
     "output_type": "stream",
     "text": [
      "Maximum :  200\n"
     ]
    }
   ],
   "source": [
    "print(\"Maximum : \", np.max(X))"
   ]
  },
  {
   "cell_type": "code",
   "execution_count": 109,
   "id": "36f21fb0",
   "metadata": {},
   "outputs": [
    {
     "data": {
      "text/plain": [
       "values    200\n",
       "dtype: int64"
      ]
     },
     "execution_count": 109,
     "metadata": {},
     "output_type": "execute_result"
    }
   ],
   "source": [
    "#using pandas\n",
    "k.max()          \n",
    "     "
   ]
  },
  {
   "cell_type": "markdown",
   "id": "7e2c9edd",
   "metadata": {},
   "source": [
    "# Range"
   ]
  },
  {
   "cell_type": "code",
   "execution_count": 110,
   "id": "a8caff6a",
   "metadata": {},
   "outputs": [
    {
     "data": {
      "text/plain": [
       "199"
      ]
     },
     "execution_count": 110,
     "metadata": {},
     "output_type": "execute_result"
    }
   ],
   "source": [
    "#Range\n",
    "#using numpy\n",
    "\n",
    "Ran=np.max(X) - np.min(X)\n",
    "Ran"
   ]
  },
  {
   "cell_type": "code",
   "execution_count": 111,
   "id": "b32c199c",
   "metadata": {},
   "outputs": [
    {
     "data": {
      "text/plain": [
       "values    199\n",
       "dtype: int64"
      ]
     },
     "execution_count": 111,
     "metadata": {},
     "output_type": "execute_result"
    }
   ],
   "source": [
    "#using pandas\n",
    "Range = k.max()-k.min()\n",
    "Range"
   ]
  },
  {
   "cell_type": "markdown",
   "id": "c7d0a59a",
   "metadata": {},
   "source": [
    "# IQR"
   ]
  },
  {
   "cell_type": "code",
   "execution_count": 112,
   "id": "b2f3ce23",
   "metadata": {},
   "outputs": [
    {
     "data": {
      "text/plain": [
       "4.0"
      ]
     },
     "execution_count": 112,
     "metadata": {},
     "output_type": "execute_result"
    }
   ],
   "source": [
    "#IQR\n",
    "#using numpy\n",
    "IQR = np.quantile(X,0.75)-np.quantile(X,0.25)\n",
    "IQR"
   ]
  },
  {
   "cell_type": "code",
   "execution_count": 113,
   "id": "cefae189",
   "metadata": {},
   "outputs": [
    {
     "data": {
      "text/plain": [
       "values    4.0\n",
       "dtype: float64"
      ]
     },
     "execution_count": 113,
     "metadata": {},
     "output_type": "execute_result"
    }
   ],
   "source": [
    "#using pandas\n",
    "iqr=k.quantile(0.75)-k.quantile(0.25)\n",
    "iqr\n",
    "     "
   ]
  },
  {
   "cell_type": "markdown",
   "id": "b03276db",
   "metadata": {},
   "source": [
    "# QD"
   ]
  },
  {
   "cell_type": "code",
   "execution_count": 114,
   "id": "d3b7458c",
   "metadata": {},
   "outputs": [
    {
     "data": {
      "text/plain": [
       "2.0"
      ]
     },
     "execution_count": 114,
     "metadata": {},
     "output_type": "execute_result"
    }
   ],
   "source": [
    "#QD\n",
    "#using numpy\n",
    "QD = IQR/2\n",
    "QD"
   ]
  },
  {
   "cell_type": "code",
   "execution_count": 115,
   "id": "7f8c2599",
   "metadata": {},
   "outputs": [
    {
     "data": {
      "text/plain": [
       "values    2.0\n",
       "dtype: float64"
      ]
     },
     "execution_count": 115,
     "metadata": {},
     "output_type": "execute_result"
    }
   ],
   "source": [
    "#QD\n",
    "#using pandas\n",
    "qd =iqr/2\n",
    "qd\n",
    "     "
   ]
  },
  {
   "cell_type": "markdown",
   "id": "94183e3f",
   "metadata": {},
   "source": [
    "# Example 4"
   ]
  },
  {
   "cell_type": "code",
   "execution_count": 116,
   "id": "0f24f543",
   "metadata": {},
   "outputs": [
    {
     "data": {
      "text/plain": [
       "382.14285714285717"
      ]
     },
     "execution_count": 116,
     "metadata": {},
     "output_type": "execute_result"
    }
   ],
   "source": [
    "#Example 4\n",
    "#mean \n",
    "\n",
    "import numpy as np\n",
    "X=[1,2,2,3,4,5,6,6,6,7,8,100,200,5000]\n",
    "\n",
    "#using numpy\n",
    "np.mean(X)"
   ]
  },
  {
   "cell_type": "code",
   "execution_count": 117,
   "id": "b268844f",
   "metadata": {},
   "outputs": [
    {
     "data": {
      "text/html": [
       "<div>\n",
       "<style scoped>\n",
       "    .dataframe tbody tr th:only-of-type {\n",
       "        vertical-align: middle;\n",
       "    }\n",
       "\n",
       "    .dataframe tbody tr th {\n",
       "        vertical-align: top;\n",
       "    }\n",
       "\n",
       "    .dataframe thead th {\n",
       "        text-align: right;\n",
       "    }\n",
       "</style>\n",
       "<table border=\"1\" class=\"dataframe\">\n",
       "  <thead>\n",
       "    <tr style=\"text-align: right;\">\n",
       "      <th></th>\n",
       "      <th>values</th>\n",
       "    </tr>\n",
       "  </thead>\n",
       "  <tbody>\n",
       "    <tr>\n",
       "      <th>0</th>\n",
       "      <td>1</td>\n",
       "    </tr>\n",
       "    <tr>\n",
       "      <th>1</th>\n",
       "      <td>2</td>\n",
       "    </tr>\n",
       "    <tr>\n",
       "      <th>2</th>\n",
       "      <td>2</td>\n",
       "    </tr>\n",
       "    <tr>\n",
       "      <th>3</th>\n",
       "      <td>3</td>\n",
       "    </tr>\n",
       "    <tr>\n",
       "      <th>4</th>\n",
       "      <td>4</td>\n",
       "    </tr>\n",
       "    <tr>\n",
       "      <th>5</th>\n",
       "      <td>5</td>\n",
       "    </tr>\n",
       "    <tr>\n",
       "      <th>6</th>\n",
       "      <td>6</td>\n",
       "    </tr>\n",
       "    <tr>\n",
       "      <th>7</th>\n",
       "      <td>6</td>\n",
       "    </tr>\n",
       "    <tr>\n",
       "      <th>8</th>\n",
       "      <td>6</td>\n",
       "    </tr>\n",
       "    <tr>\n",
       "      <th>9</th>\n",
       "      <td>7</td>\n",
       "    </tr>\n",
       "    <tr>\n",
       "      <th>10</th>\n",
       "      <td>8</td>\n",
       "    </tr>\n",
       "    <tr>\n",
       "      <th>11</th>\n",
       "      <td>100</td>\n",
       "    </tr>\n",
       "    <tr>\n",
       "      <th>12</th>\n",
       "      <td>200</td>\n",
       "    </tr>\n",
       "    <tr>\n",
       "      <th>13</th>\n",
       "      <td>5000</td>\n",
       "    </tr>\n",
       "  </tbody>\n",
       "</table>\n",
       "</div>"
      ],
      "text/plain": [
       "    values\n",
       "0        1\n",
       "1        2\n",
       "2        2\n",
       "3        3\n",
       "4        4\n",
       "5        5\n",
       "6        6\n",
       "7        6\n",
       "8        6\n",
       "9        7\n",
       "10       8\n",
       "11     100\n",
       "12     200\n",
       "13    5000"
      ]
     },
     "execution_count": 117,
     "metadata": {},
     "output_type": "execute_result"
    }
   ],
   "source": [
    "#created the list into a table format\n",
    "import pandas as pd\n",
    "b=pd.DataFrame(data={'values': [1,2,2,3,4,5,6,6,6,7,8,100,200,5000]})\n",
    "b"
   ]
  },
  {
   "cell_type": "code",
   "execution_count": 118,
   "id": "19acd93d",
   "metadata": {},
   "outputs": [
    {
     "data": {
      "text/plain": [
       "values    382.142857\n",
       "dtype: float64"
      ]
     },
     "execution_count": 118,
     "metadata": {},
     "output_type": "execute_result"
    }
   ],
   "source": [
    "#mean using pandas\n",
    "b.mean()"
   ]
  },
  {
   "cell_type": "code",
   "execution_count": 119,
   "id": "2c31a72f",
   "metadata": {},
   "outputs": [
    {
     "data": {
      "text/html": [
       "<div>\n",
       "<style scoped>\n",
       "    .dataframe tbody tr th:only-of-type {\n",
       "        vertical-align: middle;\n",
       "    }\n",
       "\n",
       "    .dataframe tbody tr th {\n",
       "        vertical-align: top;\n",
       "    }\n",
       "\n",
       "    .dataframe thead th {\n",
       "        text-align: right;\n",
       "    }\n",
       "</style>\n",
       "<table border=\"1\" class=\"dataframe\">\n",
       "  <thead>\n",
       "    <tr style=\"text-align: right;\">\n",
       "      <th></th>\n",
       "      <th>values</th>\n",
       "    </tr>\n",
       "  </thead>\n",
       "  <tbody>\n",
       "    <tr>\n",
       "      <th>count</th>\n",
       "      <td>14.000000</td>\n",
       "    </tr>\n",
       "    <tr>\n",
       "      <th>mean</th>\n",
       "      <td>382.142857</td>\n",
       "    </tr>\n",
       "    <tr>\n",
       "      <th>std</th>\n",
       "      <td>1330.292499</td>\n",
       "    </tr>\n",
       "    <tr>\n",
       "      <th>min</th>\n",
       "      <td>1.000000</td>\n",
       "    </tr>\n",
       "    <tr>\n",
       "      <th>25%</th>\n",
       "      <td>3.250000</td>\n",
       "    </tr>\n",
       "    <tr>\n",
       "      <th>50%</th>\n",
       "      <td>6.000000</td>\n",
       "    </tr>\n",
       "    <tr>\n",
       "      <th>75%</th>\n",
       "      <td>7.750000</td>\n",
       "    </tr>\n",
       "    <tr>\n",
       "      <th>max</th>\n",
       "      <td>5000.000000</td>\n",
       "    </tr>\n",
       "  </tbody>\n",
       "</table>\n",
       "</div>"
      ],
      "text/plain": [
       "            values\n",
       "count    14.000000\n",
       "mean    382.142857\n",
       "std    1330.292499\n",
       "min       1.000000\n",
       "25%       3.250000\n",
       "50%       6.000000\n",
       "75%       7.750000\n",
       "max    5000.000000"
      ]
     },
     "execution_count": 119,
     "metadata": {},
     "output_type": "execute_result"
    }
   ],
   "source": [
    "\n",
    "b.describe()"
   ]
  },
  {
   "cell_type": "code",
   "execution_count": 120,
   "id": "b514c89c",
   "metadata": {},
   "outputs": [
    {
     "data": {
      "text/plain": [
       "6.0"
      ]
     },
     "execution_count": 120,
     "metadata": {},
     "output_type": "execute_result"
    }
   ],
   "source": [
    "#median\n",
    "X=[1,2,2,3,4,5,6,6,6,7,8,100,200,5000]\n",
    "\n",
    "#using numpy\n",
    "np.median(X)"
   ]
  },
  {
   "cell_type": "code",
   "execution_count": 121,
   "id": "8e13c088",
   "metadata": {},
   "outputs": [
    {
     "name": "stdout",
     "output_type": "stream",
     "text": [
      "median :  6.0\n"
     ]
    }
   ],
   "source": [
    "print(\"median : \", np.median(X))"
   ]
  },
  {
   "cell_type": "code",
   "execution_count": 122,
   "id": "7459bb21",
   "metadata": {},
   "outputs": [
    {
     "data": {
      "text/plain": [
       "values    6.0\n",
       "dtype: float64"
      ]
     },
     "execution_count": 122,
     "metadata": {},
     "output_type": "execute_result"
    }
   ],
   "source": [
    "#using pandas\n",
    "b.median()\n",
    "     "
   ]
  },
  {
   "cell_type": "code",
   "execution_count": 123,
   "id": "20fffeb2",
   "metadata": {},
   "outputs": [
    {
     "data": {
      "text/html": [
       "<div>\n",
       "<style scoped>\n",
       "    .dataframe tbody tr th:only-of-type {\n",
       "        vertical-align: middle;\n",
       "    }\n",
       "\n",
       "    .dataframe tbody tr th {\n",
       "        vertical-align: top;\n",
       "    }\n",
       "\n",
       "    .dataframe thead th {\n",
       "        text-align: right;\n",
       "    }\n",
       "</style>\n",
       "<table border=\"1\" class=\"dataframe\">\n",
       "  <thead>\n",
       "    <tr style=\"text-align: right;\">\n",
       "      <th></th>\n",
       "      <th>values</th>\n",
       "    </tr>\n",
       "  </thead>\n",
       "  <tbody>\n",
       "    <tr>\n",
       "      <th>count</th>\n",
       "      <td>14.000000</td>\n",
       "    </tr>\n",
       "    <tr>\n",
       "      <th>mean</th>\n",
       "      <td>382.142857</td>\n",
       "    </tr>\n",
       "    <tr>\n",
       "      <th>std</th>\n",
       "      <td>1330.292499</td>\n",
       "    </tr>\n",
       "    <tr>\n",
       "      <th>min</th>\n",
       "      <td>1.000000</td>\n",
       "    </tr>\n",
       "    <tr>\n",
       "      <th>25%</th>\n",
       "      <td>3.250000</td>\n",
       "    </tr>\n",
       "    <tr>\n",
       "      <th>50%</th>\n",
       "      <td>6.000000</td>\n",
       "    </tr>\n",
       "    <tr>\n",
       "      <th>75%</th>\n",
       "      <td>7.750000</td>\n",
       "    </tr>\n",
       "    <tr>\n",
       "      <th>max</th>\n",
       "      <td>5000.000000</td>\n",
       "    </tr>\n",
       "  </tbody>\n",
       "</table>\n",
       "</div>"
      ],
      "text/plain": [
       "            values\n",
       "count    14.000000\n",
       "mean    382.142857\n",
       "std    1330.292499\n",
       "min       1.000000\n",
       "25%       3.250000\n",
       "50%       6.000000\n",
       "75%       7.750000\n",
       "max    5000.000000"
      ]
     },
     "execution_count": 123,
     "metadata": {},
     "output_type": "execute_result"
    }
   ],
   "source": [
    "b.describe()"
   ]
  },
  {
   "cell_type": "code",
   "execution_count": null,
   "id": "77d1b6d6",
   "metadata": {},
   "outputs": [],
   "source": [
    "#mode\n",
    "#numpy does not has an attribute mode"
   ]
  },
  {
   "cell_type": "code",
   "execution_count": 124,
   "id": "c2715934",
   "metadata": {},
   "outputs": [
    {
     "data": {
      "text/html": [
       "<div>\n",
       "<style scoped>\n",
       "    .dataframe tbody tr th:only-of-type {\n",
       "        vertical-align: middle;\n",
       "    }\n",
       "\n",
       "    .dataframe tbody tr th {\n",
       "        vertical-align: top;\n",
       "    }\n",
       "\n",
       "    .dataframe thead th {\n",
       "        text-align: right;\n",
       "    }\n",
       "</style>\n",
       "<table border=\"1\" class=\"dataframe\">\n",
       "  <thead>\n",
       "    <tr style=\"text-align: right;\">\n",
       "      <th></th>\n",
       "      <th>values</th>\n",
       "    </tr>\n",
       "  </thead>\n",
       "  <tbody>\n",
       "    <tr>\n",
       "      <th>0</th>\n",
       "      <td>6</td>\n",
       "    </tr>\n",
       "  </tbody>\n",
       "</table>\n",
       "</div>"
      ],
      "text/plain": [
       "   values\n",
       "0       6"
      ]
     },
     "execution_count": 124,
     "metadata": {},
     "output_type": "execute_result"
    }
   ],
   "source": [
    "#using pandas\n",
    "b.mode() "
   ]
  },
  {
   "cell_type": "markdown",
   "id": "1c8949f9",
   "metadata": {},
   "source": [
    "# Measure of Dispersion"
   ]
  },
  {
   "cell_type": "code",
   "execution_count": 125,
   "id": "ff642432",
   "metadata": {},
   "outputs": [
    {
     "data": {
      "text/plain": [
       "1643272.5510204083"
      ]
     },
     "execution_count": 125,
     "metadata": {},
     "output_type": "execute_result"
    }
   ],
   "source": [
    "#variance\n",
    "X=[1,2,2,3,4,5,6,6,6,7,8,100,200,5000]\n",
    "\n",
    "#using numpy\n",
    "np.var(X)"
   ]
  },
  {
   "cell_type": "code",
   "execution_count": 126,
   "id": "8f82a3cb",
   "metadata": {},
   "outputs": [
    {
     "name": "stdout",
     "output_type": "stream",
     "text": [
      "Variance :  1643272.5510204083\n"
     ]
    }
   ],
   "source": [
    "print(\"Variance : \", np.var(X))"
   ]
  },
  {
   "cell_type": "code",
   "execution_count": 127,
   "id": "c8da8794",
   "metadata": {},
   "outputs": [
    {
     "data": {
      "text/plain": [
       "values    1.769678e+06\n",
       "dtype: float64"
      ]
     },
     "execution_count": 127,
     "metadata": {},
     "output_type": "execute_result"
    }
   ],
   "source": [
    "#using pandas\n",
    "b.var()          \n",
    "     "
   ]
  },
  {
   "cell_type": "code",
   "execution_count": 128,
   "id": "9315bcaa",
   "metadata": {},
   "outputs": [
    {
     "data": {
      "text/plain": [
       "1281.9019272239232"
      ]
     },
     "execution_count": 128,
     "metadata": {},
     "output_type": "execute_result"
    }
   ],
   "source": [
    "#standard deviation\n",
    "X=[1,2,2,3,4,5,6,6,6,7,8,100,200,5000]\n",
    "\n",
    "#using numpy\n",
    "np.std(X)"
   ]
  },
  {
   "cell_type": "code",
   "execution_count": 129,
   "id": "5530d312",
   "metadata": {},
   "outputs": [
    {
     "name": "stdout",
     "output_type": "stream",
     "text": [
      "Variance :  1281.9019272239232\n"
     ]
    }
   ],
   "source": [
    "print(\"Variance : \", np.std(X))"
   ]
  },
  {
   "cell_type": "code",
   "execution_count": 130,
   "id": "7bb96002",
   "metadata": {},
   "outputs": [
    {
     "data": {
      "text/plain": [
       "values    1330.292499\n",
       "dtype: float64"
      ]
     },
     "execution_count": 130,
     "metadata": {},
     "output_type": "execute_result"
    }
   ],
   "source": [
    "#using pandas\n",
    "b.std() "
   ]
  },
  {
   "cell_type": "markdown",
   "id": "9c5abea2",
   "metadata": {},
   "source": [
    "# 5 Number summary"
   ]
  },
  {
   "cell_type": "markdown",
   "id": "03eca21b",
   "metadata": {},
   "source": [
    "Minimum,\n",
    "1st quartile -Q1,\n",
    "2nd quartile -Q2(Median),\n",
    "3rd quartile -Q3,\n",
    "Maximum"
   ]
  },
  {
   "cell_type": "code",
   "execution_count": 132,
   "id": "3b28dad8",
   "metadata": {},
   "outputs": [
    {
     "data": {
      "text/plain": [
       "1"
      ]
     },
     "execution_count": 132,
     "metadata": {},
     "output_type": "execute_result"
    }
   ],
   "source": [
    "#Minimum\n",
    "X=[1,2,2,3,4,5,6,6,6,7,8,100,200,5000]\n",
    "\n",
    "#using numpy\n",
    "np.min(X)"
   ]
  },
  {
   "cell_type": "code",
   "execution_count": 133,
   "id": "3dbab94d",
   "metadata": {},
   "outputs": [
    {
     "name": "stdout",
     "output_type": "stream",
     "text": [
      "Minimum :  1\n"
     ]
    }
   ],
   "source": [
    "print(\"Minimum : \", np.min(X))\n"
   ]
  },
  {
   "cell_type": "code",
   "execution_count": 134,
   "id": "986a16a1",
   "metadata": {},
   "outputs": [
    {
     "data": {
      "text/plain": [
       "values    1\n",
       "dtype: int64"
      ]
     },
     "execution_count": 134,
     "metadata": {},
     "output_type": "execute_result"
    }
   ],
   "source": [
    "#using pandas\n",
    "b.min() "
   ]
  },
  {
   "cell_type": "code",
   "execution_count": 135,
   "id": "f4d6fab5",
   "metadata": {},
   "outputs": [
    {
     "data": {
      "text/plain": [
       "array([3.25, 6.  , 7.75])"
      ]
     },
     "execution_count": 135,
     "metadata": {},
     "output_type": "execute_result"
    }
   ],
   "source": [
    "#quartiles\n",
    "X=[1,2,2,3,4,5,6,6,6,7,8,100,200,5000]\n",
    "\n",
    "#using numpy\n",
    "np.quantile(X,[0.25,0.50,0.75])"
   ]
  },
  {
   "cell_type": "code",
   "execution_count": 136,
   "id": "fbe8befe",
   "metadata": {},
   "outputs": [
    {
     "name": "stdout",
     "output_type": "stream",
     "text": [
      "Q1 :  3.25 Q2 :  6.0 Q3 :  7.75\n"
     ]
    }
   ],
   "source": [
    "print(\"Q1 : \", np.quantile(X,0.25),\n",
    "      \"Q2 : \", np.quantile(X,0.50),\n",
    "      \"Q3 : \", np.quantile(X,0.75))"
   ]
  },
  {
   "cell_type": "code",
   "execution_count": 137,
   "id": "5ce1a672",
   "metadata": {},
   "outputs": [
    {
     "data": {
      "text/html": [
       "<div>\n",
       "<style scoped>\n",
       "    .dataframe tbody tr th:only-of-type {\n",
       "        vertical-align: middle;\n",
       "    }\n",
       "\n",
       "    .dataframe tbody tr th {\n",
       "        vertical-align: top;\n",
       "    }\n",
       "\n",
       "    .dataframe thead th {\n",
       "        text-align: right;\n",
       "    }\n",
       "</style>\n",
       "<table border=\"1\" class=\"dataframe\">\n",
       "  <thead>\n",
       "    <tr style=\"text-align: right;\">\n",
       "      <th></th>\n",
       "      <th>values</th>\n",
       "    </tr>\n",
       "  </thead>\n",
       "  <tbody>\n",
       "    <tr>\n",
       "      <th>0.25</th>\n",
       "      <td>3.25</td>\n",
       "    </tr>\n",
       "    <tr>\n",
       "      <th>0.50</th>\n",
       "      <td>6.00</td>\n",
       "    </tr>\n",
       "    <tr>\n",
       "      <th>0.75</th>\n",
       "      <td>7.75</td>\n",
       "    </tr>\n",
       "  </tbody>\n",
       "</table>\n",
       "</div>"
      ],
      "text/plain": [
       "      values\n",
       "0.25    3.25\n",
       "0.50    6.00\n",
       "0.75    7.75"
      ]
     },
     "execution_count": 137,
     "metadata": {},
     "output_type": "execute_result"
    }
   ],
   "source": [
    "#using pandas\n",
    "b.quantile([0.25,0.50,0.75])          "
   ]
  },
  {
   "cell_type": "code",
   "execution_count": 138,
   "id": "497d2ad9",
   "metadata": {},
   "outputs": [
    {
     "data": {
      "text/html": [
       "<div>\n",
       "<style scoped>\n",
       "    .dataframe tbody tr th:only-of-type {\n",
       "        vertical-align: middle;\n",
       "    }\n",
       "\n",
       "    .dataframe tbody tr th {\n",
       "        vertical-align: top;\n",
       "    }\n",
       "\n",
       "    .dataframe thead th {\n",
       "        text-align: right;\n",
       "    }\n",
       "</style>\n",
       "<table border=\"1\" class=\"dataframe\">\n",
       "  <thead>\n",
       "    <tr style=\"text-align: right;\">\n",
       "      <th></th>\n",
       "      <th>values</th>\n",
       "    </tr>\n",
       "  </thead>\n",
       "  <tbody>\n",
       "    <tr>\n",
       "      <th>count</th>\n",
       "      <td>14.000000</td>\n",
       "    </tr>\n",
       "    <tr>\n",
       "      <th>mean</th>\n",
       "      <td>382.142857</td>\n",
       "    </tr>\n",
       "    <tr>\n",
       "      <th>std</th>\n",
       "      <td>1330.292499</td>\n",
       "    </tr>\n",
       "    <tr>\n",
       "      <th>min</th>\n",
       "      <td>1.000000</td>\n",
       "    </tr>\n",
       "    <tr>\n",
       "      <th>25%</th>\n",
       "      <td>3.250000</td>\n",
       "    </tr>\n",
       "    <tr>\n",
       "      <th>50%</th>\n",
       "      <td>6.000000</td>\n",
       "    </tr>\n",
       "    <tr>\n",
       "      <th>75%</th>\n",
       "      <td>7.750000</td>\n",
       "    </tr>\n",
       "    <tr>\n",
       "      <th>max</th>\n",
       "      <td>5000.000000</td>\n",
       "    </tr>\n",
       "  </tbody>\n",
       "</table>\n",
       "</div>"
      ],
      "text/plain": [
       "            values\n",
       "count    14.000000\n",
       "mean    382.142857\n",
       "std    1330.292499\n",
       "min       1.000000\n",
       "25%       3.250000\n",
       "50%       6.000000\n",
       "75%       7.750000\n",
       "max    5000.000000"
      ]
     },
     "execution_count": 138,
     "metadata": {},
     "output_type": "execute_result"
    }
   ],
   "source": [
    "b.describe()"
   ]
  },
  {
   "cell_type": "code",
   "execution_count": 139,
   "id": "4aff4428",
   "metadata": {},
   "outputs": [
    {
     "data": {
      "text/plain": [
       "5000"
      ]
     },
     "execution_count": 139,
     "metadata": {},
     "output_type": "execute_result"
    }
   ],
   "source": [
    "#Maximum\n",
    "X=[1,2,2,3,4,5,6,6,6,7,8,100,200,5000]\n",
    "\n",
    "#using numpy\n",
    "np.max(X)"
   ]
  },
  {
   "cell_type": "code",
   "execution_count": 140,
   "id": "6ffd27e8",
   "metadata": {},
   "outputs": [
    {
     "name": "stdout",
     "output_type": "stream",
     "text": [
      "Maximum :  5000\n"
     ]
    }
   ],
   "source": [
    "print(\"Maximum : \", np.max(X))"
   ]
  },
  {
   "cell_type": "code",
   "execution_count": 141,
   "id": "38307489",
   "metadata": {},
   "outputs": [
    {
     "data": {
      "text/plain": [
       "values    5000\n",
       "dtype: int64"
      ]
     },
     "execution_count": 141,
     "metadata": {},
     "output_type": "execute_result"
    }
   ],
   "source": [
    "#using pandas\n",
    "b.max()"
   ]
  },
  {
   "cell_type": "markdown",
   "id": "d1266378",
   "metadata": {},
   "source": [
    "# Range"
   ]
  },
  {
   "cell_type": "code",
   "execution_count": 142,
   "id": "939342dd",
   "metadata": {},
   "outputs": [
    {
     "data": {
      "text/plain": [
       "4999"
      ]
     },
     "execution_count": 142,
     "metadata": {},
     "output_type": "execute_result"
    }
   ],
   "source": [
    "#Range\n",
    "#using numpy\n",
    "\n",
    "Ran=np.max(X) - np.min(X)\n",
    "Ran"
   ]
  },
  {
   "cell_type": "code",
   "execution_count": 143,
   "id": "d6a3f9ac",
   "metadata": {},
   "outputs": [
    {
     "data": {
      "text/plain": [
       "values    4999\n",
       "dtype: int64"
      ]
     },
     "execution_count": 143,
     "metadata": {},
     "output_type": "execute_result"
    }
   ],
   "source": [
    "#using pandas\n",
    "Range = b.max()-b.min()\n",
    "Range\n",
    "     "
   ]
  },
  {
   "cell_type": "markdown",
   "id": "b828e794",
   "metadata": {},
   "source": [
    "# IQR"
   ]
  },
  {
   "cell_type": "code",
   "execution_count": 144,
   "id": "692096cc",
   "metadata": {},
   "outputs": [
    {
     "data": {
      "text/plain": [
       "4.5"
      ]
     },
     "execution_count": 144,
     "metadata": {},
     "output_type": "execute_result"
    }
   ],
   "source": [
    "#IQR\n",
    "#using numpy\n",
    "IQR = np.quantile(X,0.75)-np.quantile(X,0.25)\n",
    "IQR"
   ]
  },
  {
   "cell_type": "code",
   "execution_count": 145,
   "id": "fea34260",
   "metadata": {},
   "outputs": [
    {
     "data": {
      "text/plain": [
       "values    4.5\n",
       "dtype: float64"
      ]
     },
     "execution_count": 145,
     "metadata": {},
     "output_type": "execute_result"
    }
   ],
   "source": [
    "#using pandas\n",
    "iqr=b.quantile(0.75)-b.quantile(0.25)\n",
    "iqr"
   ]
  },
  {
   "cell_type": "markdown",
   "id": "73e3848f",
   "metadata": {},
   "source": [
    "# QD"
   ]
  },
  {
   "cell_type": "code",
   "execution_count": 146,
   "id": "4d58f8a6",
   "metadata": {},
   "outputs": [
    {
     "data": {
      "text/plain": [
       "2.25"
      ]
     },
     "execution_count": 146,
     "metadata": {},
     "output_type": "execute_result"
    }
   ],
   "source": [
    "#QD\n",
    "#using numpy\n",
    "QD = IQR/2\n",
    "QD"
   ]
  },
  {
   "cell_type": "code",
   "execution_count": 147,
   "id": "e26b79aa",
   "metadata": {},
   "outputs": [
    {
     "data": {
      "text/plain": [
       "values    2.25\n",
       "dtype: float64"
      ]
     },
     "execution_count": 147,
     "metadata": {},
     "output_type": "execute_result"
    }
   ],
   "source": [
    "#QD\n",
    "#using pandas\n",
    "qd =iqr/2\n",
    "qd"
   ]
  },
  {
   "cell_type": "markdown",
   "id": "88615f73",
   "metadata": {},
   "source": [
    "# Example 5"
   ]
  },
  {
   "cell_type": "code",
   "execution_count": 153,
   "id": "e7b4fc0b",
   "metadata": {},
   "outputs": [
    {
     "data": {
      "text/plain": [
       "2.0"
      ]
     },
     "execution_count": 153,
     "metadata": {},
     "output_type": "execute_result"
    }
   ],
   "source": [
    "#mean\n",
    "#Example 5\n",
    "\n",
    "import numpy as np\n",
    "X=[1,1,2,2,4]\n",
    "\n",
    "\n",
    "#using numpy\n",
    "np.mean(X)"
   ]
  },
  {
   "cell_type": "code",
   "execution_count": 154,
   "id": "4db1b819",
   "metadata": {},
   "outputs": [
    {
     "name": "stdout",
     "output_type": "stream",
     "text": [
      "mean :  2.0\n"
     ]
    }
   ],
   "source": [
    "print(\"mean : \", np.mean(X))"
   ]
  },
  {
   "cell_type": "code",
   "execution_count": 157,
   "id": "7a675414",
   "metadata": {},
   "outputs": [
    {
     "data": {
      "text/html": [
       "<div>\n",
       "<style scoped>\n",
       "    .dataframe tbody tr th:only-of-type {\n",
       "        vertical-align: middle;\n",
       "    }\n",
       "\n",
       "    .dataframe tbody tr th {\n",
       "        vertical-align: top;\n",
       "    }\n",
       "\n",
       "    .dataframe thead th {\n",
       "        text-align: right;\n",
       "    }\n",
       "</style>\n",
       "<table border=\"1\" class=\"dataframe\">\n",
       "  <thead>\n",
       "    <tr style=\"text-align: right;\">\n",
       "      <th></th>\n",
       "      <th>values</th>\n",
       "    </tr>\n",
       "  </thead>\n",
       "  <tbody>\n",
       "    <tr>\n",
       "      <th>0</th>\n",
       "      <td>1</td>\n",
       "    </tr>\n",
       "    <tr>\n",
       "      <th>1</th>\n",
       "      <td>1</td>\n",
       "    </tr>\n",
       "    <tr>\n",
       "      <th>2</th>\n",
       "      <td>2</td>\n",
       "    </tr>\n",
       "    <tr>\n",
       "      <th>3</th>\n",
       "      <td>2</td>\n",
       "    </tr>\n",
       "    <tr>\n",
       "      <th>4</th>\n",
       "      <td>4</td>\n",
       "    </tr>\n",
       "  </tbody>\n",
       "</table>\n",
       "</div>"
      ],
      "text/plain": [
       "   values\n",
       "0       1\n",
       "1       1\n",
       "2       2\n",
       "3       2\n",
       "4       4"
      ]
     },
     "execution_count": 157,
     "metadata": {},
     "output_type": "execute_result"
    }
   ],
   "source": [
    "#created the list into a table format\n",
    "import pandas as pd\n",
    "e=pd.DataFrame(data={'values': [1,1,2,2,4]})\n",
    "e"
   ]
  },
  {
   "cell_type": "code",
   "execution_count": 158,
   "id": "c27b2a6b",
   "metadata": {},
   "outputs": [
    {
     "data": {
      "text/plain": [
       "values    2.0\n",
       "dtype: float64"
      ]
     },
     "execution_count": 158,
     "metadata": {},
     "output_type": "execute_result"
    }
   ],
   "source": [
    "#mean using pandas\n",
    "e.mean()"
   ]
  },
  {
   "cell_type": "code",
   "execution_count": 159,
   "id": "a5678a38",
   "metadata": {},
   "outputs": [
    {
     "data": {
      "text/html": [
       "<div>\n",
       "<style scoped>\n",
       "    .dataframe tbody tr th:only-of-type {\n",
       "        vertical-align: middle;\n",
       "    }\n",
       "\n",
       "    .dataframe tbody tr th {\n",
       "        vertical-align: top;\n",
       "    }\n",
       "\n",
       "    .dataframe thead th {\n",
       "        text-align: right;\n",
       "    }\n",
       "</style>\n",
       "<table border=\"1\" class=\"dataframe\">\n",
       "  <thead>\n",
       "    <tr style=\"text-align: right;\">\n",
       "      <th></th>\n",
       "      <th>values</th>\n",
       "    </tr>\n",
       "  </thead>\n",
       "  <tbody>\n",
       "    <tr>\n",
       "      <th>count</th>\n",
       "      <td>5.000000</td>\n",
       "    </tr>\n",
       "    <tr>\n",
       "      <th>mean</th>\n",
       "      <td>2.000000</td>\n",
       "    </tr>\n",
       "    <tr>\n",
       "      <th>std</th>\n",
       "      <td>1.224745</td>\n",
       "    </tr>\n",
       "    <tr>\n",
       "      <th>min</th>\n",
       "      <td>1.000000</td>\n",
       "    </tr>\n",
       "    <tr>\n",
       "      <th>25%</th>\n",
       "      <td>1.000000</td>\n",
       "    </tr>\n",
       "    <tr>\n",
       "      <th>50%</th>\n",
       "      <td>2.000000</td>\n",
       "    </tr>\n",
       "    <tr>\n",
       "      <th>75%</th>\n",
       "      <td>2.000000</td>\n",
       "    </tr>\n",
       "    <tr>\n",
       "      <th>max</th>\n",
       "      <td>4.000000</td>\n",
       "    </tr>\n",
       "  </tbody>\n",
       "</table>\n",
       "</div>"
      ],
      "text/plain": [
       "         values\n",
       "count  5.000000\n",
       "mean   2.000000\n",
       "std    1.224745\n",
       "min    1.000000\n",
       "25%    1.000000\n",
       "50%    2.000000\n",
       "75%    2.000000\n",
       "max    4.000000"
      ]
     },
     "execution_count": 159,
     "metadata": {},
     "output_type": "execute_result"
    }
   ],
   "source": [
    "\n",
    "e.describe()"
   ]
  },
  {
   "cell_type": "code",
   "execution_count": 160,
   "id": "bdfb485b",
   "metadata": {},
   "outputs": [
    {
     "data": {
      "text/plain": [
       "2.0"
      ]
     },
     "execution_count": 160,
     "metadata": {},
     "output_type": "execute_result"
    }
   ],
   "source": [
    "#median\n",
    "X=[1,1,2,2,4]\n",
    "\n",
    "#using numpy\n",
    "np.median(X)"
   ]
  },
  {
   "cell_type": "code",
   "execution_count": 161,
   "id": "9c1a58a1",
   "metadata": {},
   "outputs": [
    {
     "name": "stdout",
     "output_type": "stream",
     "text": [
      "median :  2.0\n"
     ]
    }
   ],
   "source": [
    "print(\"median : \", np.median(X))"
   ]
  },
  {
   "cell_type": "code",
   "execution_count": 162,
   "id": "f72380b9",
   "metadata": {},
   "outputs": [
    {
     "data": {
      "text/plain": [
       "values    2.0\n",
       "dtype: float64"
      ]
     },
     "execution_count": 162,
     "metadata": {},
     "output_type": "execute_result"
    }
   ],
   "source": [
    "#using pandas\n",
    "e.median()\n",
    "     "
   ]
  },
  {
   "cell_type": "code",
   "execution_count": 163,
   "id": "531a28b3",
   "metadata": {},
   "outputs": [
    {
     "data": {
      "text/html": [
       "<div>\n",
       "<style scoped>\n",
       "    .dataframe tbody tr th:only-of-type {\n",
       "        vertical-align: middle;\n",
       "    }\n",
       "\n",
       "    .dataframe tbody tr th {\n",
       "        vertical-align: top;\n",
       "    }\n",
       "\n",
       "    .dataframe thead th {\n",
       "        text-align: right;\n",
       "    }\n",
       "</style>\n",
       "<table border=\"1\" class=\"dataframe\">\n",
       "  <thead>\n",
       "    <tr style=\"text-align: right;\">\n",
       "      <th></th>\n",
       "      <th>values</th>\n",
       "    </tr>\n",
       "  </thead>\n",
       "  <tbody>\n",
       "    <tr>\n",
       "      <th>count</th>\n",
       "      <td>5.000000</td>\n",
       "    </tr>\n",
       "    <tr>\n",
       "      <th>mean</th>\n",
       "      <td>2.000000</td>\n",
       "    </tr>\n",
       "    <tr>\n",
       "      <th>std</th>\n",
       "      <td>1.224745</td>\n",
       "    </tr>\n",
       "    <tr>\n",
       "      <th>min</th>\n",
       "      <td>1.000000</td>\n",
       "    </tr>\n",
       "    <tr>\n",
       "      <th>25%</th>\n",
       "      <td>1.000000</td>\n",
       "    </tr>\n",
       "    <tr>\n",
       "      <th>50%</th>\n",
       "      <td>2.000000</td>\n",
       "    </tr>\n",
       "    <tr>\n",
       "      <th>75%</th>\n",
       "      <td>2.000000</td>\n",
       "    </tr>\n",
       "    <tr>\n",
       "      <th>max</th>\n",
       "      <td>4.000000</td>\n",
       "    </tr>\n",
       "  </tbody>\n",
       "</table>\n",
       "</div>"
      ],
      "text/plain": [
       "         values\n",
       "count  5.000000\n",
       "mean   2.000000\n",
       "std    1.224745\n",
       "min    1.000000\n",
       "25%    1.000000\n",
       "50%    2.000000\n",
       "75%    2.000000\n",
       "max    4.000000"
      ]
     },
     "execution_count": 163,
     "metadata": {},
     "output_type": "execute_result"
    }
   ],
   "source": [
    "\n",
    "e.describe()"
   ]
  },
  {
   "cell_type": "code",
   "execution_count": null,
   "id": "7ef4fa54",
   "metadata": {},
   "outputs": [],
   "source": [
    "#mode\n",
    "#numpy does not has an attribute mode\n",
    "     "
   ]
  },
  {
   "cell_type": "code",
   "execution_count": 164,
   "id": "fc2166f9",
   "metadata": {},
   "outputs": [
    {
     "data": {
      "text/html": [
       "<div>\n",
       "<style scoped>\n",
       "    .dataframe tbody tr th:only-of-type {\n",
       "        vertical-align: middle;\n",
       "    }\n",
       "\n",
       "    .dataframe tbody tr th {\n",
       "        vertical-align: top;\n",
       "    }\n",
       "\n",
       "    .dataframe thead th {\n",
       "        text-align: right;\n",
       "    }\n",
       "</style>\n",
       "<table border=\"1\" class=\"dataframe\">\n",
       "  <thead>\n",
       "    <tr style=\"text-align: right;\">\n",
       "      <th></th>\n",
       "      <th>values</th>\n",
       "    </tr>\n",
       "  </thead>\n",
       "  <tbody>\n",
       "    <tr>\n",
       "      <th>0</th>\n",
       "      <td>1</td>\n",
       "    </tr>\n",
       "    <tr>\n",
       "      <th>1</th>\n",
       "      <td>2</td>\n",
       "    </tr>\n",
       "  </tbody>\n",
       "</table>\n",
       "</div>"
      ],
      "text/plain": [
       "   values\n",
       "0       1\n",
       "1       2"
      ]
     },
     "execution_count": 164,
     "metadata": {},
     "output_type": "execute_result"
    }
   ],
   "source": [
    "#using pandas\n",
    "e.mode()"
   ]
  },
  {
   "cell_type": "markdown",
   "id": "f9f54890",
   "metadata": {},
   "source": [
    "# Measure of Dispersion"
   ]
  },
  {
   "cell_type": "code",
   "execution_count": 165,
   "id": "64860c15",
   "metadata": {},
   "outputs": [
    {
     "data": {
      "text/plain": [
       "1.2"
      ]
     },
     "execution_count": 165,
     "metadata": {},
     "output_type": "execute_result"
    }
   ],
   "source": [
    "#variance\n",
    "X=[1,1,2,2,4]\n",
    "\n",
    "#using numpy\n",
    "np.var(X)"
   ]
  },
  {
   "cell_type": "code",
   "execution_count": 166,
   "id": "d6dd782d",
   "metadata": {},
   "outputs": [
    {
     "name": "stdout",
     "output_type": "stream",
     "text": [
      "Variance :  1.2\n"
     ]
    }
   ],
   "source": [
    "print(\"Variance : \", np.var(X))"
   ]
  },
  {
   "cell_type": "code",
   "execution_count": 167,
   "id": "15e7e642",
   "metadata": {},
   "outputs": [
    {
     "data": {
      "text/plain": [
       "values    1.5\n",
       "dtype: float64"
      ]
     },
     "execution_count": 167,
     "metadata": {},
     "output_type": "execute_result"
    }
   ],
   "source": [
    "#using pandas\n",
    "e.var()   "
   ]
  },
  {
   "cell_type": "code",
   "execution_count": 168,
   "id": "c7dbd0d3",
   "metadata": {},
   "outputs": [
    {
     "data": {
      "text/plain": [
       "1.0954451150103321"
      ]
     },
     "execution_count": 168,
     "metadata": {},
     "output_type": "execute_result"
    }
   ],
   "source": [
    "#standard deviation\n",
    "X=[1,1,2,2,4]\n",
    "\n",
    "#using numpy\n",
    "np.std(X)"
   ]
  },
  {
   "cell_type": "code",
   "execution_count": 169,
   "id": "017826e2",
   "metadata": {},
   "outputs": [
    {
     "name": "stdout",
     "output_type": "stream",
     "text": [
      "Variance :  1.0954451150103321\n"
     ]
    }
   ],
   "source": [
    "print(\"Variance : \", np.std(X))"
   ]
  },
  {
   "cell_type": "code",
   "execution_count": 170,
   "id": "27f445a6",
   "metadata": {},
   "outputs": [
    {
     "data": {
      "text/plain": [
       "values    1.224745\n",
       "dtype: float64"
      ]
     },
     "execution_count": 170,
     "metadata": {},
     "output_type": "execute_result"
    }
   ],
   "source": [
    "#using pandas\n",
    "e.std()"
   ]
  },
  {
   "cell_type": "markdown",
   "id": "73b53f00",
   "metadata": {},
   "source": [
    "# 5 Number Summary"
   ]
  },
  {
   "cell_type": "markdown",
   "id": "f4c88ff1",
   "metadata": {},
   "source": [
    "Minimum,\n",
    "1st quartile -Q1,\n",
    "2nd quartile -Q2(Median),\n",
    "3rd quartile -Q3,\n",
    "Maximum"
   ]
  },
  {
   "cell_type": "code",
   "execution_count": 172,
   "id": "77630a5b",
   "metadata": {},
   "outputs": [
    {
     "data": {
      "text/plain": [
       "1"
      ]
     },
     "execution_count": 172,
     "metadata": {},
     "output_type": "execute_result"
    }
   ],
   "source": [
    "#Minimum\n",
    "X=[1,1,2,2,4]\n",
    "\n",
    "#using numpy\n",
    "np.min(X)"
   ]
  },
  {
   "cell_type": "code",
   "execution_count": 173,
   "id": "cf7ebe1e",
   "metadata": {},
   "outputs": [
    {
     "name": "stdout",
     "output_type": "stream",
     "text": [
      "Minimum :  1\n"
     ]
    }
   ],
   "source": [
    "print(\"Minimum : \", np.min(X))\n",
    "     "
   ]
  },
  {
   "cell_type": "code",
   "execution_count": 174,
   "id": "d5888a1e",
   "metadata": {},
   "outputs": [
    {
     "data": {
      "text/plain": [
       "values    1\n",
       "dtype: int64"
      ]
     },
     "execution_count": 174,
     "metadata": {},
     "output_type": "execute_result"
    }
   ],
   "source": [
    "#using pandas\n",
    "e.min()  "
   ]
  },
  {
   "cell_type": "code",
   "execution_count": 175,
   "id": "c0d32fec",
   "metadata": {},
   "outputs": [
    {
     "data": {
      "text/plain": [
       "array([1., 2., 2.])"
      ]
     },
     "execution_count": 175,
     "metadata": {},
     "output_type": "execute_result"
    }
   ],
   "source": [
    "#quartiles\n",
    "X=[1,1,2,2,4]\n",
    "\n",
    "#using numpy\n",
    "np.quantile(X,[0.25,0.50,0.75])"
   ]
  },
  {
   "cell_type": "code",
   "execution_count": 176,
   "id": "ae03d68f",
   "metadata": {},
   "outputs": [
    {
     "name": "stdout",
     "output_type": "stream",
     "text": [
      "Q1 :  1.0 Q2 :  2.0 Q3 :  2.0\n"
     ]
    }
   ],
   "source": [
    "print(\"Q1 : \", np.quantile(X,0.25),\n",
    "      \"Q2 : \", np.quantile(X,0.50),\n",
    "      \"Q3 : \", np.quantile(X,0.75))"
   ]
  },
  {
   "cell_type": "code",
   "execution_count": 177,
   "id": "86649a20",
   "metadata": {},
   "outputs": [
    {
     "data": {
      "text/html": [
       "<div>\n",
       "<style scoped>\n",
       "    .dataframe tbody tr th:only-of-type {\n",
       "        vertical-align: middle;\n",
       "    }\n",
       "\n",
       "    .dataframe tbody tr th {\n",
       "        vertical-align: top;\n",
       "    }\n",
       "\n",
       "    .dataframe thead th {\n",
       "        text-align: right;\n",
       "    }\n",
       "</style>\n",
       "<table border=\"1\" class=\"dataframe\">\n",
       "  <thead>\n",
       "    <tr style=\"text-align: right;\">\n",
       "      <th></th>\n",
       "      <th>values</th>\n",
       "    </tr>\n",
       "  </thead>\n",
       "  <tbody>\n",
       "    <tr>\n",
       "      <th>0.25</th>\n",
       "      <td>1.0</td>\n",
       "    </tr>\n",
       "    <tr>\n",
       "      <th>0.50</th>\n",
       "      <td>2.0</td>\n",
       "    </tr>\n",
       "    <tr>\n",
       "      <th>0.75</th>\n",
       "      <td>2.0</td>\n",
       "    </tr>\n",
       "  </tbody>\n",
       "</table>\n",
       "</div>"
      ],
      "text/plain": [
       "      values\n",
       "0.25     1.0\n",
       "0.50     2.0\n",
       "0.75     2.0"
      ]
     },
     "execution_count": 177,
     "metadata": {},
     "output_type": "execute_result"
    }
   ],
   "source": [
    "#using pandas\n",
    "e.quantile([0.25,0.50,0.75])          \n",
    "     "
   ]
  },
  {
   "cell_type": "code",
   "execution_count": 178,
   "id": "cb254745",
   "metadata": {},
   "outputs": [
    {
     "data": {
      "text/html": [
       "<div>\n",
       "<style scoped>\n",
       "    .dataframe tbody tr th:only-of-type {\n",
       "        vertical-align: middle;\n",
       "    }\n",
       "\n",
       "    .dataframe tbody tr th {\n",
       "        vertical-align: top;\n",
       "    }\n",
       "\n",
       "    .dataframe thead th {\n",
       "        text-align: right;\n",
       "    }\n",
       "</style>\n",
       "<table border=\"1\" class=\"dataframe\">\n",
       "  <thead>\n",
       "    <tr style=\"text-align: right;\">\n",
       "      <th></th>\n",
       "      <th>values</th>\n",
       "    </tr>\n",
       "  </thead>\n",
       "  <tbody>\n",
       "    <tr>\n",
       "      <th>count</th>\n",
       "      <td>5.000000</td>\n",
       "    </tr>\n",
       "    <tr>\n",
       "      <th>mean</th>\n",
       "      <td>2.000000</td>\n",
       "    </tr>\n",
       "    <tr>\n",
       "      <th>std</th>\n",
       "      <td>1.224745</td>\n",
       "    </tr>\n",
       "    <tr>\n",
       "      <th>min</th>\n",
       "      <td>1.000000</td>\n",
       "    </tr>\n",
       "    <tr>\n",
       "      <th>25%</th>\n",
       "      <td>1.000000</td>\n",
       "    </tr>\n",
       "    <tr>\n",
       "      <th>50%</th>\n",
       "      <td>2.000000</td>\n",
       "    </tr>\n",
       "    <tr>\n",
       "      <th>75%</th>\n",
       "      <td>2.000000</td>\n",
       "    </tr>\n",
       "    <tr>\n",
       "      <th>max</th>\n",
       "      <td>4.000000</td>\n",
       "    </tr>\n",
       "  </tbody>\n",
       "</table>\n",
       "</div>"
      ],
      "text/plain": [
       "         values\n",
       "count  5.000000\n",
       "mean   2.000000\n",
       "std    1.224745\n",
       "min    1.000000\n",
       "25%    1.000000\n",
       "50%    2.000000\n",
       "75%    2.000000\n",
       "max    4.000000"
      ]
     },
     "execution_count": 178,
     "metadata": {},
     "output_type": "execute_result"
    }
   ],
   "source": [
    "e.describe()"
   ]
  },
  {
   "cell_type": "code",
   "execution_count": 179,
   "id": "8be3aeb2",
   "metadata": {},
   "outputs": [
    {
     "data": {
      "text/plain": [
       "4"
      ]
     },
     "execution_count": 179,
     "metadata": {},
     "output_type": "execute_result"
    }
   ],
   "source": [
    "#Maximum\n",
    "X=[1,1,2,2,4]\n",
    "\n",
    "#using numpy\n",
    "np.max(X)"
   ]
  },
  {
   "cell_type": "code",
   "execution_count": 180,
   "id": "02918c71",
   "metadata": {},
   "outputs": [
    {
     "name": "stdout",
     "output_type": "stream",
     "text": [
      "Maximum :  4\n"
     ]
    }
   ],
   "source": [
    "print(\"Maximum : \", np.max(X))"
   ]
  },
  {
   "cell_type": "code",
   "execution_count": 181,
   "id": "57542e61",
   "metadata": {},
   "outputs": [
    {
     "data": {
      "text/plain": [
       "values    4\n",
       "dtype: int64"
      ]
     },
     "execution_count": 181,
     "metadata": {},
     "output_type": "execute_result"
    }
   ],
   "source": [
    "#using pandas\n",
    "e.max()    "
   ]
  },
  {
   "cell_type": "markdown",
   "id": "ef7fd406",
   "metadata": {},
   "source": [
    "# Range"
   ]
  },
  {
   "cell_type": "code",
   "execution_count": 182,
   "id": "6d8fa5f4",
   "metadata": {},
   "outputs": [
    {
     "data": {
      "text/plain": [
       "3"
      ]
     },
     "execution_count": 182,
     "metadata": {},
     "output_type": "execute_result"
    }
   ],
   "source": [
    "#Range\n",
    "#using numpy\n",
    "\n",
    "Ran=np.max(X) - np.min(X)\n",
    "Ran"
   ]
  },
  {
   "cell_type": "code",
   "execution_count": 183,
   "id": "00d72c98",
   "metadata": {},
   "outputs": [
    {
     "data": {
      "text/plain": [
       "values    3\n",
       "dtype: int64"
      ]
     },
     "execution_count": 183,
     "metadata": {},
     "output_type": "execute_result"
    }
   ],
   "source": [
    "#using pandas\n",
    "Range = e.max()-e.min()\n",
    "Range"
   ]
  },
  {
   "cell_type": "markdown",
   "id": "145d4b39",
   "metadata": {},
   "source": [
    "# IQR"
   ]
  },
  {
   "cell_type": "code",
   "execution_count": 184,
   "id": "39197d94",
   "metadata": {},
   "outputs": [
    {
     "data": {
      "text/plain": [
       "1.0"
      ]
     },
     "execution_count": 184,
     "metadata": {},
     "output_type": "execute_result"
    }
   ],
   "source": [
    "#IQR\n",
    "#using numpy\n",
    "IQR = np.quantile(X,0.75)-np.quantile(X,0.25)\n",
    "IQR\n",
    "     "
   ]
  },
  {
   "cell_type": "code",
   "execution_count": 185,
   "id": "855b77d6",
   "metadata": {},
   "outputs": [
    {
     "data": {
      "text/plain": [
       "values    1.0\n",
       "dtype: float64"
      ]
     },
     "execution_count": 185,
     "metadata": {},
     "output_type": "execute_result"
    }
   ],
   "source": [
    "#using pandas\n",
    "iqr=e.quantile(0.75)-e.quantile(0.25)\n",
    "iqr"
   ]
  },
  {
   "cell_type": "markdown",
   "id": "ad14a29e",
   "metadata": {},
   "source": [
    "# QD"
   ]
  },
  {
   "cell_type": "code",
   "execution_count": 186,
   "id": "0c6fcbdd",
   "metadata": {},
   "outputs": [
    {
     "data": {
      "text/plain": [
       "0.5"
      ]
     },
     "execution_count": 186,
     "metadata": {},
     "output_type": "execute_result"
    }
   ],
   "source": [
    "#QD\n",
    "#using numpy\n",
    "QD = IQR/2\n",
    "QD"
   ]
  },
  {
   "cell_type": "code",
   "execution_count": 187,
   "id": "2d07d2ae",
   "metadata": {},
   "outputs": [
    {
     "data": {
      "text/plain": [
       "values    0.5\n",
       "dtype: float64"
      ]
     },
     "execution_count": 187,
     "metadata": {},
     "output_type": "execute_result"
    }
   ],
   "source": [
    "#QD\n",
    "#using pandas\n",
    "qd =iqr/2\n",
    "qd\n",
    "     "
   ]
  },
  {
   "cell_type": "markdown",
   "id": "b130a6ea",
   "metadata": {},
   "source": [
    "# Example 6"
   ]
  },
  {
   "cell_type": "code",
   "execution_count": 188,
   "id": "5f9fc547",
   "metadata": {},
   "outputs": [
    {
     "data": {
      "text/plain": [
       "2.0"
      ]
     },
     "execution_count": 188,
     "metadata": {},
     "output_type": "execute_result"
    }
   ],
   "source": [
    "#Example 6\n",
    "#mean \n",
    "\n",
    "import numpy as np\n",
    "X=[2,2,2,2,2]\n",
    "\n",
    "#using numpy\n",
    "np.mean(X)"
   ]
  },
  {
   "cell_type": "code",
   "execution_count": 189,
   "id": "178f6e21",
   "metadata": {},
   "outputs": [
    {
     "name": "stdout",
     "output_type": "stream",
     "text": [
      "mean :  2.0\n"
     ]
    }
   ],
   "source": [
    "print(\"mean : \", np.mean(X))"
   ]
  },
  {
   "cell_type": "code",
   "execution_count": 190,
   "id": "000109fd",
   "metadata": {},
   "outputs": [
    {
     "data": {
      "text/html": [
       "<div>\n",
       "<style scoped>\n",
       "    .dataframe tbody tr th:only-of-type {\n",
       "        vertical-align: middle;\n",
       "    }\n",
       "\n",
       "    .dataframe tbody tr th {\n",
       "        vertical-align: top;\n",
       "    }\n",
       "\n",
       "    .dataframe thead th {\n",
       "        text-align: right;\n",
       "    }\n",
       "</style>\n",
       "<table border=\"1\" class=\"dataframe\">\n",
       "  <thead>\n",
       "    <tr style=\"text-align: right;\">\n",
       "      <th></th>\n",
       "      <th>values</th>\n",
       "    </tr>\n",
       "  </thead>\n",
       "  <tbody>\n",
       "    <tr>\n",
       "      <th>0</th>\n",
       "      <td>2</td>\n",
       "    </tr>\n",
       "    <tr>\n",
       "      <th>1</th>\n",
       "      <td>2</td>\n",
       "    </tr>\n",
       "    <tr>\n",
       "      <th>2</th>\n",
       "      <td>2</td>\n",
       "    </tr>\n",
       "    <tr>\n",
       "      <th>3</th>\n",
       "      <td>2</td>\n",
       "    </tr>\n",
       "    <tr>\n",
       "      <th>4</th>\n",
       "      <td>2</td>\n",
       "    </tr>\n",
       "  </tbody>\n",
       "</table>\n",
       "</div>"
      ],
      "text/plain": [
       "   values\n",
       "0       2\n",
       "1       2\n",
       "2       2\n",
       "3       2\n",
       "4       2"
      ]
     },
     "execution_count": 190,
     "metadata": {},
     "output_type": "execute_result"
    }
   ],
   "source": [
    "#created the list into a table format\n",
    "import pandas as pd\n",
    "g=pd.DataFrame(data={'values': [2,2,2,2,2]})\n",
    "g\n"
   ]
  },
  {
   "cell_type": "code",
   "execution_count": 191,
   "id": "773224f3",
   "metadata": {},
   "outputs": [
    {
     "data": {
      "text/plain": [
       "values    2.0\n",
       "dtype: float64"
      ]
     },
     "execution_count": 191,
     "metadata": {},
     "output_type": "execute_result"
    }
   ],
   "source": [
    "#mean using pandas\n",
    "g.mean()\n",
    "     "
   ]
  },
  {
   "cell_type": "code",
   "execution_count": 192,
   "id": "be021b8e",
   "metadata": {},
   "outputs": [
    {
     "data": {
      "text/html": [
       "<div>\n",
       "<style scoped>\n",
       "    .dataframe tbody tr th:only-of-type {\n",
       "        vertical-align: middle;\n",
       "    }\n",
       "\n",
       "    .dataframe tbody tr th {\n",
       "        vertical-align: top;\n",
       "    }\n",
       "\n",
       "    .dataframe thead th {\n",
       "        text-align: right;\n",
       "    }\n",
       "</style>\n",
       "<table border=\"1\" class=\"dataframe\">\n",
       "  <thead>\n",
       "    <tr style=\"text-align: right;\">\n",
       "      <th></th>\n",
       "      <th>values</th>\n",
       "    </tr>\n",
       "  </thead>\n",
       "  <tbody>\n",
       "    <tr>\n",
       "      <th>count</th>\n",
       "      <td>5.0</td>\n",
       "    </tr>\n",
       "    <tr>\n",
       "      <th>mean</th>\n",
       "      <td>2.0</td>\n",
       "    </tr>\n",
       "    <tr>\n",
       "      <th>std</th>\n",
       "      <td>0.0</td>\n",
       "    </tr>\n",
       "    <tr>\n",
       "      <th>min</th>\n",
       "      <td>2.0</td>\n",
       "    </tr>\n",
       "    <tr>\n",
       "      <th>25%</th>\n",
       "      <td>2.0</td>\n",
       "    </tr>\n",
       "    <tr>\n",
       "      <th>50%</th>\n",
       "      <td>2.0</td>\n",
       "    </tr>\n",
       "    <tr>\n",
       "      <th>75%</th>\n",
       "      <td>2.0</td>\n",
       "    </tr>\n",
       "    <tr>\n",
       "      <th>max</th>\n",
       "      <td>2.0</td>\n",
       "    </tr>\n",
       "  </tbody>\n",
       "</table>\n",
       "</div>"
      ],
      "text/plain": [
       "       values\n",
       "count     5.0\n",
       "mean      2.0\n",
       "std       0.0\n",
       "min       2.0\n",
       "25%       2.0\n",
       "50%       2.0\n",
       "75%       2.0\n",
       "max       2.0"
      ]
     },
     "execution_count": 192,
     "metadata": {},
     "output_type": "execute_result"
    }
   ],
   "source": [
    "\n",
    "g.describe()"
   ]
  },
  {
   "cell_type": "code",
   "execution_count": 193,
   "id": "a2fbfee5",
   "metadata": {},
   "outputs": [
    {
     "data": {
      "text/plain": [
       "2.0"
      ]
     },
     "execution_count": 193,
     "metadata": {},
     "output_type": "execute_result"
    }
   ],
   "source": [
    "#median\n",
    "X=[2,2,2,2,2]\n",
    "\n",
    "#using numpy\n",
    "np.median(X)"
   ]
  },
  {
   "cell_type": "code",
   "execution_count": 194,
   "id": "2b2ea326",
   "metadata": {},
   "outputs": [
    {
     "name": "stdout",
     "output_type": "stream",
     "text": [
      "median :  2.0\n"
     ]
    }
   ],
   "source": [
    "print(\"median : \", np.median(X))"
   ]
  },
  {
   "cell_type": "code",
   "execution_count": 195,
   "id": "8ed9d6d7",
   "metadata": {},
   "outputs": [
    {
     "data": {
      "text/plain": [
       "values    2.0\n",
       "dtype: float64"
      ]
     },
     "execution_count": 195,
     "metadata": {},
     "output_type": "execute_result"
    }
   ],
   "source": [
    "#using pandas\n",
    "g.median()"
   ]
  },
  {
   "cell_type": "code",
   "execution_count": 196,
   "id": "7f8718ce",
   "metadata": {},
   "outputs": [
    {
     "data": {
      "text/html": [
       "<div>\n",
       "<style scoped>\n",
       "    .dataframe tbody tr th:only-of-type {\n",
       "        vertical-align: middle;\n",
       "    }\n",
       "\n",
       "    .dataframe tbody tr th {\n",
       "        vertical-align: top;\n",
       "    }\n",
       "\n",
       "    .dataframe thead th {\n",
       "        text-align: right;\n",
       "    }\n",
       "</style>\n",
       "<table border=\"1\" class=\"dataframe\">\n",
       "  <thead>\n",
       "    <tr style=\"text-align: right;\">\n",
       "      <th></th>\n",
       "      <th>values</th>\n",
       "    </tr>\n",
       "  </thead>\n",
       "  <tbody>\n",
       "    <tr>\n",
       "      <th>count</th>\n",
       "      <td>5.0</td>\n",
       "    </tr>\n",
       "    <tr>\n",
       "      <th>mean</th>\n",
       "      <td>2.0</td>\n",
       "    </tr>\n",
       "    <tr>\n",
       "      <th>std</th>\n",
       "      <td>0.0</td>\n",
       "    </tr>\n",
       "    <tr>\n",
       "      <th>min</th>\n",
       "      <td>2.0</td>\n",
       "    </tr>\n",
       "    <tr>\n",
       "      <th>25%</th>\n",
       "      <td>2.0</td>\n",
       "    </tr>\n",
       "    <tr>\n",
       "      <th>50%</th>\n",
       "      <td>2.0</td>\n",
       "    </tr>\n",
       "    <tr>\n",
       "      <th>75%</th>\n",
       "      <td>2.0</td>\n",
       "    </tr>\n",
       "    <tr>\n",
       "      <th>max</th>\n",
       "      <td>2.0</td>\n",
       "    </tr>\n",
       "  </tbody>\n",
       "</table>\n",
       "</div>"
      ],
      "text/plain": [
       "       values\n",
       "count     5.0\n",
       "mean      2.0\n",
       "std       0.0\n",
       "min       2.0\n",
       "25%       2.0\n",
       "50%       2.0\n",
       "75%       2.0\n",
       "max       2.0"
      ]
     },
     "execution_count": 196,
     "metadata": {},
     "output_type": "execute_result"
    }
   ],
   "source": [
    "\n",
    "g.describe()"
   ]
  },
  {
   "cell_type": "code",
   "execution_count": null,
   "id": "8372a5ac",
   "metadata": {},
   "outputs": [],
   "source": [
    "#mode\n",
    "#numpy does not has an attribute mode"
   ]
  },
  {
   "cell_type": "code",
   "execution_count": 197,
   "id": "28dc2a05",
   "metadata": {},
   "outputs": [
    {
     "data": {
      "text/html": [
       "<div>\n",
       "<style scoped>\n",
       "    .dataframe tbody tr th:only-of-type {\n",
       "        vertical-align: middle;\n",
       "    }\n",
       "\n",
       "    .dataframe tbody tr th {\n",
       "        vertical-align: top;\n",
       "    }\n",
       "\n",
       "    .dataframe thead th {\n",
       "        text-align: right;\n",
       "    }\n",
       "</style>\n",
       "<table border=\"1\" class=\"dataframe\">\n",
       "  <thead>\n",
       "    <tr style=\"text-align: right;\">\n",
       "      <th></th>\n",
       "      <th>values</th>\n",
       "    </tr>\n",
       "  </thead>\n",
       "  <tbody>\n",
       "    <tr>\n",
       "      <th>0</th>\n",
       "      <td>2</td>\n",
       "    </tr>\n",
       "  </tbody>\n",
       "</table>\n",
       "</div>"
      ],
      "text/plain": [
       "   values\n",
       "0       2"
      ]
     },
     "execution_count": 197,
     "metadata": {},
     "output_type": "execute_result"
    }
   ],
   "source": [
    "#using pandas\n",
    "g.mode()    \n",
    "     "
   ]
  },
  {
   "cell_type": "markdown",
   "id": "77e02523",
   "metadata": {},
   "source": [
    "# Measure of Dispersion"
   ]
  },
  {
   "cell_type": "code",
   "execution_count": 198,
   "id": "ceb84dbd",
   "metadata": {},
   "outputs": [
    {
     "data": {
      "text/plain": [
       "0.0"
      ]
     },
     "execution_count": 198,
     "metadata": {},
     "output_type": "execute_result"
    }
   ],
   "source": [
    "#variance\n",
    "X=[2,2,2,2,2]\n",
    "\n",
    "#using numpy\n",
    "np.var(X)"
   ]
  },
  {
   "cell_type": "code",
   "execution_count": 199,
   "id": "28216c71",
   "metadata": {},
   "outputs": [
    {
     "name": "stdout",
     "output_type": "stream",
     "text": [
      "Variance :  0.0\n"
     ]
    }
   ],
   "source": [
    "print(\"Variance : \", np.var(X))"
   ]
  },
  {
   "cell_type": "code",
   "execution_count": 200,
   "id": "aad424cf",
   "metadata": {},
   "outputs": [
    {
     "data": {
      "text/plain": [
       "values    0.0\n",
       "dtype: float64"
      ]
     },
     "execution_count": 200,
     "metadata": {},
     "output_type": "execute_result"
    }
   ],
   "source": [
    "#using pandas\n",
    "g.var()   "
   ]
  },
  {
   "cell_type": "code",
   "execution_count": 201,
   "id": "668c90f5",
   "metadata": {},
   "outputs": [
    {
     "data": {
      "text/plain": [
       "0.0"
      ]
     },
     "execution_count": 201,
     "metadata": {},
     "output_type": "execute_result"
    }
   ],
   "source": [
    "#standard deviation\n",
    "X=[2,2,2,2,2]\n",
    "\n",
    "#using numpy\n",
    "np.std(X)"
   ]
  },
  {
   "cell_type": "code",
   "execution_count": 202,
   "id": "fc53f3b2",
   "metadata": {},
   "outputs": [
    {
     "name": "stdout",
     "output_type": "stream",
     "text": [
      "Variance :  0.0\n"
     ]
    }
   ],
   "source": [
    "\n",
    "print(\"Variance : \", np.std(X))"
   ]
  },
  {
   "cell_type": "code",
   "execution_count": 203,
   "id": "8cf58688",
   "metadata": {},
   "outputs": [
    {
     "data": {
      "text/plain": [
       "values    0.0\n",
       "dtype: float64"
      ]
     },
     "execution_count": 203,
     "metadata": {},
     "output_type": "execute_result"
    }
   ],
   "source": [
    "\n",
    "#using pandas\n",
    "g.std() "
   ]
  },
  {
   "cell_type": "markdown",
   "id": "84c896f8",
   "metadata": {},
   "source": [
    "# 5 Number Summary"
   ]
  },
  {
   "cell_type": "markdown",
   "id": "3ede3886",
   "metadata": {},
   "source": [
    "Minimum,\n",
    "1st quartile -Q1,\n",
    "2nd quartile -Q2(Median),\n",
    "3rd quartile -Q3,\n",
    "Maximum"
   ]
  },
  {
   "cell_type": "code",
   "execution_count": 205,
   "id": "4157d0b7",
   "metadata": {},
   "outputs": [
    {
     "data": {
      "text/plain": [
       "2"
      ]
     },
     "execution_count": 205,
     "metadata": {},
     "output_type": "execute_result"
    }
   ],
   "source": [
    "#Minimum\n",
    "X=[2,2,2,2,2]\n",
    "\n",
    "#using numpy\n",
    "np.min(X)"
   ]
  },
  {
   "cell_type": "code",
   "execution_count": 206,
   "id": "11b0bc90",
   "metadata": {},
   "outputs": [
    {
     "data": {
      "text/plain": [
       "values    2\n",
       "dtype: int64"
      ]
     },
     "execution_count": 206,
     "metadata": {},
     "output_type": "execute_result"
    }
   ],
   "source": [
    "#using pandas\n",
    "g.min() "
   ]
  },
  {
   "cell_type": "code",
   "execution_count": 207,
   "id": "4ada24a8",
   "metadata": {},
   "outputs": [
    {
     "data": {
      "text/plain": [
       "array([2., 2., 2.])"
      ]
     },
     "execution_count": 207,
     "metadata": {},
     "output_type": "execute_result"
    }
   ],
   "source": [
    "#quartiles\n",
    "X=[2,2,2,2,2]\n",
    "\n",
    "#using numpy\n",
    "np.quantile(X,[0.25,0.50,0.75])\n",
    "     "
   ]
  },
  {
   "cell_type": "code",
   "execution_count": 208,
   "id": "a9193ccc",
   "metadata": {},
   "outputs": [
    {
     "name": "stdout",
     "output_type": "stream",
     "text": [
      "Q1 :  2.0 Q2 :  2.0 Q3 :  2.0\n"
     ]
    }
   ],
   "source": [
    "print(\"Q1 : \", np.quantile(X,0.25),\n",
    "      \"Q2 : \", np.quantile(X,0.50),\n",
    "      \"Q3 : \", np.quantile(X,0.75))"
   ]
  },
  {
   "cell_type": "code",
   "execution_count": 209,
   "id": "11bba70c",
   "metadata": {},
   "outputs": [
    {
     "data": {
      "text/html": [
       "<div>\n",
       "<style scoped>\n",
       "    .dataframe tbody tr th:only-of-type {\n",
       "        vertical-align: middle;\n",
       "    }\n",
       "\n",
       "    .dataframe tbody tr th {\n",
       "        vertical-align: top;\n",
       "    }\n",
       "\n",
       "    .dataframe thead th {\n",
       "        text-align: right;\n",
       "    }\n",
       "</style>\n",
       "<table border=\"1\" class=\"dataframe\">\n",
       "  <thead>\n",
       "    <tr style=\"text-align: right;\">\n",
       "      <th></th>\n",
       "      <th>values</th>\n",
       "    </tr>\n",
       "  </thead>\n",
       "  <tbody>\n",
       "    <tr>\n",
       "      <th>0.25</th>\n",
       "      <td>2.0</td>\n",
       "    </tr>\n",
       "    <tr>\n",
       "      <th>0.50</th>\n",
       "      <td>2.0</td>\n",
       "    </tr>\n",
       "    <tr>\n",
       "      <th>0.75</th>\n",
       "      <td>2.0</td>\n",
       "    </tr>\n",
       "  </tbody>\n",
       "</table>\n",
       "</div>"
      ],
      "text/plain": [
       "      values\n",
       "0.25     2.0\n",
       "0.50     2.0\n",
       "0.75     2.0"
      ]
     },
     "execution_count": 209,
     "metadata": {},
     "output_type": "execute_result"
    }
   ],
   "source": [
    "#using pandas\n",
    "g.quantile([0.25,0.50,0.75])          \n",
    "     "
   ]
  },
  {
   "cell_type": "code",
   "execution_count": 210,
   "id": "9127affa",
   "metadata": {},
   "outputs": [
    {
     "data": {
      "text/html": [
       "<div>\n",
       "<style scoped>\n",
       "    .dataframe tbody tr th:only-of-type {\n",
       "        vertical-align: middle;\n",
       "    }\n",
       "\n",
       "    .dataframe tbody tr th {\n",
       "        vertical-align: top;\n",
       "    }\n",
       "\n",
       "    .dataframe thead th {\n",
       "        text-align: right;\n",
       "    }\n",
       "</style>\n",
       "<table border=\"1\" class=\"dataframe\">\n",
       "  <thead>\n",
       "    <tr style=\"text-align: right;\">\n",
       "      <th></th>\n",
       "      <th>values</th>\n",
       "    </tr>\n",
       "  </thead>\n",
       "  <tbody>\n",
       "    <tr>\n",
       "      <th>count</th>\n",
       "      <td>5.0</td>\n",
       "    </tr>\n",
       "    <tr>\n",
       "      <th>mean</th>\n",
       "      <td>2.0</td>\n",
       "    </tr>\n",
       "    <tr>\n",
       "      <th>std</th>\n",
       "      <td>0.0</td>\n",
       "    </tr>\n",
       "    <tr>\n",
       "      <th>min</th>\n",
       "      <td>2.0</td>\n",
       "    </tr>\n",
       "    <tr>\n",
       "      <th>25%</th>\n",
       "      <td>2.0</td>\n",
       "    </tr>\n",
       "    <tr>\n",
       "      <th>50%</th>\n",
       "      <td>2.0</td>\n",
       "    </tr>\n",
       "    <tr>\n",
       "      <th>75%</th>\n",
       "      <td>2.0</td>\n",
       "    </tr>\n",
       "    <tr>\n",
       "      <th>max</th>\n",
       "      <td>2.0</td>\n",
       "    </tr>\n",
       "  </tbody>\n",
       "</table>\n",
       "</div>"
      ],
      "text/plain": [
       "       values\n",
       "count     5.0\n",
       "mean      2.0\n",
       "std       0.0\n",
       "min       2.0\n",
       "25%       2.0\n",
       "50%       2.0\n",
       "75%       2.0\n",
       "max       2.0"
      ]
     },
     "execution_count": 210,
     "metadata": {},
     "output_type": "execute_result"
    }
   ],
   "source": [
    "\n",
    "g.describe()"
   ]
  },
  {
   "cell_type": "code",
   "execution_count": 211,
   "id": "97154ce8",
   "metadata": {},
   "outputs": [
    {
     "data": {
      "text/plain": [
       "2"
      ]
     },
     "execution_count": 211,
     "metadata": {},
     "output_type": "execute_result"
    }
   ],
   "source": [
    "#Maximum\n",
    "X=[2,2,2,2,2]\n",
    "\n",
    "#using numpy\n",
    "np.max(X)"
   ]
  },
  {
   "cell_type": "code",
   "execution_count": 212,
   "id": "23d59e6f",
   "metadata": {},
   "outputs": [
    {
     "name": "stdout",
     "output_type": "stream",
     "text": [
      "Maximum :  2\n"
     ]
    }
   ],
   "source": [
    "\n",
    "print(\"Maximum : \", np.max(X))"
   ]
  },
  {
   "cell_type": "code",
   "execution_count": 213,
   "id": "13d58183",
   "metadata": {},
   "outputs": [
    {
     "data": {
      "text/plain": [
       "values    2\n",
       "dtype: int64"
      ]
     },
     "execution_count": 213,
     "metadata": {},
     "output_type": "execute_result"
    }
   ],
   "source": [
    "#using pandas\n",
    "g.max()          \n",
    "     "
   ]
  },
  {
   "cell_type": "markdown",
   "id": "69f6bf33",
   "metadata": {},
   "source": [
    "# Range"
   ]
  },
  {
   "cell_type": "code",
   "execution_count": 214,
   "id": "820c7416",
   "metadata": {},
   "outputs": [
    {
     "data": {
      "text/plain": [
       "0"
      ]
     },
     "execution_count": 214,
     "metadata": {},
     "output_type": "execute_result"
    }
   ],
   "source": [
    "#Range\n",
    "#using numpy\n",
    "\n",
    "Ran=np.max(X) - np.min(X)\n",
    "Ran"
   ]
  },
  {
   "cell_type": "code",
   "execution_count": 215,
   "id": "97a59ed5",
   "metadata": {},
   "outputs": [
    {
     "data": {
      "text/plain": [
       "values    0\n",
       "dtype: int64"
      ]
     },
     "execution_count": 215,
     "metadata": {},
     "output_type": "execute_result"
    }
   ],
   "source": [
    "#using pandas\n",
    "Range =g.max()-g.min()\n",
    "Range"
   ]
  },
  {
   "cell_type": "markdown",
   "id": "a580a425",
   "metadata": {},
   "source": [
    "# IQR"
   ]
  },
  {
   "cell_type": "code",
   "execution_count": 216,
   "id": "e0681d94",
   "metadata": {},
   "outputs": [
    {
     "data": {
      "text/plain": [
       "0.0"
      ]
     },
     "execution_count": 216,
     "metadata": {},
     "output_type": "execute_result"
    }
   ],
   "source": [
    "#IQR\n",
    "#using numpy\n",
    "IQR = np.quantile(X,0.75)-np.quantile(X,0.25)\n",
    "IQR\n",
    "     "
   ]
  },
  {
   "cell_type": "code",
   "execution_count": 217,
   "id": "979cad61",
   "metadata": {},
   "outputs": [
    {
     "data": {
      "text/plain": [
       "values    0.0\n",
       "dtype: float64"
      ]
     },
     "execution_count": 217,
     "metadata": {},
     "output_type": "execute_result"
    }
   ],
   "source": [
    "#using pandas\n",
    "iqr=g.quantile(0.75)-g.quantile(0.25)\n",
    "iqr"
   ]
  },
  {
   "cell_type": "markdown",
   "id": "abdf52b4",
   "metadata": {},
   "source": [
    "# QD"
   ]
  },
  {
   "cell_type": "code",
   "execution_count": 218,
   "id": "07f1b8b5",
   "metadata": {},
   "outputs": [
    {
     "data": {
      "text/plain": [
       "0.0"
      ]
     },
     "execution_count": 218,
     "metadata": {},
     "output_type": "execute_result"
    }
   ],
   "source": [
    "#QD\n",
    "#using numpy\n",
    "QD = IQR/2\n",
    "QD"
   ]
  },
  {
   "cell_type": "code",
   "execution_count": 219,
   "id": "5c569528",
   "metadata": {},
   "outputs": [
    {
     "data": {
      "text/plain": [
       "values    0.0\n",
       "dtype: float64"
      ]
     },
     "execution_count": 219,
     "metadata": {},
     "output_type": "execute_result"
    }
   ],
   "source": [
    "#QD\n",
    "#using pandas\n",
    "qd =iqr/2\n",
    "qd"
   ]
  },
  {
   "cell_type": "markdown",
   "id": "02cc147a",
   "metadata": {},
   "source": [
    "# Example 7"
   ]
  },
  {
   "cell_type": "code",
   "execution_count": 220,
   "id": "33bbd548",
   "metadata": {},
   "outputs": [
    {
     "data": {
      "text/plain": [
       "1668.3333333333333"
      ]
     },
     "execution_count": 220,
     "metadata": {},
     "output_type": "execute_result"
    }
   ],
   "source": [
    "#mean \n",
    "\n",
    "import numpy as np\n",
    "X=[2,2,2,2,2,10000]\n",
    "\n",
    "#using numpy\n",
    "np.mean(X)\n",
    "     "
   ]
  },
  {
   "cell_type": "code",
   "execution_count": 221,
   "id": "f6a9c202",
   "metadata": {},
   "outputs": [
    {
     "name": "stdout",
     "output_type": "stream",
     "text": [
      "mean :  1668.3333333333333\n"
     ]
    }
   ],
   "source": [
    "\n",
    "print(\"mean : \", np.mean(X))"
   ]
  },
  {
   "cell_type": "code",
   "execution_count": 222,
   "id": "e69c142f",
   "metadata": {},
   "outputs": [
    {
     "data": {
      "text/html": [
       "<div>\n",
       "<style scoped>\n",
       "    .dataframe tbody tr th:only-of-type {\n",
       "        vertical-align: middle;\n",
       "    }\n",
       "\n",
       "    .dataframe tbody tr th {\n",
       "        vertical-align: top;\n",
       "    }\n",
       "\n",
       "    .dataframe thead th {\n",
       "        text-align: right;\n",
       "    }\n",
       "</style>\n",
       "<table border=\"1\" class=\"dataframe\">\n",
       "  <thead>\n",
       "    <tr style=\"text-align: right;\">\n",
       "      <th></th>\n",
       "      <th>values</th>\n",
       "    </tr>\n",
       "  </thead>\n",
       "  <tbody>\n",
       "    <tr>\n",
       "      <th>0</th>\n",
       "      <td>2</td>\n",
       "    </tr>\n",
       "    <tr>\n",
       "      <th>1</th>\n",
       "      <td>2</td>\n",
       "    </tr>\n",
       "    <tr>\n",
       "      <th>2</th>\n",
       "      <td>2</td>\n",
       "    </tr>\n",
       "    <tr>\n",
       "      <th>3</th>\n",
       "      <td>2</td>\n",
       "    </tr>\n",
       "    <tr>\n",
       "      <th>4</th>\n",
       "      <td>2</td>\n",
       "    </tr>\n",
       "    <tr>\n",
       "      <th>5</th>\n",
       "      <td>10000</td>\n",
       "    </tr>\n",
       "  </tbody>\n",
       "</table>\n",
       "</div>"
      ],
      "text/plain": [
       "   values\n",
       "0       2\n",
       "1       2\n",
       "2       2\n",
       "3       2\n",
       "4       2\n",
       "5   10000"
      ]
     },
     "execution_count": 222,
     "metadata": {},
     "output_type": "execute_result"
    }
   ],
   "source": [
    "#created the list into a table format\n",
    "import pandas as pd\n",
    "q=pd.DataFrame(data={'values': [2,2,2,2,2,10000]})\n",
    "q"
   ]
  },
  {
   "cell_type": "code",
   "execution_count": 223,
   "id": "146090f9",
   "metadata": {},
   "outputs": [
    {
     "data": {
      "text/plain": [
       "values    1668.333333\n",
       "dtype: float64"
      ]
     },
     "execution_count": 223,
     "metadata": {},
     "output_type": "execute_result"
    }
   ],
   "source": [
    "#mean using pandas\n",
    "q.mean()"
   ]
  },
  {
   "cell_type": "code",
   "execution_count": 224,
   "id": "f57e7376",
   "metadata": {},
   "outputs": [
    {
     "data": {
      "text/html": [
       "<div>\n",
       "<style scoped>\n",
       "    .dataframe tbody tr th:only-of-type {\n",
       "        vertical-align: middle;\n",
       "    }\n",
       "\n",
       "    .dataframe tbody tr th {\n",
       "        vertical-align: top;\n",
       "    }\n",
       "\n",
       "    .dataframe thead th {\n",
       "        text-align: right;\n",
       "    }\n",
       "</style>\n",
       "<table border=\"1\" class=\"dataframe\">\n",
       "  <thead>\n",
       "    <tr style=\"text-align: right;\">\n",
       "      <th></th>\n",
       "      <th>values</th>\n",
       "    </tr>\n",
       "  </thead>\n",
       "  <tbody>\n",
       "    <tr>\n",
       "      <th>count</th>\n",
       "      <td>6.000000</td>\n",
       "    </tr>\n",
       "    <tr>\n",
       "      <th>mean</th>\n",
       "      <td>1668.333333</td>\n",
       "    </tr>\n",
       "    <tr>\n",
       "      <th>std</th>\n",
       "      <td>4081.666408</td>\n",
       "    </tr>\n",
       "    <tr>\n",
       "      <th>min</th>\n",
       "      <td>2.000000</td>\n",
       "    </tr>\n",
       "    <tr>\n",
       "      <th>25%</th>\n",
       "      <td>2.000000</td>\n",
       "    </tr>\n",
       "    <tr>\n",
       "      <th>50%</th>\n",
       "      <td>2.000000</td>\n",
       "    </tr>\n",
       "    <tr>\n",
       "      <th>75%</th>\n",
       "      <td>2.000000</td>\n",
       "    </tr>\n",
       "    <tr>\n",
       "      <th>max</th>\n",
       "      <td>10000.000000</td>\n",
       "    </tr>\n",
       "  </tbody>\n",
       "</table>\n",
       "</div>"
      ],
      "text/plain": [
       "             values\n",
       "count      6.000000\n",
       "mean    1668.333333\n",
       "std     4081.666408\n",
       "min        2.000000\n",
       "25%        2.000000\n",
       "50%        2.000000\n",
       "75%        2.000000\n",
       "max    10000.000000"
      ]
     },
     "execution_count": 224,
     "metadata": {},
     "output_type": "execute_result"
    }
   ],
   "source": [
    "q.describe()"
   ]
  },
  {
   "cell_type": "code",
   "execution_count": 225,
   "id": "0cd87bf2",
   "metadata": {},
   "outputs": [
    {
     "data": {
      "text/plain": [
       "2.0"
      ]
     },
     "execution_count": 225,
     "metadata": {},
     "output_type": "execute_result"
    }
   ],
   "source": [
    "#median\n",
    "X=[2,2,2,2,2,10000]\n",
    "\n",
    "#using numpy\n",
    "np.median(X)"
   ]
  },
  {
   "cell_type": "code",
   "execution_count": 226,
   "id": "918af058",
   "metadata": {},
   "outputs": [
    {
     "name": "stdout",
     "output_type": "stream",
     "text": [
      "median :  2.0\n"
     ]
    }
   ],
   "source": [
    "print(\"median : \", np.median(X))"
   ]
  },
  {
   "cell_type": "code",
   "execution_count": 227,
   "id": "4c367661",
   "metadata": {},
   "outputs": [
    {
     "data": {
      "text/plain": [
       "values    2.0\n",
       "dtype: float64"
      ]
     },
     "execution_count": 227,
     "metadata": {},
     "output_type": "execute_result"
    }
   ],
   "source": [
    "#using pandas\n",
    "g.median()"
   ]
  },
  {
   "cell_type": "code",
   "execution_count": 228,
   "id": "5c0bc435",
   "metadata": {},
   "outputs": [
    {
     "data": {
      "text/html": [
       "<div>\n",
       "<style scoped>\n",
       "    .dataframe tbody tr th:only-of-type {\n",
       "        vertical-align: middle;\n",
       "    }\n",
       "\n",
       "    .dataframe tbody tr th {\n",
       "        vertical-align: top;\n",
       "    }\n",
       "\n",
       "    .dataframe thead th {\n",
       "        text-align: right;\n",
       "    }\n",
       "</style>\n",
       "<table border=\"1\" class=\"dataframe\">\n",
       "  <thead>\n",
       "    <tr style=\"text-align: right;\">\n",
       "      <th></th>\n",
       "      <th>values</th>\n",
       "    </tr>\n",
       "  </thead>\n",
       "  <tbody>\n",
       "    <tr>\n",
       "      <th>count</th>\n",
       "      <td>5.0</td>\n",
       "    </tr>\n",
       "    <tr>\n",
       "      <th>mean</th>\n",
       "      <td>2.0</td>\n",
       "    </tr>\n",
       "    <tr>\n",
       "      <th>std</th>\n",
       "      <td>0.0</td>\n",
       "    </tr>\n",
       "    <tr>\n",
       "      <th>min</th>\n",
       "      <td>2.0</td>\n",
       "    </tr>\n",
       "    <tr>\n",
       "      <th>25%</th>\n",
       "      <td>2.0</td>\n",
       "    </tr>\n",
       "    <tr>\n",
       "      <th>50%</th>\n",
       "      <td>2.0</td>\n",
       "    </tr>\n",
       "    <tr>\n",
       "      <th>75%</th>\n",
       "      <td>2.0</td>\n",
       "    </tr>\n",
       "    <tr>\n",
       "      <th>max</th>\n",
       "      <td>2.0</td>\n",
       "    </tr>\n",
       "  </tbody>\n",
       "</table>\n",
       "</div>"
      ],
      "text/plain": [
       "       values\n",
       "count     5.0\n",
       "mean      2.0\n",
       "std       0.0\n",
       "min       2.0\n",
       "25%       2.0\n",
       "50%       2.0\n",
       "75%       2.0\n",
       "max       2.0"
      ]
     },
     "execution_count": 228,
     "metadata": {},
     "output_type": "execute_result"
    }
   ],
   "source": [
    "g.describe()"
   ]
  },
  {
   "cell_type": "code",
   "execution_count": null,
   "id": "868c1b67",
   "metadata": {},
   "outputs": [],
   "source": [
    "#mode\n",
    "#numpy does not has an attribute mode\n",
    "     "
   ]
  },
  {
   "cell_type": "code",
   "execution_count": 229,
   "id": "7c324d55",
   "metadata": {},
   "outputs": [
    {
     "data": {
      "text/html": [
       "<div>\n",
       "<style scoped>\n",
       "    .dataframe tbody tr th:only-of-type {\n",
       "        vertical-align: middle;\n",
       "    }\n",
       "\n",
       "    .dataframe tbody tr th {\n",
       "        vertical-align: top;\n",
       "    }\n",
       "\n",
       "    .dataframe thead th {\n",
       "        text-align: right;\n",
       "    }\n",
       "</style>\n",
       "<table border=\"1\" class=\"dataframe\">\n",
       "  <thead>\n",
       "    <tr style=\"text-align: right;\">\n",
       "      <th></th>\n",
       "      <th>values</th>\n",
       "    </tr>\n",
       "  </thead>\n",
       "  <tbody>\n",
       "    <tr>\n",
       "      <th>0</th>\n",
       "      <td>2</td>\n",
       "    </tr>\n",
       "  </tbody>\n",
       "</table>\n",
       "</div>"
      ],
      "text/plain": [
       "   values\n",
       "0       2"
      ]
     },
     "execution_count": 229,
     "metadata": {},
     "output_type": "execute_result"
    }
   ],
   "source": [
    "#using pandas\n",
    "q.mode()"
   ]
  },
  {
   "cell_type": "markdown",
   "id": "ad933e86",
   "metadata": {},
   "source": [
    "# Measure of Dispersion"
   ]
  },
  {
   "cell_type": "code",
   "execution_count": 230,
   "id": "18e077ae",
   "metadata": {},
   "outputs": [
    {
     "data": {
      "text/plain": [
       "13883333.888888886"
      ]
     },
     "execution_count": 230,
     "metadata": {},
     "output_type": "execute_result"
    }
   ],
   "source": [
    "#variance\n",
    "X=[2,2,2,2,2,10000]\n",
    "\n",
    "#using numpy\n",
    "np.var(X)"
   ]
  },
  {
   "cell_type": "code",
   "execution_count": 231,
   "id": "21edc324",
   "metadata": {},
   "outputs": [
    {
     "name": "stdout",
     "output_type": "stream",
     "text": [
      "Variance :  13883333.888888886\n"
     ]
    }
   ],
   "source": [
    "print(\"Variance : \", np.var(X))"
   ]
  },
  {
   "cell_type": "code",
   "execution_count": 232,
   "id": "710ca518",
   "metadata": {},
   "outputs": [
    {
     "data": {
      "text/plain": [
       "values    1.666000e+07\n",
       "dtype: float64"
      ]
     },
     "execution_count": 232,
     "metadata": {},
     "output_type": "execute_result"
    }
   ],
   "source": [
    "#using pandas\n",
    "q.var() "
   ]
  },
  {
   "cell_type": "code",
   "execution_count": 233,
   "id": "233fda33",
   "metadata": {},
   "outputs": [
    {
     "data": {
      "text/plain": [
       "3726.0346065071494"
      ]
     },
     "execution_count": 233,
     "metadata": {},
     "output_type": "execute_result"
    }
   ],
   "source": [
    "#standard deviation\n",
    "X=[2,2,2,2,2,10000]\n",
    "\n",
    "#using numpy\n",
    "np.std(X)"
   ]
  },
  {
   "cell_type": "code",
   "execution_count": 234,
   "id": "418d7a9c",
   "metadata": {},
   "outputs": [
    {
     "name": "stdout",
     "output_type": "stream",
     "text": [
      "Variance :  3726.0346065071494\n"
     ]
    }
   ],
   "source": [
    "print(\"Variance : \", np.std(X))"
   ]
  },
  {
   "cell_type": "code",
   "execution_count": 235,
   "id": "6d757bcb",
   "metadata": {},
   "outputs": [
    {
     "data": {
      "text/plain": [
       "values    4081.666408\n",
       "dtype: float64"
      ]
     },
     "execution_count": 235,
     "metadata": {},
     "output_type": "execute_result"
    }
   ],
   "source": [
    "#using pandas\n",
    "q.std()"
   ]
  },
  {
   "cell_type": "markdown",
   "id": "1fde7feb",
   "metadata": {},
   "source": [
    "# 5 Number Summary"
   ]
  },
  {
   "cell_type": "markdown",
   "id": "9c7e6f19",
   "metadata": {},
   "source": [
    "Minimum,\n",
    "1st quartile -Q1,\n",
    "2nd quartile -Q2(Median),\n",
    "3rd quartile -Q3,\n",
    "Maximum\n"
   ]
  },
  {
   "cell_type": "code",
   "execution_count": 236,
   "id": "a448db48",
   "metadata": {},
   "outputs": [
    {
     "data": {
      "text/plain": [
       "2"
      ]
     },
     "execution_count": 236,
     "metadata": {},
     "output_type": "execute_result"
    }
   ],
   "source": [
    "#Minimum\n",
    "X=[2,2,2,2,2,10000]\n",
    "\n",
    "#using numpy\n",
    "np.min(X)"
   ]
  },
  {
   "cell_type": "code",
   "execution_count": 237,
   "id": "049a5d7e",
   "metadata": {},
   "outputs": [
    {
     "name": "stdout",
     "output_type": "stream",
     "text": [
      "Minimum :  2\n"
     ]
    }
   ],
   "source": [
    "print(\"Minimum : \", np.min(X))"
   ]
  },
  {
   "cell_type": "code",
   "execution_count": 238,
   "id": "bcb87ef2",
   "metadata": {},
   "outputs": [
    {
     "data": {
      "text/plain": [
       "values    2\n",
       "dtype: int64"
      ]
     },
     "execution_count": 238,
     "metadata": {},
     "output_type": "execute_result"
    }
   ],
   "source": [
    "#using pandas\n",
    "q.min()  "
   ]
  },
  {
   "cell_type": "code",
   "execution_count": 239,
   "id": "ccab3785",
   "metadata": {},
   "outputs": [
    {
     "data": {
      "text/plain": [
       "array([2., 2., 2.])"
      ]
     },
     "execution_count": 239,
     "metadata": {},
     "output_type": "execute_result"
    }
   ],
   "source": [
    "#quartiles\n",
    "X=[2,2,2,2,2,10000]\n",
    "\n",
    "#using numpy\n",
    "np.quantile(X,[0.25,0.50,0.75])"
   ]
  },
  {
   "cell_type": "code",
   "execution_count": 240,
   "id": "da7a7d9d",
   "metadata": {},
   "outputs": [
    {
     "name": "stdout",
     "output_type": "stream",
     "text": [
      "Q1 :  2.0 Q2 :  2.0 Q3 :  2.0\n"
     ]
    }
   ],
   "source": [
    "print(\"Q1 : \", np.quantile(X,0.25),\n",
    "      \"Q2 : \", np.quantile(X,0.50),\n",
    "      \"Q3 : \", np.quantile(X,0.75))"
   ]
  },
  {
   "cell_type": "code",
   "execution_count": 241,
   "id": "776a6714",
   "metadata": {},
   "outputs": [
    {
     "data": {
      "text/html": [
       "<div>\n",
       "<style scoped>\n",
       "    .dataframe tbody tr th:only-of-type {\n",
       "        vertical-align: middle;\n",
       "    }\n",
       "\n",
       "    .dataframe tbody tr th {\n",
       "        vertical-align: top;\n",
       "    }\n",
       "\n",
       "    .dataframe thead th {\n",
       "        text-align: right;\n",
       "    }\n",
       "</style>\n",
       "<table border=\"1\" class=\"dataframe\">\n",
       "  <thead>\n",
       "    <tr style=\"text-align: right;\">\n",
       "      <th></th>\n",
       "      <th>values</th>\n",
       "    </tr>\n",
       "  </thead>\n",
       "  <tbody>\n",
       "    <tr>\n",
       "      <th>0.25</th>\n",
       "      <td>2.0</td>\n",
       "    </tr>\n",
       "    <tr>\n",
       "      <th>0.50</th>\n",
       "      <td>2.0</td>\n",
       "    </tr>\n",
       "    <tr>\n",
       "      <th>0.75</th>\n",
       "      <td>2.0</td>\n",
       "    </tr>\n",
       "  </tbody>\n",
       "</table>\n",
       "</div>"
      ],
      "text/plain": [
       "      values\n",
       "0.25     2.0\n",
       "0.50     2.0\n",
       "0.75     2.0"
      ]
     },
     "execution_count": 241,
     "metadata": {},
     "output_type": "execute_result"
    }
   ],
   "source": [
    "#using pandas\n",
    "q.quantile([0.25,0.50,0.75])          \n",
    "     "
   ]
  },
  {
   "cell_type": "code",
   "execution_count": 242,
   "id": "4bdb2b50",
   "metadata": {},
   "outputs": [
    {
     "data": {
      "text/html": [
       "<div>\n",
       "<style scoped>\n",
       "    .dataframe tbody tr th:only-of-type {\n",
       "        vertical-align: middle;\n",
       "    }\n",
       "\n",
       "    .dataframe tbody tr th {\n",
       "        vertical-align: top;\n",
       "    }\n",
       "\n",
       "    .dataframe thead th {\n",
       "        text-align: right;\n",
       "    }\n",
       "</style>\n",
       "<table border=\"1\" class=\"dataframe\">\n",
       "  <thead>\n",
       "    <tr style=\"text-align: right;\">\n",
       "      <th></th>\n",
       "      <th>values</th>\n",
       "    </tr>\n",
       "  </thead>\n",
       "  <tbody>\n",
       "    <tr>\n",
       "      <th>count</th>\n",
       "      <td>6.000000</td>\n",
       "    </tr>\n",
       "    <tr>\n",
       "      <th>mean</th>\n",
       "      <td>1668.333333</td>\n",
       "    </tr>\n",
       "    <tr>\n",
       "      <th>std</th>\n",
       "      <td>4081.666408</td>\n",
       "    </tr>\n",
       "    <tr>\n",
       "      <th>min</th>\n",
       "      <td>2.000000</td>\n",
       "    </tr>\n",
       "    <tr>\n",
       "      <th>25%</th>\n",
       "      <td>2.000000</td>\n",
       "    </tr>\n",
       "    <tr>\n",
       "      <th>50%</th>\n",
       "      <td>2.000000</td>\n",
       "    </tr>\n",
       "    <tr>\n",
       "      <th>75%</th>\n",
       "      <td>2.000000</td>\n",
       "    </tr>\n",
       "    <tr>\n",
       "      <th>max</th>\n",
       "      <td>10000.000000</td>\n",
       "    </tr>\n",
       "  </tbody>\n",
       "</table>\n",
       "</div>"
      ],
      "text/plain": [
       "             values\n",
       "count      6.000000\n",
       "mean    1668.333333\n",
       "std     4081.666408\n",
       "min        2.000000\n",
       "25%        2.000000\n",
       "50%        2.000000\n",
       "75%        2.000000\n",
       "max    10000.000000"
      ]
     },
     "execution_count": 242,
     "metadata": {},
     "output_type": "execute_result"
    }
   ],
   "source": [
    "q.describe()"
   ]
  },
  {
   "cell_type": "code",
   "execution_count": 243,
   "id": "c2f19660",
   "metadata": {},
   "outputs": [
    {
     "data": {
      "text/plain": [
       "10000"
      ]
     },
     "execution_count": 243,
     "metadata": {},
     "output_type": "execute_result"
    }
   ],
   "source": [
    "#Maximum\n",
    "X=[2,2,2,2,2,10000]\n",
    "\n",
    "#using numpy\n",
    "np.max(X)\n",
    "     "
   ]
  },
  {
   "cell_type": "code",
   "execution_count": 244,
   "id": "c101e71b",
   "metadata": {},
   "outputs": [
    {
     "name": "stdout",
     "output_type": "stream",
     "text": [
      "Maximum :  10000\n"
     ]
    }
   ],
   "source": [
    "print(\"Maximum : \", np.max(X))\n",
    "     "
   ]
  },
  {
   "cell_type": "code",
   "execution_count": 245,
   "id": "ad5fc64f",
   "metadata": {},
   "outputs": [
    {
     "data": {
      "text/plain": [
       "values    10000\n",
       "dtype: int64"
      ]
     },
     "execution_count": 245,
     "metadata": {},
     "output_type": "execute_result"
    }
   ],
   "source": [
    "#using pandas\n",
    "q.max()  "
   ]
  },
  {
   "cell_type": "markdown",
   "id": "da94147e",
   "metadata": {},
   "source": [
    "# Range"
   ]
  },
  {
   "cell_type": "code",
   "execution_count": 246,
   "id": "07d7c129",
   "metadata": {},
   "outputs": [
    {
     "data": {
      "text/plain": [
       "9998"
      ]
     },
     "execution_count": 246,
     "metadata": {},
     "output_type": "execute_result"
    }
   ],
   "source": [
    "#Range\n",
    "#using numpy\n",
    "\n",
    "Ran=np.max(X) - np.min(X)\n",
    "Ran"
   ]
  },
  {
   "cell_type": "code",
   "execution_count": 247,
   "id": "fb5fa25f",
   "metadata": {},
   "outputs": [
    {
     "data": {
      "text/plain": [
       "values    9998\n",
       "dtype: int64"
      ]
     },
     "execution_count": 247,
     "metadata": {},
     "output_type": "execute_result"
    }
   ],
   "source": [
    "#using pandas\n",
    "Range = q.max()-q.min()\n",
    "Range"
   ]
  },
  {
   "cell_type": "markdown",
   "id": "c06a1d2c",
   "metadata": {},
   "source": [
    "# IQR "
   ]
  },
  {
   "cell_type": "code",
   "execution_count": 248,
   "id": "8a2e8363",
   "metadata": {},
   "outputs": [
    {
     "data": {
      "text/plain": [
       "0.0"
      ]
     },
     "execution_count": 248,
     "metadata": {},
     "output_type": "execute_result"
    }
   ],
   "source": [
    "#IQR\n",
    "#using numpy\n",
    "IQR = np.quantile(X,0.75)-np.quantile(X,0.25)\n",
    "IQR"
   ]
  },
  {
   "cell_type": "code",
   "execution_count": 249,
   "id": "694cc1ca",
   "metadata": {},
   "outputs": [
    {
     "data": {
      "text/plain": [
       "values    0.0\n",
       "dtype: float64"
      ]
     },
     "execution_count": 249,
     "metadata": {},
     "output_type": "execute_result"
    }
   ],
   "source": [
    "#using pandas\n",
    "iqr=q.quantile(0.75)-q.quantile(0.25)\n",
    "iqr\n",
    "     "
   ]
  },
  {
   "cell_type": "markdown",
   "id": "791f10dc",
   "metadata": {},
   "source": [
    "# QD"
   ]
  },
  {
   "cell_type": "code",
   "execution_count": 250,
   "id": "89e63668",
   "metadata": {},
   "outputs": [
    {
     "data": {
      "text/plain": [
       "0.0"
      ]
     },
     "execution_count": 250,
     "metadata": {},
     "output_type": "execute_result"
    }
   ],
   "source": [
    "#QD\n",
    "#using numpy\n",
    "QD = IQR/2\n",
    "QD"
   ]
  },
  {
   "cell_type": "code",
   "execution_count": 251,
   "id": "bdb18d6d",
   "metadata": {},
   "outputs": [
    {
     "data": {
      "text/plain": [
       "values    0.0\n",
       "dtype: float64"
      ]
     },
     "execution_count": 251,
     "metadata": {},
     "output_type": "execute_result"
    }
   ],
   "source": [
    "#QD\n",
    "#using pandas\n",
    "qd =iqr/2\n",
    "qd"
   ]
  },
  {
   "cell_type": "markdown",
   "id": "66b3d16d",
   "metadata": {},
   "source": [
    "# Example 8"
   ]
  },
  {
   "cell_type": "code",
   "execution_count": 252,
   "id": "227b9074",
   "metadata": {},
   "outputs": [
    {
     "data": {
      "text/plain": [
       "12.0"
      ]
     },
     "execution_count": 252,
     "metadata": {},
     "output_type": "execute_result"
    }
   ],
   "source": [
    "#mean \n",
    "\n",
    "import numpy as np\n",
    "X=[1,1,2,2,3,3,4,5,5,6,100]\n",
    "\n",
    "#using numpy\n",
    "np.mean(X)"
   ]
  },
  {
   "cell_type": "code",
   "execution_count": 253,
   "id": "2954a669",
   "metadata": {},
   "outputs": [
    {
     "name": "stdout",
     "output_type": "stream",
     "text": [
      "mean :  12.0\n"
     ]
    }
   ],
   "source": [
    "print(\"mean : \", np.mean(X))"
   ]
  },
  {
   "cell_type": "code",
   "execution_count": 254,
   "id": "340d1b5f",
   "metadata": {},
   "outputs": [
    {
     "data": {
      "text/html": [
       "<div>\n",
       "<style scoped>\n",
       "    .dataframe tbody tr th:only-of-type {\n",
       "        vertical-align: middle;\n",
       "    }\n",
       "\n",
       "    .dataframe tbody tr th {\n",
       "        vertical-align: top;\n",
       "    }\n",
       "\n",
       "    .dataframe thead th {\n",
       "        text-align: right;\n",
       "    }\n",
       "</style>\n",
       "<table border=\"1\" class=\"dataframe\">\n",
       "  <thead>\n",
       "    <tr style=\"text-align: right;\">\n",
       "      <th></th>\n",
       "      <th>values</th>\n",
       "    </tr>\n",
       "  </thead>\n",
       "  <tbody>\n",
       "    <tr>\n",
       "      <th>0</th>\n",
       "      <td>1</td>\n",
       "    </tr>\n",
       "    <tr>\n",
       "      <th>1</th>\n",
       "      <td>1</td>\n",
       "    </tr>\n",
       "    <tr>\n",
       "      <th>2</th>\n",
       "      <td>2</td>\n",
       "    </tr>\n",
       "    <tr>\n",
       "      <th>3</th>\n",
       "      <td>2</td>\n",
       "    </tr>\n",
       "    <tr>\n",
       "      <th>4</th>\n",
       "      <td>3</td>\n",
       "    </tr>\n",
       "    <tr>\n",
       "      <th>5</th>\n",
       "      <td>3</td>\n",
       "    </tr>\n",
       "    <tr>\n",
       "      <th>6</th>\n",
       "      <td>4</td>\n",
       "    </tr>\n",
       "    <tr>\n",
       "      <th>7</th>\n",
       "      <td>5</td>\n",
       "    </tr>\n",
       "    <tr>\n",
       "      <th>8</th>\n",
       "      <td>5</td>\n",
       "    </tr>\n",
       "    <tr>\n",
       "      <th>9</th>\n",
       "      <td>6</td>\n",
       "    </tr>\n",
       "    <tr>\n",
       "      <th>10</th>\n",
       "      <td>100</td>\n",
       "    </tr>\n",
       "  </tbody>\n",
       "</table>\n",
       "</div>"
      ],
      "text/plain": [
       "    values\n",
       "0        1\n",
       "1        1\n",
       "2        2\n",
       "3        2\n",
       "4        3\n",
       "5        3\n",
       "6        4\n",
       "7        5\n",
       "8        5\n",
       "9        6\n",
       "10     100"
      ]
     },
     "execution_count": 254,
     "metadata": {},
     "output_type": "execute_result"
    }
   ],
   "source": [
    "#created the list into a table format\n",
    "import pandas as pd\n",
    "r=pd.DataFrame(data={'values': [1,1,2,2,3,3,4,5,5,6,100]})\n",
    "r"
   ]
  },
  {
   "cell_type": "code",
   "execution_count": 255,
   "id": "0e7530b4",
   "metadata": {},
   "outputs": [
    {
     "data": {
      "text/plain": [
       "values    12.0\n",
       "dtype: float64"
      ]
     },
     "execution_count": 255,
     "metadata": {},
     "output_type": "execute_result"
    }
   ],
   "source": [
    "#mean using pandas\n",
    "r.mean()\n",
    "     "
   ]
  },
  {
   "cell_type": "code",
   "execution_count": 256,
   "id": "b276b213",
   "metadata": {},
   "outputs": [
    {
     "data": {
      "text/html": [
       "<div>\n",
       "<style scoped>\n",
       "    .dataframe tbody tr th:only-of-type {\n",
       "        vertical-align: middle;\n",
       "    }\n",
       "\n",
       "    .dataframe tbody tr th {\n",
       "        vertical-align: top;\n",
       "    }\n",
       "\n",
       "    .dataframe thead th {\n",
       "        text-align: right;\n",
       "    }\n",
       "</style>\n",
       "<table border=\"1\" class=\"dataframe\">\n",
       "  <thead>\n",
       "    <tr style=\"text-align: right;\">\n",
       "      <th></th>\n",
       "      <th>values</th>\n",
       "    </tr>\n",
       "  </thead>\n",
       "  <tbody>\n",
       "    <tr>\n",
       "      <th>count</th>\n",
       "      <td>11.000000</td>\n",
       "    </tr>\n",
       "    <tr>\n",
       "      <th>mean</th>\n",
       "      <td>12.000000</td>\n",
       "    </tr>\n",
       "    <tr>\n",
       "      <th>std</th>\n",
       "      <td>29.233542</td>\n",
       "    </tr>\n",
       "    <tr>\n",
       "      <th>min</th>\n",
       "      <td>1.000000</td>\n",
       "    </tr>\n",
       "    <tr>\n",
       "      <th>25%</th>\n",
       "      <td>2.000000</td>\n",
       "    </tr>\n",
       "    <tr>\n",
       "      <th>50%</th>\n",
       "      <td>3.000000</td>\n",
       "    </tr>\n",
       "    <tr>\n",
       "      <th>75%</th>\n",
       "      <td>5.000000</td>\n",
       "    </tr>\n",
       "    <tr>\n",
       "      <th>max</th>\n",
       "      <td>100.000000</td>\n",
       "    </tr>\n",
       "  </tbody>\n",
       "</table>\n",
       "</div>"
      ],
      "text/plain": [
       "           values\n",
       "count   11.000000\n",
       "mean    12.000000\n",
       "std     29.233542\n",
       "min      1.000000\n",
       "25%      2.000000\n",
       "50%      3.000000\n",
       "75%      5.000000\n",
       "max    100.000000"
      ]
     },
     "execution_count": 256,
     "metadata": {},
     "output_type": "execute_result"
    }
   ],
   "source": [
    "r.describe()"
   ]
  },
  {
   "cell_type": "code",
   "execution_count": 257,
   "id": "5bada4b4",
   "metadata": {},
   "outputs": [
    {
     "data": {
      "text/plain": [
       "3.0"
      ]
     },
     "execution_count": 257,
     "metadata": {},
     "output_type": "execute_result"
    }
   ],
   "source": [
    "#median\n",
    "X=[1,1,2,2,3,3,4,5,5,6,100]\n",
    "\n",
    "#using numpy\n",
    "np.median(X)"
   ]
  },
  {
   "cell_type": "code",
   "execution_count": 258,
   "id": "a65928fb",
   "metadata": {},
   "outputs": [
    {
     "name": "stdout",
     "output_type": "stream",
     "text": [
      "median :  3.0\n"
     ]
    }
   ],
   "source": [
    "print(\"median : \", np.median(X))"
   ]
  },
  {
   "cell_type": "code",
   "execution_count": 259,
   "id": "e566b8a6",
   "metadata": {},
   "outputs": [
    {
     "data": {
      "text/plain": [
       "values    3.0\n",
       "dtype: float64"
      ]
     },
     "execution_count": 259,
     "metadata": {},
     "output_type": "execute_result"
    }
   ],
   "source": [
    "#using pandas\n",
    "r.median()"
   ]
  },
  {
   "cell_type": "code",
   "execution_count": 260,
   "id": "169c283d",
   "metadata": {},
   "outputs": [
    {
     "data": {
      "text/html": [
       "<div>\n",
       "<style scoped>\n",
       "    .dataframe tbody tr th:only-of-type {\n",
       "        vertical-align: middle;\n",
       "    }\n",
       "\n",
       "    .dataframe tbody tr th {\n",
       "        vertical-align: top;\n",
       "    }\n",
       "\n",
       "    .dataframe thead th {\n",
       "        text-align: right;\n",
       "    }\n",
       "</style>\n",
       "<table border=\"1\" class=\"dataframe\">\n",
       "  <thead>\n",
       "    <tr style=\"text-align: right;\">\n",
       "      <th></th>\n",
       "      <th>values</th>\n",
       "    </tr>\n",
       "  </thead>\n",
       "  <tbody>\n",
       "    <tr>\n",
       "      <th>count</th>\n",
       "      <td>11.000000</td>\n",
       "    </tr>\n",
       "    <tr>\n",
       "      <th>mean</th>\n",
       "      <td>12.000000</td>\n",
       "    </tr>\n",
       "    <tr>\n",
       "      <th>std</th>\n",
       "      <td>29.233542</td>\n",
       "    </tr>\n",
       "    <tr>\n",
       "      <th>min</th>\n",
       "      <td>1.000000</td>\n",
       "    </tr>\n",
       "    <tr>\n",
       "      <th>25%</th>\n",
       "      <td>2.000000</td>\n",
       "    </tr>\n",
       "    <tr>\n",
       "      <th>50%</th>\n",
       "      <td>3.000000</td>\n",
       "    </tr>\n",
       "    <tr>\n",
       "      <th>75%</th>\n",
       "      <td>5.000000</td>\n",
       "    </tr>\n",
       "    <tr>\n",
       "      <th>max</th>\n",
       "      <td>100.000000</td>\n",
       "    </tr>\n",
       "  </tbody>\n",
       "</table>\n",
       "</div>"
      ],
      "text/plain": [
       "           values\n",
       "count   11.000000\n",
       "mean    12.000000\n",
       "std     29.233542\n",
       "min      1.000000\n",
       "25%      2.000000\n",
       "50%      3.000000\n",
       "75%      5.000000\n",
       "max    100.000000"
      ]
     },
     "execution_count": 260,
     "metadata": {},
     "output_type": "execute_result"
    }
   ],
   "source": [
    "r.describe()"
   ]
  },
  {
   "cell_type": "code",
   "execution_count": null,
   "id": "9c70417f",
   "metadata": {},
   "outputs": [],
   "source": [
    "#mode\n",
    "#numpy does not has an attribute mode    "
   ]
  },
  {
   "cell_type": "code",
   "execution_count": 261,
   "id": "987d444d",
   "metadata": {},
   "outputs": [
    {
     "data": {
      "text/html": [
       "<div>\n",
       "<style scoped>\n",
       "    .dataframe tbody tr th:only-of-type {\n",
       "        vertical-align: middle;\n",
       "    }\n",
       "\n",
       "    .dataframe tbody tr th {\n",
       "        vertical-align: top;\n",
       "    }\n",
       "\n",
       "    .dataframe thead th {\n",
       "        text-align: right;\n",
       "    }\n",
       "</style>\n",
       "<table border=\"1\" class=\"dataframe\">\n",
       "  <thead>\n",
       "    <tr style=\"text-align: right;\">\n",
       "      <th></th>\n",
       "      <th>values</th>\n",
       "    </tr>\n",
       "  </thead>\n",
       "  <tbody>\n",
       "    <tr>\n",
       "      <th>0</th>\n",
       "      <td>1</td>\n",
       "    </tr>\n",
       "    <tr>\n",
       "      <th>1</th>\n",
       "      <td>2</td>\n",
       "    </tr>\n",
       "    <tr>\n",
       "      <th>2</th>\n",
       "      <td>3</td>\n",
       "    </tr>\n",
       "    <tr>\n",
       "      <th>3</th>\n",
       "      <td>5</td>\n",
       "    </tr>\n",
       "  </tbody>\n",
       "</table>\n",
       "</div>"
      ],
      "text/plain": [
       "   values\n",
       "0       1\n",
       "1       2\n",
       "2       3\n",
       "3       5"
      ]
     },
     "execution_count": 261,
     "metadata": {},
     "output_type": "execute_result"
    }
   ],
   "source": [
    "#using pandas\n",
    "r.mode()   "
   ]
  },
  {
   "cell_type": "markdown",
   "id": "cb370ba3",
   "metadata": {},
   "source": [
    "# Measure of Dispersion"
   ]
  },
  {
   "cell_type": "code",
   "execution_count": 262,
   "id": "7f81c591",
   "metadata": {},
   "outputs": [
    {
     "data": {
      "text/plain": [
       "776.9090909090909"
      ]
     },
     "execution_count": 262,
     "metadata": {},
     "output_type": "execute_result"
    }
   ],
   "source": [
    "#variance\n",
    "X=[1,1,2,2,3,3,4,5,5,6,100]\n",
    "\n",
    "#using numpy\n",
    "np.var(X)"
   ]
  },
  {
   "cell_type": "code",
   "execution_count": 263,
   "id": "d7cb13a5",
   "metadata": {},
   "outputs": [
    {
     "name": "stdout",
     "output_type": "stream",
     "text": [
      "Variance :  776.9090909090909\n"
     ]
    }
   ],
   "source": [
    "print(\"Variance : \", np.var(X))"
   ]
  },
  {
   "cell_type": "code",
   "execution_count": 264,
   "id": "a31e4ac1",
   "metadata": {},
   "outputs": [
    {
     "data": {
      "text/plain": [
       "values    854.6\n",
       "dtype: float64"
      ]
     },
     "execution_count": 264,
     "metadata": {},
     "output_type": "execute_result"
    }
   ],
   "source": [
    "#using pandas\n",
    "r.var() "
   ]
  },
  {
   "cell_type": "code",
   "execution_count": 265,
   "id": "34a14d91",
   "metadata": {},
   "outputs": [
    {
     "data": {
      "text/plain": [
       "27.873089009097843"
      ]
     },
     "execution_count": 265,
     "metadata": {},
     "output_type": "execute_result"
    }
   ],
   "source": [
    "#standard deviation\n",
    "X=[1,1,2,2,3,3,4,5,5,6,100]\n",
    "\n",
    "#using numpy\n",
    "np.std(X)"
   ]
  },
  {
   "cell_type": "code",
   "execution_count": 266,
   "id": "e743c373",
   "metadata": {},
   "outputs": [
    {
     "name": "stdout",
     "output_type": "stream",
     "text": [
      "Variance :  27.873089009097843\n"
     ]
    }
   ],
   "source": [
    "print(\"Variance : \", np.std(X))"
   ]
  },
  {
   "cell_type": "code",
   "execution_count": 267,
   "id": "004837d5",
   "metadata": {},
   "outputs": [
    {
     "data": {
      "text/plain": [
       "values    29.233542\n",
       "dtype: float64"
      ]
     },
     "execution_count": 267,
     "metadata": {},
     "output_type": "execute_result"
    }
   ],
   "source": [
    "#using pandas\n",
    "r.std()"
   ]
  },
  {
   "cell_type": "markdown",
   "id": "ef5098c3",
   "metadata": {},
   "source": [
    "# 5 Number Summary"
   ]
  },
  {
   "cell_type": "markdown",
   "id": "aa31d42b",
   "metadata": {},
   "source": [
    "Minimum,\n",
    "1st quartile -Q1,\n",
    "2nd quartile -Q2(Median),\n",
    "3rd quartile -Q3,\n",
    "Maximum"
   ]
  },
  {
   "cell_type": "code",
   "execution_count": 268,
   "id": "11cb85f4",
   "metadata": {},
   "outputs": [
    {
     "data": {
      "text/plain": [
       "1"
      ]
     },
     "execution_count": 268,
     "metadata": {},
     "output_type": "execute_result"
    }
   ],
   "source": [
    "#Minimum\n",
    "X=[1,1,2,2,3,3,4,5,5,6,100]\n",
    "\n",
    "#using numpy\n",
    "np.min(X)"
   ]
  },
  {
   "cell_type": "code",
   "execution_count": 269,
   "id": "7a994a31",
   "metadata": {},
   "outputs": [
    {
     "name": "stdout",
     "output_type": "stream",
     "text": [
      "Minimum :  1\n"
     ]
    }
   ],
   "source": [
    "print(\"Minimum : \", np.min(X))"
   ]
  },
  {
   "cell_type": "code",
   "execution_count": 270,
   "id": "95a3dbe8",
   "metadata": {},
   "outputs": [
    {
     "data": {
      "text/plain": [
       "values    1\n",
       "dtype: int64"
      ]
     },
     "execution_count": 270,
     "metadata": {},
     "output_type": "execute_result"
    }
   ],
   "source": [
    "#using pandas\n",
    "r.min()  "
   ]
  },
  {
   "cell_type": "code",
   "execution_count": 271,
   "id": "e9053348",
   "metadata": {},
   "outputs": [
    {
     "data": {
      "text/plain": [
       "array([2., 3., 5.])"
      ]
     },
     "execution_count": 271,
     "metadata": {},
     "output_type": "execute_result"
    }
   ],
   "source": [
    "#quartiles\n",
    "X=[1,1,2,2,3,3,4,5,5,6,100]\n",
    "\n",
    "#using numpy\n",
    "np.quantile(X,[0.25,0.50,0.75])   "
   ]
  },
  {
   "cell_type": "code",
   "execution_count": 272,
   "id": "e509cbe0",
   "metadata": {},
   "outputs": [
    {
     "name": "stdout",
     "output_type": "stream",
     "text": [
      "Q1 :  2.0 Q2 :  3.0 Q3 :  5.0\n"
     ]
    }
   ],
   "source": [
    "print(\"Q1 : \", np.quantile(X,0.25),\n",
    "      \"Q2 : \", np.quantile(X,0.50),\n",
    "      \"Q3 : \", np.quantile(X,0.75))"
   ]
  },
  {
   "cell_type": "code",
   "execution_count": 273,
   "id": "558e74ce",
   "metadata": {},
   "outputs": [
    {
     "data": {
      "text/html": [
       "<div>\n",
       "<style scoped>\n",
       "    .dataframe tbody tr th:only-of-type {\n",
       "        vertical-align: middle;\n",
       "    }\n",
       "\n",
       "    .dataframe tbody tr th {\n",
       "        vertical-align: top;\n",
       "    }\n",
       "\n",
       "    .dataframe thead th {\n",
       "        text-align: right;\n",
       "    }\n",
       "</style>\n",
       "<table border=\"1\" class=\"dataframe\">\n",
       "  <thead>\n",
       "    <tr style=\"text-align: right;\">\n",
       "      <th></th>\n",
       "      <th>values</th>\n",
       "    </tr>\n",
       "  </thead>\n",
       "  <tbody>\n",
       "    <tr>\n",
       "      <th>0.25</th>\n",
       "      <td>2.0</td>\n",
       "    </tr>\n",
       "    <tr>\n",
       "      <th>0.50</th>\n",
       "      <td>3.0</td>\n",
       "    </tr>\n",
       "    <tr>\n",
       "      <th>0.75</th>\n",
       "      <td>5.0</td>\n",
       "    </tr>\n",
       "  </tbody>\n",
       "</table>\n",
       "</div>"
      ],
      "text/plain": [
       "      values\n",
       "0.25     2.0\n",
       "0.50     3.0\n",
       "0.75     5.0"
      ]
     },
     "execution_count": 273,
     "metadata": {},
     "output_type": "execute_result"
    }
   ],
   "source": [
    "#using pandas\n",
    "r.quantile([0.25,0.50,0.75])        "
   ]
  },
  {
   "cell_type": "code",
   "execution_count": 274,
   "id": "379ca369",
   "metadata": {},
   "outputs": [
    {
     "data": {
      "text/html": [
       "<div>\n",
       "<style scoped>\n",
       "    .dataframe tbody tr th:only-of-type {\n",
       "        vertical-align: middle;\n",
       "    }\n",
       "\n",
       "    .dataframe tbody tr th {\n",
       "        vertical-align: top;\n",
       "    }\n",
       "\n",
       "    .dataframe thead th {\n",
       "        text-align: right;\n",
       "    }\n",
       "</style>\n",
       "<table border=\"1\" class=\"dataframe\">\n",
       "  <thead>\n",
       "    <tr style=\"text-align: right;\">\n",
       "      <th></th>\n",
       "      <th>values</th>\n",
       "    </tr>\n",
       "  </thead>\n",
       "  <tbody>\n",
       "    <tr>\n",
       "      <th>count</th>\n",
       "      <td>11.000000</td>\n",
       "    </tr>\n",
       "    <tr>\n",
       "      <th>mean</th>\n",
       "      <td>12.000000</td>\n",
       "    </tr>\n",
       "    <tr>\n",
       "      <th>std</th>\n",
       "      <td>29.233542</td>\n",
       "    </tr>\n",
       "    <tr>\n",
       "      <th>min</th>\n",
       "      <td>1.000000</td>\n",
       "    </tr>\n",
       "    <tr>\n",
       "      <th>25%</th>\n",
       "      <td>2.000000</td>\n",
       "    </tr>\n",
       "    <tr>\n",
       "      <th>50%</th>\n",
       "      <td>3.000000</td>\n",
       "    </tr>\n",
       "    <tr>\n",
       "      <th>75%</th>\n",
       "      <td>5.000000</td>\n",
       "    </tr>\n",
       "    <tr>\n",
       "      <th>max</th>\n",
       "      <td>100.000000</td>\n",
       "    </tr>\n",
       "  </tbody>\n",
       "</table>\n",
       "</div>"
      ],
      "text/plain": [
       "           values\n",
       "count   11.000000\n",
       "mean    12.000000\n",
       "std     29.233542\n",
       "min      1.000000\n",
       "25%      2.000000\n",
       "50%      3.000000\n",
       "75%      5.000000\n",
       "max    100.000000"
      ]
     },
     "execution_count": 274,
     "metadata": {},
     "output_type": "execute_result"
    }
   ],
   "source": [
    "r.describe()"
   ]
  },
  {
   "cell_type": "code",
   "execution_count": 275,
   "id": "6351c66c",
   "metadata": {},
   "outputs": [
    {
     "data": {
      "text/plain": [
       "100"
      ]
     },
     "execution_count": 275,
     "metadata": {},
     "output_type": "execute_result"
    }
   ],
   "source": [
    "#Maximum\n",
    "X=[1,1,2,2,3,3,4,5,5,6,100]\n",
    "\n",
    "#using numpy\n",
    "np.max(X)"
   ]
  },
  {
   "cell_type": "code",
   "execution_count": 276,
   "id": "924a5c61",
   "metadata": {},
   "outputs": [
    {
     "name": "stdout",
     "output_type": "stream",
     "text": [
      "Maximum :  100\n"
     ]
    }
   ],
   "source": [
    "print(\"Maximum : \", np.max(X))"
   ]
  },
  {
   "cell_type": "code",
   "execution_count": 277,
   "id": "a355c2b9",
   "metadata": {},
   "outputs": [
    {
     "data": {
      "text/plain": [
       "values    100\n",
       "dtype: int64"
      ]
     },
     "execution_count": 277,
     "metadata": {},
     "output_type": "execute_result"
    }
   ],
   "source": [
    "#using pandas\n",
    "r.max()   "
   ]
  },
  {
   "cell_type": "markdown",
   "id": "89a7d765",
   "metadata": {},
   "source": [
    "# Range"
   ]
  },
  {
   "cell_type": "code",
   "execution_count": 278,
   "id": "49cf895f",
   "metadata": {},
   "outputs": [
    {
     "data": {
      "text/plain": [
       "99"
      ]
     },
     "execution_count": 278,
     "metadata": {},
     "output_type": "execute_result"
    }
   ],
   "source": [
    "#Range\n",
    "#using numpy\n",
    "\n",
    "Ran=np.max(X) - np.min(X)\n",
    "Ran"
   ]
  },
  {
   "cell_type": "code",
   "execution_count": 279,
   "id": "1e77e622",
   "metadata": {},
   "outputs": [
    {
     "data": {
      "text/plain": [
       "values    99\n",
       "dtype: int64"
      ]
     },
     "execution_count": 279,
     "metadata": {},
     "output_type": "execute_result"
    }
   ],
   "source": [
    "#using pandas\n",
    "Range = r.max()-r.min()\n",
    "Range"
   ]
  },
  {
   "cell_type": "markdown",
   "id": "c9497adb",
   "metadata": {},
   "source": [
    "# IQR"
   ]
  },
  {
   "cell_type": "code",
   "execution_count": 280,
   "id": "c285c12b",
   "metadata": {},
   "outputs": [
    {
     "data": {
      "text/plain": [
       "3.0"
      ]
     },
     "execution_count": 280,
     "metadata": {},
     "output_type": "execute_result"
    }
   ],
   "source": [
    "#IQR\n",
    "#using numpy\n",
    "IQR = np.quantile(X,0.75)-np.quantile(X,0.25)\n",
    "IQR"
   ]
  },
  {
   "cell_type": "code",
   "execution_count": 281,
   "id": "b0ed4de1",
   "metadata": {},
   "outputs": [
    {
     "data": {
      "text/plain": [
       "values    3.0\n",
       "dtype: float64"
      ]
     },
     "execution_count": 281,
     "metadata": {},
     "output_type": "execute_result"
    }
   ],
   "source": [
    "#using pandas\n",
    "iqr=r.quantile(0.75)-r.quantile(0.25)\n",
    "iqr"
   ]
  },
  {
   "cell_type": "markdown",
   "id": "7a6351ea",
   "metadata": {},
   "source": [
    "# QD"
   ]
  },
  {
   "cell_type": "code",
   "execution_count": 282,
   "id": "cde1a15a",
   "metadata": {},
   "outputs": [
    {
     "data": {
      "text/plain": [
       "1.5"
      ]
     },
     "execution_count": 282,
     "metadata": {},
     "output_type": "execute_result"
    }
   ],
   "source": [
    "#QD\n",
    "#using numpy\n",
    "QD = IQR/2\n",
    "QD"
   ]
  },
  {
   "cell_type": "code",
   "execution_count": 283,
   "id": "af50f758",
   "metadata": {},
   "outputs": [
    {
     "data": {
      "text/plain": [
       "values    1.5\n",
       "dtype: float64"
      ]
     },
     "execution_count": 283,
     "metadata": {},
     "output_type": "execute_result"
    }
   ],
   "source": [
    "#QD\n",
    "#using pandas\n",
    "qd =iqr/2\n",
    "qd"
   ]
  }
 ],
 "metadata": {
  "kernelspec": {
   "display_name": "Python 3 (ipykernel)",
   "language": "python",
   "name": "python3"
  },
  "language_info": {
   "codemirror_mode": {
    "name": "ipython",
    "version": 3
   },
   "file_extension": ".py",
   "mimetype": "text/x-python",
   "name": "python",
   "nbconvert_exporter": "python",
   "pygments_lexer": "ipython3",
   "version": "3.10.9"
  }
 },
 "nbformat": 4,
 "nbformat_minor": 5
}
