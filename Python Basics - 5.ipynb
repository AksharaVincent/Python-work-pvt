{
 "cells": [
  {
   "cell_type": "markdown",
   "id": "e99b1819",
   "metadata": {},
   "source": [
    "# Tuples"
   ]
  },
  {
   "cell_type": "markdown",
   "id": "6504b09f",
   "metadata": {},
   "source": [
    "Collection which is unchangeable or immutable\n",
    "\n",
    "To declare a turple we use the round brackets."
   ]
  },
  {
   "cell_type": "code",
   "execution_count": 4,
   "id": "6f90f327",
   "metadata": {},
   "outputs": [
    {
     "data": {
      "text/plain": [
       "1"
      ]
     },
     "execution_count": 4,
     "metadata": {},
     "output_type": "execute_result"
    }
   ],
   "source": [
    "tuple=(10,20,10,30,20,40,30,50,30 )\n",
    "#to count the number of elements\n",
    "tuple.count(10)\n",
    "tuple.count(30)\n",
    "tuple.count(50)"
   ]
  },
  {
   "cell_type": "code",
   "execution_count": 1,
   "id": "5b05b671",
   "metadata": {},
   "outputs": [],
   "source": [
    "#to find the index\n",
    "tuple.index(50)\n",
    "\n"
   ]
  }
 ],
 "metadata": {
  "kernelspec": {
   "display_name": "Python 3 (ipykernel)",
   "language": "python",
   "name": "python3"
  },
  "language_info": {
   "codemirror_mode": {
    "name": "ipython",
    "version": 3
   },
   "file_extension": ".py",
   "mimetype": "text/x-python",
   "name": "python",
   "nbconvert_exporter": "python",
   "pygments_lexer": "ipython3",
   "version": "3.10.9"
  }
 },
 "nbformat": 4,
 "nbformat_minor": 5
}
