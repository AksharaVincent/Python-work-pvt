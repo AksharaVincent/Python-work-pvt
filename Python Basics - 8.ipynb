{
 "cells": [
  {
   "cell_type": "markdown",
   "id": "f67cf45d",
   "metadata": {},
   "source": [
    "# Python Indentation"
   ]
  },
  {
   "cell_type": "code",
   "execution_count": 4,
   "id": "28f6c211",
   "metadata": {},
   "outputs": [
    {
     "name": "stdout",
     "output_type": "stream",
     "text": [
      "Seven is greater than three!\n"
     ]
    }
   ],
   "source": [
    "#python indentation\n",
    "#if we give if statement, before printing the we should give space before next code\n",
    "\n",
    "if 7 > 3:\n",
    "    print(\"Seven is greater than three!\")"
   ]
  },
  {
   "cell_type": "code",
   "execution_count": 6,
   "id": "d2fc4784",
   "metadata": {},
   "outputs": [
    {
     "name": "stdout",
     "output_type": "stream",
     "text": [
      "Three is greater than one!\n",
      "Seven is greater than six!\n"
     ]
    }
   ],
   "source": [
    "if 3 > 1:\n",
    "    print(\"Three is greater than one!\")\n",
    "if 7 > 6:\n",
    "    print(\"Seven is greater than six!\")"
   ]
  },
  {
   "cell_type": "markdown",
   "id": "f9ec71de",
   "metadata": {},
   "source": [
    "# Python Variable assigning"
   ]
  },
  {
   "cell_type": "code",
   "execution_count": 7,
   "id": "c67292c6",
   "metadata": {},
   "outputs": [
    {
     "name": "stdout",
     "output_type": "stream",
     "text": [
      "7\n",
      "Hello\n"
     ]
    }
   ],
   "source": [
    "#Variance in Python\n",
    "x = 7\n",
    "y = \"Hello\"\n",
    "print(x)\n",
    "print(y)"
   ]
  },
  {
   "cell_type": "markdown",
   "id": "66e3b5c6",
   "metadata": {},
   "source": [
    "# Python Comments"
   ]
  },
  {
   "cell_type": "code",
   "execution_count": 9,
   "id": "bf43a2ee",
   "metadata": {},
   "outputs": [
    {
     "data": {
      "text/plain": [
       "'This is a comment written in more than just one line'"
      ]
     },
     "execution_count": 9,
     "metadata": {},
     "output_type": "execute_result"
    }
   ],
   "source": [
    "#comments in python\n",
    "#It is a comment.\n",
    "\n",
    "\"\"\"This is a comment written in more than just one line\"\"\""
   ]
  },
  {
   "cell_type": "markdown",
   "id": "8df706bb",
   "metadata": {},
   "source": [
    "# Creating python variables"
   ]
  },
  {
   "cell_type": "code",
   "execution_count": 10,
   "id": "a4be59f9",
   "metadata": {},
   "outputs": [
    {
     "name": "stdout",
     "output_type": "stream",
     "text": [
      "3\n",
      "Johny\n"
     ]
    }
   ],
   "source": [
    "#creating variables\n",
    "\n",
    "x = \"3\"\n",
    "y = \"Johny\"\n",
    "\n",
    "print(x)\n",
    "print(y)"
   ]
  },
  {
   "cell_type": "code",
   "execution_count": 16,
   "id": "fb3aeb4b",
   "metadata": {},
   "outputs": [
    {
     "name": "stdout",
     "output_type": "stream",
     "text": [
      "Jitt\n"
     ]
    }
   ],
   "source": [
    "x = 321    #x is of type int \n",
    "x= \"Jitt\"  #x is now of type str\n",
    "\n",
    "print(x)"
   ]
  },
  {
   "cell_type": "markdown",
   "id": "758012f6",
   "metadata": {},
   "source": [
    "# Python Casting"
   ]
  },
  {
   "cell_type": "code",
   "execution_count": 15,
   "id": "a30c9319",
   "metadata": {},
   "outputs": [
    {
     "name": "stdout",
     "output_type": "stream",
     "text": [
      "12\n",
      "12\n",
      "12.0\n"
     ]
    }
   ],
   "source": [
    "x = str(12)    #x will be '12'\n",
    "y = str(12)    #y will be 12\n",
    "z = float(12)  #z will be 12.0\n",
    "\n",
    "print(x)\n",
    "print(y)\n",
    "print(z)"
   ]
  },
  {
   "cell_type": "markdown",
   "id": "79179609",
   "metadata": {},
   "source": [
    "# Getting data type"
   ]
  },
  {
   "cell_type": "code",
   "execution_count": 18,
   "id": "b0b52332",
   "metadata": {},
   "outputs": [
    {
     "name": "stdout",
     "output_type": "stream",
     "text": [
      "<class 'int'>\n",
      "<class 'str'>\n"
     ]
    }
   ],
   "source": [
    "#get the type\n",
    "\n",
    "x = 3\n",
    "y = \"Yash\"\n",
    "\n",
    "print(type(x))\n",
    "print(type(y))"
   ]
  },
  {
   "cell_type": "markdown",
   "id": "6ce9cc80",
   "metadata": {},
   "source": [
    "# We can use single or double quotes"
   ]
  },
  {
   "cell_type": "code",
   "execution_count": 19,
   "id": "9e149463",
   "metadata": {},
   "outputs": [
    {
     "name": "stdout",
     "output_type": "stream",
     "text": [
      "Johny\n",
      "Johny\n"
     ]
    }
   ],
   "source": [
    "#single or double quotes?\n",
    "\n",
    "x=\"Johny\"\n",
    "print(x)\n",
    "#is the same as\n",
    "x = 'Johny'\n",
    "\n",
    "print(x)"
   ]
  },
  {
   "cell_type": "markdown",
   "id": "72430253",
   "metadata": {},
   "source": [
    "# Case sensitive"
   ]
  },
  {
   "cell_type": "code",
   "execution_count": 20,
   "id": "1b431d1e",
   "metadata": {},
   "outputs": [
    {
     "name": "stdout",
     "output_type": "stream",
     "text": [
      "3\n",
      "Yash\n"
     ]
    }
   ],
   "source": [
    "#Case sensitive\n",
    "a = 3\n",
    "A = \"Yash\"\n",
    "#A will not overwrite a\n",
    "print(a)\n",
    "print(A)"
   ]
  },
  {
   "cell_type": "markdown",
   "id": "8b61e672",
   "metadata": {},
   "source": [
    "# Variable name should be "
   ]
  },
  {
   "cell_type": "code",
   "execution_count": 22,
   "id": "630cfc4c",
   "metadata": {},
   "outputs": [
    {
     "name": "stdout",
     "output_type": "stream",
     "text": [
      "John\n",
      "John\n",
      "John\n"
     ]
    }
   ],
   "source": [
    "#**python - variable Names**\n",
    "#legal variable names:\n",
    "myvar = \"John\"\n",
    "my_var = \"John\"\n",
    "_my_var = \"John\"\n",
    "myVar = \"John\"\n",
    "MYVAR = \"John\"\n",
    "myvar2 = \"John\"\n",
    "\n",
    "print(myvar)\n",
    "print(_my_var)\n",
    "print(MYVAR)"
   ]
  },
  {
   "cell_type": "code",
   "execution_count": 27,
   "id": "b4372618",
   "metadata": {},
   "outputs": [
    {
     "data": {
      "text/plain": [
       "'\\nmyvar = \"John\"\\nmy-var=\"John\"\\nmy var=\"John\"\\n'"
      ]
     },
     "execution_count": 27,
     "metadata": {},
     "output_type": "execute_result"
    }
   ],
   "source": [
    "#Ilegal variable name:\n",
    "\"\"\"\n",
    "myvar = \"John\"\n",
    "my-var=\"John\"\n",
    "my var=\"John\"\n",
    "\"\"\""
   ]
  },
  {
   "cell_type": "markdown",
   "id": "3c6aa62d",
   "metadata": {},
   "source": [
    "# Many values to multiple variable"
   ]
  },
  {
   "cell_type": "code",
   "execution_count": 28,
   "id": "f0adb98e",
   "metadata": {},
   "outputs": [
    {
     "name": "stdout",
     "output_type": "stream",
     "text": [
      "accounting\n",
      "bank\n",
      "chemistry\n"
     ]
    }
   ],
   "source": [
    "a, b, c = \"accounting\", \"bank\",\"chemistry\"\n",
    "print(a)\n",
    "print(b)\n",
    "print(c)"
   ]
  },
  {
   "cell_type": "markdown",
   "id": "6168fe96",
   "metadata": {},
   "source": [
    "# One value to multiple variables"
   ]
  },
  {
   "cell_type": "code",
   "execution_count": 30,
   "id": "f563b2e9",
   "metadata": {},
   "outputs": [
    {
     "name": "stdout",
     "output_type": "stream",
     "text": [
      "Data Analysis\n",
      "Data Analysis\n",
      "Data Analysis\n"
     ]
    }
   ],
   "source": [
    "a = b = c = \"Data Analysis\"\n",
    "print(a)\n",
    "print(b)\n",
    "print(c)"
   ]
  },
  {
   "cell_type": "markdown",
   "id": "374b42ed",
   "metadata": {},
   "source": [
    "# Unpack a collection"
   ]
  },
  {
   "cell_type": "code",
   "execution_count": 31,
   "id": "d2a6e1b8",
   "metadata": {},
   "outputs": [
    {
     "name": "stdout",
     "output_type": "stream",
     "text": [
      "Accounting\n",
      "Chemistry\n",
      "Data Analysis\n"
     ]
    }
   ],
   "source": [
    "courses = [\"Accounting\", \"Chemistry\", \"Data Analysis\"]\n",
    "a, b, c = courses\n",
    "print(a)\n",
    "print(b)\n",
    "print(c)"
   ]
  },
  {
   "cell_type": "markdown",
   "id": "66f14f4e",
   "metadata": {},
   "source": [
    "# Variables output"
   ]
  },
  {
   "cell_type": "code",
   "execution_count": 32,
   "id": "6d94ddf8",
   "metadata": {},
   "outputs": [
    {
     "name": "stdout",
     "output_type": "stream",
     "text": [
      "The course of python is so excellent\n"
     ]
    }
   ],
   "source": [
    "p = \"The course of python is so excellent\"\n",
    "print(p)"
   ]
  },
  {
   "cell_type": "code",
   "execution_count": 33,
   "id": "cd58e5d0",
   "metadata": {},
   "outputs": [
    {
     "name": "stdout",
     "output_type": "stream",
     "text": [
      "This course is awesome\n"
     ]
    }
   ],
   "source": [
    "x = \"This course\"\n",
    "y = \"is\"\n",
    "z = \"awesome\"\n",
    "print(x, y, z)"
   ]
  },
  {
   "cell_type": "code",
   "execution_count": 34,
   "id": "4dec58da",
   "metadata": {},
   "outputs": [
    {
     "name": "stdout",
     "output_type": "stream",
     "text": [
      "22\n"
     ]
    }
   ],
   "source": [
    "x = 7\n",
    "y = 15\n",
    "print(x + y)"
   ]
  },
  {
   "cell_type": "code",
   "execution_count": 36,
   "id": "4873f945",
   "metadata": {},
   "outputs": [
    {
     "ename": "TypeError",
     "evalue": "unsupported operand type(s) for +: 'int' and 'str'",
     "output_type": "error",
     "traceback": [
      "\u001b[1;31m---------------------------------------------------------------------------\u001b[0m",
      "\u001b[1;31mTypeError\u001b[0m                                 Traceback (most recent call last)",
      "Cell \u001b[1;32mIn[36], line 3\u001b[0m\n\u001b[0;32m      1\u001b[0m x \u001b[38;5;241m=\u001b[39m \u001b[38;5;241m5\u001b[39m\n\u001b[0;32m      2\u001b[0m y \u001b[38;5;241m=\u001b[39m \u001b[38;5;124m\"\u001b[39m\u001b[38;5;124mjohn\u001b[39m\u001b[38;5;124m\"\u001b[39m\n\u001b[1;32m----> 3\u001b[0m \u001b[38;5;28mprint\u001b[39m(\u001b[43mx\u001b[49m\u001b[43m \u001b[49m\u001b[38;5;241;43m+\u001b[39;49m\u001b[43m \u001b[49m\u001b[43my\u001b[49m)\n",
      "\u001b[1;31mTypeError\u001b[0m: unsupported operand type(s) for +: 'int' and 'str'"
     ]
    }
   ],
   "source": [
    "x = 5\n",
    "y = \"john\"\n",
    "print(x + y)\n",
    "\n",
    "#this result show as error"
   ]
  },
  {
   "cell_type": "code",
   "execution_count": 37,
   "id": "80e85845",
   "metadata": {},
   "outputs": [
    {
     "name": "stdout",
     "output_type": "stream",
     "text": [
      "5 Paul\n"
     ]
    }
   ],
   "source": [
    "x = 5\n",
    "y = \"Paul\"\n",
    "print(x, y)"
   ]
  },
  {
   "cell_type": "markdown",
   "id": "5a0fa4bb",
   "metadata": {},
   "source": [
    "# Global Variable"
   ]
  },
  {
   "cell_type": "code",
   "execution_count": 40,
   "id": "bddfb4d3",
   "metadata": {},
   "outputs": [
    {
     "name": "stdout",
     "output_type": "stream",
     "text": [
      "Python is Exciting\n"
     ]
    }
   ],
   "source": [
    "x = \"Exciting\"\n",
    "\n",
    "def myfunc():\n",
    "  print(\"Python is \" + x)\n",
    "\n",
    "myfunc()"
   ]
  },
  {
   "cell_type": "code",
   "execution_count": 41,
   "id": "fd137c05",
   "metadata": {},
   "outputs": [
    {
     "name": "stdout",
     "output_type": "stream",
     "text": [
      "Python is fantastic\n",
      "Python is excellent\n"
     ]
    }
   ],
   "source": [
    "x = \"excellent\"\n",
    "\n",
    "def myfunc():\n",
    "  x = \"fantastic\"\n",
    "  print(\"Python is \" + x)\n",
    "\n",
    "myfunc()\n",
    "\n",
    "print(\"Python is \" + x)\n",
    "     "
   ]
  },
  {
   "cell_type": "code",
   "execution_count": 42,
   "id": "ef863acc",
   "metadata": {},
   "outputs": [
    {
     "name": "stdout",
     "output_type": "stream",
     "text": [
      "Python is fantastic\n"
     ]
    }
   ],
   "source": [
    "\n",
    "def myfunc():\n",
    "  global x\n",
    "  x = \"fantastic\"\n",
    "\n",
    "myfunc()\n",
    "\n",
    "print(\"Python is \" + x)"
   ]
  },
  {
   "cell_type": "code",
   "execution_count": 43,
   "id": "6c008f68",
   "metadata": {},
   "outputs": [
    {
     "name": "stdout",
     "output_type": "stream",
     "text": [
      "Python is fantastic\n"
     ]
    }
   ],
   "source": [
    "x = \"awesome\"\n",
    "\n",
    "def myfunc():\n",
    "  global x\n",
    "  x = \"fantastic\"\n",
    "\n",
    "myfunc()\n",
    "\n",
    "print(\"Python is \" + x)"
   ]
  },
  {
   "cell_type": "code",
   "execution_count": null,
   "id": "a22fac76",
   "metadata": {},
   "outputs": [],
   "source": []
  }
 ],
 "metadata": {
  "kernelspec": {
   "display_name": "Python 3 (ipykernel)",
   "language": "python",
   "name": "python3"
  },
  "language_info": {
   "codemirror_mode": {
    "name": "ipython",
    "version": 3
   },
   "file_extension": ".py",
   "mimetype": "text/x-python",
   "name": "python",
   "nbconvert_exporter": "python",
   "pygments_lexer": "ipython3",
   "version": "3.10.9"
  }
 },
 "nbformat": 4,
 "nbformat_minor": 5
}
