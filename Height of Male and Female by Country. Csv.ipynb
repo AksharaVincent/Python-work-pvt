{
 "cells": [
  {
   "cell_type": "code",
   "execution_count": 14,
   "id": "7f09fd1e",
   "metadata": {},
   "outputs": [
    {
     "data": {
      "text/html": [
       "<div>\n",
       "<style scoped>\n",
       "    .dataframe tbody tr th:only-of-type {\n",
       "        vertical-align: middle;\n",
       "    }\n",
       "\n",
       "    .dataframe tbody tr th {\n",
       "        vertical-align: top;\n",
       "    }\n",
       "\n",
       "    .dataframe thead th {\n",
       "        text-align: right;\n",
       "    }\n",
       "</style>\n",
       "<table border=\"1\" class=\"dataframe\">\n",
       "  <thead>\n",
       "    <tr style=\"text-align: right;\">\n",
       "      <th></th>\n",
       "      <th>Rank</th>\n",
       "      <th>Country Name</th>\n",
       "      <th>Male Height in Cm</th>\n",
       "      <th>Female Height in Cm</th>\n",
       "      <th>Male Height in Ft</th>\n",
       "      <th>Female Height in Ft</th>\n",
       "    </tr>\n",
       "  </thead>\n",
       "  <tbody>\n",
       "    <tr>\n",
       "      <th>194</th>\n",
       "      <td>195</td>\n",
       "      <td>Mozambique</td>\n",
       "      <td>164.30</td>\n",
       "      <td>155.42</td>\n",
       "      <td>5.39</td>\n",
       "      <td>5.10</td>\n",
       "    </tr>\n",
       "    <tr>\n",
       "      <th>195</th>\n",
       "      <td>196</td>\n",
       "      <td>Papua New Guinea</td>\n",
       "      <td>163.10</td>\n",
       "      <td>156.89</td>\n",
       "      <td>5.35</td>\n",
       "      <td>5.15</td>\n",
       "    </tr>\n",
       "    <tr>\n",
       "      <th>196</th>\n",
       "      <td>197</td>\n",
       "      <td>Solomon Islands</td>\n",
       "      <td>163.07</td>\n",
       "      <td>156.79</td>\n",
       "      <td>5.35</td>\n",
       "      <td>5.14</td>\n",
       "    </tr>\n",
       "    <tr>\n",
       "      <th>197</th>\n",
       "      <td>198</td>\n",
       "      <td>Laos</td>\n",
       "      <td>162.78</td>\n",
       "      <td>153.10</td>\n",
       "      <td>5.34</td>\n",
       "      <td>5.02</td>\n",
       "    </tr>\n",
       "    <tr>\n",
       "      <th>198</th>\n",
       "      <td>199</td>\n",
       "      <td>Timor-Leste</td>\n",
       "      <td>160.13</td>\n",
       "      <td>152.71</td>\n",
       "      <td>5.25</td>\n",
       "      <td>5.01</td>\n",
       "    </tr>\n",
       "  </tbody>\n",
       "</table>\n",
       "</div>"
      ],
      "text/plain": [
       "     Rank      Country Name  Male Height in Cm  Female Height in Cm  \\\n",
       "194   195        Mozambique             164.30               155.42   \n",
       "195   196  Papua New Guinea             163.10               156.89   \n",
       "196   197   Solomon Islands             163.07               156.79   \n",
       "197   198              Laos             162.78               153.10   \n",
       "198   199       Timor-Leste             160.13               152.71   \n",
       "\n",
       "     Male Height in Ft  Female Height in Ft  \n",
       "194               5.39                 5.10  \n",
       "195               5.35                 5.15  \n",
       "196               5.35                 5.14  \n",
       "197               5.34                 5.02  \n",
       "198               5.25                 5.01  "
      ]
     },
     "execution_count": 14,
     "metadata": {},
     "output_type": "execute_result"
    }
   ],
   "source": [
    "import pandas as pd\n",
    "#pd package is being imported from pandas library\n",
    "\n",
    "data = pd.read_csv('Height of Male and Female by Country.csv')\n",
    "data\n",
    "data.head() #head() will shows 1st 5rows of the data\n",
    "data.tail()#tail() shows the last 5 rows\n",
    "data.head()\n",
    "data.tail()\n",
    "data.head(1)\n",
    "data.tail(1)\n",
    "data.head(5)\n",
    "data.tail(5)\n",
    "#so these codes are the basic codes for viewing the structure of the data\n"
   ]
  },
  {
   "cell_type": "code",
   "execution_count": 15,
   "id": "f025bb07",
   "metadata": {},
   "outputs": [
    {
     "data": {
      "text/plain": [
       "(199, 6)"
      ]
     },
     "execution_count": 15,
     "metadata": {},
     "output_type": "execute_result"
    }
   ],
   "source": [
    "data.shape"
   ]
  },
  {
   "cell_type": "code",
   "execution_count": 16,
   "id": "6fb0d7ed",
   "metadata": {},
   "outputs": [
    {
     "data": {
      "text/plain": [
       "Index(['Rank', 'Country Name', 'Male Height in Cm', 'Female Height in Cm',\n",
       "       'Male Height in Ft', 'Female Height in Ft'],\n",
       "      dtype='object')"
      ]
     },
     "execution_count": 16,
     "metadata": {},
     "output_type": "execute_result"
    }
   ],
   "source": [
    "data.columns"
   ]
  }
 ],
 "metadata": {
  "kernelspec": {
   "display_name": "Python 3 (ipykernel)",
   "language": "python",
   "name": "python3"
  },
  "language_info": {
   "codemirror_mode": {
    "name": "ipython",
    "version": 3
   },
   "file_extension": ".py",
   "mimetype": "text/x-python",
   "name": "python",
   "nbconvert_exporter": "python",
   "pygments_lexer": "ipython3",
   "version": "3.10.9"
  }
 },
 "nbformat": 4,
 "nbformat_minor": 5
}
