{
 "cells": [
  {
   "cell_type": "markdown",
   "id": "2c31f843",
   "metadata": {},
   "source": [
    "# Dictionary"
   ]
  },
  {
   "cell_type": "code",
   "execution_count": 52,
   "id": "c4820742",
   "metadata": {},
   "outputs": [
    {
     "data": {
      "text/plain": [
       "{'Name': 'Christy', 'email': 'kichu2gmail.com', 'Phone number': '7000070000'}"
      ]
     },
     "execution_count": 52,
     "metadata": {},
     "output_type": "execute_result"
    }
   ],
   "source": [
    "#we created a dictionary now, with key: name, email, phone number\n",
    "#and values christy, kichu@gmail.com, 7000070000\n",
    "dict1={'Name':\"Christy\",\"email\":\"kichu2gmail.com\",\"Phone number\":\"7000070000\"}\n",
    "dict1\n"
   ]
  },
  {
   "cell_type": "code",
   "execution_count": 53,
   "id": "5bcae60d",
   "metadata": {},
   "outputs": [
    {
     "data": {
      "text/plain": [
       "'7000070000'"
      ]
     },
     "execution_count": 53,
     "metadata": {},
     "output_type": "execute_result"
    }
   ],
   "source": [
    "#now to saperately call each key from the dictionary we can use the code\n",
    "a=dict1['Phone number']\n",
    "a\n"
   ]
  },
  {
   "cell_type": "code",
   "execution_count": 54,
   "id": "c5f5934b",
   "metadata": {},
   "outputs": [
    {
     "name": "stdout",
     "output_type": "stream",
     "text": [
      "{'Name': 'Catherine', 'email': 'kichu2gmail.com', 'Phone number': '7000070000'}\n"
     ]
    }
   ],
   "source": [
    "#change value in the dictionary\n",
    "dict1[\"Name\"]=\"Catherine\"\n",
    "print(dict1)"
   ]
  },
  {
   "cell_type": "code",
   "execution_count": 55,
   "id": "ffa57c98",
   "metadata": {},
   "outputs": [
    {
     "name": "stdout",
     "output_type": "stream",
     "text": [
      "{'Name': 'Catherine', 'email': 'kathieee2gmail.com', 'Phone number': '7000070000'}\n"
     ]
    }
   ],
   "source": [
    "dict1[\"email\"]=\"kathieee2gmail.com\"\n",
    "print(dict1)"
   ]
  },
  {
   "cell_type": "code",
   "execution_count": 56,
   "id": "5db438be",
   "metadata": {},
   "outputs": [
    {
     "name": "stdout",
     "output_type": "stream",
     "text": [
      "Name\n",
      "email\n",
      "Phone number\n"
     ]
    }
   ],
   "source": [
    "#To get key words headings\n",
    "for x in dict1:\n",
    "    print(x)"
   ]
  },
  {
   "cell_type": "code",
   "execution_count": 57,
   "id": "1f2045bc",
   "metadata": {},
   "outputs": [
    {
     "name": "stdout",
     "output_type": "stream",
     "text": [
      "Catherine\n",
      "kathieee2gmail.com\n",
      "7000070000\n"
     ]
    }
   ],
   "source": [
    "#To get value\n",
    "for x in dict1:\n",
    "    print(dict1[x])"
   ]
  },
  {
   "cell_type": "code",
   "execution_count": 58,
   "id": "febcbe0a",
   "metadata": {},
   "outputs": [
    {
     "name": "stdout",
     "output_type": "stream",
     "text": [
      "Name Catherine\n",
      "email kathieee2gmail.com\n",
      "Phone number 7000070000\n"
     ]
    }
   ],
   "source": [
    "#to get both key and values\n",
    "for x,y in dict1.items():\n",
    "    print(x,y)"
   ]
  },
  {
   "cell_type": "code",
   "execution_count": 59,
   "id": "2f5c4f66",
   "metadata": {},
   "outputs": [
    {
     "name": "stdout",
     "output_type": "stream",
     "text": [
      "3\n"
     ]
    }
   ],
   "source": [
    "#to get the length of dictionary\n",
    "print(len(dict1))"
   ]
  },
  {
   "cell_type": "code",
   "execution_count": 60,
   "id": "7eb3b020",
   "metadata": {},
   "outputs": [
    {
     "name": "stdout",
     "output_type": "stream",
     "text": [
      "{'Name': 'Catherine', 'email': 'kathieee2gmail.com', 'Phone number': '7000070000', 'Age': 20}\n"
     ]
    }
   ],
   "source": [
    "#to add some more key and values into dictionary\n",
    "dict1[\"Age\"]=20\n",
    "print(dict1)"
   ]
  },
  {
   "cell_type": "code",
   "execution_count": 61,
   "id": "7a683959",
   "metadata": {},
   "outputs": [
    {
     "name": "stdout",
     "output_type": "stream",
     "text": [
      "4\n"
     ]
    }
   ],
   "source": [
    "print(len(dict1))"
   ]
  },
  {
   "cell_type": "code",
   "execution_count": 62,
   "id": "c7b0f8c7",
   "metadata": {},
   "outputs": [
    {
     "name": "stdout",
     "output_type": "stream",
     "text": [
      "{'Name': 'Catherine', 'email': 'kathieee2gmail.com', 'Phone number': '7000070000', 'Age': 20, 'Place': 'Angamaly'}\n"
     ]
    }
   ],
   "source": [
    "dict1[\"Place\"]=\"Angamaly\"\n",
    "print(dict1)"
   ]
  },
  {
   "cell_type": "code",
   "execution_count": 63,
   "id": "efffb5e9",
   "metadata": {},
   "outputs": [
    {
     "name": "stdout",
     "output_type": "stream",
     "text": [
      "5\n"
     ]
    }
   ],
   "source": [
    "print(len(dict1))"
   ]
  },
  {
   "cell_type": "code",
   "execution_count": 65,
   "id": "78f364be",
   "metadata": {},
   "outputs": [
    {
     "data": {
      "text/plain": [
       "{'Name': 'Catherine',\n",
       " 'Phone number': '7000070000',\n",
       " 'Age': 20,\n",
       " 'Place': 'Angamaly'}"
      ]
     },
     "execution_count": 65,
     "metadata": {},
     "output_type": "execute_result"
    }
   ],
   "source": [
    "#to remove value\n",
    "dict1.pop(\"email\")\n",
    "dict1"
   ]
  },
  {
   "cell_type": "code",
   "execution_count": null,
   "id": "635e5142",
   "metadata": {},
   "outputs": [],
   "source": [
    "#to delet from dictionary\n",
    "del dict1[\"Place\"]\n",
    "dict1"
   ]
  },
  {
   "cell_type": "code",
   "execution_count": null,
   "id": "f04c6e07",
   "metadata": {},
   "outputs": [],
   "source": [
    "#to clear all the values from dictionary\n",
    "dict1.clear()\n",
    "dict1"
   ]
  },
  {
   "cell_type": "code",
   "execution_count": null,
   "id": "b27a18ff",
   "metadata": {},
   "outputs": [],
   "source": []
  }
 ],
 "metadata": {
  "kernelspec": {
   "display_name": "Python 3 (ipykernel)",
   "language": "python",
   "name": "python3"
  },
  "language_info": {
   "codemirror_mode": {
    "name": "ipython",
    "version": 3
   },
   "file_extension": ".py",
   "mimetype": "text/x-python",
   "name": "python",
   "nbconvert_exporter": "python",
   "pygments_lexer": "ipython3",
   "version": "3.10.9"
  }
 },
 "nbformat": 4,
 "nbformat_minor": 5
}
