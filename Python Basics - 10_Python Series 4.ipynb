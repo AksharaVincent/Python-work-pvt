{
 "cells": [
  {
   "cell_type": "markdown",
   "id": "ca652d2e",
   "metadata": {},
   "source": [
    "# To Divide 2 numbers"
   ]
  },
  {
   "cell_type": "markdown",
   "id": "848a89e5",
   "metadata": {},
   "source": [
    "1st assign data into string\n",
    "input a number"
   ]
  },
  {
   "cell_type": "code",
   "execution_count": 1,
   "id": "4830a16a",
   "metadata": {},
   "outputs": [
    {
     "data": {
      "text/plain": [
       "5.0"
      ]
     },
     "execution_count": 1,
     "metadata": {},
     "output_type": "execute_result"
    }
   ],
   "source": [
    "a=2\n",
    "b=10\n",
    "c=b/a\n",
    "c"
   ]
  },
  {
   "cell_type": "markdown",
   "id": "b8a44941",
   "metadata": {},
   "source": [
    "# Or"
   ]
  },
  {
   "cell_type": "code",
   "execution_count": 2,
   "id": "c38b342e",
   "metadata": {},
   "outputs": [
    {
     "name": "stdout",
     "output_type": "stream",
     "text": [
      "first number:10\n"
     ]
    }
   ],
   "source": [
    "num1=input('first number:')"
   ]
  },
  {
   "cell_type": "code",
   "execution_count": 3,
   "id": "b305bddc",
   "metadata": {},
   "outputs": [
    {
     "name": "stdout",
     "output_type": "stream",
     "text": [
      "Second number:2\n"
     ]
    }
   ],
   "source": [
    "num2=input('Second number:')\n",
    "     "
   ]
  },
  {
   "cell_type": "code",
   "execution_count": 4,
   "id": "5f5b33ad",
   "metadata": {},
   "outputs": [
    {
     "data": {
      "text/plain": [
       "5.0"
      ]
     },
     "execution_count": 4,
     "metadata": {},
     "output_type": "execute_result"
    }
   ],
   "source": [
    "div=float(num1)/float(num2)\n",
    "div"
   ]
  },
  {
   "cell_type": "code",
   "execution_count": 5,
   "id": "ea6de295",
   "metadata": {},
   "outputs": [
    {
     "name": "stdout",
     "output_type": "stream",
     "text": [
      "the divided value of 10 and 2 is 5.0\n"
     ]
    }
   ],
   "source": [
    "print('the divided value of {0} and {1} is {2}' .format(num1,num2,div))"
   ]
  },
  {
   "cell_type": "code",
   "execution_count": null,
   "id": "0b1ab570",
   "metadata": {},
   "outputs": [],
   "source": []
  }
 ],
 "metadata": {
  "kernelspec": {
   "display_name": "Python 3 (ipykernel)",
   "language": "python",
   "name": "python3"
  },
  "language_info": {
   "codemirror_mode": {
    "name": "ipython",
    "version": 3
   },
   "file_extension": ".py",
   "mimetype": "text/x-python",
   "name": "python",
   "nbconvert_exporter": "python",
   "pygments_lexer": "ipython3",
   "version": "3.10.9"
  }
 },
 "nbformat": 4,
 "nbformat_minor": 5
}
