{
 "cells": [
  {
   "cell_type": "markdown",
   "id": "2308a243",
   "metadata": {},
   "source": [
    "# Project1 - Sales Data"
   ]
  },
  {
   "cell_type": "code",
   "execution_count": 55,
   "id": "066c2a90",
   "metadata": {},
   "outputs": [
    {
     "data": {
      "text/html": [
       "<div>\n",
       "<style scoped>\n",
       "    .dataframe tbody tr th:only-of-type {\n",
       "        vertical-align: middle;\n",
       "    }\n",
       "\n",
       "    .dataframe tbody tr th {\n",
       "        vertical-align: top;\n",
       "    }\n",
       "\n",
       "    .dataframe thead th {\n",
       "        text-align: right;\n",
       "    }\n",
       "</style>\n",
       "<table border=\"1\" class=\"dataframe\">\n",
       "  <thead>\n",
       "    <tr style=\"text-align: right;\">\n",
       "      <th></th>\n",
       "      <th>Invoice Number</th>\n",
       "      <th>Date</th>\n",
       "      <th>Time</th>\n",
       "      <th>Zone</th>\n",
       "      <th>Manager</th>\n",
       "      <th>Customer</th>\n",
       "      <th>Product</th>\n",
       "      <th>price</th>\n",
       "      <th>Units Sold</th>\n",
       "      <th>sales</th>\n",
       "    </tr>\n",
       "  </thead>\n",
       "  <tbody>\n",
       "    <tr>\n",
       "      <th>0</th>\n",
       "      <td>102234</td>\n",
       "      <td>2010-01-07</td>\n",
       "      <td>10:25:37.200000</td>\n",
       "      <td>East</td>\n",
       "      <td>Bruce</td>\n",
       "      <td>Polo</td>\n",
       "      <td>A001</td>\n",
       "      <td>485</td>\n",
       "      <td>42</td>\n",
       "      <td>20370</td>\n",
       "    </tr>\n",
       "    <tr>\n",
       "      <th>1</th>\n",
       "      <td>102235</td>\n",
       "      <td>2010-01-07</td>\n",
       "      <td>12:00:00</td>\n",
       "      <td>East</td>\n",
       "      <td>Jacob</td>\n",
       "      <td>EEE</td>\n",
       "      <td>B227</td>\n",
       "      <td>292</td>\n",
       "      <td>71</td>\n",
       "      <td>20732</td>\n",
       "    </tr>\n",
       "    <tr>\n",
       "      <th>2</th>\n",
       "      <td>102235</td>\n",
       "      <td>2010-01-07</td>\n",
       "      <td>14:19:12</td>\n",
       "      <td>East</td>\n",
       "      <td>Melvin</td>\n",
       "      <td>Marco</td>\n",
       "      <td>A009</td>\n",
       "      <td>544</td>\n",
       "      <td>87</td>\n",
       "      <td>47328</td>\n",
       "    </tr>\n",
       "    <tr>\n",
       "      <th>3</th>\n",
       "      <td>102236</td>\n",
       "      <td>2010-01-07</td>\n",
       "      <td>12:57:00</td>\n",
       "      <td>South</td>\n",
       "      <td>Alicia</td>\n",
       "      <td>EEE</td>\n",
       "      <td>D440</td>\n",
       "      <td>385</td>\n",
       "      <td>51</td>\n",
       "      <td>19635</td>\n",
       "    </tr>\n",
       "    <tr>\n",
       "      <th>4</th>\n",
       "      <td>102236</td>\n",
       "      <td>2010-01-07</td>\n",
       "      <td>14:51:36</td>\n",
       "      <td>East</td>\n",
       "      <td>Paul</td>\n",
       "      <td>Zee</td>\n",
       "      <td>WP6</td>\n",
       "      <td>173</td>\n",
       "      <td>69</td>\n",
       "      <td>11937</td>\n",
       "    </tr>\n",
       "    <tr>\n",
       "      <th>...</th>\n",
       "      <td>...</td>\n",
       "      <td>...</td>\n",
       "      <td>...</td>\n",
       "      <td>...</td>\n",
       "      <td>...</td>\n",
       "      <td>...</td>\n",
       "      <td>...</td>\n",
       "      <td>...</td>\n",
       "      <td>...</td>\n",
       "      <td>...</td>\n",
       "    </tr>\n",
       "    <tr>\n",
       "      <th>26078</th>\n",
       "      <td>115273</td>\n",
       "      <td>2018-12-10</td>\n",
       "      <td>11:16:48</td>\n",
       "      <td>West</td>\n",
       "      <td>Melvin</td>\n",
       "      <td>ABC</td>\n",
       "      <td>B229</td>\n",
       "      <td>388</td>\n",
       "      <td>202</td>\n",
       "      <td>78376</td>\n",
       "    </tr>\n",
       "    <tr>\n",
       "      <th>26079</th>\n",
       "      <td>115274</td>\n",
       "      <td>2018-12-10</td>\n",
       "      <td>11:16:48</td>\n",
       "      <td>West</td>\n",
       "      <td>Melvin</td>\n",
       "      <td>ABC</td>\n",
       "      <td>B229</td>\n",
       "      <td>388</td>\n",
       "      <td>201</td>\n",
       "      <td>77988</td>\n",
       "    </tr>\n",
       "    <tr>\n",
       "      <th>26080</th>\n",
       "      <td>115273</td>\n",
       "      <td>2019-12-10</td>\n",
       "      <td>11:16:48</td>\n",
       "      <td>West</td>\n",
       "      <td>Melvin</td>\n",
       "      <td>ABC</td>\n",
       "      <td>B229</td>\n",
       "      <td>388</td>\n",
       "      <td>500</td>\n",
       "      <td>194000</td>\n",
       "    </tr>\n",
       "    <tr>\n",
       "      <th>26081</th>\n",
       "      <td>115273</td>\n",
       "      <td>2019-12-10</td>\n",
       "      <td>11:16:48</td>\n",
       "      <td>West</td>\n",
       "      <td>Melvin</td>\n",
       "      <td>ABC</td>\n",
       "      <td>B229</td>\n",
       "      <td>388</td>\n",
       "      <td>1000</td>\n",
       "      <td>388000</td>\n",
       "    </tr>\n",
       "    <tr>\n",
       "      <th>26082</th>\n",
       "      <td>115274</td>\n",
       "      <td>2019-12-10</td>\n",
       "      <td>11:16:48</td>\n",
       "      <td>West</td>\n",
       "      <td>Melvin</td>\n",
       "      <td>ABC</td>\n",
       "      <td>B229</td>\n",
       "      <td>388</td>\n",
       "      <td>1500</td>\n",
       "      <td>582000</td>\n",
       "    </tr>\n",
       "  </tbody>\n",
       "</table>\n",
       "<p>26083 rows × 10 columns</p>\n",
       "</div>"
      ],
      "text/plain": [
       "       Invoice Number       Date             Time   Zone Manager Customer  \\\n",
       "0              102234 2010-01-07  10:25:37.200000   East   Bruce     Polo   \n",
       "1              102235 2010-01-07         12:00:00   East   Jacob      EEE   \n",
       "2              102235 2010-01-07         14:19:12   East  Melvin    Marco   \n",
       "3              102236 2010-01-07         12:57:00  South  Alicia      EEE   \n",
       "4              102236 2010-01-07         14:51:36   East    Paul      Zee   \n",
       "...               ...        ...              ...    ...     ...      ...   \n",
       "26078          115273 2018-12-10         11:16:48   West  Melvin      ABC   \n",
       "26079          115274 2018-12-10         11:16:48   West  Melvin      ABC   \n",
       "26080          115273 2019-12-10         11:16:48   West  Melvin      ABC   \n",
       "26081          115273 2019-12-10         11:16:48   West  Melvin      ABC   \n",
       "26082          115274 2019-12-10         11:16:48   West  Melvin      ABC   \n",
       "\n",
       "      Product   price  Units Sold   sales  \n",
       "0         A001    485          42   20370  \n",
       "1         B227    292          71   20732  \n",
       "2         A009    544          87   47328  \n",
       "3         D440    385          51   19635  \n",
       "4          WP6    173          69   11937  \n",
       "...        ...    ...         ...     ...  \n",
       "26078     B229    388         202   78376  \n",
       "26079     B229    388         201   77988  \n",
       "26080     B229    388         500  194000  \n",
       "26081     B229    388        1000  388000  \n",
       "26082     B229    388        1500  582000  \n",
       "\n",
       "[26083 rows x 10 columns]"
      ]
     },
     "execution_count": 55,
     "metadata": {},
     "output_type": "execute_result"
    }
   ],
   "source": [
    "import pandas as pd\n",
    "data = pd.read_excel('1 Sales Data.xlsx')\n",
    "data"
   ]
  },
  {
   "cell_type": "markdown",
   "id": "08636b70",
   "metadata": {},
   "source": [
    "## Find total sales"
   ]
  },
  {
   "cell_type": "code",
   "execution_count": 56,
   "id": "35050525",
   "metadata": {},
   "outputs": [
    {
     "name": "stderr",
     "output_type": "stream",
     "text": [
      "C:\\Users\\vantl\\AppData\\Local\\Temp\\ipykernel_18940\\1263598667.py:1: FutureWarning: The default value of numeric_only in DataFrame.sum is deprecated. In a future version, it will default to False. In addition, specifying 'numeric_only=None' is deprecated. Select only valid columns or specify the value of numeric_only to silence this warning.\n",
      "  data.sum()\n"
     ]
    },
    {
     "data": {
      "text/plain": [
       "Invoice Number                                           2836650140\n",
       "Zone              EastEastEastSouthEastEastEastEastSouthEastEast...\n",
       "Manager           BruceJacobMelvinAliciaPaulBruceJacobMelvinAlic...\n",
       "Customer          PoloEEEMarcoEEEZeePoloEEEMarcoEEEZeePoloEEEMar...\n",
       "Product           A001B227A009D440WP6A001B227A009D440WP6A001B227...\n",
       "price                                                       9562092\n",
       "Units Sold                                                  2961642\n",
       "sales                                                    1085806200\n",
       "dtype: object"
      ]
     },
     "execution_count": 56,
     "metadata": {},
     "output_type": "execute_result"
    }
   ],
   "source": [
    "data.sum()"
   ]
  },
  {
   "cell_type": "markdown",
   "id": "714de8dc",
   "metadata": {},
   "source": [
    "## Find total number of products sold"
   ]
  },
  {
   "cell_type": "code",
   "execution_count": 57,
   "id": "89fa100f",
   "metadata": {},
   "outputs": [
    {
     "data": {
      "text/plain": [
       "26083"
      ]
     },
     "execution_count": 57,
     "metadata": {},
     "output_type": "execute_result"
    }
   ],
   "source": [
    "z=data['Product '].value_counts().sum()\n",
    "z"
   ]
  },
  {
   "cell_type": "markdown",
   "id": "f4f9954c",
   "metadata": {},
   "source": [
    "## Find maximum sales"
   ]
  },
  {
   "cell_type": "code",
   "execution_count": 58,
   "id": "21877041",
   "metadata": {},
   "outputs": [
    {
     "data": {
      "text/plain": [
       "582000"
      ]
     },
     "execution_count": 58,
     "metadata": {},
     "output_type": "execute_result"
    }
   ],
   "source": [
    "z=data['sales'].max()\n",
    "z"
   ]
  },
  {
   "cell_type": "markdown",
   "id": "f9467282",
   "metadata": {},
   "source": [
    "## Find minimum sales"
   ]
  },
  {
   "cell_type": "code",
   "execution_count": 59,
   "id": "bf76b9fb",
   "metadata": {},
   "outputs": [
    {
     "data": {
      "text/plain": [
       "865"
      ]
     },
     "execution_count": 59,
     "metadata": {},
     "output_type": "execute_result"
    }
   ],
   "source": [
    "z=data['sales'].min()\n",
    "z"
   ]
  },
  {
   "cell_type": "markdown",
   "id": "6fffe199",
   "metadata": {},
   "source": [
    "## Find the Avergae Sales"
   ]
  },
  {
   "cell_type": "code",
   "execution_count": 60,
   "id": "cf7d075c",
   "metadata": {},
   "outputs": [
    {
     "data": {
      "text/plain": [
       "41628.88471418165"
      ]
     },
     "execution_count": 60,
     "metadata": {},
     "output_type": "execute_result"
    }
   ],
   "source": [
    "z=data['sales'].mean()\n",
    "z"
   ]
  },
  {
   "cell_type": "markdown",
   "id": "2aabdbbb",
   "metadata": {},
   "source": [
    "## Find the Range of Sales"
   ]
  },
  {
   "cell_type": "code",
   "execution_count": 61,
   "id": "0feb45d1",
   "metadata": {},
   "outputs": [
    {
     "data": {
      "text/plain": [
       "581135"
      ]
     },
     "execution_count": 61,
     "metadata": {},
     "output_type": "execute_result"
    }
   ],
   "source": [
    "z= 582000- 865\n",
    "z"
   ]
  },
  {
   "cell_type": "markdown",
   "id": "41c8a6bc",
   "metadata": {},
   "source": [
    "## Find the Standard Deviation of Sales"
   ]
  },
  {
   "cell_type": "code",
   "execution_count": 62,
   "id": "eb56f2e4",
   "metadata": {},
   "outputs": [
    {
     "ename": "SyntaxError",
     "evalue": "incomplete input (3322822881.py, line 1)",
     "output_type": "error",
     "traceback": [
      "\u001b[1;36m  Cell \u001b[1;32mIn[62], line 1\u001b[1;36m\u001b[0m\n\u001b[1;33m    print(statistics.stdev(['sales'])\u001b[0m\n\u001b[1;37m                                     ^\u001b[0m\n\u001b[1;31mSyntaxError\u001b[0m\u001b[1;31m:\u001b[0m incomplete input\n"
     ]
    }
   ],
   "source": [
    "print(statistics.stdev(['sales'])"
   ]
  },
  {
   "cell_type": "markdown",
   "id": "43705178",
   "metadata": {},
   "source": [
    "### Find Average Sales by each zone"
   ]
  },
  {
   "cell_type": "code",
   "execution_count": 2,
   "id": "a7d23d8d",
   "metadata": {},
   "outputs": [
    {
     "ename": "AttributeError",
     "evalue": "'list' object has no attribute 'value_counts'",
     "output_type": "error",
     "traceback": [
      "\u001b[1;31m---------------------------------------------------------------------------\u001b[0m",
      "\u001b[1;31mAttributeError\u001b[0m                            Traceback (most recent call last)",
      "Cell \u001b[1;32mIn[2], line 1\u001b[0m\n\u001b[1;32m----> 1\u001b[0m z\u001b[38;5;241m=\u001b[39m\u001b[43m[\u001b[49m\u001b[38;5;124;43m'\u001b[39;49m\u001b[38;5;124;43mZone \u001b[39;49m\u001b[38;5;124;43m'\u001b[39;49m\u001b[43m]\u001b[49m\u001b[38;5;241;43m.\u001b[39;49m\u001b[43mvalue_counts\u001b[49m()\u001b[38;5;241m.\u001b[39mmean()\n\u001b[0;32m      2\u001b[0m z\n",
      "\u001b[1;31mAttributeError\u001b[0m: 'list' object has no attribute 'value_counts'"
     ]
    }
   ],
   "source": [
    "z=['Zone '].value_counts().mean()\n",
    "z"
   ]
  },
  {
   "cell_type": "code",
   "execution_count": null,
   "id": "7dd1e624",
   "metadata": {},
   "outputs": [],
   "source": [
    "z=data['sales'].value_mean().sum()\n",
    "z\n"
   ]
  },
  {
   "cell_type": "code",
   "execution_count": null,
   "id": "e5c03702",
   "metadata": {},
   "outputs": [],
   "source": []
  }
 ],
 "metadata": {
  "kernelspec": {
   "display_name": "Python 3 (ipykernel)",
   "language": "python",
   "name": "python3"
  },
  "language_info": {
   "codemirror_mode": {
    "name": "ipython",
    "version": 3
   },
   "file_extension": ".py",
   "mimetype": "text/x-python",
   "name": "python",
   "nbconvert_exporter": "python",
   "pygments_lexer": "ipython3",
   "version": "3.10.9"
  }
 },
 "nbformat": 4,
 "nbformat_minor": 5
}
