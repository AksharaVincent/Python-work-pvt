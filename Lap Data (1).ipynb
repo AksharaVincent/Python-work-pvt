{
 "cells": [
  {
   "cell_type": "code",
   "execution_count": 10,
   "id": "2e45fe8f",
   "metadata": {},
   "outputs": [
    {
     "data": {
      "text/html": [
       "<div>\n",
       "<style scoped>\n",
       "    .dataframe tbody tr th:only-of-type {\n",
       "        vertical-align: middle;\n",
       "    }\n",
       "\n",
       "    .dataframe tbody tr th {\n",
       "        vertical-align: top;\n",
       "    }\n",
       "\n",
       "    .dataframe thead th {\n",
       "        text-align: right;\n",
       "    }\n",
       "</style>\n",
       "<table border=\"1\" class=\"dataframe\">\n",
       "  <thead>\n",
       "    <tr style=\"text-align: right;\">\n",
       "      <th></th>\n",
       "      <th>Name of products</th>\n",
       "      <th>Model</th>\n",
       "      <th>colour</th>\n",
       "      <th>date</th>\n",
       "      <th>price</th>\n",
       "    </tr>\n",
       "  </thead>\n",
       "  <tbody>\n",
       "    <tr>\n",
       "      <th>0</th>\n",
       "      <td>LG</td>\n",
       "      <td>i5</td>\n",
       "      <td>black</td>\n",
       "      <td>2020-06-01 00:00:00</td>\n",
       "      <td>66100</td>\n",
       "    </tr>\n",
       "    <tr>\n",
       "      <th>1</th>\n",
       "      <td>DELL</td>\n",
       "      <td>i3</td>\n",
       "      <td>black</td>\n",
       "      <td>01/23/2020</td>\n",
       "      <td>37500</td>\n",
       "    </tr>\n",
       "    <tr>\n",
       "      <th>2</th>\n",
       "      <td>DELL</td>\n",
       "      <td>i5</td>\n",
       "      <td>black</td>\n",
       "      <td>2020-09-02 00:00:00</td>\n",
       "      <td>86800</td>\n",
       "    </tr>\n",
       "    <tr>\n",
       "      <th>3</th>\n",
       "      <td>LG</td>\n",
       "      <td>i7</td>\n",
       "      <td>black</td>\n",
       "      <td>2020-09-03 00:00:00</td>\n",
       "      <td>90500</td>\n",
       "    </tr>\n",
       "    <tr>\n",
       "      <th>4</th>\n",
       "      <td>HP</td>\n",
       "      <td>i7</td>\n",
       "      <td>silver</td>\n",
       "      <td>2020-09-04 00:00:00</td>\n",
       "      <td>99200</td>\n",
       "    </tr>\n",
       "    <tr>\n",
       "      <th>5</th>\n",
       "      <td>DELL</td>\n",
       "      <td>i5</td>\n",
       "      <td>matt</td>\n",
       "      <td>2020-09-05 00:00:00</td>\n",
       "      <td>48900</td>\n",
       "    </tr>\n",
       "    <tr>\n",
       "      <th>6</th>\n",
       "      <td>ASUS</td>\n",
       "      <td>i3</td>\n",
       "      <td>silver</td>\n",
       "      <td>2020-09-06 00:00:00</td>\n",
       "      <td>36000</td>\n",
       "    </tr>\n",
       "    <tr>\n",
       "      <th>7</th>\n",
       "      <td>ACER</td>\n",
       "      <td>i5</td>\n",
       "      <td>black</td>\n",
       "      <td>2020-09-07 00:00:00</td>\n",
       "      <td>55200</td>\n",
       "    </tr>\n",
       "    <tr>\n",
       "      <th>8</th>\n",
       "      <td>DELL</td>\n",
       "      <td>i5</td>\n",
       "      <td>red</td>\n",
       "      <td>2020-09-08 00:00:00</td>\n",
       "      <td>77000</td>\n",
       "    </tr>\n",
       "    <tr>\n",
       "      <th>9</th>\n",
       "      <td>HP</td>\n",
       "      <td>i5</td>\n",
       "      <td>silver</td>\n",
       "      <td>2020-09-09 00:00:00</td>\n",
       "      <td>68000</td>\n",
       "    </tr>\n",
       "    <tr>\n",
       "      <th>10</th>\n",
       "      <td>LG</td>\n",
       "      <td>i7</td>\n",
       "      <td>silver</td>\n",
       "      <td>2020-09-10 00:00:00</td>\n",
       "      <td>77600</td>\n",
       "    </tr>\n",
       "    <tr>\n",
       "      <th>11</th>\n",
       "      <td>DELL</td>\n",
       "      <td>i3</td>\n",
       "      <td>black</td>\n",
       "      <td>2020-09-11 00:00:00</td>\n",
       "      <td>39900</td>\n",
       "    </tr>\n",
       "    <tr>\n",
       "      <th>12</th>\n",
       "      <td>HP</td>\n",
       "      <td>i5</td>\n",
       "      <td>matt</td>\n",
       "      <td>2020-09-12 00:00:00</td>\n",
       "      <td>63500</td>\n",
       "    </tr>\n",
       "    <tr>\n",
       "      <th>13</th>\n",
       "      <td>HP</td>\n",
       "      <td>i5</td>\n",
       "      <td>silver</td>\n",
       "      <td>2020-09-13 00:00:00</td>\n",
       "      <td>68500</td>\n",
       "    </tr>\n",
       "    <tr>\n",
       "      <th>14</th>\n",
       "      <td>HP</td>\n",
       "      <td>i5</td>\n",
       "      <td>matt</td>\n",
       "      <td>2020-09-14 00:00:00</td>\n",
       "      <td>65400</td>\n",
       "    </tr>\n",
       "    <tr>\n",
       "      <th>15</th>\n",
       "      <td>ASUS</td>\n",
       "      <td>i5</td>\n",
       "      <td>silver</td>\n",
       "      <td>2020-09-15 00:00:00</td>\n",
       "      <td>42500</td>\n",
       "    </tr>\n",
       "    <tr>\n",
       "      <th>16</th>\n",
       "      <td>ASUS</td>\n",
       "      <td>i7</td>\n",
       "      <td>silver</td>\n",
       "      <td>2020-09-16 00:00:00</td>\n",
       "      <td>83640</td>\n",
       "    </tr>\n",
       "    <tr>\n",
       "      <th>17</th>\n",
       "      <td>HP</td>\n",
       "      <td>i7</td>\n",
       "      <td>silver</td>\n",
       "      <td>2020-09-17 00:00:00</td>\n",
       "      <td>83200</td>\n",
       "    </tr>\n",
       "    <tr>\n",
       "      <th>18</th>\n",
       "      <td>HP</td>\n",
       "      <td>i3</td>\n",
       "      <td>black</td>\n",
       "      <td>2020-09-18 00:00:00</td>\n",
       "      <td>32200</td>\n",
       "    </tr>\n",
       "    <tr>\n",
       "      <th>19</th>\n",
       "      <td>HP</td>\n",
       "      <td>i5</td>\n",
       "      <td>black</td>\n",
       "      <td>2020-09-19 00:00:00</td>\n",
       "      <td>62600</td>\n",
       "    </tr>\n",
       "    <tr>\n",
       "      <th>20</th>\n",
       "      <td>LG</td>\n",
       "      <td>i5</td>\n",
       "      <td>black</td>\n",
       "      <td>2020-09-20 00:00:00</td>\n",
       "      <td>52300</td>\n",
       "    </tr>\n",
       "    <tr>\n",
       "      <th>21</th>\n",
       "      <td>DELL</td>\n",
       "      <td>i7</td>\n",
       "      <td>black</td>\n",
       "      <td>2020-09-21 00:00:00</td>\n",
       "      <td>88200</td>\n",
       "    </tr>\n",
       "  </tbody>\n",
       "</table>\n",
       "</div>"
      ],
      "text/plain": [
       "   Name of products Model  colour                 date  price\n",
       "0                LG    i5   black  2020-06-01 00:00:00  66100\n",
       "1              DELL    i3   black           01/23/2020  37500\n",
       "2              DELL    i5   black  2020-09-02 00:00:00  86800\n",
       "3                LG    i7   black  2020-09-03 00:00:00  90500\n",
       "4                HP    i7  silver  2020-09-04 00:00:00  99200\n",
       "5              DELL    i5    matt  2020-09-05 00:00:00  48900\n",
       "6              ASUS    i3  silver  2020-09-06 00:00:00  36000\n",
       "7              ACER    i5   black  2020-09-07 00:00:00  55200\n",
       "8              DELL    i5     red  2020-09-08 00:00:00  77000\n",
       "9                HP    i5  silver  2020-09-09 00:00:00  68000\n",
       "10               LG    i7  silver  2020-09-10 00:00:00  77600\n",
       "11             DELL    i3   black  2020-09-11 00:00:00  39900\n",
       "12               HP    i5    matt  2020-09-12 00:00:00  63500\n",
       "13               HP    i5  silver  2020-09-13 00:00:00  68500\n",
       "14               HP    i5    matt  2020-09-14 00:00:00  65400\n",
       "15             ASUS    i5  silver  2020-09-15 00:00:00  42500\n",
       "16             ASUS    i7  silver  2020-09-16 00:00:00  83640\n",
       "17               HP    i7  silver  2020-09-17 00:00:00  83200\n",
       "18               HP    i3   black  2020-09-18 00:00:00  32200\n",
       "19               HP    i5   black  2020-09-19 00:00:00  62600\n",
       "20               LG    i5   black  2020-09-20 00:00:00  52300\n",
       "21             DELL    i7   black  2020-09-21 00:00:00  88200"
      ]
     },
     "execution_count": 10,
     "metadata": {},
     "output_type": "execute_result"
    }
   ],
   "source": [
    "import pandas as pd\n",
    "data=pd.read_excel(\"Lap Data.xlsx\")\n",
    "data"
   ]
  },
  {
   "cell_type": "code",
   "execution_count": 11,
   "id": "a691fbcb",
   "metadata": {},
   "outputs": [
    {
     "data": {
      "text/html": [
       "<div>\n",
       "<style scoped>\n",
       "    .dataframe tbody tr th:only-of-type {\n",
       "        vertical-align: middle;\n",
       "    }\n",
       "\n",
       "    .dataframe tbody tr th {\n",
       "        vertical-align: top;\n",
       "    }\n",
       "\n",
       "    .dataframe thead th {\n",
       "        text-align: right;\n",
       "    }\n",
       "</style>\n",
       "<table border=\"1\" class=\"dataframe\">\n",
       "  <thead>\n",
       "    <tr style=\"text-align: right;\">\n",
       "      <th></th>\n",
       "      <th>Name of products</th>\n",
       "      <th>Model</th>\n",
       "      <th>colour</th>\n",
       "      <th>date</th>\n",
       "      <th>price</th>\n",
       "    </tr>\n",
       "  </thead>\n",
       "  <tbody>\n",
       "    <tr>\n",
       "      <th>0</th>\n",
       "      <td>LG</td>\n",
       "      <td>i5</td>\n",
       "      <td>black</td>\n",
       "      <td>2020-06-01 00:00:00</td>\n",
       "      <td>66100</td>\n",
       "    </tr>\n",
       "    <tr>\n",
       "      <th>1</th>\n",
       "      <td>DELL</td>\n",
       "      <td>i3</td>\n",
       "      <td>black</td>\n",
       "      <td>01/23/2020</td>\n",
       "      <td>37500</td>\n",
       "    </tr>\n",
       "    <tr>\n",
       "      <th>2</th>\n",
       "      <td>DELL</td>\n",
       "      <td>i5</td>\n",
       "      <td>black</td>\n",
       "      <td>2020-09-02 00:00:00</td>\n",
       "      <td>86800</td>\n",
       "    </tr>\n",
       "    <tr>\n",
       "      <th>3</th>\n",
       "      <td>LG</td>\n",
       "      <td>i7</td>\n",
       "      <td>black</td>\n",
       "      <td>2020-09-03 00:00:00</td>\n",
       "      <td>90500</td>\n",
       "    </tr>\n",
       "    <tr>\n",
       "      <th>4</th>\n",
       "      <td>HP</td>\n",
       "      <td>i7</td>\n",
       "      <td>silver</td>\n",
       "      <td>2020-09-04 00:00:00</td>\n",
       "      <td>99200</td>\n",
       "    </tr>\n",
       "  </tbody>\n",
       "</table>\n",
       "</div>"
      ],
      "text/plain": [
       "  Name of products Model  colour                 date  price\n",
       "0               LG    i5   black  2020-06-01 00:00:00  66100\n",
       "1             DELL    i3   black           01/23/2020  37500\n",
       "2             DELL    i5   black  2020-09-02 00:00:00  86800\n",
       "3               LG    i7   black  2020-09-03 00:00:00  90500\n",
       "4               HP    i7  silver  2020-09-04 00:00:00  99200"
      ]
     },
     "execution_count": 11,
     "metadata": {},
     "output_type": "execute_result"
    }
   ],
   "source": [
    "data.head()"
   ]
  },
  {
   "cell_type": "code",
   "execution_count": 12,
   "id": "43c2d2a0",
   "metadata": {},
   "outputs": [
    {
     "data": {
      "text/html": [
       "<div>\n",
       "<style scoped>\n",
       "    .dataframe tbody tr th:only-of-type {\n",
       "        vertical-align: middle;\n",
       "    }\n",
       "\n",
       "    .dataframe tbody tr th {\n",
       "        vertical-align: top;\n",
       "    }\n",
       "\n",
       "    .dataframe thead th {\n",
       "        text-align: right;\n",
       "    }\n",
       "</style>\n",
       "<table border=\"1\" class=\"dataframe\">\n",
       "  <thead>\n",
       "    <tr style=\"text-align: right;\">\n",
       "      <th></th>\n",
       "      <th>Name of products</th>\n",
       "      <th>Model</th>\n",
       "      <th>colour</th>\n",
       "      <th>date</th>\n",
       "      <th>price</th>\n",
       "    </tr>\n",
       "  </thead>\n",
       "  <tbody>\n",
       "    <tr>\n",
       "      <th>17</th>\n",
       "      <td>HP</td>\n",
       "      <td>i7</td>\n",
       "      <td>silver</td>\n",
       "      <td>2020-09-17 00:00:00</td>\n",
       "      <td>83200</td>\n",
       "    </tr>\n",
       "    <tr>\n",
       "      <th>18</th>\n",
       "      <td>HP</td>\n",
       "      <td>i3</td>\n",
       "      <td>black</td>\n",
       "      <td>2020-09-18 00:00:00</td>\n",
       "      <td>32200</td>\n",
       "    </tr>\n",
       "    <tr>\n",
       "      <th>19</th>\n",
       "      <td>HP</td>\n",
       "      <td>i5</td>\n",
       "      <td>black</td>\n",
       "      <td>2020-09-19 00:00:00</td>\n",
       "      <td>62600</td>\n",
       "    </tr>\n",
       "    <tr>\n",
       "      <th>20</th>\n",
       "      <td>LG</td>\n",
       "      <td>i5</td>\n",
       "      <td>black</td>\n",
       "      <td>2020-09-20 00:00:00</td>\n",
       "      <td>52300</td>\n",
       "    </tr>\n",
       "    <tr>\n",
       "      <th>21</th>\n",
       "      <td>DELL</td>\n",
       "      <td>i7</td>\n",
       "      <td>black</td>\n",
       "      <td>2020-09-21 00:00:00</td>\n",
       "      <td>88200</td>\n",
       "    </tr>\n",
       "  </tbody>\n",
       "</table>\n",
       "</div>"
      ],
      "text/plain": [
       "   Name of products Model  colour                 date  price\n",
       "17               HP    i7  silver  2020-09-17 00:00:00  83200\n",
       "18               HP    i3   black  2020-09-18 00:00:00  32200\n",
       "19               HP    i5   black  2020-09-19 00:00:00  62600\n",
       "20               LG    i5   black  2020-09-20 00:00:00  52300\n",
       "21             DELL    i7   black  2020-09-21 00:00:00  88200"
      ]
     },
     "execution_count": 12,
     "metadata": {},
     "output_type": "execute_result"
    }
   ],
   "source": [
    "data.tail()"
   ]
  },
  {
   "cell_type": "code",
   "execution_count": 13,
   "id": "9dfe1f3e",
   "metadata": {},
   "outputs": [
    {
     "name": "stdout",
     "output_type": "stream",
     "text": [
      "<class 'pandas.core.frame.DataFrame'>\n",
      "RangeIndex: 22 entries, 0 to 21\n",
      "Data columns (total 5 columns):\n",
      " #   Column            Non-Null Count  Dtype \n",
      "---  ------            --------------  ----- \n",
      " 0   Name of products  22 non-null     object\n",
      " 1   Model             22 non-null     object\n",
      " 2   colour            22 non-null     object\n",
      " 3   date              22 non-null     object\n",
      " 4   price             22 non-null     int64 \n",
      "dtypes: int64(1), object(4)\n",
      "memory usage: 1008.0+ bytes\n"
     ]
    }
   ],
   "source": [
    "data.info()"
   ]
  },
  {
   "cell_type": "code",
   "execution_count": 14,
   "id": "bb07552d",
   "metadata": {},
   "outputs": [
    {
     "name": "stderr",
     "output_type": "stream",
     "text": [
      "C:\\Users\\vantl\\AppData\\Local\\Temp\\ipykernel_7976\\3941096424.py:2: FutureWarning: The default value of numeric_only in DataFrame.sum is deprecated. In a future version, it will default to False. In addition, specifying 'numeric_only=None' is deprecated. Select only valid columns or specify the value of numeric_only to silence this warning.\n",
      "  data.sum()['price']\n"
     ]
    },
    {
     "data": {
      "text/plain": [
       "1424740"
      ]
     },
     "execution_count": 14,
     "metadata": {},
     "output_type": "execute_result"
    }
   ],
   "source": [
    "#total price\n",
    "data.sum()['price']"
   ]
  },
  {
   "cell_type": "code",
   "execution_count": 15,
   "id": "e108a193",
   "metadata": {},
   "outputs": [
    {
     "data": {
      "text/plain": [
       "22"
      ]
     },
     "execution_count": 15,
     "metadata": {},
     "output_type": "execute_result"
    }
   ],
   "source": [
    "#total number of name of products\n",
    "data['Name of products'].count()"
   ]
  },
  {
   "cell_type": "code",
   "execution_count": 16,
   "id": "ec3a08e2",
   "metadata": {},
   "outputs": [
    {
     "name": "stderr",
     "output_type": "stream",
     "text": [
      "C:\\Users\\vantl\\AppData\\Local\\Temp\\ipykernel_7976\\3521400018.py:2: FutureWarning: The default value of numeric_only in DataFrameGroupBy.mean is deprecated. In a future version, numeric_only will default to False. Either specify numeric_only or select only columns which should be valid for the function.\n",
      "  data.groupby('Name of products').mean()['price']\n"
     ]
    },
    {
     "data": {
      "text/plain": [
       "Name of products\n",
       "ACER    55200.000000\n",
       "ASUS    54046.666667\n",
       "DELL    63050.000000\n",
       "HP      67825.000000\n",
       "LG      71625.000000\n",
       "Name: price, dtype: float64"
      ]
     },
     "execution_count": 16,
     "metadata": {},
     "output_type": "execute_result"
    }
   ],
   "source": [
    "#find the average price by name of products\n",
    "data.groupby('Name of products').mean()['price']"
   ]
  },
  {
   "cell_type": "code",
   "execution_count": 17,
   "id": "4ce5defd",
   "metadata": {},
   "outputs": [
    {
     "name": "stderr",
     "output_type": "stream",
     "text": [
      "C:\\Users\\vantl\\AppData\\Local\\Temp\\ipykernel_7976\\1862678547.py:2: FutureWarning: Dropping invalid columns in DataFrameGroupBy.max is deprecated. In a future version, a TypeError will be raised. Before calling .max, select only columns which should be valid for the function.\n",
      "  data.groupby('Name of products').max()['price']\n"
     ]
    },
    {
     "data": {
      "text/plain": [
       "Name of products\n",
       "ACER    55200\n",
       "ASUS    83640\n",
       "DELL    88200\n",
       "HP      99200\n",
       "LG      90500\n",
       "Name: price, dtype: int64"
      ]
     },
     "execution_count": 17,
     "metadata": {},
     "output_type": "execute_result"
    }
   ],
   "source": [
    "#find the maximum price by name of products\n",
    "data.groupby('Name of products').max()['price']"
   ]
  },
  {
   "cell_type": "code",
   "execution_count": 18,
   "id": "512c3b6e",
   "metadata": {},
   "outputs": [
    {
     "name": "stderr",
     "output_type": "stream",
     "text": [
      "C:\\Users\\vantl\\AppData\\Local\\Temp\\ipykernel_7976\\3084417079.py:2: FutureWarning: Dropping invalid columns in DataFrameGroupBy.min is deprecated. In a future version, a TypeError will be raised. Before calling .min, select only columns which should be valid for the function.\n",
      "  data.groupby('Name of products').min()['price']\n"
     ]
    },
    {
     "data": {
      "text/plain": [
       "Name of products\n",
       "ACER    55200\n",
       "ASUS    36000\n",
       "DELL    37500\n",
       "HP      32200\n",
       "LG      52300\n",
       "Name: price, dtype: int64"
      ]
     },
     "execution_count": 18,
     "metadata": {},
     "output_type": "execute_result"
    }
   ],
   "source": [
    "#find the minimum price by name of products\n",
    "data.groupby('Name of products').min()['price']"
   ]
  },
  {
   "cell_type": "code",
   "execution_count": 19,
   "id": "cd072b81",
   "metadata": {},
   "outputs": [
    {
     "name": "stderr",
     "output_type": "stream",
     "text": [
      "C:\\Users\\vantl\\AppData\\Local\\Temp\\ipykernel_7976\\4184645713.py:1: FutureWarning: The default value of numeric_only in DataFrame.median is deprecated. In a future version, it will default to False. In addition, specifying 'numeric_only=None' is deprecated. Select only valid columns or specify the value of numeric_only to silence this warning.\n",
      "  data.median()\n"
     ]
    },
    {
     "data": {
      "text/plain": [
       "price    65750.0\n",
       "dtype: float64"
      ]
     },
     "execution_count": 19,
     "metadata": {},
     "output_type": "execute_result"
    }
   ],
   "source": [
    "data.median()"
   ]
  },
  {
   "cell_type": "code",
   "execution_count": 20,
   "id": "f5de8df7",
   "metadata": {},
   "outputs": [
    {
     "name": "stderr",
     "output_type": "stream",
     "text": [
      "C:\\Users\\vantl\\AppData\\Local\\Temp\\ipykernel_7976\\531903386.py:1: FutureWarning: The default value of numeric_only in DataFrame.mean is deprecated. In a future version, it will default to False. In addition, specifying 'numeric_only=None' is deprecated. Select only valid columns or specify the value of numeric_only to silence this warning.\n",
      "  data.mean()\n"
     ]
    },
    {
     "data": {
      "text/plain": [
       "price    64760.909091\n",
       "dtype: float64"
      ]
     },
     "execution_count": 20,
     "metadata": {},
     "output_type": "execute_result"
    }
   ],
   "source": [
    "data.mean()"
   ]
  },
  {
   "cell_type": "code",
   "execution_count": 21,
   "id": "f2cbd966",
   "metadata": {},
   "outputs": [
    {
     "data": {
      "text/plain": [
       "(22, 5)"
      ]
     },
     "execution_count": 21,
     "metadata": {},
     "output_type": "execute_result"
    }
   ],
   "source": [
    "data.shape"
   ]
  },
  {
   "cell_type": "code",
   "execution_count": 22,
   "id": "4811d1e0",
   "metadata": {},
   "outputs": [
    {
     "data": {
      "text/plain": [
       "Index(['Name of products', 'Model', 'colour', 'date', 'price'], dtype='object')"
      ]
     },
     "execution_count": 22,
     "metadata": {},
     "output_type": "execute_result"
    }
   ],
   "source": [
    "data.columns"
   ]
  },
  {
   "cell_type": "code",
   "execution_count": 23,
   "id": "6bf28f51",
   "metadata": {},
   "outputs": [
    {
     "data": {
      "text/html": [
       "<div>\n",
       "<style scoped>\n",
       "    .dataframe tbody tr th:only-of-type {\n",
       "        vertical-align: middle;\n",
       "    }\n",
       "\n",
       "    .dataframe tbody tr th {\n",
       "        vertical-align: top;\n",
       "    }\n",
       "\n",
       "    .dataframe thead th {\n",
       "        text-align: right;\n",
       "    }\n",
       "</style>\n",
       "<table border=\"1\" class=\"dataframe\">\n",
       "  <thead>\n",
       "    <tr style=\"text-align: right;\">\n",
       "      <th></th>\n",
       "      <th>Name of products</th>\n",
       "      <th>price</th>\n",
       "    </tr>\n",
       "  </thead>\n",
       "  <tbody>\n",
       "    <tr>\n",
       "      <th>0</th>\n",
       "      <td>LG</td>\n",
       "      <td>66100</td>\n",
       "    </tr>\n",
       "    <tr>\n",
       "      <th>1</th>\n",
       "      <td>DELL</td>\n",
       "      <td>37500</td>\n",
       "    </tr>\n",
       "    <tr>\n",
       "      <th>2</th>\n",
       "      <td>DELL</td>\n",
       "      <td>86800</td>\n",
       "    </tr>\n",
       "    <tr>\n",
       "      <th>3</th>\n",
       "      <td>LG</td>\n",
       "      <td>90500</td>\n",
       "    </tr>\n",
       "    <tr>\n",
       "      <th>4</th>\n",
       "      <td>HP</td>\n",
       "      <td>99200</td>\n",
       "    </tr>\n",
       "    <tr>\n",
       "      <th>5</th>\n",
       "      <td>DELL</td>\n",
       "      <td>48900</td>\n",
       "    </tr>\n",
       "    <tr>\n",
       "      <th>6</th>\n",
       "      <td>ASUS</td>\n",
       "      <td>36000</td>\n",
       "    </tr>\n",
       "    <tr>\n",
       "      <th>7</th>\n",
       "      <td>ACER</td>\n",
       "      <td>55200</td>\n",
       "    </tr>\n",
       "    <tr>\n",
       "      <th>8</th>\n",
       "      <td>DELL</td>\n",
       "      <td>77000</td>\n",
       "    </tr>\n",
       "    <tr>\n",
       "      <th>9</th>\n",
       "      <td>HP</td>\n",
       "      <td>68000</td>\n",
       "    </tr>\n",
       "    <tr>\n",
       "      <th>10</th>\n",
       "      <td>LG</td>\n",
       "      <td>77600</td>\n",
       "    </tr>\n",
       "    <tr>\n",
       "      <th>11</th>\n",
       "      <td>DELL</td>\n",
       "      <td>39900</td>\n",
       "    </tr>\n",
       "    <tr>\n",
       "      <th>12</th>\n",
       "      <td>HP</td>\n",
       "      <td>63500</td>\n",
       "    </tr>\n",
       "    <tr>\n",
       "      <th>13</th>\n",
       "      <td>HP</td>\n",
       "      <td>68500</td>\n",
       "    </tr>\n",
       "    <tr>\n",
       "      <th>14</th>\n",
       "      <td>HP</td>\n",
       "      <td>65400</td>\n",
       "    </tr>\n",
       "    <tr>\n",
       "      <th>15</th>\n",
       "      <td>ASUS</td>\n",
       "      <td>42500</td>\n",
       "    </tr>\n",
       "    <tr>\n",
       "      <th>16</th>\n",
       "      <td>ASUS</td>\n",
       "      <td>83640</td>\n",
       "    </tr>\n",
       "    <tr>\n",
       "      <th>17</th>\n",
       "      <td>HP</td>\n",
       "      <td>83200</td>\n",
       "    </tr>\n",
       "    <tr>\n",
       "      <th>18</th>\n",
       "      <td>HP</td>\n",
       "      <td>32200</td>\n",
       "    </tr>\n",
       "    <tr>\n",
       "      <th>19</th>\n",
       "      <td>HP</td>\n",
       "      <td>62600</td>\n",
       "    </tr>\n",
       "    <tr>\n",
       "      <th>20</th>\n",
       "      <td>LG</td>\n",
       "      <td>52300</td>\n",
       "    </tr>\n",
       "    <tr>\n",
       "      <th>21</th>\n",
       "      <td>DELL</td>\n",
       "      <td>88200</td>\n",
       "    </tr>\n",
       "  </tbody>\n",
       "</table>\n",
       "</div>"
      ],
      "text/plain": [
       "   Name of products  price\n",
       "0                LG  66100\n",
       "1              DELL  37500\n",
       "2              DELL  86800\n",
       "3                LG  90500\n",
       "4                HP  99200\n",
       "5              DELL  48900\n",
       "6              ASUS  36000\n",
       "7              ACER  55200\n",
       "8              DELL  77000\n",
       "9                HP  68000\n",
       "10               LG  77600\n",
       "11             DELL  39900\n",
       "12               HP  63500\n",
       "13               HP  68500\n",
       "14               HP  65400\n",
       "15             ASUS  42500\n",
       "16             ASUS  83640\n",
       "17               HP  83200\n",
       "18               HP  32200\n",
       "19               HP  62600\n",
       "20               LG  52300\n",
       "21             DELL  88200"
      ]
     },
     "execution_count": 23,
     "metadata": {},
     "output_type": "execute_result"
    }
   ],
   "source": [
    "data[['Name of products','price']]"
   ]
  },
  {
   "cell_type": "code",
   "execution_count": 24,
   "id": "d21e4785",
   "metadata": {},
   "outputs": [
    {
     "data": {
      "text/plain": [
       "black     10\n",
       "silver     8\n",
       "matt       3\n",
       "red        1\n",
       "Name: colour, dtype: int64"
      ]
     },
     "execution_count": 24,
     "metadata": {},
     "output_type": "execute_result"
    }
   ],
   "source": [
    "data['colour'].value_counts()"
   ]
  },
  {
   "cell_type": "code",
   "execution_count": 25,
   "id": "bd02a28b",
   "metadata": {},
   "outputs": [
    {
     "data": {
      "text/html": [
       "<div>\n",
       "<style scoped>\n",
       "    .dataframe tbody tr th:only-of-type {\n",
       "        vertical-align: middle;\n",
       "    }\n",
       "\n",
       "    .dataframe tbody tr th {\n",
       "        vertical-align: top;\n",
       "    }\n",
       "\n",
       "    .dataframe thead th {\n",
       "        text-align: right;\n",
       "    }\n",
       "</style>\n",
       "<table border=\"1\" class=\"dataframe\">\n",
       "  <thead>\n",
       "    <tr style=\"text-align: right;\">\n",
       "      <th></th>\n",
       "      <th>price</th>\n",
       "    </tr>\n",
       "  </thead>\n",
       "  <tbody>\n",
       "    <tr>\n",
       "      <th>count</th>\n",
       "      <td>22.000000</td>\n",
       "    </tr>\n",
       "    <tr>\n",
       "      <th>mean</th>\n",
       "      <td>64760.909091</td>\n",
       "    </tr>\n",
       "    <tr>\n",
       "      <th>std</th>\n",
       "      <td>19724.389039</td>\n",
       "    </tr>\n",
       "    <tr>\n",
       "      <th>min</th>\n",
       "      <td>32200.000000</td>\n",
       "    </tr>\n",
       "    <tr>\n",
       "      <th>25%</th>\n",
       "      <td>49750.000000</td>\n",
       "    </tr>\n",
       "    <tr>\n",
       "      <th>50%</th>\n",
       "      <td>65750.000000</td>\n",
       "    </tr>\n",
       "    <tr>\n",
       "      <th>75%</th>\n",
       "      <td>81800.000000</td>\n",
       "    </tr>\n",
       "    <tr>\n",
       "      <th>max</th>\n",
       "      <td>99200.000000</td>\n",
       "    </tr>\n",
       "  </tbody>\n",
       "</table>\n",
       "</div>"
      ],
      "text/plain": [
       "              price\n",
       "count     22.000000\n",
       "mean   64760.909091\n",
       "std    19724.389039\n",
       "min    32200.000000\n",
       "25%    49750.000000\n",
       "50%    65750.000000\n",
       "75%    81800.000000\n",
       "max    99200.000000"
      ]
     },
     "execution_count": 25,
     "metadata": {},
     "output_type": "execute_result"
    }
   ],
   "source": [
    "data.describe()"
   ]
  },
  {
   "cell_type": "code",
   "execution_count": 28,
   "id": "bb33d025",
   "metadata": {},
   "outputs": [
    {
     "data": {
      "text/plain": [
       "99200"
      ]
     },
     "execution_count": 28,
     "metadata": {},
     "output_type": "execute_result"
    }
   ],
   "source": [
    "d=data['price'].max()\n",
    "d"
   ]
  },
  {
   "cell_type": "code",
   "execution_count": 29,
   "id": "40615a4b",
   "metadata": {},
   "outputs": [
    {
     "data": {
      "text/plain": [
       "32200"
      ]
     },
     "execution_count": 29,
     "metadata": {},
     "output_type": "execute_result"
    }
   ],
   "source": [
    "d=data['price'].min()\n",
    "d"
   ]
  },
  {
   "cell_type": "code",
   "execution_count": 30,
   "id": "43c64696",
   "metadata": {},
   "outputs": [
    {
     "data": {
      "text/plain": [
       "67000"
      ]
     },
     "execution_count": 30,
     "metadata": {},
     "output_type": "execute_result"
    }
   ],
   "source": [
    "#range = max()=min()\n",
    "range = 99200 - 32200\n",
    "range"
   ]
  },
  {
   "cell_type": "code",
   "execution_count": 31,
   "id": "cd8578a3",
   "metadata": {},
   "outputs": [
    {
     "data": {
      "text/plain": [
       "19724.38903854117"
      ]
     },
     "execution_count": 31,
     "metadata": {},
     "output_type": "execute_result"
    }
   ],
   "source": [
    "#standard deviation\n",
    "d=data['price'].std()\n",
    "d"
   ]
  },
  {
   "cell_type": "code",
   "execution_count": 49,
   "id": "4ad3a964",
   "metadata": {},
   "outputs": [
    {
     "data": {
      "image/png": "[encoded data removed]",
      "text/plain": [
       "<Figure size 640x480 with 1 Axes>"
      ]
     },
     "metadata": {},
     "output_type": "display_data"
    }
   ],
   "source": [
    "#bar\n",
    "d=data['Model'].value_counts().plot(kind='bar',color='orange')"
   ]
  },
  {
   "cell_type": "code",
   "execution_count": 54,
   "id": "f87e4786",
   "metadata": {},
   "outputs": [
    {
     "data": {
      "image/png": "[encoded data removed]",
      "text/plain": [
       "<Figure size 640x480 with 1 Axes>"
      ]
     },
     "metadata": {},
     "output_type": "display_data"
    }
   ],
   "source": [
    "d=data['colour'].value_counts().plot(kind='pie',autopct='%1.2f%%')"
   ]
  },
  {
   "cell_type": "code",
   "execution_count": 55,
   "id": "d1b84452",
   "metadata": {},
   "outputs": [
    {
     "name": "stderr",
     "output_type": "stream",
     "text": [
      "C:\\Users\\vantl\\AppData\\Local\\Temp\\ipykernel_7976\\4091832078.py:1: FutureWarning: Dropping invalid columns in DataFrameGroupBy.max is deprecated. In a future version, a TypeError will be raised. Before calling .max, select only columns which should be valid for the function.\n",
      "  d=data.groupby(['Name of products','Model']).max()['price'].plot(kind='barh')\n"
     ]
    },
    {
     "data": {
      "text/plain": [
       "<Axes: ylabel='Name of products,Model'>"
      ]
     },
     "execution_count": 55,
     "metadata": {},
     "output_type": "execute_result"
    },
    {
     "data": {
      "image/png": "[encoded data removed]",
      "text/plain": [
       "<Figure size 640x480 with 1 Axes>"
      ]
     },
     "metadata": {},
     "output_type": "display_data"
    }
   ],
   "source": [
    "d=data.groupby(['Name of products','Model']).max()['price'].plot(kind='barh')\n",
    "d"
   ]
  },
  {
   "cell_type": "code",
   "execution_count": null,
   "id": "e04fdab3",
   "metadata": {},
   "outputs": [],
   "source": []
  }
 ],
 "metadata": {
  "kernelspec": {
   "display_name": "Python 3 (ipykernel)",
   "language": "python",
   "name": "python3"
  },
  "language_info": {
   "codemirror_mode": {
    "name": "ipython",
    "version": 3
   },
   "file_extension": ".py",
   "mimetype": "text/x-python",
   "name": "python",
   "nbconvert_exporter": "python",
   "pygments_lexer": "ipython3",
   "version": "3.10.9"
  }
 },
 "nbformat": 4,
 "nbformat_minor": 5
}
